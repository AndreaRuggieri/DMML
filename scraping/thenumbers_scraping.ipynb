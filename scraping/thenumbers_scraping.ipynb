{
 "cells": [
  {
   "cell_type": "code",
   "execution_count": 3,
   "id": "initial_id",
   "metadata": {
    "collapsed": true,
    "ExecuteTime": {
     "end_time": "2024-05-01T13:32:27.612314900Z",
     "start_time": "2024-05-01T13:32:25.480770800Z"
    }
   },
   "outputs": [
    {
     "name": "stdout",
     "output_type": "stream",
     "text": [
      "   Release Date                                        Movie  \\\n",
      "0   Dec 9, 2022                     Avatar: The Way of Water   \n",
      "1  Apr 23, 2019                            Avengers: Endgame   \n",
      "2  May 20, 2011  Pirates of the Caribbean: On Stranger Tides   \n",
      "3  Apr 22, 2015                      Avengers: Age of Ultron   \n",
      "4  May 17, 2023                                       Fast X   \n",
      "\n",
      "  Production Budget Domestic Gross Worldwide Gross  \n",
      "0      $460,000,000   $684,075,767  $2,317,514,386  \n",
      "1      $400,000,000   $858,373,000  $2,788,912,285  \n",
      "2      $379,000,000   $241,071,802  $1,045,713,802  \n",
      "3      $365,000,000   $459,005,868  $1,395,316,979  \n",
      "4      $340,000,000   $146,126,015    $714,566,434  \n"
     ]
    }
   ],
   "source": [
    "import requests\n",
    "from bs4 import BeautifulSoup\n",
    "import pandas as pd\n",
    "\n",
    "url = 'https://www.the-numbers.com/movie/budgets/all'\n",
    "headers = {\n",
    "    'User-Agent': 'Mozilla/5.0 (Windows NT 10.0; Win64; x64) AppleWebKit/537.36 (KHTML, like Gecko) Chrome/58.0.3029.110 Safari/537.36'\n",
    "}\n",
    "response = requests.get(url, headers=headers)\n",
    "\n",
    "soup = BeautifulSoup(response.text, 'html.parser')\n",
    "\n",
    "# Trova la tabella\n",
    "table = soup.find_all('table')[0]\n",
    "\n",
    "# Estrai i dati\n",
    "rows = table.find_all('tr')\n",
    "data = []\n",
    "for row in rows[1:]:  # Salta l'intestazione della tabella\n",
    "    cols = row.find_all('td')\n",
    "    data.append({\n",
    "        'Release Date': cols[1].text.strip(),\n",
    "        'Movie': cols[2].text.strip(),\n",
    "        'Production Budget': cols[3].text.strip(),\n",
    "        'Domestic Gross': cols[4].text.strip(),\n",
    "        'Worldwide Gross': cols[5].text.strip()\n",
    "    })\n",
    "\n",
    "# Converti in DataFrame\n",
    "df = pd.DataFrame(data)\n",
    "\n",
    "# Mostra le prime righe del DataFrame\n",
    "print(df.head())\n",
    "\n",
    "df.to_csv('../dataset/movie_budgets.csv', index=False)\n",
    "\n"
   ]
  },
  {
   "cell_type": "code",
   "execution_count": 4,
   "outputs": [
    {
     "name": "stdout",
     "output_type": "stream",
     "text": [
      "Data scraping completed and saved to CSV.\n"
     ]
    }
   ],
   "source": [
    "import requests\n",
    "from bs4 import BeautifulSoup\n",
    "import pandas as pd\n",
    "\n",
    "headers = {\n",
    "    'User-Agent': 'Mozilla/5.0 (Windows NT 10.0; Win64; x64) AppleWebKit/537.36 (KHTML, like Gecko) Chrome/58.0.3029.110 Safari/537.36'\n",
    "}\n",
    "\n",
    "base_url = \"https://www.the-numbers.com/movie/budgets/all\"\n",
    "total_films = 6497\n",
    "films_per_page = 100\n",
    "pages = total_films // films_per_page\n",
    "\n",
    "data = []\n",
    "\n",
    "for page in range(0, pages + 1):\n",
    "    url = f\"{base_url}/{page * films_per_page + 1}\"\n",
    "    response = requests.get(url, headers=headers)\n",
    "    soup = BeautifulSoup(response.text, 'html.parser')\n",
    "    table = soup.find('table')\n",
    "    rows = table.find_all('tr')[1:]  # Excludes the header row\n",
    "\n",
    "    for row in rows:\n",
    "        cols = row.find_all('td')\n",
    "        if len(cols) > 4:  # Ensuring the row is not empty or malformed\n",
    "            data.append({\n",
    "                'Release Date': cols[1].text.strip(),\n",
    "                'Movie': cols[2].text.strip(),\n",
    "                'Production Budget': cols[3].text.strip(),\n",
    "                'Domestic Gross': cols[4].text.strip(),\n",
    "                'Worldwide Gross': cols[5].text.strip()\n",
    "            })\n",
    "\n",
    "# Convert to DataFrame\n",
    "df = pd.DataFrame(data)\n",
    "\n",
    "# Save to CSV\n",
    "df.to_csv('movie_budgets_complete.csv', index=False)\n",
    "\n",
    "print(\"Data scraping completed and saved to CSV.\")\n"
   ],
   "metadata": {
    "collapsed": false,
    "ExecuteTime": {
     "end_time": "2024-05-01T13:38:14.480082200Z",
     "start_time": "2024-05-01T13:35:54.382272100Z"
    }
   },
   "id": "226c707e71501f35"
  },
  {
   "cell_type": "code",
   "execution_count": null,
   "outputs": [],
   "source": [],
   "metadata": {
    "collapsed": false
   },
   "id": "2d73813974aef399"
  }
 ],
 "metadata": {
  "kernelspec": {
   "display_name": "Python 3",
   "language": "python",
   "name": "python3"
  },
  "language_info": {
   "codemirror_mode": {
    "name": "ipython",
    "version": 2
   },
   "file_extension": ".py",
   "mimetype": "text/x-python",
   "name": "python",
   "nbconvert_exporter": "python",
   "pygments_lexer": "ipython2",
   "version": "2.7.6"
  }
 },
 "nbformat": 4,
 "nbformat_minor": 5
}
