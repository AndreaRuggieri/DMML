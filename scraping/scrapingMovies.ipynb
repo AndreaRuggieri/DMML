{
 "cells": [
  {
   "cell_type": "code",
   "execution_count": 1,
   "id": "initial_id",
   "metadata": {
    "collapsed": true,
    "ExecuteTime": {
     "end_time": "2024-04-27T10:20:14.314313400Z",
     "start_time": "2024-04-27T10:20:10.487604700Z"
    }
   },
   "outputs": [
    {
     "name": "stderr",
     "output_type": "stream",
     "text": [
      "\n",
      "[notice] A new release of pip is available: 23.2.1 -> 24.0\n",
      "[notice] To update, run: python.exe -m pip install --upgrade pip\n"
     ]
    }
   ],
   "source": [
    "!pip install requests --upgrade --quiet"
   ]
  },
  {
   "cell_type": "code",
   "outputs": [
    {
     "name": "stderr",
     "output_type": "stream",
     "text": [
      "\n",
      "[notice] A new release of pip is available: 23.2.1 -> 24.0\n",
      "[notice] To update, run: python.exe -m pip install --upgrade pip\n"
     ]
    }
   ],
   "source": [
    "!pip install beautifulsoup4 --upgrade --quiet"
   ],
   "metadata": {
    "collapsed": false,
    "ExecuteTime": {
     "end_time": "2024-04-27T10:25:38.010242400Z",
     "start_time": "2024-04-27T10:25:35.539920600Z"
    }
   },
   "id": "c358515ec8c47304",
   "execution_count": 8
  },
  {
   "cell_type": "code",
   "outputs": [],
   "source": [
    "import requests\n",
    "from bs4 import BeautifulSoup\n",
    "import pandas as pd"
   ],
   "metadata": {
    "collapsed": false,
    "ExecuteTime": {
     "end_time": "2024-04-27T17:33:16.316789300Z",
     "start_time": "2024-04-27T17:33:16.307208500Z"
    }
   },
   "id": "8e85cc101061edd6",
   "execution_count": 446
  },
  {
   "cell_type": "code",
   "outputs": [
    {
     "data": {
      "text/plain": "200"
     },
     "execution_count": 4,
     "metadata": {},
     "output_type": "execute_result"
    }
   ],
   "source": [
    "# sometimes websites stop you from extracting the data for some reason. It can be due to some authentication errors.\n",
    "\n",
    "needed_headers = {'User-Agent': \"Mozilla/5.0 (Windows NT 6.3; Win64; x64) AppleWebKit/537.36 (KHTML, like Gecko) Chrome/92.0.4515.131 Safari/537.36\"}\n",
    "response = requests.get(\"https://www.themoviedb.org/movie\", headers = needed_headers )\n",
    "response.status_code"
   ],
   "metadata": {
    "collapsed": false,
    "ExecuteTime": {
     "end_time": "2024-04-27T10:24:36.372011800Z",
     "start_time": "2024-04-27T10:24:35.560511200Z"
    }
   },
   "id": "31e6b63bda2d7ff8",
   "execution_count": 4
  },
  {
   "cell_type": "code",
   "outputs": [
    {
     "data": {
      "text/plain": "'<!DOCTYPE html>\\n<html lang=\"it\" class=\"no-js\">\\n  <head>\\n    <title>Film Popolari &#8212; The Movie Database (TMDB)</title>\\n    <meta http-equiv=\"cleartype\" content=\"on\">\\n    <meta charset=\"utf-8\">\\n    <meta name=\"keywords\" content=\"Movies, TV Shows, Streaming, Reviews, API, Actors, Actresses, Photos, User Ratings, Synopsis, Trailers, Teasers, Credits, Cast\">\\n    <meta name=\"mobile-web-app-capable\" content=\"yes\">\\n    <meta name=\"apple-mobile-web-app-capable\" content=\"yes\">\\n    <meta name=\"viewpor'"
     },
     "execution_count": 7,
     "metadata": {},
     "output_type": "execute_result"
    }
   ],
   "source": [
    "dwn_content = response.text\n",
    "len(dwn_content)\n",
    "dwn_content[:500]"
   ],
   "metadata": {
    "collapsed": false,
    "ExecuteTime": {
     "end_time": "2024-04-27T10:25:09.450526Z",
     "start_time": "2024-04-27T10:25:09.444569800Z"
    }
   },
   "id": "4769a94230033fd1",
   "execution_count": 7
  },
  {
   "cell_type": "code",
   "outputs": [
    {
     "data": {
      "text/plain": "<img alt=\"The Movie Database (TMDB)\" height=\"20\" src=\"/assets/2/v4/logos/v2/blue_short-8e7b30f73a4020692ccca9c88bafe5dcb6f8a62a4c6bc55cd9ba82bb2cd95f6c.svg\" width=\"154\"/>"
     },
     "execution_count": 13,
     "metadata": {},
     "output_type": "execute_result"
    }
   ],
   "source": [
    "test_doc = BeautifulSoup(dwn_content, 'html.parser')\n",
    "type(test_doc)\n",
    "test_doc.find('img')"
   ],
   "metadata": {
    "collapsed": false,
    "ExecuteTime": {
     "end_time": "2024-04-27T10:26:31.620599Z",
     "start_time": "2024-04-27T10:26:31.563998300Z"
    }
   },
   "id": "fb99cf9f349dcdeb",
   "execution_count": 13
  },
  {
   "cell_type": "code",
   "outputs": [
    {
     "data": {
      "text/plain": "'Film Popolari — The Movie Database (TMDB)'"
     },
     "execution_count": 16,
     "metadata": {},
     "output_type": "execute_result"
    }
   ],
   "source": [
    "\n",
    "def get_page_content(url):\n",
    "    # In this case , we are going to give request.get function headers to avoid the Status code Error 403\n",
    "\n",
    "    get_headers = {'User-Agent': \"Mozilla/5.0 (Windows NT 6.3; Win64; x64) AppleWebKit/537.36 (KHTML, like Gecko) Chrome/92.0.4515.131 Safari/537.36\"}\n",
    "    response_page = requests.get(url, headers = get_headers )\n",
    "    # we are going to raise exception here if status code gives any value other than 200.\n",
    "    if not response_page.ok:\n",
    "        raise Exception (\"Failed to request the data. Status Code:- {}\".format(response_page.status_code))\n",
    "    else:\n",
    "        page_content = response_page.text\n",
    "        doc_page = BeautifulSoup(page_content, \"html.parser\")\n",
    "        return doc_page\n",
    "popular_shows_url = \"https://www.themoviedb.org/movie\"\n",
    "doc = get_page_content(popular_shows_url)\n",
    "doc.title.text"
   ],
   "metadata": {
    "collapsed": false,
    "ExecuteTime": {
     "end_time": "2024-04-27T10:27:20.208593400Z",
     "start_time": "2024-04-27T10:27:19.339191Z"
    }
   },
   "id": "704ffa9cabfe794e",
   "execution_count": 16
  },
  {
   "cell_type": "code",
   "outputs": [
    {
     "data": {
      "text/plain": "'Rebel Moon - Parte 2: La sfregiatrice'"
     },
     "execution_count": 24,
     "metadata": {},
     "output_type": "execute_result"
    }
   ],
   "source": [
    "# Now that we know the class let's trty to get the title of the first movie. \n",
    "\n",
    "doc.find_all('div', {'class': 'card style_1'})[0].h2.text"
   ],
   "metadata": {
    "collapsed": false,
    "ExecuteTime": {
     "end_time": "2024-04-27T10:29:45.539584300Z",
     "start_time": "2024-04-27T10:29:45.535335900Z"
    }
   },
   "id": "a827e2e29bfb3702",
   "execution_count": 24
  },
  {
   "cell_type": "code",
   "outputs": [
    {
     "data": {
      "text/plain": "'61'"
     },
     "execution_count": 29,
     "metadata": {},
     "output_type": "execute_result"
    }
   ],
   "source": [
    "doc.find_all('div', {'class': 'user_score_chart'})[0]['data-percent']"
   ],
   "metadata": {
    "collapsed": false,
    "ExecuteTime": {
     "end_time": "2024-04-27T10:31:04.101399700Z",
     "start_time": "2024-04-27T10:31:04.091244300Z"
    }
   },
   "id": "db54c043bdf95204",
   "execution_count": 29
  },
  {
   "cell_type": "code",
   "outputs": [],
   "source": [
    "def empty_dict():\n",
    "    scraped_dict = {  \n",
    "                    'Title': [],\n",
    "                    'Genre': [],\n",
    "                    'Duration': None,\n",
    "                    'Release_date': None,\n",
    "                    'User_rating': 0.0,\n",
    "                    'Tagline': None,\n",
    "                    'Description': None,\n",
    "                    'Directors': None,\n",
    "                    'Novel': None,\n",
    "                    'Writers': None,\n",
    "                    'Screenplay': None,\n",
    "                    'State': None,\n",
    "                    'Language': None,\n",
    "                    'Budget': 0.0,\n",
    "                    'Revenue': 0.0,\n",
    "                    'Keywords': [],\n",
    "                    }\n",
    "    return scraped_dict"
   ],
   "metadata": {
    "collapsed": false,
    "ExecuteTime": {
     "end_time": "2024-04-27T17:56:31.501244900Z",
     "start_time": "2024-04-27T17:56:31.471799300Z"
    }
   },
   "id": "79cd16857a5f030",
   "execution_count": 500
  },
  {
   "cell_type": "code",
   "outputs": [],
   "source": [
    "def user_score_info(tag_user_score, i, scraped_dict):\n",
    "    if tag_user_score[i]['data-percent'] == '0':\n",
    "        scraped_dict['User_rating'].append('Not rated yet')\n",
    "    else:\n",
    "        scraped_dict['User_rating'].append(tag_user_score[i]['data-percent'])"
   ],
   "metadata": {
    "collapsed": false,
    "ExecuteTime": {
     "end_time": "2024-04-27T17:38:26.403338500Z",
     "start_time": "2024-04-27T17:38:26.387331200Z"
    }
   },
   "id": "b3b72017c8f9b3c2",
   "execution_count": 463
  },
  {
   "cell_type": "code",
   "outputs": [
    {
     "data": {
      "text/plain": "'/movie/934632-rebel-moon-part-two-the-scargiver'"
     },
     "execution_count": 36,
     "metadata": {},
     "output_type": "execute_result"
    }
   ],
   "source": [
    "doc.find_all('div', {'class': 'card style_1'})[0].h2.a['href']"
   ],
   "metadata": {
    "collapsed": false,
    "ExecuteTime": {
     "end_time": "2024-04-27T13:23:57.784281400Z",
     "start_time": "2024-04-27T13:23:57.762231800Z"
    }
   },
   "id": "6393bb6e40f96f17",
   "execution_count": 36
  },
  {
   "cell_type": "code",
   "outputs": [],
   "source": [
    "def get_show_info(doc_page):\n",
    "    base_link_1 = \"https://www.themoviedb.org\"\n",
    "    tag_title = tag_premired_date = tag_shows_page = doc_page.find_all('div', {'class': 'card style_1'})\n",
    "    tag_user_score = doc_page.find_all('div', {\"user_score_chart\"}) \n",
    "    \n",
    "    doc_2_list = []\n",
    "    for link in tag_shows_page:\n",
    "        # here we are creating the list of all the individual pages of the shows which will come handy in other functions. \n",
    "        doc_2_list.append(get_page_content(\"https://www.themoviedb.org\" + link.h2.a['href']))\n",
    "       # we are going to have the function to return the list of all the information as elements. \n",
    "    return tag_title, tag_user_score, doc_2_list"
   ],
   "metadata": {
    "collapsed": false,
    "ExecuteTime": {
     "end_time": "2024-04-27T13:24:38.882439400Z",
     "start_time": "2024-04-27T13:24:38.866365800Z"
    }
   },
   "id": "a44df48df679603d",
   "execution_count": 38
  },
  {
   "cell_type": "code",
   "outputs": [],
   "source": [
    "#lets download and get the html of the individual page of the show 'what if...?' with the function get_page_content(). \n",
    "doc_2 = get_page_content(\"https://www.themoviedb.org/movie/693134\")"
   ],
   "metadata": {
    "collapsed": false,
    "ExecuteTime": {
     "end_time": "2024-04-27T13:26:23.142812100Z",
     "start_time": "2024-04-27T13:26:22.188375800Z"
    }
   },
   "id": "74c9db3b7bdc2600",
   "execution_count": 42
  },
  {
   "cell_type": "code",
   "outputs": [],
   "source": [
    "def get_genres(doc2_page):\n",
    "    genres_tags = doc2_page.find('span', {\"class\": \"genres\"}).find_all('a')\n",
    "    check_genre =[]\n",
    "    \n",
    "    for tag in genres_tags:\n",
    "        check_genre.append(tag.text)\n",
    "    return check_genre"
   ],
   "metadata": {
    "collapsed": false,
    "ExecuteTime": {
     "end_time": "2024-04-27T18:55:30.805423300Z",
     "start_time": "2024-04-27T18:55:30.788513700Z"
    }
   },
   "id": "a54a507b55d2186b",
   "execution_count": 578
  },
  {
   "cell_type": "code",
   "outputs": [],
   "source": [
    "import re\n",
    "\n",
    "def get_duration(doc2_page):\n",
    "    # Estrae il testo del tag che contiene la durata\n",
    "    duration_text = doc2_page.find('span', {\"class\": \"runtime\"}).text\n",
    "    \n",
    "    # Inizializza la variabile dei minuti\n",
    "    minutes = 0\n",
    "    \n",
    "    # Usa espressioni regolari per trovare tutti i match di numeri seguiti da 'h' o 'm'\n",
    "    parts = re.findall(r'(\\d+)([hm])', duration_text)\n",
    "    \n",
    "    # Itera sui risultati trovati per calcolare i minuti totali\n",
    "    for number, unit in parts:\n",
    "        if unit == 'h':\n",
    "            minutes += int(number) * 60  # Converti ore in minuti\n",
    "        elif unit == 'm':\n",
    "            minutes += int(number)  # Aggiungi i minuti direttamente\n",
    "    return minutes\n"
   ],
   "metadata": {
    "collapsed": false,
    "ExecuteTime": {
     "end_time": "2024-04-27T18:55:53.618683600Z",
     "start_time": "2024-04-27T18:55:53.611658100Z"
    }
   },
   "id": "55ba84ac9b11956e",
   "execution_count": 579
  },
  {
   "cell_type": "code",
   "outputs": [],
   "source": [
    "tag_tagline = doc_2.find('h3',{\"class\": 'tagline'})\n",
    "def tagline_info(doc_2_list, i, scraped_dict):\n",
    "    if doc_2_list[i].find('h3',{\"class\": 'tagline'}):\n",
    "        scraped_dict['Tagline'] = doc_2_list[i].find('h3',{\"class\": 'tagline'}).text\n",
    "    else:\n",
    "        scraped_dict['Tagline'] = \"No Tagline\""
   ],
   "metadata": {
    "collapsed": false,
    "ExecuteTime": {
     "end_time": "2024-04-27T17:48:50.314266900Z",
     "start_time": "2024-04-27T17:48:50.268754900Z"
    }
   },
   "id": "2b15b47a3f3019db",
   "execution_count": 478
  },
  {
   "cell_type": "code",
   "outputs": [],
   "source": [
    "# i here denotes the the element of the list type variable``doc2_page`` that contains different doc pages.\n",
    "\n",
    "def get_show_cast(doc2_page):\n",
    "    cast_tags = doc2_page.find_all('li', {'class': 'card'})\n",
    "    cast_lis = []\n",
    "    \n",
    "    for t in cast_tags:\n",
    "         cast_lis.append(t.p.text)\n",
    "    \n",
    "    return cast_lis"
   ],
   "metadata": {
    "collapsed": false,
    "ExecuteTime": {
     "end_time": "2024-04-27T19:02:07.053146300Z",
     "start_time": "2024-04-27T19:02:07.051138800Z"
    }
   },
   "id": "271275da9fb1500b",
   "execution_count": 600
  },
  {
   "cell_type": "code",
   "outputs": [],
   "source": [
    "def get_release(doc_2_list, i):\n",
    "    # Ottieni il testo dall'elemento HTML\n",
    "    release_text = doc_2_list[i].find('span', {\"class\": \"release\"}).text\n",
    "    # Split basato su spazio seguito da una parentesi aperta '('\n",
    "    release_date = release_text.split(' (')[0]\n",
    "    return release_date\n"
   ],
   "metadata": {
    "collapsed": false,
    "ExecuteTime": {
     "end_time": "2024-04-27T14:46:36.913656700Z",
     "start_time": "2024-04-27T14:46:36.873298200Z"
    }
   },
   "id": "967fca9bbbf5da40",
   "execution_count": 143
  },
  {
   "cell_type": "code",
   "outputs": [],
   "source": [
    "def get_description(doc2_page, i):\n",
    "    \n",
    "    description_tag = doc_2_list_[0].find('div', class_='overview')\n",
    "    \n",
    "    # Estrai il testo, se il tag è stato trovato\n",
    "    if description_tag:\n",
    "        description_text = description_tag.text.strip()\n",
    "    else:\n",
    "        description_text = \"Descrizione non trovata.\"\n",
    "    \n",
    "    # Stampa o restituisci il testo della descrizione\n",
    "    return description_text\n"
   ],
   "metadata": {
    "collapsed": false,
    "ExecuteTime": {
     "end_time": "2024-04-27T17:49:13.875176200Z",
     "start_time": "2024-04-27T17:49:13.830876900Z"
    }
   },
   "id": "b989da225820831f",
   "execution_count": 481
  },
  {
   "cell_type": "code",
   "outputs": [],
   "source": [
    "def get_directors(doc2_page):\n",
    "    \n",
    "    description_tag = doc2_page.findAll('li', class_='profile')\n",
    "    # Estrai il testo, se il tag è stato trovato\n",
    "    directors = \"Director not found\"\n",
    "    if description_tag:\n",
    "        numgiri=0\n",
    "        for profile in description_tag:\n",
    "            # Cerca un tag 'p' con classe 'character' che contiene la parola 'Director'\n",
    "            if 'Director' in profile.find('p', class_='character').text:\n",
    "                if numgiri == 0:\n",
    "                    directors = profile.find('p').text.strip()\n",
    "                else:\n",
    "                    directors = directors + ',' + profile.find('p').text.strip() \n",
    "                numgiri = numgiri + 1\n",
    "    else:\n",
    "        return directors\n",
    "    return directors\n"
   ],
   "metadata": {
    "collapsed": false,
    "ExecuteTime": {
     "end_time": "2024-04-27T19:00:13.557060100Z",
     "start_time": "2024-04-27T19:00:13.520044500Z"
    }
   },
   "id": "f42bebd86d345299",
   "execution_count": 587
  },
  {
   "cell_type": "code",
   "outputs": [],
   "source": [
    "def get_novel(doc2_page):\n",
    "    \n",
    "    description_tag = doc2_page.findAll('li', class_='profile')\n",
    "\n",
    "    # Estrai il testo, se il tag è stato trovato\n",
    "    if description_tag:\n",
    "        for profile in description_tag:\n",
    "            # Cerca un tag 'p' con classe 'character' che contiene la parola 'Director'\n",
    "            if 'Novel' in profile.find('p', class_='character').text:\n",
    "                # Se trovato, estrai il testo del tag 'p' precedente (il nome)\n",
    "                return profile.find('p').text.strip() \n",
    "    else:\n",
    "        return \"Novel not found\"\n"
   ],
   "metadata": {
    "collapsed": false,
    "ExecuteTime": {
     "end_time": "2024-04-27T19:00:15.582641800Z",
     "start_time": "2024-04-27T19:00:15.574636700Z"
    }
   },
   "id": "4016fe107458fed1",
   "execution_count": 588
  },
  {
   "cell_type": "code",
   "outputs": [],
   "source": [
    "def get_writers(doc2_page):\n",
    "    \n",
    "    description_tag = doc2_page.findAll('li', class_='profile')\n",
    "    # Estrai il testo, se il tag è stato trovato\n",
    "    directors = \"Writer not found\"\n",
    "    if description_tag:\n",
    "        numgiri=0\n",
    "        for profile in description_tag:\n",
    "            # Cerca un tag 'p' con classe 'character' che contiene la parola 'Director'\n",
    "            if 'Writer' in profile.find('p', class_='character').text:\n",
    "                if numgiri == 0:\n",
    "                    directors = profile.find('p').text.strip()\n",
    "                else:\n",
    "                    directors = directors + ',' + profile.find('p').text.strip() \n",
    "                numgiri = numgiri + 1\n",
    "    else:\n",
    "        return directors\n",
    "    return directors\n"
   ],
   "metadata": {
    "collapsed": false,
    "ExecuteTime": {
     "end_time": "2024-04-27T19:00:18.252588500Z",
     "start_time": "2024-04-27T19:00:18.187579800Z"
    }
   },
   "id": "18eef1754b7c30c4",
   "execution_count": 589
  },
  {
   "cell_type": "code",
   "outputs": [],
   "source": [
    "def get_screenplay(doc2_page):\n",
    "    \n",
    "    description_tag = doc2_page.findAll('li', class_='profile')\n",
    "    # Estrai il testo, se il tag è stato trovato\n",
    "    directors = \"Screenplay not found\"\n",
    "    if description_tag:\n",
    "        numgiri=0\n",
    "        for profile in description_tag:\n",
    "            # Cerca un tag 'p' con classe 'character' che contiene la parola 'Director'\n",
    "            if 'Screenplay' in profile.find('p', class_='character').text:\n",
    "                if numgiri == 0:\n",
    "                    directors = profile.find('p').text.strip()\n",
    "                else:\n",
    "                    directors = directors + ',' + profile.find('p').text.strip() \n",
    "                numgiri = numgiri + 1\n",
    "    else:\n",
    "        return directors\n",
    "    return directors\n"
   ],
   "metadata": {
    "collapsed": false,
    "ExecuteTime": {
     "end_time": "2024-04-27T19:00:47.909679900Z",
     "start_time": "2024-04-27T19:00:47.861223600Z"
    }
   },
   "id": "7d00591c42501993",
   "execution_count": 593
  },
  {
   "cell_type": "code",
   "outputs": [],
   "source": [
    "def get_state(doc2_page):\n",
    "    # Cerca il tag `<strong>` che contiene il testo \"Titolo originale\"\n",
    "    original_title_label = doc_2_list_.find('section', class_='facts left_column')\n",
    "    p_tags_list = []\n",
    "\n",
    "    # Controlla se la sezione è stata trovata\n",
    "    if original_title_label:\n",
    "        # Trova tutti i tag <p> all'interno della sezione\n",
    "        p_tags = original_title_label.find_all('p')\n",
    "        # Aggiungi il testo di ogni tag <p> alla lista\n",
    "        for p_tag in p_tags:\n",
    "            p_tags_list.append(p_tag.get_text().strip()) \n",
    "        return parsing_state(p_tags_list)\n",
    "    else:\n",
    "        return  \"Stato non trovato\"\n",
    "\n",
    "def parsing_state(p_tags_list):\n",
    "    # Lista per i valori estratti\n",
    "    extracted_values = ['None','None','None','None','None']\n",
    "    \n",
    "    # Ciclo per estrarre i valori\n",
    "    for item in p_tags_list:\n",
    "        # Dividi la stringa una volta e prendi il secondo elemento\n",
    "        parts = item.split(' ', 1)\n",
    "        if len(parts) > 1:\n",
    "            type = parts[0]\n",
    "            value = parts[1]\n",
    "            if type == 'Stato':\n",
    "                extracted_values[1] = value\n",
    "            if type=='Lingua':\n",
    "                value = value.replace('Originale','')\n",
    "                extracted_values[2] = value\n",
    "            if type=='Titolo':\n",
    "                value = value.replace('originale','')\n",
    "                extracted_values[0] = value\n",
    "            if type=='Budget':\n",
    "                value = value.replace('$', '').replace(',', '').strip()\n",
    "                extracted_values[3] = value\n",
    "            if type=='Incasso':\n",
    "                value = value.replace('$', '').replace(',', '').strip()\n",
    "                extracted_values[4] = value\n",
    "    return extracted_values"
   ],
   "metadata": {
    "collapsed": false,
    "ExecuteTime": {
     "end_time": "2024-04-27T19:00:22.223108200Z",
     "start_time": "2024-04-27T19:00:22.217026500Z"
    }
   },
   "id": "d335372f2fbd8641",
   "execution_count": 591
  },
  {
   "cell_type": "code",
   "outputs": [],
   "source": [
    "def get_keywords(doc2_page):\n",
    "    keywords_section = doc2_page.find('section', class_='keywords right_column')\n",
    "    keyword_lis = keywords_section.find_all('li')\n",
    "    keywords = [li.get_text(strip=True) for li in keyword_lis]\n",
    "    return keywords"
   ],
   "metadata": {
    "collapsed": false,
    "ExecuteTime": {
     "end_time": "2024-04-27T19:01:08.363065500Z",
     "start_time": "2024-04-27T19:01:08.356849500Z"
    }
   },
   "id": "413d9475fce0e9d",
   "execution_count": 596
  },
  {
   "cell_type": "code",
   "outputs": [],
   "source": [
    "def get_vote(doc_2_list_):\n",
    "    tmpRating = doc_2_list_.find('div', class_='user_score_chart')['data-percent']\n",
    "    return tmpRating"
   ],
   "metadata": {
    "collapsed": false,
    "ExecuteTime": {
     "end_time": "2024-04-27T18:56:19.449963700Z",
     "start_time": "2024-04-27T18:56:19.425956100Z"
    }
   },
   "id": "2298c73b3aea0d61",
   "execution_count": 580
  },
  {
   "cell_type": "code",
   "outputs": [],
   "source": [
    "\"\"\"def get_title(doc_2_list_):\n",
    "    # Cerca il tag <div> con classe 'title ott_true'\n",
    "    tmp_title = doc_2_list_.find('div', class_='title ott_true')\n",
    "    \n",
    "    # All'interno di questo tag, cerca il tag <a> e ottieni il suo contenuto testuale\n",
    "    title = tmp_title.find('a').text if tmp_title and tmp_title.find('a') else None\n",
    "    return title\"\"\""
   ],
   "metadata": {
    "collapsed": false,
    "ExecuteTime": {
     "end_time": "2024-04-27T18:54:49.392523500Z",
     "start_time": "2024-04-27T18:54:49.386518700Z"
    }
   },
   "id": "6c06ea5713f8ed88",
   "execution_count": 575
  },
  {
   "cell_type": "code",
   "outputs": [],
   "source": [
    "def get_title(doc_2_list_):\n",
    "    # Questo è un esempio di come potrebbe apparire il tuo HTML. Dovresti utilizzare la tua variabile HTML effettiva qui.\n",
    "    # Usa BeautifulSoup per effettuare il parsing dell'HTML\n",
    "    soup = BeautifulSoup(doc_2_list_, 'html.parser')\n",
    "    \n",
    "    # Trova il tag <a> che contiene il titolo del film\n",
    "    title_tag = soup.find('a', href=\"/movie/934632-rebel-moon-part-two-the-scargiver\")\n",
    "    \n",
    "    # Estrai il testo del titolo\n",
    "    movie_title = title_tag.get_text(strip=True) if title_tag else 'Titolo non trovato'\n",
    "    \n",
    "    print(movie_title)\n"
   ],
   "metadata": {
    "collapsed": false,
    "ExecuteTime": {
     "end_time": "2024-04-29T14:54:48.167629Z",
     "start_time": "2024-04-29T14:54:48.139014300Z"
    }
   },
   "id": "af46dfeb7e8460d3",
   "execution_count": 610
  },
  {
   "cell_type": "code",
   "outputs": [
    {
     "name": "stdout",
     "output_type": "stream",
     "text": [
      "                                          Title  \\\n",
      "0                                          None   \n",
      "1                                          None   \n",
      "2                                     Mona Lisa   \n",
      "3                                      Il santo   \n",
      "4                                          None   \n",
      "5  Dietro le linee nemiche II - L'asse del male   \n",
      "6                                          None   \n",
      "7                                          None   \n",
      "8                                          None   \n",
      "9                           Koda, fratello orso   \n",
      "\n",
      "                                               Genre  Duration Release_date  \\\n",
      "0                                 [Commedia, Dramma]       116         None   \n",
      "1                           [Commedia, Fantascienza]        91         None   \n",
      "2                 [Crime, Dramma, Romance, Thriller]       104         None   \n",
      "3  [Thriller, Azione, Romance, Fantascienza, Avve...       112         None   \n",
      "4       [Dramma, Fantasy, Horror, Thriller, Mistero]       131         None   \n",
      "5                      [Azione, Avventura, Thriller]        96         None   \n",
      "6                            [Azione, Crime, Dramma]        98         None   \n",
      "7                                 [Horror, Thriller]        84         None   \n",
      "8                        [Horror, Thriller, Mistero]        83         None   \n",
      "9                  [Avventura, Animazione, Famiglia]        85         None   \n",
      "\n",
      "  User_rating Tagline Description                   Directors          Novel  \\\n",
      "0          73    None        None              Sergio Cabrera           None   \n",
      "1          51    None        None               Yahoo Serious           None   \n",
      "2          69    None        None                 Neil Jordan           None   \n",
      "3          61    None        None               Phillip Noyce           None   \n",
      "4          55    None        None                 Mick Garris   Stephen King   \n",
      "5          47    None        None                James Dodson           None   \n",
      "6          39    None        None            James M. Hausler           None   \n",
      "7          54    None        None                Gregory Dark           None   \n",
      "8          56    None        None            Courtney Solomon  Brent Monahan   \n",
      "9          73    None        None  Robert Walker,Aaron Blaise           None   \n",
      "\n",
      "                                          Writers  \\\n",
      "0  Humberto Dorado,Jorge Goldenberg,Frank Ramírez   \n",
      "1                                Writer not found   \n",
      "2                                Writer not found   \n",
      "3                                Writer not found   \n",
      "4                                Writer not found   \n",
      "5                                Writer not found   \n",
      "6                                James M. Hausler   \n",
      "7                                     Dan Madigan   \n",
      "8                                Courtney Solomon   \n",
      "9                                Writer not found   \n",
      "\n",
      "                                          Screenplay       State  \\\n",
      "0                               Screenplay not found  Rilasciato   \n",
      "1                          Yahoo Serious,David Roach  Rilasciato   \n",
      "2                           Neil Jordan,David Leland  Rilasciato   \n",
      "3                   Jonathan Hensleigh,Wesley Strick  Rilasciato   \n",
      "4                               Screenplay not found  Rilasciato   \n",
      "5                               Screenplay not found  Rilasciato   \n",
      "6                               Screenplay not found  Rilasciato   \n",
      "7                               Screenplay not found  Rilasciato   \n",
      "8                               Screenplay not found  Rilasciato   \n",
      "9  Steve Bencich,David Hoselton,Lorne Cameron,Ron...  Rilasciato   \n",
      "\n",
      "                 Language        Budget       Revenue  \\\n",
      "0   Spagnolo; Castigliano             -             -   \n",
      "1                 Inglese   24900000.00    5000000.00   \n",
      "2                 Inglese             -    5794184.00   \n",
      "3                 Inglese   68000000.00  118100000.00   \n",
      "4                 Inglese   12000000.00             -   \n",
      "5                 Inglese             -             -   \n",
      "6                 Inglese             -             -   \n",
      "7                 Inglese    8000000.00   18700000.00   \n",
      "8                 Inglese   14000000.00   29612137.00   \n",
      "9                 Inglese  128000000.00  250397798.00   \n",
      "\n",
      "                                            Keywords  \\\n",
      "0  [roommate, pastor, squatter, anarchist, house,...   \n",
      "1  [rock 'n' roll, atomic bomb, nobel prize, albe...   \n",
      "2  [london, england, prostitute, ex-detainee, cha...   \n",
      "3  [london, england, berlin, germany, spy, based ...   \n",
      "4  [sheriff, nevada, highway, psychopath, serial ...   \n",
      "5                         [nuclear missile, soldier]   \n",
      "6                     [prison, ex-detainee, hoodlum]   \n",
      "7  [hotel, prisoner, eye ball, remake, murder, se...   \n",
      "8                     [witch, curse, suitor, family]   \n",
      "9  [sibling relationship, grizzly bear, inuit, tr...   \n",
      "\n",
      "                                                Cast  \n",
      "0  [Fausto Cabrera, Frank Ramírez, Delfina Guido,...  \n",
      "1  [Yahoo Serious, Odile Le Clezio, Ian \"Peewee\" ...  \n",
      "2  [Bob Hoskins, Cathy Tyson, Michael Caine, Robb...  \n",
      "3  [Val Kilmer, Elisabeth Shue, Rade Šerbedžija, ...  \n",
      "4  [Tom Skerritt, Steven Weber, Annabeth Gish, Ch...  \n",
      "5  [Matt Bushell, Denis Arndt, Ben Cross, Keith D...  \n",
      "6  [Richard Roundtree, Robert Loggia, Lucie Arnaz...  \n",
      "7  [Glenn Jacobs, Christina Vidal, Luke Pegler, C...  \n",
      "8  [Donald Sutherland, Rachel Hurd-Wood, Sissy Sp...  \n",
      "9  [Joaquin Phoenix, Jeremy Suarez, Jason Raize, ...  \n"
     ]
    }
   ],
   "source": [
    "\"\"\"def get_show_details(t_title, t_user_score, docs_2_list):\n",
    "    # excuting a function here that empties the dictionary every time the function is called.\n",
    "    scraped_data = []\n",
    "    scraped_dict =  empty_dict()\n",
    "    for i in range (0, len(t_title)):\n",
    "        scraped_dict['Title'] = get_title(docs_2_list,i)\n",
    "        scraped_dict['Genre'] = get_genres(docs_2_list, i)\n",
    "        scraped_dict['Duration'] = get_duration(doc_2_list_,i)\n",
    "        scraped_dict['Release_date'] = t_title[i].p.text   \n",
    "        scraped_dict['User_rating'] = get_vote(doc_2_list_,i)\n",
    "        tagline_info(docs_2_list, i, scraped_dict)        \n",
    "        scraped_dict['Description'] = get_description(doc_2_list_,i)\n",
    "        scraped_dict['Directors'] = get_directors(doc_2_list_,i)\n",
    "        scraped_dict['Novel'] = get_novel(doc_2_list_,i)\n",
    "        scraped_dict['Writers'] = get_writers(doc_2_list_,i)\n",
    "        scraped_dict['Screenplay'] = get_writers(doc_2_list_,i)\n",
    "        scraped_dict['State'] = get_state(doc_2_list_,i)[1]\n",
    "        scraped_dict['Language'] = get_state(doc_2_list_,i)[2]\n",
    "        scraped_dict['Budget'] = get_state(doc_2_list_,i)[3]\n",
    "        scraped_dict['Revenue'] = get_state(doc_2_list_,i)[4]\n",
    "        scraped_dict['Keywords'] = get_keywords(doc_2_list_,i)\n",
    "        scraped_dict['Cast'] = get_show_cast(docs_2_list, i)\n",
    "        scraped_data.append(scraped_dict)\n",
    "    df = pd.DataFrame(scraped_data)\n",
    "    return df\n",
    "\"\"\"\n",
    "\n",
    "link = 'https://www.themoviedb.org/movie/'\n",
    "links = []\n",
    "for i in range(10000,10010):\n",
    "    links.append(link + str(i))\n",
    "scraped_data = []\n",
    "for i in range(0,len(links)):\n",
    "    doc_2_list_ = get_page_content(links[i])\n",
    "    scraped_dict =  empty_dict()\n",
    "    scraped_dict['Title'] = get_title(doc_2_list_)\n",
    "    scraped_dict['Genre'] = get_genres(doc_2_list_)\n",
    "    scraped_dict['Duration'] = get_duration(doc_2_list_)\n",
    "    # scraped_dict['Release_date'] = t_title[i].p.text   \n",
    "    scraped_dict['User_rating'] = get_vote(doc_2_list_)\n",
    "    # tagline_info(doc_2_list_, i, scraped_dict)        \n",
    "    # scraped_dict['Description'] = get_description(docs_2_list,i)\n",
    "    scraped_dict['Directors'] = get_directors(doc_2_list_)\n",
    "    scraped_dict['Novel'] = get_novel(doc_2_list_)\n",
    "    scraped_dict['Writers'] = get_writers(doc_2_list_)\n",
    "    scraped_dict['Screenplay'] = get_screenplay(doc_2_list_)\n",
    "    scraped_dict['State'] = get_state(doc_2_list_)[1]\n",
    "    scraped_dict['Language'] = get_state(doc_2_list_)[2]\n",
    "    scraped_dict['Budget'] = get_state(doc_2_list_)[3]\n",
    "    scraped_dict['Revenue'] = get_state(doc_2_list_)[4]\n",
    "    scraped_dict['Keywords'] = get_keywords(doc_2_list_)\n",
    "    scraped_dict['Cast'] = get_show_cast(doc_2_list_)\n",
    "    scraped_data.append(scraped_dict)\n",
    "df = pd.DataFrame(scraped_data)\n",
    "print(df)"
   ],
   "metadata": {
    "collapsed": false,
    "ExecuteTime": {
     "end_time": "2024-04-29T14:23:59.504950400Z",
     "start_time": "2024-04-29T14:23:49.096227500Z"
    }
   },
   "id": "ba82cae89e740900",
   "execution_count": 604
  },
  {
   "cell_type": "code",
   "outputs": [
    {
     "data": {
      "text/plain": "'Koda, fratello orso'"
     },
     "execution_count": 606,
     "metadata": {},
     "output_type": "execute_result"
    }
   ],
   "source": [
    "get_title(doc_2_list_)"
   ],
   "metadata": {
    "collapsed": false,
    "ExecuteTime": {
     "end_time": "2024-04-29T14:26:56.644724400Z",
     "start_time": "2024-04-29T14:26:56.606546400Z"
    }
   },
   "id": "d9d4ac8326e9aeff",
   "execution_count": 606
  },
  {
   "cell_type": "code",
   "outputs": [
    {
     "data": {
      "text/plain": "                                          Title  \\\n0                                           NaN   \n1                                           NaN   \n2                                     Mona Lisa   \n3                                      Il santo   \n4                                           NaN   \n5  Dietro le linee nemiche II - L'asse del male   \n6                                           NaN   \n7                                           NaN   \n8                                           NaN   \n9                           Koda, fratello orso   \n\n                                               Genre  Duration  Release_date  \\\n0                             ['Commedia', 'Dramma']       116           NaN   \n1                       ['Commedia', 'Fantascienza']        91           NaN   \n2         ['Crime', 'Dramma', 'Romance', 'Thriller']       104           NaN   \n3  ['Thriller', 'Azione', 'Romance', 'Fantascienz...       112           NaN   \n4  ['Dramma', 'Fantasy', 'Horror', 'Thriller', 'M...       131           NaN   \n5                ['Azione', 'Avventura', 'Thriller']        96           NaN   \n6                      ['Azione', 'Crime', 'Dramma']        98           NaN   \n7                             ['Horror', 'Thriller']        84           NaN   \n8                  ['Horror', 'Thriller', 'Mistero']        83           NaN   \n9            ['Avventura', 'Animazione', 'Famiglia']        85           NaN   \n\n   User_rating  Tagline  Description                   Directors  \\\n0           73      NaN          NaN              Sergio Cabrera   \n1           51      NaN          NaN               Yahoo Serious   \n2           69      NaN          NaN                 Neil Jordan   \n3           61      NaN          NaN               Phillip Noyce   \n4           55      NaN          NaN                 Mick Garris   \n5           47      NaN          NaN                James Dodson   \n6           39      NaN          NaN            James M. Hausler   \n7           54      NaN          NaN                Gregory Dark   \n8           56      NaN          NaN            Courtney Solomon   \n9           73      NaN          NaN  Robert Walker,Aaron Blaise   \n\n           Novel                                         Writers  \\\n0            NaN  Humberto Dorado,Jorge Goldenberg,Frank Ramírez   \n1            NaN                                Writer not found   \n2            NaN                                Writer not found   \n3            NaN                                Writer not found   \n4   Stephen King                                Writer not found   \n5            NaN                                Writer not found   \n6            NaN                                James M. Hausler   \n7            NaN                                     Dan Madigan   \n8  Brent Monahan                                Courtney Solomon   \n9            NaN                                Writer not found   \n\n                                          Screenplay       State  \\\n0                               Screenplay not found  Rilasciato   \n1                          Yahoo Serious,David Roach  Rilasciato   \n2                           Neil Jordan,David Leland  Rilasciato   \n3                   Jonathan Hensleigh,Wesley Strick  Rilasciato   \n4                               Screenplay not found  Rilasciato   \n5                               Screenplay not found  Rilasciato   \n6                               Screenplay not found  Rilasciato   \n7                               Screenplay not found  Rilasciato   \n8                               Screenplay not found  Rilasciato   \n9  Steve Bencich,David Hoselton,Lorne Cameron,Ron...  Rilasciato   \n\n                 Language        Budget       Revenue  \\\n0   Spagnolo; Castigliano             -             -   \n1                 Inglese   24900000.00    5000000.00   \n2                 Inglese             -    5794184.00   \n3                 Inglese   68000000.00  118100000.00   \n4                 Inglese   12000000.00             -   \n5                 Inglese             -             -   \n6                 Inglese             -             -   \n7                 Inglese    8000000.00   18700000.00   \n8                 Inglese   14000000.00   29612137.00   \n9                 Inglese  128000000.00  250397798.00   \n\n                                            Keywords  \\\n0  ['roommate', 'pastor', 'squatter', 'anarchist'...   \n1  [\"rock 'n' roll\", 'atomic bomb', 'nobel prize'...   \n2  ['london, england', 'prostitute', 'ex-detainee...   \n3  ['london, england', 'berlin, germany', 'spy', ...   \n4  ['sheriff', 'nevada', 'highway', 'psychopath',...   \n5                     ['nuclear missile', 'soldier']   \n6               ['prison', 'ex-detainee', 'hoodlum']   \n7  ['hotel', 'prisoner', 'eye ball', 'remake', 'm...   \n8             ['witch', 'curse', 'suitor', 'family']   \n9  ['sibling relationship', 'grizzly bear', 'inui...   \n\n                                                Cast  \n0  ['Fausto Cabrera', 'Frank Ramírez', 'Delfina G...  \n1  ['Yahoo Serious', 'Odile Le Clezio', 'Ian \"Pee...  \n2  ['Bob Hoskins', 'Cathy Tyson', 'Michael Caine'...  \n3  ['Val Kilmer', 'Elisabeth Shue', 'Rade Šerbedž...  \n4  ['Tom Skerritt', 'Steven Weber', 'Annabeth Gis...  \n5  ['Matt Bushell', 'Denis Arndt', 'Ben Cross', '...  \n6  ['Richard Roundtree', 'Robert Loggia', 'Lucie ...  \n7  ['Glenn Jacobs', 'Christina Vidal', 'Luke Pegl...  \n8  ['Donald Sutherland', 'Rachel Hurd-Wood', 'Sis...  \n9  ['Joaquin Phoenix', 'Jeremy Suarez', 'Jason Ra...  ",
      "text/html": "<div>\n<style scoped>\n    .dataframe tbody tr th:only-of-type {\n        vertical-align: middle;\n    }\n\n    .dataframe tbody tr th {\n        vertical-align: top;\n    }\n\n    .dataframe thead th {\n        text-align: right;\n    }\n</style>\n<table border=\"1\" class=\"dataframe\">\n  <thead>\n    <tr style=\"text-align: right;\">\n      <th></th>\n      <th>Title</th>\n      <th>Genre</th>\n      <th>Duration</th>\n      <th>Release_date</th>\n      <th>User_rating</th>\n      <th>Tagline</th>\n      <th>Description</th>\n      <th>Directors</th>\n      <th>Novel</th>\n      <th>Writers</th>\n      <th>Screenplay</th>\n      <th>State</th>\n      <th>Language</th>\n      <th>Budget</th>\n      <th>Revenue</th>\n      <th>Keywords</th>\n      <th>Cast</th>\n    </tr>\n  </thead>\n  <tbody>\n    <tr>\n      <th>0</th>\n      <td>NaN</td>\n      <td>['Commedia', 'Dramma']</td>\n      <td>116</td>\n      <td>NaN</td>\n      <td>73</td>\n      <td>NaN</td>\n      <td>NaN</td>\n      <td>Sergio Cabrera</td>\n      <td>NaN</td>\n      <td>Humberto Dorado,Jorge Goldenberg,Frank Ramírez</td>\n      <td>Screenplay not found</td>\n      <td>Rilasciato</td>\n      <td>Spagnolo; Castigliano</td>\n      <td>-</td>\n      <td>-</td>\n      <td>['roommate', 'pastor', 'squatter', 'anarchist'...</td>\n      <td>['Fausto Cabrera', 'Frank Ramírez', 'Delfina G...</td>\n    </tr>\n    <tr>\n      <th>1</th>\n      <td>NaN</td>\n      <td>['Commedia', 'Fantascienza']</td>\n      <td>91</td>\n      <td>NaN</td>\n      <td>51</td>\n      <td>NaN</td>\n      <td>NaN</td>\n      <td>Yahoo Serious</td>\n      <td>NaN</td>\n      <td>Writer not found</td>\n      <td>Yahoo Serious,David Roach</td>\n      <td>Rilasciato</td>\n      <td>Inglese</td>\n      <td>24900000.00</td>\n      <td>5000000.00</td>\n      <td>[\"rock 'n' roll\", 'atomic bomb', 'nobel prize'...</td>\n      <td>['Yahoo Serious', 'Odile Le Clezio', 'Ian \"Pee...</td>\n    </tr>\n    <tr>\n      <th>2</th>\n      <td>Mona Lisa</td>\n      <td>['Crime', 'Dramma', 'Romance', 'Thriller']</td>\n      <td>104</td>\n      <td>NaN</td>\n      <td>69</td>\n      <td>NaN</td>\n      <td>NaN</td>\n      <td>Neil Jordan</td>\n      <td>NaN</td>\n      <td>Writer not found</td>\n      <td>Neil Jordan,David Leland</td>\n      <td>Rilasciato</td>\n      <td>Inglese</td>\n      <td>-</td>\n      <td>5794184.00</td>\n      <td>['london, england', 'prostitute', 'ex-detainee...</td>\n      <td>['Bob Hoskins', 'Cathy Tyson', 'Michael Caine'...</td>\n    </tr>\n    <tr>\n      <th>3</th>\n      <td>Il santo</td>\n      <td>['Thriller', 'Azione', 'Romance', 'Fantascienz...</td>\n      <td>112</td>\n      <td>NaN</td>\n      <td>61</td>\n      <td>NaN</td>\n      <td>NaN</td>\n      <td>Phillip Noyce</td>\n      <td>NaN</td>\n      <td>Writer not found</td>\n      <td>Jonathan Hensleigh,Wesley Strick</td>\n      <td>Rilasciato</td>\n      <td>Inglese</td>\n      <td>68000000.00</td>\n      <td>118100000.00</td>\n      <td>['london, england', 'berlin, germany', 'spy', ...</td>\n      <td>['Val Kilmer', 'Elisabeth Shue', 'Rade Šerbedž...</td>\n    </tr>\n    <tr>\n      <th>4</th>\n      <td>NaN</td>\n      <td>['Dramma', 'Fantasy', 'Horror', 'Thriller', 'M...</td>\n      <td>131</td>\n      <td>NaN</td>\n      <td>55</td>\n      <td>NaN</td>\n      <td>NaN</td>\n      <td>Mick Garris</td>\n      <td>Stephen King</td>\n      <td>Writer not found</td>\n      <td>Screenplay not found</td>\n      <td>Rilasciato</td>\n      <td>Inglese</td>\n      <td>12000000.00</td>\n      <td>-</td>\n      <td>['sheriff', 'nevada', 'highway', 'psychopath',...</td>\n      <td>['Tom Skerritt', 'Steven Weber', 'Annabeth Gis...</td>\n    </tr>\n    <tr>\n      <th>5</th>\n      <td>Dietro le linee nemiche II - L'asse del male</td>\n      <td>['Azione', 'Avventura', 'Thriller']</td>\n      <td>96</td>\n      <td>NaN</td>\n      <td>47</td>\n      <td>NaN</td>\n      <td>NaN</td>\n      <td>James Dodson</td>\n      <td>NaN</td>\n      <td>Writer not found</td>\n      <td>Screenplay not found</td>\n      <td>Rilasciato</td>\n      <td>Inglese</td>\n      <td>-</td>\n      <td>-</td>\n      <td>['nuclear missile', 'soldier']</td>\n      <td>['Matt Bushell', 'Denis Arndt', 'Ben Cross', '...</td>\n    </tr>\n    <tr>\n      <th>6</th>\n      <td>NaN</td>\n      <td>['Azione', 'Crime', 'Dramma']</td>\n      <td>98</td>\n      <td>NaN</td>\n      <td>39</td>\n      <td>NaN</td>\n      <td>NaN</td>\n      <td>James M. Hausler</td>\n      <td>NaN</td>\n      <td>James M. Hausler</td>\n      <td>Screenplay not found</td>\n      <td>Rilasciato</td>\n      <td>Inglese</td>\n      <td>-</td>\n      <td>-</td>\n      <td>['prison', 'ex-detainee', 'hoodlum']</td>\n      <td>['Richard Roundtree', 'Robert Loggia', 'Lucie ...</td>\n    </tr>\n    <tr>\n      <th>7</th>\n      <td>NaN</td>\n      <td>['Horror', 'Thriller']</td>\n      <td>84</td>\n      <td>NaN</td>\n      <td>54</td>\n      <td>NaN</td>\n      <td>NaN</td>\n      <td>Gregory Dark</td>\n      <td>NaN</td>\n      <td>Dan Madigan</td>\n      <td>Screenplay not found</td>\n      <td>Rilasciato</td>\n      <td>Inglese</td>\n      <td>8000000.00</td>\n      <td>18700000.00</td>\n      <td>['hotel', 'prisoner', 'eye ball', 'remake', 'm...</td>\n      <td>['Glenn Jacobs', 'Christina Vidal', 'Luke Pegl...</td>\n    </tr>\n    <tr>\n      <th>8</th>\n      <td>NaN</td>\n      <td>['Horror', 'Thriller', 'Mistero']</td>\n      <td>83</td>\n      <td>NaN</td>\n      <td>56</td>\n      <td>NaN</td>\n      <td>NaN</td>\n      <td>Courtney Solomon</td>\n      <td>Brent Monahan</td>\n      <td>Courtney Solomon</td>\n      <td>Screenplay not found</td>\n      <td>Rilasciato</td>\n      <td>Inglese</td>\n      <td>14000000.00</td>\n      <td>29612137.00</td>\n      <td>['witch', 'curse', 'suitor', 'family']</td>\n      <td>['Donald Sutherland', 'Rachel Hurd-Wood', 'Sis...</td>\n    </tr>\n    <tr>\n      <th>9</th>\n      <td>Koda, fratello orso</td>\n      <td>['Avventura', 'Animazione', 'Famiglia']</td>\n      <td>85</td>\n      <td>NaN</td>\n      <td>73</td>\n      <td>NaN</td>\n      <td>NaN</td>\n      <td>Robert Walker,Aaron Blaise</td>\n      <td>NaN</td>\n      <td>Writer not found</td>\n      <td>Steve Bencich,David Hoselton,Lorne Cameron,Ron...</td>\n      <td>Rilasciato</td>\n      <td>Inglese</td>\n      <td>128000000.00</td>\n      <td>250397798.00</td>\n      <td>['sibling relationship', 'grizzly bear', 'inui...</td>\n      <td>['Joaquin Phoenix', 'Jeremy Suarez', 'Jason Ra...</td>\n    </tr>\n  </tbody>\n</table>\n</div>"
     },
     "execution_count": 605,
     "metadata": {},
     "output_type": "execute_result"
    }
   ],
   "source": [
    "df.to_csv('check.csv')\n",
    "pd.read_csv('check.csv',index_col=[0])"
   ],
   "metadata": {
    "collapsed": false,
    "ExecuteTime": {
     "end_time": "2024-04-29T14:24:33.985260100Z",
     "start_time": "2024-04-29T14:24:33.912627100Z"
    }
   },
   "id": "2569192944232f4",
   "execution_count": 605
  },
  {
   "cell_type": "code",
   "outputs": [],
   "source": [
    "def get_show_details(t_title, t_user_score, docs_2_list):\n",
    "    # excuting a function here that empties the dictionary every time the function is called.\n",
    "    scraped_data = []\n",
    "    scraped_dict =  empty_dict()\n",
    "    for i in range (0, len(t_title)):\n",
    "        scraped_dict['Title'] = get_title(docs_2_list,i)\n",
    "        scraped_dict['Genre'] = get_genres(docs_2_list, i)\n",
    "        scraped_dict['Duration'] = get_duration(docs_2_list,i)\n",
    "        scraped_dict['Release_date'] = t_title[i].p.text   \n",
    "        scraped_dict['User_rating'] = get_vote(docs_2_list,i)\n",
    "        tagline_info(docs_2_list, i, scraped_dict)        \n",
    "        scraped_dict['Description'] = get_description(docs_2_list,i)\n",
    "        scraped_dict['Directors'] = get_directors(docs_2_list,i)\n",
    "        scraped_dict['Novel'] = get_novel(docs_2_list,i)\n",
    "        scraped_dict['Writers'] = get_writers(docs_2_list,i)\n",
    "        scraped_dict['Screenplay'] = get_writers(docs_2_list,i)\n",
    "        scraped_dict['State'] = get_state(docs_2_list,i)[1]\n",
    "        scraped_dict['Language'] = get_state(docs_2_list,i)[2]\n",
    "        scraped_dict['Budget'] = get_state(docs_2_list,i)[3]\n",
    "        scraped_dict['Revenue'] = get_state(docs_2_list,i)[4]\n",
    "        scraped_dict['Keywords'] = get_keywords(docs_2_list,i)\n",
    "        scraped_dict['Cast'] = get_show_cast(docs_2_list, i)\n",
    "        scraped_data.append(scraped_dict)\n",
    "    df = pd.DataFrame(scraped_data)\n",
    "    return df\n"
   ],
   "metadata": {
    "collapsed": false,
    "ExecuteTime": {
     "end_time": "2024-04-27T18:43:28.969828200Z",
     "start_time": "2024-04-27T18:43:28.964726200Z"
    }
   },
   "id": "cf09dbb56ef5a65f",
   "execution_count": 563
  },
  {
   "cell_type": "code",
   "outputs": [],
   "source": [
    "tag_title_, tag_user_score_, doc_2_list_ = get_show_info(doc)"
   ],
   "metadata": {
    "collapsed": false,
    "ExecuteTime": {
     "end_time": "2024-04-27T18:48:42.712037400Z",
     "start_time": "2024-04-27T18:48:29.441604Z"
    }
   },
   "id": "669d08b38046e6e4",
   "execution_count": 568
  },
  {
   "cell_type": "code",
   "outputs": [],
   "source": [
    "x = get_show_details(tag_title_, tag_user_score_, doc_2_list_)\n",
    "x.to_csv('check.csv')\n",
    "# pd.read_csv('check.csv',index_col=[0])"
   ],
   "metadata": {
    "collapsed": false
   },
   "id": "67d1761b264ab37d",
   "execution_count": null
  },
  {
   "cell_type": "code",
   "outputs": [],
   "source": [
    "# Parsing dell'HTML con BeautifulSoup\n",
    "# soup = BeautifulSoup(doc_2_list_[0], 'lxml')\n",
    "# Trovare tutti gli elementi <li> con classe \"profile\"\n",
    "print(doc_2_list_[0])\n",
    "profiles = doc_2_list_[0].find_all('li', class_='profile')\n",
    "\n",
    "# Lista per mantenere gli attori e i loro ruoli\n",
    "actors_and_characters = []\n",
    "\n",
    "# Iterare su ciascun profilo per estrarre nome e ruolo\n",
    "for profile in profiles:\n",
    "    name_tag = profile.find('a')  # Trova il tag <a> per il nome\n",
    "    character_tag = profile.find('p', class_='character')  # Trova il tag <p> per il personaggio\n",
    "\n",
    "    # Controlla che entrambi i tag siano stati trovati prima di procedere\n",
    "    if name_tag is not None and character_tag is not None:\n",
    "        actor_name = name_tag.text.strip()  # Testo del nome dell'attore\n",
    "        character_name = character_tag.text.strip()  # Testo del personaggio\n",
    "        actors_and_characters.append((actor_name, character_name))\n",
    "    else:\n",
    "        # Opzionale: stampa un messaggio o gestisci il caso in cui l'informazione non sia completa\n",
    "        print(\"Missing actor name or character information.\")\n",
    "\n",
    "# Stampa i risultati\n",
    "#for actor, character in actors_and_characters:\n",
    "    #print(f\"Name: {actor}, Job: {character}\")\n"
   ],
   "metadata": {
    "collapsed": false
   },
   "id": "cced1f0b4987a127",
   "execution_count": null
  },
  {
   "cell_type": "code",
   "outputs": [
    {
     "ename": "NameError",
     "evalue": "name 't_title' is not defined",
     "output_type": "error",
     "traceback": [
      "\u001B[1;31m---------------------------------------------------------------------------\u001B[0m",
      "\u001B[1;31mNameError\u001B[0m                                 Traceback (most recent call last)",
      "Cell \u001B[1;32mIn[60], line 1\u001B[0m\n\u001B[1;32m----> 1\u001B[0m \u001B[38;5;28mlen\u001B[39m(\u001B[43mt_title\u001B[49m)\n",
      "\u001B[1;31mNameError\u001B[0m: name 't_title' is not defined"
     ]
    }
   ],
   "source": [],
   "metadata": {
    "collapsed": false,
    "ExecuteTime": {
     "end_time": "2024-04-27T13:31:38.024255100Z",
     "start_time": "2024-04-27T13:31:37.987879100Z"
    }
   },
   "id": "f13545cac71f81ab",
   "execution_count": 60
  }
 ],
 "metadata": {
  "kernelspec": {
   "display_name": "Python 3",
   "language": "python",
   "name": "python3"
  },
  "language_info": {
   "codemirror_mode": {
    "name": "ipython",
    "version": 2
   },
   "file_extension": ".py",
   "mimetype": "text/x-python",
   "name": "python",
   "nbconvert_exporter": "python",
   "pygments_lexer": "ipython2",
   "version": "2.7.6"
  }
 },
 "nbformat": 4,
 "nbformat_minor": 5
}
