{
 "cells": [
  {
   "cell_type": "code",
   "execution_count": 5,
   "id": "initial_id",
   "metadata": {
    "collapsed": true,
    "ExecuteTime": {
     "end_time": "2024-04-27T07:18:52.473798100Z",
     "start_time": "2024-04-27T07:18:52.451783800Z"
    }
   },
   "outputs": [],
   "source": [
    "import pandas as pd\n",
    "import ast\n",
    "import os as os"
   ]
  },
  {
   "cell_type": "code",
   "outputs": [
    {
     "data": {
      "text/plain": "'C:\\\\Users\\\\andre\\\\PycharmProjects\\\\dmmlProject\\\\progetto'"
     },
     "execution_count": 8,
     "metadata": {},
     "output_type": "execute_result"
    }
   ],
   "source": [
    "current_directory = os.getcwd()\n",
    "current_directory"
   ],
   "metadata": {
    "collapsed": false,
    "ExecuteTime": {
     "end_time": "2024-04-27T07:19:04.683243800Z",
     "start_time": "2024-04-27T07:19:04.678236500Z"
    }
   },
   "id": "35f68a5b8c5479e3",
   "execution_count": 8
  },
  {
   "cell_type": "code",
   "outputs": [
    {
     "data": {
      "text/plain": "'dataset/newCredits.csv'"
     },
     "execution_count": 9,
     "metadata": {},
     "output_type": "execute_result"
    }
   ],
   "source": [
    "# Function to process the cast entries\n",
    "def process_cast(cast_data, film_id):\n",
    "    cast_entries = []\n",
    "    for cast_member in cast_data:\n",
    "        department = 'voice over' if '(voice)' in cast_member['character'] else 'actors'\n",
    "        job = 'voice actor' if '(voice)' in cast_member['character'] else 'actor'\n",
    "        cast_entries.append({\n",
    "            'film_id': film_id,\n",
    "            'cast_id': cast_member['cast_id'],\n",
    "            'id': cast_member['id'],\n",
    "            'credit_id': cast_member['credit_id'],\n",
    "            'actor_name': cast_member['name'],\n",
    "            'actor_gender': cast_member['gender'],\n",
    "            'character_name': cast_member['character'].replace('(voice)', '').strip(),\n",
    "            'order': cast_member['order'],\n",
    "            'profile_path': cast_member['profile_path'],\n",
    "            'department': department,\n",
    "            'job': job\n",
    "        })\n",
    "    return cast_entries\n",
    "\n",
    "# Function to process the crew entries\n",
    "def process_crew(crew_data, film_id):\n",
    "    crew_entries = []\n",
    "    for crew_member in crew_data:\n",
    "        crew_entries.append({\n",
    "            'film_id': film_id,\n",
    "            'cast_id': -1,\n",
    "            'id': crew_member['id'],\n",
    "            'credit_id': crew_member['credit_id'],\n",
    "            'actor_name': crew_member['name'],\n",
    "            'actor_gender': crew_member['gender'],\n",
    "            'character_name': 'enoN',\n",
    "            'order': -1,\n",
    "            'profile_path': crew_member['profile_path'],\n",
    "            'department': crew_member['department'],\n",
    "            'job': crew_member['job']\n",
    "        })\n",
    "    return crew_entries\n",
    "\n",
    "# Read the original CSV file\n",
    "file_path = 'dataset/credits.csv'\n",
    "credits_df = pd.read_csv(file_path)\n",
    "\n",
    "# Create a new DataFrame for the processed data\n",
    "new_credits_data = []\n",
    "\n",
    "# Process each entry in the original DataFrame\n",
    "for index, row in credits_df.iterrows():\n",
    "    film_id = row['id']\n",
    "    cast_data = ast.literal_eval(row['cast'])\n",
    "    crew_data = ast.literal_eval(row['crew'])\n",
    "    \n",
    "    # Process cast and crew, extending the new data list with the results\n",
    "    new_credits_data.extend(process_cast(cast_data, film_id))\n",
    "    new_credits_data.extend(process_crew(crew_data, film_id))\n",
    "\n",
    "# Convert the new data list to a DataFrame\n",
    "new_credits_df = pd.DataFrame(new_credits_data)\n",
    "\n",
    "# Save the new DataFrame to a CSV file\n",
    "new_credits_file_path = 'dataset/newCredits.csv'\n",
    "new_credits_df.to_csv(new_credits_file_path, index=False)\n",
    "\n",
    "new_credits_file_path\n"
   ],
   "metadata": {
    "collapsed": false,
    "ExecuteTime": {
     "end_time": "2024-04-27T07:21:51.337009800Z",
     "start_time": "2024-04-27T07:20:45.469206100Z"
    }
   },
   "id": "3d6b2956838df9c7",
   "execution_count": 9
  },
  {
   "cell_type": "code",
   "outputs": [
    {
     "data": {
      "text/plain": "           id                                           keywords\n0         862  [{'id': 931, 'name': 'jealousy'}, {'id': 4290,...\n1        8844  [{'id': 10090, 'name': 'board game'}, {'id': 1...\n2       15602  [{'id': 1495, 'name': 'fishing'}, {'id': 12392...\n3       31357  [{'id': 818, 'name': 'based on novel'}, {'id':...\n4       11862  [{'id': 1009, 'name': 'baby'}, {'id': 1599, 'n...\n...       ...                                                ...\n46414  439050             [{'id': 10703, 'name': 'tragic love'}]\n46415  111109  [{'id': 2679, 'name': 'artist'}, {'id': 14531,...\n46416   67758                                                 []\n46417  227506                                                 []\n46418  461257                                                 []\n\n[46419 rows x 2 columns]",
      "text/html": "<div>\n<style scoped>\n    .dataframe tbody tr th:only-of-type {\n        vertical-align: middle;\n    }\n\n    .dataframe tbody tr th {\n        vertical-align: top;\n    }\n\n    .dataframe thead th {\n        text-align: right;\n    }\n</style>\n<table border=\"1\" class=\"dataframe\">\n  <thead>\n    <tr style=\"text-align: right;\">\n      <th></th>\n      <th>id</th>\n      <th>keywords</th>\n    </tr>\n  </thead>\n  <tbody>\n    <tr>\n      <th>0</th>\n      <td>862</td>\n      <td>[{'id': 931, 'name': 'jealousy'}, {'id': 4290,...</td>\n    </tr>\n    <tr>\n      <th>1</th>\n      <td>8844</td>\n      <td>[{'id': 10090, 'name': 'board game'}, {'id': 1...</td>\n    </tr>\n    <tr>\n      <th>2</th>\n      <td>15602</td>\n      <td>[{'id': 1495, 'name': 'fishing'}, {'id': 12392...</td>\n    </tr>\n    <tr>\n      <th>3</th>\n      <td>31357</td>\n      <td>[{'id': 818, 'name': 'based on novel'}, {'id':...</td>\n    </tr>\n    <tr>\n      <th>4</th>\n      <td>11862</td>\n      <td>[{'id': 1009, 'name': 'baby'}, {'id': 1599, 'n...</td>\n    </tr>\n    <tr>\n      <th>...</th>\n      <td>...</td>\n      <td>...</td>\n    </tr>\n    <tr>\n      <th>46414</th>\n      <td>439050</td>\n      <td>[{'id': 10703, 'name': 'tragic love'}]</td>\n    </tr>\n    <tr>\n      <th>46415</th>\n      <td>111109</td>\n      <td>[{'id': 2679, 'name': 'artist'}, {'id': 14531,...</td>\n    </tr>\n    <tr>\n      <th>46416</th>\n      <td>67758</td>\n      <td>[]</td>\n    </tr>\n    <tr>\n      <th>46417</th>\n      <td>227506</td>\n      <td>[]</td>\n    </tr>\n    <tr>\n      <th>46418</th>\n      <td>461257</td>\n      <td>[]</td>\n    </tr>\n  </tbody>\n</table>\n<p>46419 rows × 2 columns</p>\n</div>"
     },
     "execution_count": 10,
     "metadata": {},
     "output_type": "execute_result"
    }
   ],
   "source": [
    "keywords_df = pd.read_csv(os.path.join('dataset','keywords.csv'))\n",
    "keywords_df"
   ],
   "metadata": {
    "collapsed": false,
    "ExecuteTime": {
     "end_time": "2024-04-27T07:29:06.465667200Z",
     "start_time": "2024-04-27T07:29:06.367850600Z"
    }
   },
   "id": "a99e10c6bdab6ec4",
   "execution_count": 10
  },
  {
   "cell_type": "code",
   "outputs": [],
   "source": [
    "keywords_df = pd.read_csv('dataset/keywords.csv')\n",
    "\n",
    "# This function will parse the 'keywords' column and return a list of dictionaries\n",
    "# with the film_id, keyword_id, and keyword for each keyword entry.\n",
    "def parse_keywords(row):\n",
    "    try:\n",
    "        # This assumes that the 'keywords' column is a string representation of a list of dictionaries.\n",
    "        keywords_list = ast.literal_eval(row['keywords'])\n",
    "        keywords_list\n",
    "        return [\n",
    "            {'film_id': row['id'], 'keyword_id': keyword['id'], 'keyword': keyword['name']}\n",
    "            for keyword in keywords_list\n",
    "        ]\n",
    "    except Exception as e:\n",
    "        # Handle exceptions that may occur during parsing\n",
    "        print(f\"Error parsing row {row['id']}: {e}\")\n",
    "        return []\n",
    "\n",
    "# Use the function to expand the 'keywords' column into a list of dictionaries\n",
    "new_keywords_data = []\n",
    "for index, row in keywords_df.iterrows():\n",
    "    new_keywords_data.extend(parse_keywords(row))\n",
    "\n",
    "# Convert the list of dictionaries into a new DataFrame\n",
    "new_keywords_df = pd.DataFrame(new_keywords_data)\n",
    "\n",
    "# Save the new DataFrame to a CSV file\n",
    "new_keywords_df.to_csv('dataset/newKeywords.csv', index=False)\n"
   ],
   "metadata": {
    "collapsed": false,
    "ExecuteTime": {
     "end_time": "2024-04-27T07:42:23.800944800Z",
     "start_time": "2024-04-27T07:42:17.596995100Z"
    }
   },
   "id": "f5df99872a264377",
   "execution_count": 13
  },
  {
   "cell_type": "code",
   "outputs": [
    {
     "name": "stderr",
     "output_type": "stream",
     "text": [
      "C:\\Users\\andre\\AppData\\Local\\Temp\\ipykernel_12708\\1149187057.py:7: DtypeWarning: Columns (10) have mixed types. Specify dtype option on import or set low_memory=False.\n",
      "  movies_metadata_df = pd.read_csv(file_path)\n"
     ]
    },
    {
     "name": "stdout",
     "output_type": "stream",
     "text": [
      "Movies with a unique genre:\n",
      "3\n",
      "\n",
      "Movies with no genres:\n",
      "2442\n",
      "\n",
      "Movies with invalid genres:\n",
      "0\n",
      "\n",
      "Entries non corrette: 2442\n"
     ]
    }
   ],
   "source": [
    "import pandas as pd\n",
    "import ast\n",
    "from collections import Counter\n",
    "\n",
    "# Replace this file path with the path to your actual movies_metadata.csv file\n",
    "file_path = 'dataset/movies_metadata.csv'\n",
    "movies_metadata_df = pd.read_csv(file_path)\n",
    "\n",
    "genre_counts = Counter()\n",
    "movies_with_unique_genre = []\n",
    "movies_with_no_genres = []\n",
    "movies_with_invalid_genres = []\n",
    "unique_genre_count = 0\n",
    "\n",
    "# Function to safely parse genres data\n",
    "def safe_parse_genres(genres_str):\n",
    "    try:\n",
    "        return ast.literal_eval(genres_str) if pd.notnull(genres_str) else []\n",
    "    except (SyntaxError, ValueError):\n",
    "        return None\n",
    "\n",
    "# Iterate through the DataFrame and count genres\n",
    "for index, row in movies_metadata_df.iterrows():\n",
    "    genres = safe_parse_genres(row['genres'])\n",
    "\n",
    "    # If genres is None, then the genres data was invalid\n",
    "    if genres is None:\n",
    "        movies_with_invalid_genres.append(row)\n",
    "        continue\n",
    "\n",
    "    # If genres list is empty, then the movie has no genres\n",
    "    if not genres:\n",
    "        movies_with_no_genres.append(row)\n",
    "        continue\n",
    "\n",
    "    # Update genre counts\n",
    "    for genre in genres:\n",
    "        genre_counts[genre['name']] += 1\n",
    "\n",
    "# Find unique genres and their corresponding movies\n",
    "unique_genres = {genre for genre, count in genre_counts.items() if count == 1}\n",
    "for index, row in movies_metadata_df.iterrows():\n",
    "    genres = safe_parse_genres(row['genres'])\n",
    "    if genres:\n",
    "        movie_genres = {genre['name'] for genre in genres}\n",
    "        if movie_genres & unique_genres:\n",
    "            movies_with_unique_genre.append(row)\n",
    "            unique_genre_count += 1\n",
    "\n",
    "# Print movies with a unique genre\n",
    "print(\"Movies with a unique genre:\")\n",
    "print(len(movies_with_unique_genre))\n",
    "\n",
    "# Print movies with no genres or invalid genres\n",
    "print(\"\\nMovies with no genres:\")\n",
    "print(len(movies_with_no_genres))\n",
    "\n",
    "print(\"\\nMovies with invalid genres:\")\n",
    "print(len(movies_with_invalid_genres))\n",
    "\n",
    "# Print the total number of incorrect entries\n",
    "total_invalid_entries = len(movies_with_no_genres) + len(movies_with_invalid_genres)\n",
    "print(f\"\\nEntries non corrette: {total_invalid_entries}\")\n"
   ],
   "metadata": {
    "collapsed": false,
    "ExecuteTime": {
     "end_time": "2024-04-27T09:03:27.870117100Z",
     "start_time": "2024-04-27T09:03:18.103383Z"
    }
   },
   "id": "11bbddd1cb7b03e6",
   "execution_count": 19
  },
  {
   "cell_type": "code",
   "outputs": [
    {
     "name": "stderr",
     "output_type": "stream",
     "text": [
      "C:\\Users\\andre\\AppData\\Local\\Temp\\ipykernel_12708\\4233765080.py:6: DtypeWarning: Columns (10) have mixed types. Specify dtype option on import or set low_memory=False.\n",
      "  movies_metadata_df = pd.read_csv(file_path)\n"
     ]
    },
    {
     "name": "stdout",
     "output_type": "stream",
     "text": [
      "Created new file without invalid genres: newMovieMetadata.csv\n"
     ]
    }
   ],
   "source": [
    "import pandas as pd\n",
    "import ast\n",
    "\n",
    "# Load the dataset\n",
    "file_path = 'dataset/movies_metadata.csv'  # Make sure to provide the correct path to your CSV file\n",
    "movies_metadata_df = pd.read_csv(file_path)\n",
    "\n",
    "# Define a function to check if genres are valid (properly formatted JSON)\n",
    "def is_valid_genre(genres_str):\n",
    "    try:\n",
    "        # This will return False if genres_str is NaN or genres is an empty list\n",
    "        if pd.isna(genres_str) or not genres_str.strip():\n",
    "            return False\n",
    "        # Attempt to parse the string into JSON\n",
    "        genres = ast.literal_eval(genres_str)\n",
    "        return isinstance(genres, list)\n",
    "    except:\n",
    "        # Any error in parsing will mean the genre is invalid\n",
    "        return False\n",
    "\n",
    "# Filter out rows where the 'genres' column is not valid\n",
    "valid_movies_df = movies_metadata_df[movies_metadata_df['genres'].apply(is_valid_genre)]\n",
    "\n",
    "# Save the new DataFrame to a new CSV file\n",
    "new_file_path = 'newMovieMetadata.csv'\n",
    "valid_movies_df.to_csv(new_file_path, index=False)\n",
    "\n",
    "# Let the user know the new file has been created\n",
    "print(f\"Created new file without invalid genres: {new_file_path}\")\n"
   ],
   "metadata": {
    "collapsed": false,
    "ExecuteTime": {
     "end_time": "2024-04-27T09:06:47.550252900Z",
     "start_time": "2024-04-27T09:06:44.617137Z"
    }
   },
   "id": "958bb1717ce71864",
   "execution_count": 24
  },
  {
   "cell_type": "code",
   "outputs": [
    {
     "name": "stderr",
     "output_type": "stream",
     "text": [
      "C:\\Users\\andre\\AppData\\Local\\Temp\\ipykernel_12708\\2122785835.py:5: DtypeWarning: Columns (10) have mixed types. Specify dtype option on import or set low_memory=False.\n",
      "  movies_metadata_df = pd.read_csv(file_path)\n"
     ]
    },
    {
     "name": "stdout",
     "output_type": "stream",
     "text": [
      "Number of films with invalid budget: 36576\n",
      "Number of films with invalid revenue: 38058\n",
      "Number of films with invalid vote_average or vote_count: 3004\n"
     ]
    }
   ],
   "source": [
    "import pandas as pd\n",
    "\n",
    "# Load the dataset\n",
    "file_path = 'newMovieMetadata.csv'  # Replace with the actual file path\n",
    "movies_metadata_df = pd.read_csv(file_path)\n",
    "\n",
    "# Function to check if a value is a non-negative number\n",
    "def is_non_negative_number(value):\n",
    "    try:\n",
    "        number = float(value)\n",
    "        return number > 0\n",
    "    except (ValueError, TypeError):\n",
    "        return False\n",
    "\n",
    "# Count films with invalid budget\n",
    "invalid_budget_count = movies_metadata_df['budget'].apply(lambda x: not is_non_negative_number(x) or x == 0).sum()\n",
    "\n",
    "# Count films with invalid revenue\n",
    "invalid_revenue_count = movies_metadata_df['revenue'].apply(lambda x: not is_non_negative_number(x)).sum()\n",
    "\n",
    "# Count films with invalid vote_average or vote_count\n",
    "invalid_votes_count = movies_metadata_df.apply(lambda row: not (is_non_negative_number(row['vote_average']) and is_non_negative_number(row['vote_count'])), axis=1).sum()\n",
    "\n",
    "# Print the results\n",
    "print(f\"Number of films with invalid budget: {invalid_budget_count}\")\n",
    "print(f\"Number of films with invalid revenue: {invalid_revenue_count}\")\n",
    "print(f\"Number of films with invalid vote_average or vote_count: {invalid_votes_count}\")\n"
   ],
   "metadata": {
    "collapsed": false,
    "ExecuteTime": {
     "end_time": "2024-04-27T09:13:53.382410800Z",
     "start_time": "2024-04-27T09:13:52.409818100Z"
    }
   },
   "id": "2d41ba1827bd50b3",
   "execution_count": 27
  },
  {
   "cell_type": "code",
   "outputs": [
    {
     "name": "stderr",
     "output_type": "stream",
     "text": [
      "C:\\Users\\andre\\AppData\\Local\\Temp\\ipykernel_12708\\3789008355.py:5: DtypeWarning: Columns (10) have mixed types. Specify dtype option on import or set low_memory=False.\n",
      "  movies_metadata_df = pd.read_csv(file_path)\n"
     ]
    },
    {
     "name": "stdout",
     "output_type": "stream",
     "text": [
      "Filtered data saved to dataset/tmpMovies.csv\n"
     ]
    }
   ],
   "source": [
    "import pandas as pd\n",
    "\n",
    "# Load the dataset\n",
    "file_path = 'newMovieMetadata.csv'  # Replace with the actual file path\n",
    "movies_metadata_df = pd.read_csv(file_path)\n",
    "\n",
    "# Define a function to check if a value is a positive number and not NaN, None, or empty\n",
    "def is_valid(value):\n",
    "    try:\n",
    "        return pd.notna(value) and float(value) > 0\n",
    "    except (ValueError, TypeError):\n",
    "        return False\n",
    "\n",
    "# Apply the filter conditions for revenue, budget, vote_average, and vote_count\n",
    "filtered_movies_df = movies_metadata_df[\n",
    "    (movies_metadata_df['revenue'].apply(is_valid)) &\n",
    "    (movies_metadata_df['budget'].apply(is_valid)) \n",
    "]\n",
    "\n",
    "# Save the filtered DataFrame to a new CSV file\n",
    "new_file_path = 'dataset/tmpMovies.csv'\n",
    "filtered_movies_df.to_csv(new_file_path, index=False)\n",
    "\n",
    "print(f\"Filtered data saved to {new_file_path}\")\n"
   ],
   "metadata": {
    "collapsed": false,
    "ExecuteTime": {
     "end_time": "2024-04-27T09:52:15.003015400Z",
     "start_time": "2024-04-27T09:52:14.107063600Z"
    }
   },
   "id": "68afefc03b615989",
   "execution_count": 30
  },
  {
   "cell_type": "code",
   "outputs": [
    {
     "name": "stderr",
     "output_type": "stream",
     "text": [
      "C:\\Users\\andre\\AppData\\Local\\Temp\\ipykernel_12708\\2068575811.py:8: DeprecationWarning: DataFrameGroupBy.apply operated on the grouping columns. This behavior is deprecated, and in a future version of pandas the grouping columns will be excluded from the operation. Either pass `include_groups=False` to exclude the groupings or explicitly select the grouping columns after groupby to silence this warning.\n",
      "  keywords_grouped = new_keywords_df.groupby('film_id').apply(lambda x: x[['keyword_id', 'keyword']].to_dict('records')).reset_index(name='keywords')\n"
     ]
    },
    {
     "data": {
      "text/plain": "'dataset/tmpMoviesKeywords.csv'"
     },
     "execution_count": 31,
     "metadata": {},
     "output_type": "execute_result"
    }
   ],
   "source": [
    "import pandas as pd\n",
    "\n",
    "# Load the datasets\n",
    "new_keywords_df = pd.read_csv('dataset/newKeywords.csv')\n",
    "tmp_movies_df = pd.read_csv('dataset/tmpMovies.csv')\n",
    "\n",
    "# Aggregate keywords by film_id into a list of dictionaries\n",
    "keywords_grouped = new_keywords_df.groupby('film_id').apply(lambda x: x[['keyword_id', 'keyword']].to_dict('records')).reset_index(name='keywords')\n",
    "\n",
    "# Merge the keywords into the tmpMovies dataset based on film_id\n",
    "tmp_movies_keywords_df = tmp_movies_df.merge(keywords_grouped, left_on='id', right_on='film_id', how='left')\n",
    "\n",
    "# Drop the extra 'film_id' column as it's redundant\n",
    "tmp_movies_keywords_df.drop('film_id', axis=1, inplace=True)\n",
    "\n",
    "# Save the merged dataframe to a new CSV file\n",
    "output_file_path = 'dataset/tmpMoviesKeywords.csv'\n",
    "tmp_movies_keywords_df.to_csv(output_file_path, index=False)\n",
    "\n",
    "output_file_path\n"
   ],
   "metadata": {
    "collapsed": false,
    "ExecuteTime": {
     "end_time": "2024-04-29T08:09:54.605710400Z",
     "start_time": "2024-04-29T08:09:31.126028800Z"
    }
   },
   "id": "b158a030cf74c4b2",
   "execution_count": 31
  },
  {
   "cell_type": "code",
   "outputs": [
    {
     "data": {
      "text/plain": "      id                                               cast  \\\n0    862  [{'cast_id': 14, 'character': 'Woody (voice)',...   \n1   8844  [{'cast_id': 1, 'character': 'Alan Parrish', '...   \n2  31357  [{'cast_id': 1, 'character': \"Savannah 'Vannah...   \n3    949  [{'cast_id': 25, 'character': 'Lt. Vincent Han...   \n4   9091  [{'cast_id': 1, 'character': 'Darren Francis T...   \n\n                                                crew  adult  \\\n0  [{'credit_id': '52fe4284c3a36847f8024f49', 'de...  False   \n1  [{'credit_id': '52fe44bfc3a36847f80a7cd1', 'de...  False   \n2  [{'credit_id': '52fe44779251416c91011acb', 'de...  False   \n3  [{'credit_id': '52fe4292c3a36847f802916d', 'de...  False   \n4  [{'credit_id': '52fe44dbc3a36847f80ae0f1', 'de...  False   \n\n                               belongs_to_collection    budget  \\\n0  {'id': 10194, 'name': 'Toy Story Collection', ...  30000000   \n1                                                NaN  65000000   \n2                                                NaN  16000000   \n3                                                NaN  60000000   \n4                                                NaN  35000000   \n\n                                              genres  \\\n0  [{'id': 16, 'name': 'Animation'}, {'id': 35, '...   \n1  [{'id': 12, 'name': 'Adventure'}, {'id': 14, '...   \n2  [{'id': 35, 'name': 'Comedy'}, {'id': 18, 'nam...   \n3  [{'id': 28, 'name': 'Action'}, {'id': 80, 'nam...   \n4  [{'id': 28, 'name': 'Action'}, {'id': 12, 'nam...   \n\n                               homepage    imdb_id original_language  ...  \\\n0  http://toystory.disney.com/toy-story  tt0114709                en  ...   \n1                                   NaN  tt0113497                en  ...   \n2                                   NaN  tt0114885                en  ...   \n3                                   NaN  tt0113277                en  ...   \n4                                   NaN  tt0114576                en  ...   \n\n       revenue runtime                                   spoken_languages  \\\n0  373554033.0    81.0           [{'iso_639_1': 'en', 'name': 'English'}]   \n1  262797249.0   104.0  [{'iso_639_1': 'en', 'name': 'English'}, {'iso...   \n2   81452156.0   127.0           [{'iso_639_1': 'en', 'name': 'English'}]   \n3  187436818.0   170.0  [{'iso_639_1': 'en', 'name': 'English'}, {'iso...   \n4   64350171.0   106.0           [{'iso_639_1': 'en', 'name': 'English'}]   \n\n     status                                            tagline  \\\n0  Released                                                NaN   \n1  Released          Roll the dice and unleash the excitement!   \n2  Released  Friends are the people who let you be yourself...   \n3  Released                           A Los Angeles Crime Saga   \n4  Released                         Terror goes into overtime.   \n\n               title  video  vote_average  vote_count  \\\n0          Toy Story  False           7.7      5415.0   \n1            Jumanji  False           6.9      2413.0   \n2  Waiting to Exhale  False           6.1        34.0   \n3               Heat  False           7.7      1886.0   \n4       Sudden Death  False           5.5       174.0   \n\n                                            keywords  \n0  [{'keyword_id': 931, 'keyword': 'jealousy'}, {...  \n1  [{'keyword_id': 10090, 'keyword': 'board game'...  \n2  [{'keyword_id': 818, 'keyword': 'based on nove...  \n3  [{'keyword_id': 642, 'keyword': 'robbery'}, {'...  \n4  [{'keyword_id': 949, 'keyword': 'terrorist'}, ...  \n\n[5 rows x 27 columns]",
      "text/html": "<div>\n<style scoped>\n    .dataframe tbody tr th:only-of-type {\n        vertical-align: middle;\n    }\n\n    .dataframe tbody tr th {\n        vertical-align: top;\n    }\n\n    .dataframe thead th {\n        text-align: right;\n    }\n</style>\n<table border=\"1\" class=\"dataframe\">\n  <thead>\n    <tr style=\"text-align: right;\">\n      <th></th>\n      <th>id</th>\n      <th>cast</th>\n      <th>crew</th>\n      <th>adult</th>\n      <th>belongs_to_collection</th>\n      <th>budget</th>\n      <th>genres</th>\n      <th>homepage</th>\n      <th>imdb_id</th>\n      <th>original_language</th>\n      <th>...</th>\n      <th>revenue</th>\n      <th>runtime</th>\n      <th>spoken_languages</th>\n      <th>status</th>\n      <th>tagline</th>\n      <th>title</th>\n      <th>video</th>\n      <th>vote_average</th>\n      <th>vote_count</th>\n      <th>keywords</th>\n    </tr>\n  </thead>\n  <tbody>\n    <tr>\n      <th>0</th>\n      <td>862</td>\n      <td>[{'cast_id': 14, 'character': 'Woody (voice)',...</td>\n      <td>[{'credit_id': '52fe4284c3a36847f8024f49', 'de...</td>\n      <td>False</td>\n      <td>{'id': 10194, 'name': 'Toy Story Collection', ...</td>\n      <td>30000000</td>\n      <td>[{'id': 16, 'name': 'Animation'}, {'id': 35, '...</td>\n      <td>http://toystory.disney.com/toy-story</td>\n      <td>tt0114709</td>\n      <td>en</td>\n      <td>...</td>\n      <td>373554033.0</td>\n      <td>81.0</td>\n      <td>[{'iso_639_1': 'en', 'name': 'English'}]</td>\n      <td>Released</td>\n      <td>NaN</td>\n      <td>Toy Story</td>\n      <td>False</td>\n      <td>7.7</td>\n      <td>5415.0</td>\n      <td>[{'keyword_id': 931, 'keyword': 'jealousy'}, {...</td>\n    </tr>\n    <tr>\n      <th>1</th>\n      <td>8844</td>\n      <td>[{'cast_id': 1, 'character': 'Alan Parrish', '...</td>\n      <td>[{'credit_id': '52fe44bfc3a36847f80a7cd1', 'de...</td>\n      <td>False</td>\n      <td>NaN</td>\n      <td>65000000</td>\n      <td>[{'id': 12, 'name': 'Adventure'}, {'id': 14, '...</td>\n      <td>NaN</td>\n      <td>tt0113497</td>\n      <td>en</td>\n      <td>...</td>\n      <td>262797249.0</td>\n      <td>104.0</td>\n      <td>[{'iso_639_1': 'en', 'name': 'English'}, {'iso...</td>\n      <td>Released</td>\n      <td>Roll the dice and unleash the excitement!</td>\n      <td>Jumanji</td>\n      <td>False</td>\n      <td>6.9</td>\n      <td>2413.0</td>\n      <td>[{'keyword_id': 10090, 'keyword': 'board game'...</td>\n    </tr>\n    <tr>\n      <th>2</th>\n      <td>31357</td>\n      <td>[{'cast_id': 1, 'character': \"Savannah 'Vannah...</td>\n      <td>[{'credit_id': '52fe44779251416c91011acb', 'de...</td>\n      <td>False</td>\n      <td>NaN</td>\n      <td>16000000</td>\n      <td>[{'id': 35, 'name': 'Comedy'}, {'id': 18, 'nam...</td>\n      <td>NaN</td>\n      <td>tt0114885</td>\n      <td>en</td>\n      <td>...</td>\n      <td>81452156.0</td>\n      <td>127.0</td>\n      <td>[{'iso_639_1': 'en', 'name': 'English'}]</td>\n      <td>Released</td>\n      <td>Friends are the people who let you be yourself...</td>\n      <td>Waiting to Exhale</td>\n      <td>False</td>\n      <td>6.1</td>\n      <td>34.0</td>\n      <td>[{'keyword_id': 818, 'keyword': 'based on nove...</td>\n    </tr>\n    <tr>\n      <th>3</th>\n      <td>949</td>\n      <td>[{'cast_id': 25, 'character': 'Lt. Vincent Han...</td>\n      <td>[{'credit_id': '52fe4292c3a36847f802916d', 'de...</td>\n      <td>False</td>\n      <td>NaN</td>\n      <td>60000000</td>\n      <td>[{'id': 28, 'name': 'Action'}, {'id': 80, 'nam...</td>\n      <td>NaN</td>\n      <td>tt0113277</td>\n      <td>en</td>\n      <td>...</td>\n      <td>187436818.0</td>\n      <td>170.0</td>\n      <td>[{'iso_639_1': 'en', 'name': 'English'}, {'iso...</td>\n      <td>Released</td>\n      <td>A Los Angeles Crime Saga</td>\n      <td>Heat</td>\n      <td>False</td>\n      <td>7.7</td>\n      <td>1886.0</td>\n      <td>[{'keyword_id': 642, 'keyword': 'robbery'}, {'...</td>\n    </tr>\n    <tr>\n      <th>4</th>\n      <td>9091</td>\n      <td>[{'cast_id': 1, 'character': 'Darren Francis T...</td>\n      <td>[{'credit_id': '52fe44dbc3a36847f80ae0f1', 'de...</td>\n      <td>False</td>\n      <td>NaN</td>\n      <td>35000000</td>\n      <td>[{'id': 28, 'name': 'Action'}, {'id': 12, 'nam...</td>\n      <td>NaN</td>\n      <td>tt0114576</td>\n      <td>en</td>\n      <td>...</td>\n      <td>64350171.0</td>\n      <td>106.0</td>\n      <td>[{'iso_639_1': 'en', 'name': 'English'}]</td>\n      <td>Released</td>\n      <td>Terror goes into overtime.</td>\n      <td>Sudden Death</td>\n      <td>False</td>\n      <td>5.5</td>\n      <td>174.0</td>\n      <td>[{'keyword_id': 949, 'keyword': 'terrorist'}, ...</td>\n    </tr>\n  </tbody>\n</table>\n<p>5 rows × 27 columns</p>\n</div>"
     },
     "execution_count": 32,
     "metadata": {},
     "output_type": "execute_result"
    }
   ],
   "source": [
    "import pandas as pd\n",
    "\n",
    "# Carica i dataset tmpMoviesKeywords e credits\n",
    "tmp_movies_keywords = pd.read_csv('dataset/tmpMoviesKeywords.csv')\n",
    "credits = pd.read_csv('dataset/credits.csv')\n",
    "\n",
    "# Unisci i due dataframe basandoti sull'ID del film\n",
    "tmp_movies_keywords_credits = pd.merge(tmp_movies_keywords, credits, on='id', how='left')\n",
    "\n",
    "# Seleziona e rinomina le colonne di interesse\n",
    "tmp_movies_keywords_credits = tmp_movies_keywords_credits[['id', 'cast', 'crew'] + [col for col in tmp_movies_keywords.columns if col != 'id']]\n",
    "\n",
    "# Salva il nuovo dataframe in un file CSV\n",
    "tmp_movies_keywords_credits.to_csv('dataset/tmpMoviesKeywordsCredits.csv', index=False)\n",
    "tmp_movies_keywords_credits.head()\n"
   ],
   "metadata": {
    "collapsed": false,
    "ExecuteTime": {
     "end_time": "2024-04-29T08:31:54.740045500Z",
     "start_time": "2024-04-29T08:31:51.441173200Z"
    }
   },
   "id": "b74c7dab3eb2ad45",
   "execution_count": 32
  },
  {
   "cell_type": "code",
   "outputs": [
    {
     "data": {
      "text/plain": "   film_id     original_title release_date  \\\n0      862          Toy Story   1995-10-30   \n1     8844            Jumanji   1995-12-15   \n2    31357  Waiting to Exhale   1995-12-22   \n3      949               Heat   1995-12-15   \n4     9091       Sudden Death   1995-12-22   \n\n                                             tagline  \\\n0                                                NaN   \n1          Roll the dice and unleash the excitement!   \n2  Friends are the people who let you be yourself...   \n3                           A Los Angeles Crime Saga   \n4                         Terror goes into overtime.   \n\n                                            overview  \\\n0  Led by Woody, Andy's toys live happily in his ...   \n1  When siblings Judy and Peter discover an encha...   \n2  Cheated on, mistreated and stepped on, the wom...   \n3  Obsessive master thief, Neil McCauley leads a ...   \n4  International action superstar Jean Claude Van...   \n\n                                            keywords  \\\n0  [{'keyword_id': 931, 'keyword': 'jealousy'}, {...   \n1  [{'keyword_id': 10090, 'keyword': 'board game'...   \n2  [{'keyword_id': 818, 'keyword': 'based on nove...   \n3  [{'keyword_id': 642, 'keyword': 'robbery'}, {'...   \n4  [{'keyword_id': 949, 'keyword': 'terrorist'}, ...   \n\n                                              genres  \\\n0  [{'id': 16, 'name': 'Animation'}, {'id': 35, '...   \n1  [{'id': 12, 'name': 'Adventure'}, {'id': 14, '...   \n2  [{'id': 35, 'name': 'Comedy'}, {'id': 18, 'nam...   \n3  [{'id': 28, 'name': 'Action'}, {'id': 80, 'nam...   \n4  [{'id': 28, 'name': 'Action'}, {'id': 12, 'nam...   \n\n                               belongs_to_collection original_language  \\\n0  {'id': 10194, 'name': 'Toy Story Collection', ...                en   \n1                                                NaN                en   \n2                                                NaN                en   \n3                                                NaN                en   \n4                                                NaN                en   \n\n                                    spoken_languages  ...  \\\n0           [{'iso_639_1': 'en', 'name': 'English'}]  ...   \n1  [{'iso_639_1': 'en', 'name': 'English'}, {'iso...  ...   \n2           [{'iso_639_1': 'en', 'name': 'English'}]  ...   \n3  [{'iso_639_1': 'en', 'name': 'English'}, {'iso...  ...   \n4           [{'iso_639_1': 'en', 'name': 'English'}]  ...   \n\n                                production_companies  \\\n0     [{'name': 'Pixar Animation Studios', 'id': 3}]   \n1  [{'name': 'TriStar Pictures', 'id': 559}, {'na...   \n2  [{'name': 'Twentieth Century Fox Film Corporat...   \n3  [{'name': 'Regency Enterprises', 'id': 508}, {...   \n4  [{'name': 'Universal Pictures', 'id': 33}, {'n...   \n\n                                production_countries    budget      revenue  \\\n0  [{'iso_3166_1': 'US', 'name': 'United States o...  30000000  373554033.0   \n1  [{'iso_3166_1': 'US', 'name': 'United States o...  65000000  262797249.0   \n2  [{'iso_3166_1': 'US', 'name': 'United States o...  16000000   81452156.0   \n3  [{'iso_3166_1': 'US', 'name': 'United States o...  60000000  187436818.0   \n4  [{'iso_3166_1': 'US', 'name': 'United States o...  35000000   64350171.0   \n\n   runtime  popularity    status    imdb_id vote_average vote_count  \n0     81.0   21.946943  Released  tt0114709          7.7     5415.0  \n1    104.0   17.015539  Released  tt0113497          6.9     2413.0  \n2    127.0    3.859495  Released  tt0114885          6.1       34.0  \n3    170.0   17.924927  Released  tt0113277          7.7     1886.0  \n4    106.0    5.231580  Released  tt0114576          5.5      174.0  \n\n[5 rows x 22 columns]",
      "text/html": "<div>\n<style scoped>\n    .dataframe tbody tr th:only-of-type {\n        vertical-align: middle;\n    }\n\n    .dataframe tbody tr th {\n        vertical-align: top;\n    }\n\n    .dataframe thead th {\n        text-align: right;\n    }\n</style>\n<table border=\"1\" class=\"dataframe\">\n  <thead>\n    <tr style=\"text-align: right;\">\n      <th></th>\n      <th>film_id</th>\n      <th>original_title</th>\n      <th>release_date</th>\n      <th>tagline</th>\n      <th>overview</th>\n      <th>keywords</th>\n      <th>genres</th>\n      <th>belongs_to_collection</th>\n      <th>original_language</th>\n      <th>spoken_languages</th>\n      <th>...</th>\n      <th>production_companies</th>\n      <th>production_countries</th>\n      <th>budget</th>\n      <th>revenue</th>\n      <th>runtime</th>\n      <th>popularity</th>\n      <th>status</th>\n      <th>imdb_id</th>\n      <th>vote_average</th>\n      <th>vote_count</th>\n    </tr>\n  </thead>\n  <tbody>\n    <tr>\n      <th>0</th>\n      <td>862</td>\n      <td>Toy Story</td>\n      <td>1995-10-30</td>\n      <td>NaN</td>\n      <td>Led by Woody, Andy's toys live happily in his ...</td>\n      <td>[{'keyword_id': 931, 'keyword': 'jealousy'}, {...</td>\n      <td>[{'id': 16, 'name': 'Animation'}, {'id': 35, '...</td>\n      <td>{'id': 10194, 'name': 'Toy Story Collection', ...</td>\n      <td>en</td>\n      <td>[{'iso_639_1': 'en', 'name': 'English'}]</td>\n      <td>...</td>\n      <td>[{'name': 'Pixar Animation Studios', 'id': 3}]</td>\n      <td>[{'iso_3166_1': 'US', 'name': 'United States o...</td>\n      <td>30000000</td>\n      <td>373554033.0</td>\n      <td>81.0</td>\n      <td>21.946943</td>\n      <td>Released</td>\n      <td>tt0114709</td>\n      <td>7.7</td>\n      <td>5415.0</td>\n    </tr>\n    <tr>\n      <th>1</th>\n      <td>8844</td>\n      <td>Jumanji</td>\n      <td>1995-12-15</td>\n      <td>Roll the dice and unleash the excitement!</td>\n      <td>When siblings Judy and Peter discover an encha...</td>\n      <td>[{'keyword_id': 10090, 'keyword': 'board game'...</td>\n      <td>[{'id': 12, 'name': 'Adventure'}, {'id': 14, '...</td>\n      <td>NaN</td>\n      <td>en</td>\n      <td>[{'iso_639_1': 'en', 'name': 'English'}, {'iso...</td>\n      <td>...</td>\n      <td>[{'name': 'TriStar Pictures', 'id': 559}, {'na...</td>\n      <td>[{'iso_3166_1': 'US', 'name': 'United States o...</td>\n      <td>65000000</td>\n      <td>262797249.0</td>\n      <td>104.0</td>\n      <td>17.015539</td>\n      <td>Released</td>\n      <td>tt0113497</td>\n      <td>6.9</td>\n      <td>2413.0</td>\n    </tr>\n    <tr>\n      <th>2</th>\n      <td>31357</td>\n      <td>Waiting to Exhale</td>\n      <td>1995-12-22</td>\n      <td>Friends are the people who let you be yourself...</td>\n      <td>Cheated on, mistreated and stepped on, the wom...</td>\n      <td>[{'keyword_id': 818, 'keyword': 'based on nove...</td>\n      <td>[{'id': 35, 'name': 'Comedy'}, {'id': 18, 'nam...</td>\n      <td>NaN</td>\n      <td>en</td>\n      <td>[{'iso_639_1': 'en', 'name': 'English'}]</td>\n      <td>...</td>\n      <td>[{'name': 'Twentieth Century Fox Film Corporat...</td>\n      <td>[{'iso_3166_1': 'US', 'name': 'United States o...</td>\n      <td>16000000</td>\n      <td>81452156.0</td>\n      <td>127.0</td>\n      <td>3.859495</td>\n      <td>Released</td>\n      <td>tt0114885</td>\n      <td>6.1</td>\n      <td>34.0</td>\n    </tr>\n    <tr>\n      <th>3</th>\n      <td>949</td>\n      <td>Heat</td>\n      <td>1995-12-15</td>\n      <td>A Los Angeles Crime Saga</td>\n      <td>Obsessive master thief, Neil McCauley leads a ...</td>\n      <td>[{'keyword_id': 642, 'keyword': 'robbery'}, {'...</td>\n      <td>[{'id': 28, 'name': 'Action'}, {'id': 80, 'nam...</td>\n      <td>NaN</td>\n      <td>en</td>\n      <td>[{'iso_639_1': 'en', 'name': 'English'}, {'iso...</td>\n      <td>...</td>\n      <td>[{'name': 'Regency Enterprises', 'id': 508}, {...</td>\n      <td>[{'iso_3166_1': 'US', 'name': 'United States o...</td>\n      <td>60000000</td>\n      <td>187436818.0</td>\n      <td>170.0</td>\n      <td>17.924927</td>\n      <td>Released</td>\n      <td>tt0113277</td>\n      <td>7.7</td>\n      <td>1886.0</td>\n    </tr>\n    <tr>\n      <th>4</th>\n      <td>9091</td>\n      <td>Sudden Death</td>\n      <td>1995-12-22</td>\n      <td>Terror goes into overtime.</td>\n      <td>International action superstar Jean Claude Van...</td>\n      <td>[{'keyword_id': 949, 'keyword': 'terrorist'}, ...</td>\n      <td>[{'id': 28, 'name': 'Action'}, {'id': 12, 'nam...</td>\n      <td>NaN</td>\n      <td>en</td>\n      <td>[{'iso_639_1': 'en', 'name': 'English'}]</td>\n      <td>...</td>\n      <td>[{'name': 'Universal Pictures', 'id': 33}, {'n...</td>\n      <td>[{'iso_3166_1': 'US', 'name': 'United States o...</td>\n      <td>35000000</td>\n      <td>64350171.0</td>\n      <td>106.0</td>\n      <td>5.231580</td>\n      <td>Released</td>\n      <td>tt0114576</td>\n      <td>5.5</td>\n      <td>174.0</td>\n    </tr>\n  </tbody>\n</table>\n<p>5 rows × 22 columns</p>\n</div>"
     },
     "execution_count": 37,
     "metadata": {},
     "output_type": "execute_result"
    }
   ],
   "source": [
    "import pandas as pd\n",
    "\n",
    "# Carica il dataset tmpMoviesKeywordsCredits\n",
    "full_dataset = pd.read_csv('dataset/tmpMoviesKeywordsCredits.csv')\n",
    "\n",
    "# Rinomina la colonna 'id' in 'film_id'\n",
    "full_dataset.rename(columns={'id': 'film_id'}, inplace=True)\n",
    "\n",
    "# Definisci le colonne che vuoi mantenere e il loro ordine\n",
    "desired_columns = [\n",
    "    'film_id', 'original_title', 'release_date', 'tagline', 'overview',\n",
    "    'keywords', 'genres', 'belongs_to_collection', 'original_language', 'spoken_languages',\n",
    "    'cast', 'crew', 'production_companies', 'production_countries', 'budget',\n",
    "    'revenue', 'runtime', 'popularity', 'status', 'imdb_id', 'vote_average', 'vote_count'\n",
    "]\n",
    "\n",
    "# Filtra il dataframe per mantenere solo le colonne desiderate\n",
    "full_dataset = full_dataset[desired_columns]\n",
    "\n",
    "# Salva il nuovo dataframe in un file CSV\n",
    "full_dataset.to_csv('dataset/full_dataset.csv', index=False)\n",
    "\n",
    "# Mostra le prime righe del dataframe per confermare la correttezza della formattazione\n",
    "full_dataset.head()\n"
   ],
   "metadata": {
    "collapsed": false,
    "ExecuteTime": {
     "end_time": "2024-04-29T09:04:04.086714400Z",
     "start_time": "2024-04-29T09:04:02.694530400Z"
    }
   },
   "id": "35ad1170096257e9",
   "execution_count": 37
  }
 ],
 "metadata": {
  "kernelspec": {
   "display_name": "Python 3",
   "language": "python",
   "name": "python3"
  },
  "language_info": {
   "codemirror_mode": {
    "name": "ipython",
    "version": 2
   },
   "file_extension": ".py",
   "mimetype": "text/x-python",
   "name": "python",
   "nbconvert_exporter": "python",
   "pygments_lexer": "ipython2",
   "version": "2.7.6"
  }
 },
 "nbformat": 4,
 "nbformat_minor": 5
}
