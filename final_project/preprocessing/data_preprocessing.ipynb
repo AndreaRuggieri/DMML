{
 "cells": [
  {
   "cell_type": "code",
   "execution_count": 199,
   "id": "initial_id",
   "metadata": {
    "collapsed": true,
    "ExecuteTime": {
     "end_time": "2024-05-31T11:30:19.421778900Z",
     "start_time": "2024-05-31T11:30:18.228492900Z"
    }
   },
   "outputs": [],
   "source": [
    "import pandas as pd\n",
    "import numpy as np\n",
    "import matplotlib.pyplot as plt"
   ]
  },
  {
   "cell_type": "code",
   "outputs": [],
   "source": [
    "df = pd.read_csv('../dataset/raw_dataset.csv')"
   ],
   "metadata": {
    "collapsed": false,
    "ExecuteTime": {
     "end_time": "2024-05-31T11:30:20.624123700Z",
     "start_time": "2024-05-31T11:30:18.251481900Z"
    }
   },
   "id": "f5e9fcfc8372d18a",
   "execution_count": 200
  },
  {
   "cell_type": "code",
   "outputs": [
    {
     "name": "stdout",
     "output_type": "stream",
     "text": [
      "Categorical DataFrame:\n",
      "                 genre country language  \\\n",
      "0         Crime, Drama     USA  English   \n",
      "1                Drama     USA  English   \n",
      "2  Drama, History, War     USA  English   \n",
      "3                Drama     USA  English   \n",
      "4     Adventure, Crime  France   French   \n",
      "\n",
      "                                 production_company date_published  \n",
      "0  Independent Moving Pictures Co. of America (IMP)     1913-11-24  \n",
      "1               Jesse L. Lasky Feature Play Company     1915-10-31  \n",
      "2                                  Kay-Bee Pictures     1915-11-14  \n",
      "3                            Fine Arts Film Company     1916-04-30  \n",
      "4             Société des Etablissements L. Gaumont     1917-01-19  \n",
      "\n",
      "Numerical DataFrame:\n",
      "   duration  avg_vote  votes  revenue_with_CPI  converted_budget  \\\n",
      "0      88.0       6.1  527.0        55484317.0          175700.3   \n",
      "1      59.0       6.4  859.0       331523495.5         3013850.0   \n",
      "2      77.0       6.1  218.0         4139975.0          521727.6   \n",
      "3      50.0       4.6  554.0       223938744.3         5598468.6   \n",
      "4     300.0       7.4  814.0        48986600.3        10802441.1   \n",
      "\n",
      "   dir_oscar_nomination  dir_oscar_won  writer_oscar_nomination  \\\n",
      "0                     0              0                        0   \n",
      "1                     0              0                        0   \n",
      "2                     0              0                        0   \n",
      "3                     0              0                        0   \n",
      "4                     0              0                        0   \n",
      "\n",
      "   writer_oscar_won  cast_oscar_nomination  ...  BAFTA_dir_nom  BAFTA_dir_won  \\\n",
      "0                 0                      0  ...              0              0   \n",
      "1                 0                      0  ...              0              0   \n",
      "2                 0                      0  ...              0              0   \n",
      "3                 0                      0  ...              0              0   \n",
      "4                 0                      0  ...              0              0   \n",
      "\n",
      "   BAFTA_writer_nom  BAFTA_writer_won  dir_emmy_nom  dir_emmy_won  \\\n",
      "0                 0                 0             0             0   \n",
      "1                 0                 0             0             0   \n",
      "2                 0                 0             0             0   \n",
      "3                 0                 0             0             0   \n",
      "4                 0                 0             0             0   \n",
      "\n",
      "   writer_emmy_won  writer_emmy_nom  act_emmy_nom  act_emmy_won  \n",
      "0                0                0             0             0  \n",
      "1                0                0             0             0  \n",
      "2                0                0             0             0  \n",
      "3                0                0             0             0  \n",
      "4                0                0             0             0  \n",
      "\n",
      "[5 rows x 27 columns]\n"
     ]
    }
   ],
   "source": [
    "# Categorical columns\n",
    "categorical_columns = [\n",
    "    'genre', 'country', 'language', 'production_company', 'date_published'\n",
    "]\n",
    "\n",
    "# Numerical columns\n",
    "numerical_columns = [\n",
    "     'duration', 'avg_vote', 'votes', 'revenue_with_CPI', 'converted_budget', \n",
    "    'dir_oscar_nomination', 'dir_oscar_won', 'writer_oscar_nomination', 'writer_oscar_won', \n",
    "    'cast_oscar_nomination', 'cast_oscar_won', 'dir_globe_nomination', 'dir_globe_won', 'cast_globe_nomination', \n",
    "   'cast_globe_won','BAFTA_act_nom','BAFTA_act_won','BAFTA_dir_nom','BAFTA_dir_won',\n",
    "    'BAFTA_writer_nom','BAFTA_writer_won', 'dir_emmy_nom','dir_emmy_won','writer_emmy_won',\n",
    "    'writer_emmy_nom','act_emmy_nom','act_emmy_won'\n",
    "    #'actors_films_before', 'director_films_before', 'writers_films_before'\n",
    "]\n",
    "\n",
    "\n",
    "categorical_df = df[categorical_columns]\n",
    "numerical_df = df[numerical_columns]\n",
    "\n",
    "df=df[numerical_columns+categorical_columns]\n",
    "print(\"Categorical DataFrame:\")\n",
    "print(categorical_df.head())\n",
    "\n",
    "print(\"\\nNumerical DataFrame:\")\n",
    "print(numerical_df.head())\n"
   ],
   "metadata": {
    "collapsed": false,
    "ExecuteTime": {
     "end_time": "2024-05-31T11:30:20.625123600Z",
     "start_time": "2024-05-31T11:30:18.914785Z"
    }
   },
   "id": "2dd0c9dd8a3fa907",
   "execution_count": 201
  },
  {
   "cell_type": "code",
   "outputs": [
    {
     "data": {
      "text/plain": "duration                     0\navg_vote                     0\nvotes                        0\nrevenue_with_CPI             0\nconverted_budget           119\ndir_oscar_nomination         0\ndir_oscar_won                0\nwriter_oscar_nomination      0\nwriter_oscar_won             0\ncast_oscar_nomination        0\ncast_oscar_won               0\ndir_globe_nomination         0\ndir_globe_won                0\ncast_globe_nomination        0\ncast_globe_won               0\nBAFTA_act_nom                0\nBAFTA_act_won                0\nBAFTA_dir_nom                0\nBAFTA_dir_won                0\nBAFTA_writer_nom             0\nBAFTA_writer_won             0\ndir_emmy_nom                 0\ndir_emmy_won                 0\nwriter_emmy_won              0\nwriter_emmy_nom              0\nact_emmy_nom                 0\nact_emmy_won                 0\ngenre                        0\ncountry                      5\nlanguage                   106\nproduction_company         629\ndate_published               0\ndtype: int64"
     },
     "execution_count": 202,
     "metadata": {},
     "output_type": "execute_result"
    }
   ],
   "source": [
    "df.isna().sum(axis=0)"
   ],
   "metadata": {
    "collapsed": false,
    "ExecuteTime": {
     "end_time": "2024-05-31T11:30:20.628128100Z",
     "start_time": "2024-05-31T11:30:18.991780500Z"
    }
   },
   "id": "30e2247cfb5ce1a6",
   "execution_count": 202
  },
  {
   "cell_type": "markdown",
   "source": [
    "# Budget\n",
    "Remove rows with missing values: budget"
   ],
   "metadata": {
    "collapsed": false
   },
   "id": "d9d6b9fef008914"
  },
  {
   "cell_type": "code",
   "outputs": [
    {
     "name": "stdout",
     "output_type": "stream",
     "text": [
      "(20825, 32)\n",
      "(20706, 32)\n",
      "Percentage of lost tuples:  0.5714285714285672\n"
     ]
    }
   ],
   "source": [
    "df_cleaned = df.dropna(subset=['converted_budget'])\n",
    "print(df.shape)\n",
    "print(df_cleaned.shape)\n",
    "print(f'Percentage of lost tuples: ', (1- len(df_cleaned)/len(df))*100)"
   ],
   "metadata": {
    "collapsed": false,
    "ExecuteTime": {
     "end_time": "2024-05-31T11:30:20.662127300Z",
     "start_time": "2024-05-31T11:30:19.034779800Z"
    }
   },
   "id": "6b2ce9bbed4c1397",
   "execution_count": 203
  },
  {
   "cell_type": "markdown",
   "source": [
    "# Country and Language\n",
    "1. Remove rows w/o both country and language\n",
    "2. Handling language single value"
   ],
   "metadata": {
    "collapsed": false
   },
   "id": "9095ad528e86405e"
  },
  {
   "cell_type": "markdown",
   "source": [
    "1. Remove rows w/o both country and language"
   ],
   "metadata": {
    "collapsed": false
   },
   "id": "2336745e6339d534"
  },
  {
   "cell_type": "code",
   "outputs": [],
   "source": [
    "df_cleaned = df_cleaned.dropna(subset=['country', 'language'], how='all')"
   ],
   "metadata": {
    "collapsed": false,
    "ExecuteTime": {
     "end_time": "2024-05-31T11:30:20.663127600Z",
     "start_time": "2024-05-31T11:30:19.063780900Z"
    }
   },
   "id": "fbc2e686213b716",
   "execution_count": 204
  },
  {
   "cell_type": "markdown",
   "source": [
    "2. Handling language single value"
   ],
   "metadata": {
    "collapsed": false
   },
   "id": "69619c2bd12d0c14"
  },
  {
   "cell_type": "code",
   "outputs": [],
   "source": [
    "#only first value of column\n",
    "# e.g. Life is beautiful: italian, deutch, francois -> italian\n",
    "df_cleaned['language'] = df_cleaned['language'].str.split(', ').str[0]\n",
    "df_cleaned['country'] = df_cleaned['country'].str.split(', ').str[0]"
   ],
   "metadata": {
    "collapsed": false,
    "ExecuteTime": {
     "end_time": "2024-05-31T11:30:20.893127400Z",
     "start_time": "2024-05-31T11:30:19.085778100Z"
    }
   },
   "id": "4f0207484aa91f2c",
   "execution_count": 205
  },
  {
   "cell_type": "markdown",
   "source": [
    "Distribution of language values mantaining only top ones"
   ],
   "metadata": {
    "collapsed": false
   },
   "id": "3781ab4dc469a661"
  },
  {
   "cell_type": "code",
   "outputs": [
    {
     "data": {
      "text/plain": "<Figure size 1000x600 with 1 Axes>",
      "image/png": "[encoded data removed]"
     },
     "metadata": {},
     "output_type": "display_data"
    },
    {
     "data": {
      "text/plain": "<Figure size 1000x600 with 1 Axes>",
      "image/png": "[encoded data removed]"
     },
     "metadata": {},
     "output_type": "display_data"
    }
   ],
   "source": [
    "top_country_values = df_cleaned['country'].value_counts().head(15)\n",
    "top_language_values = df_cleaned['language'].value_counts().head(15)\n",
    "#Gr 1\n",
    "plt.figure(figsize=(10, 6))\n",
    "top_country_values.plot(kind='bar')\n",
    "plt.title('Distribution of Country values (Top 15)')\n",
    "plt.xlabel('Country')\n",
    "plt.ylabel('Freq')\n",
    "plt.show()\n",
    "# Gr2\n",
    "plt.figure(figsize=(10, 6))\n",
    "top_language_values.plot(kind='bar')\n",
    "plt.title('Distribution of Language values (Top 15)')\n",
    "plt.xlabel('Language')\n",
    "plt.ylabel('Freq')\n",
    "plt.show()"
   ],
   "metadata": {
    "collapsed": false,
    "ExecuteTime": {
     "end_time": "2024-05-31T11:30:22.356849800Z",
     "start_time": "2024-05-31T11:30:20.645128900Z"
    }
   },
   "id": "7fd5ecccf0c9c68",
   "execution_count": 206
  },
  {
   "cell_type": "code",
   "outputs": [
    {
     "name": "stdout",
     "output_type": "stream",
     "text": [
      "Rows w/o language in top 15: 2489\n",
      "Rows w/o country in top 15: 3718\n"
     ]
    }
   ],
   "source": [
    "# most freq values 15\n",
    "other_languages = df_cleaned['language'][~df_cleaned['language'].isin(top_language_values.index)]\n",
    "num_other_languages = len(other_languages)\n",
    "print(\"Rows w/o language in top 15:\", num_other_languages)\n",
    "\n",
    "other_countries = df_cleaned['country'][~df_cleaned['country'].isin(top_country_values.index)]\n",
    "num_other_countries = len(other_countries)\n",
    "print(\"Rows w/o country in top 15:\", num_other_countries)\n"
   ],
   "metadata": {
    "collapsed": false,
    "ExecuteTime": {
     "end_time": "2024-05-31T11:30:22.361845200Z",
     "start_time": "2024-05-31T11:30:22.352851400Z"
    }
   },
   "id": "a006415206724c1e",
   "execution_count": 207
  },
  {
   "cell_type": "code",
   "outputs": [],
   "source": [
    "#count values\n",
    "language_counts = df_cleaned['language'].value_counts()\n",
    "country_counts = df_cleaned['country'].value_counts()\n",
    "\n",
    "top_languages = language_counts.head(15).index\n",
    "top_countries = country_counts.head(15).index\n",
    "\n",
    "df_cleaned.loc[~df_cleaned['language'].isin(top_languages), 'language'] = 'Other'\n",
    "df_cleaned.loc[~df_cleaned['country'].isin(top_countries), 'country'] = 'Other'"
   ],
   "metadata": {
    "collapsed": false,
    "ExecuteTime": {
     "end_time": "2024-05-31T11:30:22.361845200Z",
     "start_time": "2024-05-31T11:30:22.352851400Z"
    }
   },
   "id": "aa516c287bd14db6",
   "execution_count": 208
  },
  {
   "cell_type": "code",
   "outputs": [
    {
     "data": {
      "text/plain": "<Figure size 1000x600 with 1 Axes>",
      "image/png": "[encoded data removed]"
     },
     "metadata": {},
     "output_type": "display_data"
    },
    {
     "data": {
      "text/plain": "<Figure size 1000x600 with 1 Axes>",
      "image/png": "[encoded data removed]"
     },
     "metadata": {},
     "output_type": "display_data"
    }
   ],
   "source": [
    "# Gr1\n",
    "plt.figure(figsize=(10, 6))\n",
    "df_cleaned['country'].value_counts().plot(kind='bar')\n",
    "plt.title('Distribution of Country values (Top 15)')\n",
    "plt.xlabel('Country')\n",
    "plt.ylabel('Freq')\n",
    "plt.show()\n",
    "# Gr2\n",
    "plt.figure(figsize=(10, 6))\n",
    "df_cleaned['language'].value_counts().plot(kind='bar')\n",
    "plt.title('Distribution of Language values (Top 15)')\n",
    "plt.xlabel('Language')\n",
    "plt.ylabel('Freq')\n",
    "plt.show()"
   ],
   "metadata": {
    "collapsed": false,
    "ExecuteTime": {
     "end_time": "2024-05-31T11:30:24.201500900Z",
     "start_time": "2024-05-31T11:30:22.384853200Z"
    }
   },
   "id": "5577df8bc7957e02",
   "execution_count": 209
  },
  {
   "cell_type": "markdown",
   "source": [
    "# Drop useless column "
   ],
   "metadata": {
    "collapsed": false
   },
   "id": "79ca32e69e395c0c"
  },
  {
   "cell_type": "code",
   "execution_count": 210,
   "outputs": [],
   "source": [
    "df_cleaned.drop('country', axis=1, inplace=True)"
   ],
   "metadata": {
    "collapsed": false,
    "ExecuteTime": {
     "end_time": "2024-05-31T11:30:24.345478600Z",
     "start_time": "2024-05-31T11:30:24.191484500Z"
    }
   },
   "id": "81cff0d2dd082d4b"
  },
  {
   "cell_type": "markdown",
   "source": [
    "# Production Company"
   ],
   "metadata": {
    "collapsed": false
   },
   "id": "2725942a7bcf57d7"
  },
  {
   "cell_type": "code",
   "outputs": [],
   "source": [
    "production_counts = df_cleaned['production_company'].value_counts()\n",
    "\n",
    "# txt append file 4 exploring\n",
    "with open('production_company_counts.txt', 'w') as file:\n",
    "    for company, count in production_counts.items():\n",
    "        file.write(f'{company}: {count}\\n')"
   ],
   "metadata": {
    "collapsed": false,
    "ExecuteTime": {
     "end_time": "2024-05-31T11:30:24.346478500Z",
     "start_time": "2024-05-31T11:30:24.231483900Z"
    }
   },
   "id": "17917972cf511ac",
   "execution_count": 211
  },
  {
   "cell_type": "markdown",
   "source": [
    "_Universal_"
   ],
   "metadata": {
    "collapsed": false
   },
   "id": "7ba8bcd933a3727f"
  },
  {
   "cell_type": "code",
   "outputs": [
    {
     "data": {
      "text/plain": "'universal_count = (df_cleaned[\\'production_company\\'] == \\'Universal\\').sum()\\nprint(f\"\\'Universal\\': {universal_count}\")'"
     },
     "execution_count": 212,
     "metadata": {},
     "output_type": "execute_result"
    }
   ],
   "source": [
    "keywords = ['universal', 'amblin', 'dreamworks', ' universal', ' amblin', ' Dreamworks', 'universal ', 'amblin ', ' Dreamworks ', ' universal ', ' amblin ', ' dreamworks ']\n",
    "exact_matches = [\n",
    "    'Focus Films', 'Focus Features', 'Illumination Entertainment',\n",
    "    'Illuminations Films', 'Universal International Pictures (UI)', 'Big Idea',\n",
    "    'Bullwinkle Studios', 'DreamWorks', 'DreamWorks Animation',\n",
    "    'Carnival Film & Television', 'Polygram Filmed Entertainment',\n",
    "    'PolyGram Filmed Entertainment', 'Polygram Pictures', 'PolyGram Film Productions BV',\n",
    "    ' Focus Films', ' Focus Features', ' Illumination Entertainment',\n",
    "    ' Illuminations Films', ' Universal International Pictures (UI)', ' Big Idea',\n",
    "    ' Bullwinkle Studios', ' DreamWorks', ' DreamWorks Animation',\n",
    "    ' Carnival Film & Television', ' Polygram Filmed Entertainment',\n",
    "    ' PolyGram Filmed Entertainment', ' Polygram Pictures', ' PolyGram Film Productions BV', \n",
    "    'Focus Films ', 'Focus Features ', 'Illumination Entertainment ',\n",
    "    'Illuminations Films ', 'Universal International Pictures (UI) ', 'Big Idea ',\n",
    "    'Bullwinkle Studios ', 'DreamWorks ', 'DreamWorks Animation ',\n",
    "    'Carnival Film & Television ', 'Polygram Filmed Entertainment ',\n",
    "    'PolyGram Filmed Entertainment ', 'Polygram Pictures ', 'PolyGram Film Productions BV '\n",
    "]\n",
    "\n",
    "def replace_company_name(company):\n",
    "    if pd.isna(company):\n",
    "        return company \n",
    "    company_lower = str(company).lower()  \n",
    "    if any(keyword in company_lower for keyword in keywords):\n",
    "        return 'Universal'\n",
    "    if company in exact_matches:\n",
    "        return 'Universal'\n",
    "    return company\n",
    "df_cleaned['production_company'] = df_cleaned['production_company'].apply(replace_company_name)\n",
    "\"\"\"universal_count = (df_cleaned['production_company'] == 'Universal').sum()\n",
    "print(f\"'Universal': {universal_count}\")\"\"\"\n"
   ],
   "metadata": {
    "collapsed": false,
    "ExecuteTime": {
     "end_time": "2024-05-31T11:30:24.487478900Z",
     "start_time": "2024-05-31T11:30:24.344478400Z"
    }
   },
   "id": "58b5ad5756942977",
   "execution_count": 212
  },
  {
   "cell_type": "markdown",
   "source": [
    "_Paramount_"
   ],
   "metadata": {
    "collapsed": false
   },
   "id": "ca383aaa81277077"
  },
  {
   "cell_type": "code",
   "outputs": [
    {
     "data": {
      "text/plain": "'paramount_count = (df_cleaned[\\'production_company\\'] == \\'Paramount\\').sum()\\nprint(f\"\\'Paramount\\': {paramount_count}\")'"
     },
     "execution_count": 213,
     "metadata": {},
     "output_type": "execute_result"
    }
   ],
   "source": [
    "paramount_keywords = ['paramount', 'cbs']\n",
    "paramount_exact_matches = ['Paramount', 'CBS', 'Miramax', 'Nickelodeon Movies', 'Nickel Odeon',\n",
    "                           'Republic Pictures (I)', 'Republic Pictures (II)',\n",
    "                           'Republic Pictures Corporation (I)', 'MTV Films',\n",
    "                           'BET Films', 'BET Pictures',\n",
    "                           'Awesomeness Films', 'Viacom18 Motion Pictures']\n",
    "def replace_company_name(company):\n",
    "    if pd.isna(company):\n",
    "        return company  \n",
    "    company_lower = str(company).lower()  \n",
    "    if any(keyword in company_lower for keyword in paramount_keywords):\n",
    "        return 'Paramount'\n",
    "    if company in paramount_exact_matches:\n",
    "        return 'Paramount'\n",
    "    return company\n",
    "\n",
    "df_cleaned['production_company'] = df_cleaned['production_company'].apply(replace_company_name)\n",
    "\n",
    "\"\"\"paramount_count = (df_cleaned['production_company'] == 'Paramount').sum()\n",
    "print(f\"'Paramount': {paramount_count}\")\"\"\""
   ],
   "metadata": {
    "collapsed": false,
    "ExecuteTime": {
     "end_time": "2024-05-31T11:30:24.625487600Z",
     "start_time": "2024-05-31T11:30:24.536490500Z"
    }
   },
   "id": "cdb7fedadb2e5728",
   "execution_count": 213
  },
  {
   "cell_type": "markdown",
   "source": [
    "_Warner_"
   ],
   "metadata": {
    "collapsed": false
   },
   "id": "a525a766b5d5fbaa"
  },
  {
   "cell_type": "code",
   "outputs": [],
   "source": [
    "warner_keywords = ['Warner']\n",
    "warner_exact_matches = ['HBO', 'New Line Cinema', 'Spyglass Entertainment', 'Rooster Teeth Productions',\n",
    "                           'DC Entertainment', 'DC Medias', 'DC Comics', 'Cartoon Network Studios',\n",
    "                           'Richard Williams Productions', 'Derick Williams Productions', \n",
    "                           'Hanna-Barbera Productions', 'Alloy Entertainment', 'Castle Rock Entertainment',\n",
    "                           'Turner Pictures (I)', 'Discovery Films UK', 'The Weinstein Company']\n",
    "def mod_and_count(df_cleaned, keywords, exact_matches):\n",
    "    mods_count = 0\n",
    "    for i, row in df_cleaned.iterrows():\n",
    "        if any(keyword.lower() in str(row['production_company']).lower() for keyword in keywords):\n",
    "            df_cleaned.at[i, 'production_company'] = 'Warner'\n",
    "            mods_count += 1\n",
    "        elif row['production_company'] in exact_matches:\n",
    "            df_cleaned.at[i, 'production_company'] = 'Warner'\n",
    "            mods_count += 1\n",
    "    return mods_count\n",
    "\n",
    "mods = mod_and_count(df_cleaned, warner_keywords, warner_exact_matches)\n",
    "numero_righe_warner = (df_cleaned['production_company'] == 'Warner').sum()\n"
   ],
   "metadata": {
    "collapsed": false,
    "ExecuteTime": {
     "end_time": "2024-05-31T11:30:27.526813400Z",
     "start_time": "2024-05-31T11:30:24.616487200Z"
    }
   },
   "id": "ff966700df0d56e5",
   "execution_count": 214
  },
  {
   "cell_type": "markdown",
   "source": [
    "_20th Century Fox_"
   ],
   "metadata": {
    "collapsed": false
   },
   "id": "a37af12d75523718"
  },
  {
   "cell_type": "code",
   "outputs": [],
   "source": [
    "twenty_exact_matches = ['ESPN Films',\n",
    " '20th Century Fox',\n",
    " '20th Century Fox Argentina',\n",
    " '20th Century Fox Television',\n",
    " '20th Century Pictures',\n",
    " 'Twentieth Century Fox',\n",
    " 'Twentieth Century Fox Animation',\n",
    " 'Fox 2000 Pictures',\n",
    " 'Fox Searchlight Pictures',\n",
    " 'Fox Atomic',\n",
    " 'Fox International Productions (FIP)',\n",
    " 'Fox Film Corporation',\n",
    " 'Fox STAR Studios',\n",
    " 'Fox Digital Studios',\n",
    " 'Fox Family Channel',\n",
    " 'Fox Filmes do Brasil',\n",
    " '21st Century Film Corporation',\n",
    " '21st Century 3D',\n",
    " '21st Century Films',\n",
    " '21st Century Productions UK',\n",
    " '21st Century Film Production',\n",
    " 'ESPN Films',\n",
    " 'Lucasfilm',\n",
    " 'Lucasfilm Animation',\n",
    " 'Freeform',\n",
    " 'New World Pictures',\n",
    " 'New World Entertainment Films',\n",
    " 'New World Films', 'Regency Enterprises']\n",
    "\n",
    "def mod_and_count(df_cleaned, twenty_exact_matches):\n",
    "    mods_count = 0\n",
    "    for i, row in df_cleaned.iterrows():\n",
    "        \"\"\"if any(keyword.lower() in str(row['production_company']).lower() for keyword in keywords):\n",
    "            df_cleaned.at[i, 'production_company'] = 'Twentieth Century Fox'\n",
    "            mods_count += 1\"\"\"\n",
    "        if row['production_company'] in twenty_exact_matches:\n",
    "            df_cleaned.at[i, 'production_company'] = 'Twentieth Century Fox'\n",
    "            mods_count += 1\n",
    "    return mods_count\n",
    "\n",
    "# Esegui le modifiche e contali\n",
    "mods = mod_and_count(df_cleaned, twenty_exact_matches)\n"
   ],
   "metadata": {
    "collapsed": false,
    "ExecuteTime": {
     "end_time": "2024-05-31T11:30:30.145312700Z",
     "start_time": "2024-05-31T11:30:27.541290400Z"
    }
   },
   "id": "ec989df3bf5b6179",
   "execution_count": 215
  },
  {
   "cell_type": "markdown",
   "source": [
    "_Disney_"
   ],
   "metadata": {
    "collapsed": false
   },
   "id": "300d4683dd72af7f"
  },
  {
   "cell_type": "code",
   "outputs": [
    {
     "data": {
      "text/plain": "344"
     },
     "execution_count": 216,
     "metadata": {},
     "output_type": "execute_result"
    }
   ],
   "source": [
    "disney_keywords = ['Disney']\n",
    "\n",
    "# Lista delle corrispondenze esatte\n",
    "disney_exact_matches = [\n",
    "    'Marvel Entertainment', 'Marvel Enterprises', 'Marvel Studios', 'Pixar Animation Studios', 'Touchstone Pictures',\n",
    "    'Hollywood Pictures'\n",
    "]\n",
    "\n",
    "# Funzione per contare le righe che soddisfano le condizioni specificate\n",
    "def mod_and_count(df_cleaned, disney_keywords, disney_exact_matches):\n",
    "    mods_count = 0\n",
    "    for i, row in df_cleaned.iterrows():\n",
    "        if any(keyword.lower() in str(row['production_company']).lower() for keyword in disney_keywords):\n",
    "            df_cleaned.at[i, 'production_company'] = 'Disney'\n",
    "            mods_count += 1\n",
    "        elif row['production_company'] in disney_exact_matches:\n",
    "            df_cleaned.at[i, 'production_company'] = 'Disney'\n",
    "            mods_count += 1\n",
    "    return mods_count\n",
    "\n",
    "# Esegui le modifiche e contali\n",
    "mod_and_count(df_cleaned, disney_keywords, disney_exact_matches)"
   ],
   "metadata": {
    "collapsed": false,
    "ExecuteTime": {
     "end_time": "2024-05-31T11:30:33.026727500Z",
     "start_time": "2024-05-31T11:30:30.154328900Z"
    }
   },
   "id": "884d405be1f6eb2a",
   "execution_count": 216
  },
  {
   "cell_type": "markdown",
   "source": [
    "_Sony_"
   ],
   "metadata": {
    "collapsed": false
   },
   "id": "3db6f247638d2acc"
  },
  {
   "cell_type": "code",
   "outputs": [
    {
     "data": {
      "text/plain": "620"
     },
     "execution_count": 217,
     "metadata": {},
     "output_type": "execute_result"
    }
   ],
   "source": [
    "sony_keywords = ['sony', 'tristar', 'columbia']\n",
    "sony_exact_matches = [\n",
    "     'Screen Gems',\n",
    "     'Stage 6 Films',\n",
    "     'Affirm Films',\n",
    "     'Ghost Film Pictures',\n",
    "     'Ghost Pictures',\n",
    "     'Madhouse',\n",
    "     'Toei Company',\n",
    "     'Toei Animation',\n",
    "     'Toei',\n",
    "     'Toei Tokyo',\n",
    "     'Toei Video Company',\n",
    "     'Destination Films',\n",
    "     'Left Bank Pictures',\n",
    "     'Revolution Studios',\n",
    "     'Revolution Films',\n",
    "]\n",
    "\n",
    "def mod_and_count(df_cleaned, sony_keywords, sony_exact_matches):\n",
    "    mods_count = 0\n",
    "    for i, row in df_cleaned.iterrows():\n",
    "        if any(keyword.lower() in str(row['production_company']).lower() for keyword in sony_keywords):\n",
    "            df_cleaned.at[i, 'production_company'] = 'Sony'\n",
    "            mods_count += 1\n",
    "        elif row['production_company'] in sony_exact_matches:\n",
    "            df_cleaned.at[i, 'production_company'] = 'Sony'\n",
    "            mods_count += 1\n",
    "    return mods_count\n",
    "\n",
    "mod_and_count(df_cleaned, sony_keywords, sony_exact_matches)"
   ],
   "metadata": {
    "collapsed": false,
    "ExecuteTime": {
     "end_time": "2024-05-31T11:30:36.328502200Z",
     "start_time": "2024-05-31T11:30:33.065676800Z"
    }
   },
   "id": "9bc14f66e2fbe3f9",
   "execution_count": 217
  },
  {
   "cell_type": "markdown",
   "source": [
    "_MGM_"
   ],
   "metadata": {
    "collapsed": false
   },
   "id": "9a540b3649a31d6"
  },
  {
   "cell_type": "code",
   "outputs": [
    {
     "data": {
      "text/plain": "265"
     },
     "execution_count": 218,
     "metadata": {},
     "output_type": "execute_result"
    }
   ],
   "source": [
    "MGM_exact_matches = [\n",
    "     'Metro-Goldwyn-Mayer (MGM)',\n",
    "     'Metro Films',\n",
    "     'Metro Pictures Corporation',\n",
    "     'Metro Communications',\n",
    "     'Monogram Pictures',\n",
    "     'Cannon Group',\n",
    "     'Cannon Films',\n",
    "     'The Cannon Group',\n",
    "     'Cannon Pictures',\n",
    "     'Cannon International',\n",
    "     'Cannon Entertainment',\n",
    "     'The Samuel Goldwyn Company',\n",
    "     'Samuel Goldwyn Films'\n",
    "]\n",
    "\n",
    "def mod_and_count(df_cleaned, MGM_exact_matches):\n",
    "    mods_count = 0\n",
    "    for i, row in df_cleaned.iterrows():\n",
    "        \"\"\"if any(keyword.lower() in str(row['production_company']).lower() for keyword in sony_keywords):\n",
    "            df_cleaned.at[i, 'production_company'] = 'MGM'\n",
    "            mods_count += 1\"\"\"\n",
    "        if row['production_company'] in MGM_exact_matches:\n",
    "            df_cleaned.at[i, 'production_company'] = 'MGM'\n",
    "            mods_count += 1\n",
    "    return mods_count\n",
    "\n",
    "mod_and_count(df_cleaned, MGM_exact_matches)"
   ],
   "metadata": {
    "collapsed": false,
    "ExecuteTime": {
     "end_time": "2024-05-31T11:30:39.015133Z",
     "start_time": "2024-05-31T11:30:36.319499900Z"
    }
   },
   "id": "ca2ae3699a773b7d",
   "execution_count": 218
  },
  {
   "cell_type": "markdown",
   "source": [
    "_United Artists_"
   ],
   "metadata": {
    "collapsed": false
   },
   "id": "75d8176b228b391a"
  },
  {
   "cell_type": "code",
   "outputs": [
    {
     "data": {
      "text/plain": "34"
     },
     "execution_count": 219,
     "metadata": {},
     "output_type": "execute_result"
    }
   ],
   "source": [
    "UA_exact_matches = [\n",
    "     'United Artists',\n",
    "     'United Artists Film Corporation',\n",
    "     'United Artists Pictures', 'United Arists'\n",
    "]\n",
    "def mod_and_count(df_cleaned, UA_exact_matches):\n",
    "    mods_count = 0\n",
    "    for i, row in df_cleaned.iterrows():\n",
    "        \"\"\"if any(keyword.lower() in str(row['production_company']).lower() for keyword in sony_keywords):\n",
    "            df_cleaned.at[i, 'production_company'] = 'United Artists'\n",
    "            mods_count += 1\"\"\"\n",
    "        if row['production_company'] in UA_exact_matches:\n",
    "            df_cleaned.at[i, 'production_company'] = 'United Artists'\n",
    "            mods_count += 1\n",
    "    return mods_count\n",
    "\n",
    "mod_and_count(df_cleaned, UA_exact_matches)"
   ],
   "metadata": {
    "collapsed": false,
    "ExecuteTime": {
     "end_time": "2024-05-31T11:30:41.585934900Z",
     "start_time": "2024-05-31T11:30:38.993514900Z"
    }
   },
   "id": "31c791c81aeecd7d",
   "execution_count": 219
  },
  {
   "cell_type": "markdown",
   "source": [
    "_RKO_"
   ],
   "metadata": {
    "collapsed": false
   },
   "id": "ef38bd9c21f7ff66"
  },
  {
   "cell_type": "code",
   "outputs": [
    {
     "data": {
      "text/plain": "35"
     },
     "execution_count": 220,
     "metadata": {},
     "output_type": "execute_result"
    }
   ],
   "source": [
    "RKO_exact_matches = [\n",
    "     'RKO Radio Pictures',\n",
    "     'RKO Pictures'\n",
    "]\n",
    "\n",
    "# Funzione per contare le righe che soddisfano le condizioni specificate\n",
    "def mod_and_count(df_cleaned, RKO_exact_matches):\n",
    "    mods_count = 0\n",
    "    for i, row in df_cleaned.iterrows():\n",
    "        \"\"\"if any(keyword.lower() in str(row['production_company']).lower() for keyword in sony_keywords):\n",
    "            df_cleaned.at[i, 'production_company'] = 'United Artists'\n",
    "            mods_count += 1\"\"\"\n",
    "        if row['production_company'] in RKO_exact_matches:\n",
    "            df_cleaned.at[i, 'production_company'] = 'RKO'\n",
    "            mods_count += 1\n",
    "    return mods_count\n",
    "mod_and_count(df_cleaned, RKO_exact_matches)"
   ],
   "metadata": {
    "collapsed": false,
    "ExecuteTime": {
     "end_time": "2024-05-31T11:30:44.267242300Z",
     "start_time": "2024-05-31T11:30:41.611989200Z"
    }
   },
   "id": "185cfd5b2327eaa3",
   "execution_count": 220
  },
  {
   "cell_type": "markdown",
   "source": [
    "_Lionsgate_"
   ],
   "metadata": {
    "collapsed": false
   },
   "id": "77773701f95853ee"
  },
  {
   "cell_type": "code",
   "outputs": [
    {
     "data": {
      "text/plain": "193"
     },
     "execution_count": 221,
     "metadata": {},
     "output_type": "execute_result"
    }
   ],
   "source": [
    "LG_exact_matches = [\n",
    "     'Lionsgate',\n",
    "     'Lions Gate Films',\n",
    "     'Lions Gate Entertainment',\n",
    "     'Lionsgate Premiere',\n",
    "     'Lionsgate UK',\n",
    "     'Lions Gate International',\n",
    "     'Lions Gate Family Entertainment',\n",
    "     'Summit Entertainment',\n",
    "     'Summit Premiere',\n",
    "     '3 Arts Entertainment',\n",
    "     'Entertainment One',\n",
    "     'Entertainment One India Ltd.',\n",
    "     'Good Universe',\n",
    "     'Grindstone Entertainment Group',\n",
    "     'Pantelion Films',\n",
    "     'Roadside Attractions',\n",
    "     'Spyglass Entertainment',\n",
    "     'Artisan Entertainment',\n",
    "     'Overture Films'\n",
    "]\n",
    "\n",
    "def mod_and_count(df_cleaned, LG_exact_matches):\n",
    "    mods_count = 0\n",
    "    for i, row in df_cleaned.iterrows():\n",
    "        \"\"\"if any(keyword.lower() in str(row['production_company']).lower() for keyword in LG_keywords):\n",
    "            df_cleaned.at[i, 'production_company'] = 'United Artists'\n",
    "            mods_count += 1\"\"\"\n",
    "        if row['production_company'] in LG_exact_matches:\n",
    "            df_cleaned.at[i, 'production_company'] = 'Lionsgate'\n",
    "            mods_count += 1\n",
    "    return mods_count\n",
    "\n",
    "mod_and_count(df_cleaned, LG_exact_matches)"
   ],
   "metadata": {
    "collapsed": false,
    "ExecuteTime": {
     "end_time": "2024-05-31T11:30:46.845741500Z",
     "start_time": "2024-05-31T11:30:44.245432600Z"
    }
   },
   "id": "bfc21570ea65e252",
   "execution_count": 221
  },
  {
   "cell_type": "markdown",
   "source": [
    "_Amazon_"
   ],
   "metadata": {
    "collapsed": false
   },
   "id": "f0550f417e31631b"
  },
  {
   "cell_type": "code",
   "outputs": [
    {
     "data": {
      "text/plain": "77"
     },
     "execution_count": 222,
     "metadata": {},
     "output_type": "execute_result"
    }
   ],
   "source": [
    "AMZ_exact_matches = [\n",
    "     'Amazon Studios',\n",
    "     'Amazon Prime Video',\n",
    "     'Orion Pictures',\n",
    "     'LightWorkers Media',\n",
    "     'American International Pictures (AIP)',\n",
    "     'American Independent Productions',\n",
    "]\n",
    "\n",
    "def mod_and_count(df_cleaned, AMZ_exact_matches):\n",
    "    mods_count = 0\n",
    "    for i, row in df_cleaned.iterrows():\n",
    "        \"\"\"if any(keyword.lower() in str(row['production_company']).lower() for keyword in LG_keywords):\n",
    "            df_cleaned.at[i, 'production_company'] = 'United Artists'\n",
    "            mods_count += 1\"\"\"\n",
    "        if row['production_company'] in AMZ_exact_matches:\n",
    "            df_cleaned.at[i, 'production_company'] = 'Amazon'\n",
    "            mods_count += 1\n",
    "    return mods_count\n",
    "\n",
    "mod_and_count(df_cleaned, AMZ_exact_matches)"
   ],
   "metadata": {
    "collapsed": false,
    "ExecuteTime": {
     "end_time": "2024-05-31T11:30:49.395384300Z",
     "start_time": "2024-05-31T11:30:46.830595800Z"
    }
   },
   "id": "d9f1fdd1b39dddb7",
   "execution_count": 222
  },
  {
   "cell_type": "markdown",
   "source": [
    "_STX_"
   ],
   "metadata": {
    "collapsed": false
   },
   "id": "348aed6dca5e7953"
  },
  {
   "cell_type": "code",
   "outputs": [
    {
     "data": {
      "text/plain": "8"
     },
     "execution_count": 223,
     "metadata": {},
     "output_type": "execute_result"
    }
   ],
   "source": [
    "STX_exact_matches = [\n",
    "     'STX Films',\n",
    "     'STX Entertainment'\n",
    "]\n",
    "\n",
    "def mod_and_count(df_cleaned, STX_exact_matches):\n",
    "    mods_count = 0\n",
    "    for i, row in df_cleaned.iterrows():\n",
    "        \"\"\"if any(keyword.lower() in str(row['production_company']).lower() for keyword in LG_keywords):\n",
    "            df_cleaned.at[i, 'production_company'] = 'United Artists'\n",
    "            mods_count += 1\"\"\"\n",
    "        if row['production_company'] in STX_exact_matches:\n",
    "            df_cleaned.at[i, 'production_company'] = 'STX'\n",
    "            mods_count += 1\n",
    "    return mods_count\n",
    "\n",
    "mod_and_count(df_cleaned, STX_exact_matches)\n"
   ],
   "metadata": {
    "collapsed": false,
    "ExecuteTime": {
     "end_time": "2024-05-31T11:30:51.929388100Z",
     "start_time": "2024-05-31T11:30:49.403383700Z"
    }
   },
   "id": "cc68071b31aaaddf",
   "execution_count": 223
  },
  {
   "cell_type": "markdown",
   "source": [
    "_De Laurentiis_"
   ],
   "metadata": {
    "collapsed": false
   },
   "id": "c322d7a49abdf46a"
  },
  {
   "cell_type": "code",
   "outputs": [
    {
     "data": {
      "text/plain": "46"
     },
     "execution_count": 224,
     "metadata": {},
     "output_type": "execute_result"
    }
   ],
   "source": [
    "Dino_keywords = ['De Laurentiis']\n",
    "\n",
    "def mod_and_count(df_cleaned, Dino_keywords):\n",
    "    mods_count = 0\n",
    "    for i, row in df_cleaned.iterrows():\n",
    "        if any(keyword.lower() in str(row['production_company']).lower() for keyword in Dino_keywords):\n",
    "            df_cleaned.at[i, 'production_company'] = 'De Laurentiis'\n",
    "            mods_count += 1\n",
    "    return mods_count\n",
    "\n",
    "mod_and_count(df_cleaned, Dino_keywords)"
   ],
   "metadata": {
    "collapsed": false,
    "ExecuteTime": {
     "end_time": "2024-05-31T11:30:54.608547900Z",
     "start_time": "2024-05-31T11:30:51.959391300Z"
    }
   },
   "id": "7fda5695d1a08ec7",
   "execution_count": 224
  },
  {
   "cell_type": "markdown",
   "source": [
    "_Medusa films_"
   ],
   "metadata": {
    "collapsed": false
   },
   "id": "e2c87ea196478efa"
  },
  {
   "cell_type": "code",
   "outputs": [
    {
     "data": {
      "text/plain": "36"
     },
     "execution_count": 225,
     "metadata": {},
     "output_type": "execute_result"
    }
   ],
   "source": [
    "Dino_keywords = ['Medusa', 'Berlusconi', 'Cecchi']\n",
    "\n",
    "def mod_and_count(df_cleaned, Dino_keywords):\n",
    "    mods_count = 0\n",
    "    for i, row in df_cleaned.iterrows():\n",
    "        if any(keyword.lower() in str(row['production_company']).lower() for keyword in Dino_keywords):\n",
    "            df_cleaned.at[i, 'production_company'] = 'Medusa'\n",
    "            mods_count += 1\n",
    "    return mods_count\n",
    "\n",
    "mod_and_count(df_cleaned, Dino_keywords)"
   ],
   "metadata": {
    "collapsed": false,
    "ExecuteTime": {
     "end_time": "2024-05-31T11:30:57.646647100Z",
     "start_time": "2024-05-31T11:30:54.601891400Z"
    }
   },
   "id": "f22690d4a9d45b9d",
   "execution_count": 225
  },
  {
   "cell_type": "code",
   "outputs": [],
   "source": [
    "df_cleaned.to_csv('../dataset/complete_raw_dataset.csv', index=False)"
   ],
   "metadata": {
    "collapsed": false,
    "ExecuteTime": {
     "end_time": "2024-05-31T11:30:58.149542800Z",
     "start_time": "2024-05-31T11:30:57.637343200Z"
    }
   },
   "id": "d86e233283ce70d9",
   "execution_count": 226
  },
  {
   "cell_type": "code",
   "outputs": [
    {
     "data": {
      "text/plain": "\"df = pd.read_csv('../dataset/complete_raw_dataset.csv')\\n\\nproduction_counts = df['production_company'].value_counts()\\n\\nwith open('production_company_counts.txt', 'w') as file:\\n    for company, count in production_counts.items():\\n        file.write(f'{company}: {count}\\n')\""
     },
     "execution_count": 227,
     "metadata": {},
     "output_type": "execute_result"
    }
   ],
   "source": [
    "\"\"\"df = pd.read_csv('../dataset/complete_raw_dataset.csv')\n",
    "\n",
    "production_counts = df['production_company'].value_counts()\n",
    "\n",
    "with open('production_company_counts.txt', 'w') as file:\n",
    "    for company, count in production_counts.items():\n",
    "        file.write(f'{company}: {count}\\n')\"\"\""
   ],
   "metadata": {
    "collapsed": false,
    "ExecuteTime": {
     "end_time": "2024-05-31T11:30:58.221564600Z",
     "start_time": "2024-05-31T11:30:58.156547100Z"
    }
   },
   "id": "4864f2a045f2d9d9",
   "execution_count": 227
  },
  {
   "cell_type": "markdown",
   "source": [],
   "metadata": {
    "collapsed": false
   },
   "id": "2e366b9f13e0effa"
  },
  {
   "cell_type": "code",
   "outputs": [
    {
     "name": "stdout",
     "output_type": "stream",
     "text": [
      "production_company\n",
      "Other                         16338\n",
      "Warner                          679\n",
      "Universal                       622\n",
      "Sony                            620\n",
      "Paramount                       509\n",
      "Twentieth Century Fox           499\n",
      "Disney                          344\n",
      "MGM                             265\n",
      "Lionsgate                       193\n",
      "Amazon                           77\n",
      "CJ Entertainment                 56\n",
      "Dimension Films                  54\n",
      "Millennium Films                 53\n",
      "Canal+                           49\n",
      "EuropaCorp                       48\n",
      "De Laurentiis                    46\n",
      "BBC Films                        42\n",
      "Morgan Creek Entertainment       37\n",
      "Medusa                           36\n",
      "Gaumont                          35\n",
      "RKO                              35\n",
      "United Artists                   34\n",
      "Constantin Film                  34\n",
      "Name: count, dtype: int64\n"
     ]
    }
   ],
   "source": [
    "companies_counts = df_cleaned['production_company'].value_counts()\n",
    "top_companies = companies_counts.head(22).index\n",
    "df_cleaned.loc[~df_cleaned['production_company'].isin(top_companies), 'production_company'] = 'Other'\n",
    "print(df_cleaned['production_company'].value_counts())"
   ],
   "metadata": {
    "collapsed": false,
    "ExecuteTime": {
     "end_time": "2024-05-31T11:30:58.297557Z",
     "start_time": "2024-05-31T11:30:58.194573500Z"
    }
   },
   "id": "d43653c821f858ac",
   "execution_count": 228
  },
  {
   "cell_type": "code",
   "execution_count": 228,
   "outputs": [],
   "source": [],
   "metadata": {
    "collapsed": false,
    "ExecuteTime": {
     "end_time": "2024-05-31T11:30:58.297557Z",
     "start_time": "2024-05-31T11:30:58.233544700Z"
    }
   },
   "id": "e9a150a8753027be"
  },
  {
   "cell_type": "markdown",
   "source": [
    "# Date conversion"
   ],
   "metadata": {
    "collapsed": false
   },
   "id": "6148623ebb7ee362"
  },
  {
   "cell_type": "code",
   "execution_count": 229,
   "outputs": [],
   "source": [
    "# Converti 'date_published' in formato datetime\n",
    "df_cleaned['date_published'] = pd.to_datetime(df_cleaned['date_published'], errors='coerce')\n",
    "\n",
    "# Estrai il mese dalla colonna 'date_published'\n",
    "df_cleaned['month_published'] = df_cleaned['date_published'].dt.month\n",
    "\n",
    "# Rimuovi la colonna 'date_published'\n",
    "df_cleaned.drop(columns=['date_published'], inplace=True)\n"
   ],
   "metadata": {
    "collapsed": false,
    "ExecuteTime": {
     "end_time": "2024-05-31T11:30:58.426537100Z",
     "start_time": "2024-05-31T11:30:58.274535800Z"
    }
   },
   "id": "7d323a7912f52788"
  },
  {
   "cell_type": "markdown",
   "source": [
    "# One hot encoding"
   ],
   "metadata": {
    "collapsed": false
   },
   "id": "b279010ef15f852a"
  },
  {
   "cell_type": "code",
   "outputs": [
    {
     "name": "stdout",
     "output_type": "stream",
     "text": [
      "   duration  avg_vote  votes  revenue_with_CPI  converted_budget  \\\n",
      "0      88.0       6.1  527.0        55484317.0          175700.3   \n",
      "1      59.0       6.4  859.0       331523495.5         3013850.0   \n",
      "2      77.0       6.1  218.0         4139975.0          521727.6   \n",
      "3      50.0       4.6  554.0       223938744.3         5598468.6   \n",
      "4     300.0       7.4  814.0        48986600.3        10802441.1   \n",
      "\n",
      "   dir_oscar_nomination  dir_oscar_won  writer_oscar_nomination  \\\n",
      "0                     0              0                        0   \n",
      "1                     0              0                        0   \n",
      "2                     0              0                        0   \n",
      "3                     0              0                        0   \n",
      "4                     0              0                        0   \n",
      "\n",
      "   writer_oscar_won  cast_oscar_nomination  ...  month_3  month_4  month_5  \\\n",
      "0                 0                      0  ...    False    False    False   \n",
      "1                 0                      0  ...    False    False    False   \n",
      "2                 0                      0  ...    False    False    False   \n",
      "3                 0                      0  ...    False     True    False   \n",
      "4                 0                      0  ...    False    False    False   \n",
      "\n",
      "   month_6  month_7  month_8  month_9  month_10  month_11  month_12  \n",
      "0    False    False    False    False     False      True     False  \n",
      "1    False    False    False    False      True     False     False  \n",
      "2    False    False    False    False     False      True     False  \n",
      "3    False    False    False    False     False     False     False  \n",
      "4    False    False    False    False     False     False     False  \n",
      "\n",
      "[5 rows x 99 columns]\n"
     ]
    }
   ],
   "source": [
    "\n",
    "def multi_value_one_hot(df, column):\n",
    "    s = df[column].str.get_dummies(sep=', ')\n",
    "    return df.join(s.add_prefix(column + '_'))\n",
    "\n",
    "df_cleaned = multi_value_one_hot(df_cleaned, 'genre')\n",
    "df_cleaned = multi_value_one_hot(df_cleaned, 'language')\n",
    "df_cleaned = multi_value_one_hot(df_cleaned, 'production_company')\n",
    "df_cleaned = pd.get_dummies(df_cleaned, columns=['month_published'], prefix='month')\n",
    "\n",
    "df_cleaned.drop(columns=['language', 'production_company','language_Other','production_company_Other','genre'], inplace=True)\n",
    "print(df_cleaned.head())"
   ],
   "metadata": {
    "collapsed": false,
    "ExecuteTime": {
     "end_time": "2024-05-31T11:30:59.448442400Z",
     "start_time": "2024-05-31T11:30:58.322539500Z"
    }
   },
   "id": "200a288c68d33c5b",
   "execution_count": 230
  },
  {
   "cell_type": "code",
   "execution_count": 231,
   "outputs": [],
   "source": [
    "df_cleaned.to_csv('../dataset/preprocessed_dataset.csv', index=False)"
   ],
   "metadata": {
    "collapsed": false,
    "ExecuteTime": {
     "end_time": "2024-05-31T11:31:00.304719Z",
     "start_time": "2024-05-31T11:30:59.437449800Z"
    }
   },
   "id": "8af2aee59b92110e"
  }
 ],
 "metadata": {
  "kernelspec": {
   "display_name": "Python 3",
   "language": "python",
   "name": "python3"
  },
  "language_info": {
   "codemirror_mode": {
    "name": "ipython",
    "version": 2
   },
   "file_extension": ".py",
   "mimetype": "text/x-python",
   "name": "python",
   "nbconvert_exporter": "python",
   "pygments_lexer": "ipython2",
   "version": "2.7.6"
  }
 },
 "nbformat": 4,
 "nbformat_minor": 5
}
