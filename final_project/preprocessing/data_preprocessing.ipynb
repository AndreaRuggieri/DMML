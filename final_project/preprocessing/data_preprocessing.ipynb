{
 "cells": [
  {
   "cell_type": "code",
   "execution_count": 169,
   "id": "initial_id",
   "metadata": {
    "collapsed": true,
    "ExecuteTime": {
     "end_time": "2024-05-31T09:47:52.815596200Z",
     "start_time": "2024-05-31T09:47:52.357760400Z"
    }
   },
   "outputs": [],
   "source": [
    "import pandas as pd\n",
    "import numpy as np\n",
    "import matplotlib.pyplot as plt"
   ]
  },
  {
   "cell_type": "code",
   "outputs": [],
   "source": [
    "df = pd.read_csv('../dataset/raw_dataset.csv')"
   ],
   "metadata": {
    "collapsed": false,
    "ExecuteTime": {
     "end_time": "2024-05-31T09:47:53.372664Z",
     "start_time": "2024-05-31T09:47:52.787808900Z"
    }
   },
   "id": "f5e9fcfc8372d18a",
   "execution_count": 170
  },
  {
   "cell_type": "code",
   "outputs": [
    {
     "name": "stdout",
     "output_type": "stream",
     "text": [
      "Categorical DataFrame:\n",
      "                 genre country language  \\\n",
      "0         Crime, Drama     USA  English   \n",
      "1                Drama     USA  English   \n",
      "2  Drama, History, War     USA  English   \n",
      "3                Drama     USA  English   \n",
      "4     Adventure, Crime  France   French   \n",
      "\n",
      "                                 production_company  \n",
      "0  Independent Moving Pictures Co. of America (IMP)  \n",
      "1               Jesse L. Lasky Feature Play Company  \n",
      "2                                  Kay-Bee Pictures  \n",
      "3                            Fine Arts Film Company  \n",
      "4             Société des Etablissements L. Gaumont  \n",
      "\n",
      "Numerical DataFrame:\n",
      "   duration  avg_vote  votes  revenue_with_CPI  converted_budget  \\\n",
      "0      88.0       6.1  527.0        55484317.0          175700.3   \n",
      "1      59.0       6.4  859.0       331523495.5         3013850.0   \n",
      "2      77.0       6.1  218.0         4139975.0          521727.6   \n",
      "3      50.0       4.6  554.0       223938744.3         5598468.6   \n",
      "4     300.0       7.4  814.0        48986600.3        10802441.1   \n",
      "\n",
      "   dir_oscar_nomination  dir_oscar_won  writer_oscar_nomination  \\\n",
      "0                     0              0                        0   \n",
      "1                     0              0                        0   \n",
      "2                     0              0                        0   \n",
      "3                     0              0                        0   \n",
      "4                     0              0                        0   \n",
      "\n",
      "   writer_oscar_won  cast_oscar_nomination  ...  BAFTA_dir_nom  BAFTA_dir_won  \\\n",
      "0                 0                      0  ...              0              0   \n",
      "1                 0                      0  ...              0              0   \n",
      "2                 0                      0  ...              0              0   \n",
      "3                 0                      0  ...              0              0   \n",
      "4                 0                      0  ...              0              0   \n",
      "\n",
      "   BAFTA_writer_nom  BAFTA_writer_won  dir_emmy_nom  dir_emmy_won  \\\n",
      "0                 0                 0             0             0   \n",
      "1                 0                 0             0             0   \n",
      "2                 0                 0             0             0   \n",
      "3                 0                 0             0             0   \n",
      "4                 0                 0             0             0   \n",
      "\n",
      "   writer_emmy_won  writer_emmy_nom  act_emmy_nom  act_emmy_won  \n",
      "0                0                0             0             0  \n",
      "1                0                0             0             0  \n",
      "2                0                0             0             0  \n",
      "3                0                0             0             0  \n",
      "4                0                0             0             0  \n",
      "\n",
      "[5 rows x 27 columns]\n"
     ]
    }
   ],
   "source": [
    "# Categorical columns\n",
    "categorical_columns = [\n",
    "    'genre', 'country', 'language', 'production_company',\n",
    "]\n",
    "\n",
    "# Numerical columns\n",
    "numerical_columns = [\n",
    "     'duration', 'avg_vote', 'votes', 'revenue_with_CPI', 'converted_budget', \n",
    "    'dir_oscar_nomination', 'dir_oscar_won', 'writer_oscar_nomination', 'writer_oscar_won', \n",
    "    'cast_oscar_nomination', 'cast_oscar_won', 'dir_globe_nomination', 'dir_globe_won', 'cast_globe_nomination', \n",
    "   'cast_globe_won','BAFTA_act_nom','BAFTA_act_won','BAFTA_dir_nom','BAFTA_dir_won',\n",
    "    'BAFTA_writer_nom','BAFTA_writer_won', 'dir_emmy_nom','dir_emmy_won','writer_emmy_won',\n",
    "    'writer_emmy_nom','act_emmy_nom','act_emmy_won'\n",
    "    #'actors_films_before', 'director_films_before', 'writers_films_before'\n",
    "]\n",
    "\n",
    "\n",
    "categorical_df = df[categorical_columns]\n",
    "numerical_df = df[numerical_columns]\n",
    "\n",
    "df=df[numerical_columns+categorical_columns]\n",
    "print(\"Categorical DataFrame:\")\n",
    "print(categorical_df.head())\n",
    "\n",
    "print(\"\\nNumerical DataFrame:\")\n",
    "print(numerical_df.head())\n"
   ],
   "metadata": {
    "collapsed": false,
    "ExecuteTime": {
     "end_time": "2024-05-31T09:47:53.392544400Z",
     "start_time": "2024-05-31T09:47:53.310194800Z"
    }
   },
   "id": "2dd0c9dd8a3fa907",
   "execution_count": 171
  },
  {
   "cell_type": "code",
   "outputs": [
    {
     "data": {
      "text/plain": "duration                     0\navg_vote                     0\nvotes                        0\nrevenue_with_CPI             0\nconverted_budget           119\ndir_oscar_nomination         0\ndir_oscar_won                0\nwriter_oscar_nomination      0\nwriter_oscar_won             0\ncast_oscar_nomination        0\ncast_oscar_won               0\ndir_globe_nomination         0\ndir_globe_won                0\ncast_globe_nomination        0\ncast_globe_won               0\nBAFTA_act_nom                0\nBAFTA_act_won                0\nBAFTA_dir_nom                0\nBAFTA_dir_won                0\nBAFTA_writer_nom             0\nBAFTA_writer_won             0\ndir_emmy_nom                 0\ndir_emmy_won                 0\nwriter_emmy_won              0\nwriter_emmy_nom              0\nact_emmy_nom                 0\nact_emmy_won                 0\ngenre                        0\ncountry                      5\nlanguage                   106\nproduction_company         629\ndtype: int64"
     },
     "execution_count": 172,
     "metadata": {},
     "output_type": "execute_result"
    }
   ],
   "source": [
    "df.isna().sum(axis=0)"
   ],
   "metadata": {
    "collapsed": false,
    "ExecuteTime": {
     "end_time": "2024-05-31T09:47:53.394547600Z",
     "start_time": "2024-05-31T09:47:53.334563400Z"
    }
   },
   "id": "30e2247cfb5ce1a6",
   "execution_count": 172
  },
  {
   "cell_type": "markdown",
   "source": [
    "# Budget\n",
    "Remove rows with missing values: budget"
   ],
   "metadata": {
    "collapsed": false
   },
   "id": "d9d6b9fef008914"
  },
  {
   "cell_type": "code",
   "outputs": [
    {
     "name": "stdout",
     "output_type": "stream",
     "text": [
      "(20825, 31)\n",
      "(20706, 31)\n",
      "Percentage of lost tuples:  0.5714285714285672\n"
     ]
    }
   ],
   "source": [
    "df_cleaned = df.dropna(subset=['converted_budget'])\n",
    "print(df.shape)\n",
    "print(df_cleaned.shape)\n",
    "print(f'Percentage of lost tuples: ', (1- len(df_cleaned)/len(df))*100)"
   ],
   "metadata": {
    "collapsed": false,
    "ExecuteTime": {
     "end_time": "2024-05-31T09:47:53.493412100Z",
     "start_time": "2024-05-31T09:47:53.369653200Z"
    }
   },
   "id": "6b2ce9bbed4c1397",
   "execution_count": 173
  },
  {
   "cell_type": "markdown",
   "source": [
    "# Country and Language\n",
    "1. Remove rows w/o both country and language\n",
    "2. Handling language single value"
   ],
   "metadata": {
    "collapsed": false
   },
   "id": "9095ad528e86405e"
  },
  {
   "cell_type": "markdown",
   "source": [
    "1. Remove rows w/o both country and language"
   ],
   "metadata": {
    "collapsed": false
   },
   "id": "2336745e6339d534"
  },
  {
   "cell_type": "code",
   "outputs": [],
   "source": [
    "df_cleaned = df_cleaned.dropna(subset=['country', 'language'], how='all')"
   ],
   "metadata": {
    "collapsed": false,
    "ExecuteTime": {
     "end_time": "2024-05-31T09:47:53.507427500Z",
     "start_time": "2024-05-31T09:47:53.379929500Z"
    }
   },
   "id": "fbc2e686213b716",
   "execution_count": 174
  },
  {
   "cell_type": "markdown",
   "source": [
    "2. Handling language single value"
   ],
   "metadata": {
    "collapsed": false
   },
   "id": "69619c2bd12d0c14"
  },
  {
   "cell_type": "code",
   "outputs": [],
   "source": [
    "#only first value of column\n",
    "# e.g. Life is beautiful: italian, deutch, francois -> italian\n",
    "df_cleaned['language'] = df_cleaned['language'].str.split(', ').str[0]\n",
    "df_cleaned['country'] = df_cleaned['country'].str.split(', ').str[0]"
   ],
   "metadata": {
    "collapsed": false,
    "ExecuteTime": {
     "end_time": "2024-05-31T09:47:53.525042200Z",
     "start_time": "2024-05-31T09:47:53.391546100Z"
    }
   },
   "id": "4f0207484aa91f2c",
   "execution_count": 175
  },
  {
   "cell_type": "markdown",
   "source": [
    "Distribution of language values mantaining only top ones"
   ],
   "metadata": {
    "collapsed": false
   },
   "id": "3781ab4dc469a661"
  },
  {
   "cell_type": "code",
   "outputs": [
    {
     "data": {
      "text/plain": "<Figure size 1000x600 with 1 Axes>",
      "image/png": "[encoded data removed]"
     },
     "metadata": {},
     "output_type": "display_data"
    },
    {
     "data": {
      "text/plain": "<Figure size 1000x600 with 1 Axes>",
      "image/png": "[encoded data removed]"
     },
     "metadata": {},
     "output_type": "display_data"
    }
   ],
   "source": [
    "top_country_values = df_cleaned['country'].value_counts().head(15)\n",
    "top_language_values = df_cleaned['language'].value_counts().head(15)\n",
    "#Gr 1\n",
    "plt.figure(figsize=(10, 6))\n",
    "top_country_values.plot(kind='bar')\n",
    "plt.title('Distribution of Country values (Top 15)')\n",
    "plt.xlabel('Country')\n",
    "plt.ylabel('Freq')\n",
    "plt.show()\n",
    "# Gr2\n",
    "plt.figure(figsize=(10, 6))\n",
    "top_language_values.plot(kind='bar')\n",
    "plt.title('Distribution of Language values (Top 15)')\n",
    "plt.xlabel('Language')\n",
    "plt.ylabel('Freq')\n",
    "plt.show()"
   ],
   "metadata": {
    "collapsed": false,
    "ExecuteTime": {
     "end_time": "2024-05-31T09:47:54.150074600Z",
     "start_time": "2024-05-31T09:47:53.456176Z"
    }
   },
   "id": "7fd5ecccf0c9c68",
   "execution_count": 176
  },
  {
   "cell_type": "code",
   "outputs": [
    {
     "name": "stdout",
     "output_type": "stream",
     "text": [
      "Rows w/o language in top 15: 2489\n",
      "Rows w/o country in top 15: 3718\n"
     ]
    }
   ],
   "source": [
    "# most freq values 15\n",
    "other_languages = df_cleaned['language'][~df_cleaned['language'].isin(top_language_values.index)]\n",
    "num_other_languages = len(other_languages)\n",
    "print(\"Rows w/o language in top 15:\", num_other_languages)\n",
    "\n",
    "other_countries = df_cleaned['country'][~df_cleaned['country'].isin(top_country_values.index)]\n",
    "num_other_countries = len(other_countries)\n",
    "print(\"Rows w/o country in top 15:\", num_other_countries)\n"
   ],
   "metadata": {
    "collapsed": false,
    "ExecuteTime": {
     "end_time": "2024-05-31T09:47:54.186018700Z",
     "start_time": "2024-05-31T09:47:53.857986600Z"
    }
   },
   "id": "a006415206724c1e",
   "execution_count": 177
  },
  {
   "cell_type": "code",
   "outputs": [],
   "source": [
    "#count values\n",
    "language_counts = df_cleaned['language'].value_counts()\n",
    "country_counts = df_cleaned['country'].value_counts()\n",
    "\n",
    "top_languages = language_counts.head(15).index\n",
    "top_countries = country_counts.head(15).index\n",
    "\n",
    "df_cleaned.loc[~df_cleaned['language'].isin(top_languages), 'language'] = 'Other'\n",
    "df_cleaned.loc[~df_cleaned['country'].isin(top_countries), 'country'] = 'Other'"
   ],
   "metadata": {
    "collapsed": false,
    "ExecuteTime": {
     "end_time": "2024-05-31T09:47:54.202179400Z",
     "start_time": "2024-05-31T09:47:53.896175400Z"
    }
   },
   "id": "aa516c287bd14db6",
   "execution_count": 178
  },
  {
   "cell_type": "code",
   "outputs": [
    {
     "data": {
      "text/plain": "<Figure size 1000x600 with 1 Axes>",
      "image/png": "[encoded data removed]"
     },
     "metadata": {},
     "output_type": "display_data"
    },
    {
     "data": {
      "text/plain": "<Figure size 1000x600 with 1 Axes>",
      "image/png": "[encoded data removed]"
     },
     "metadata": {},
     "output_type": "display_data"
    }
   ],
   "source": [
    "# Gr1\n",
    "plt.figure(figsize=(10, 6))\n",
    "df_cleaned['country'].value_counts().plot(kind='bar')\n",
    "plt.title('Distribution of Country values (Top 15)')\n",
    "plt.xlabel('Country')\n",
    "plt.ylabel('Freq')\n",
    "plt.show()\n",
    "# Gr2\n",
    "plt.figure(figsize=(10, 6))\n",
    "df_cleaned['language'].value_counts().plot(kind='bar')\n",
    "plt.title('Distribution of Language values (Top 15)')\n",
    "plt.xlabel('Language')\n",
    "plt.ylabel('Freq')\n",
    "plt.show()"
   ],
   "metadata": {
    "collapsed": false,
    "ExecuteTime": {
     "end_time": "2024-05-31T09:47:54.704872700Z",
     "start_time": "2024-05-31T09:47:53.912822900Z"
    }
   },
   "id": "5577df8bc7957e02",
   "execution_count": 179
  },
  {
   "cell_type": "markdown",
   "source": [
    "# Production Company"
   ],
   "metadata": {
    "collapsed": false
   },
   "id": "2725942a7bcf57d7"
  },
  {
   "cell_type": "code",
   "outputs": [],
   "source": [
    "production_counts = df_cleaned['production_company'].value_counts()\n",
    "\n",
    "# txt append file 4 exploring\n",
    "with open('production_company_counts.txt', 'w') as file:\n",
    "    for company, count in production_counts.items():\n",
    "        file.write(f'{company}: {count}\\n')"
   ],
   "metadata": {
    "collapsed": false,
    "ExecuteTime": {
     "end_time": "2024-05-31T09:47:54.786694200Z",
     "start_time": "2024-05-31T09:47:54.660743600Z"
    }
   },
   "id": "17917972cf511ac",
   "execution_count": 180
  },
  {
   "cell_type": "markdown",
   "source": [
    "_Universal_"
   ],
   "metadata": {
    "collapsed": false
   },
   "id": "7ba8bcd933a3727f"
  },
  {
   "cell_type": "code",
   "outputs": [
    {
     "data": {
      "text/plain": "'universal_count = (df_cleaned[\\'production_company\\'] == \\'Universal\\').sum()\\nprint(f\"\\'Universal\\': {universal_count}\")'"
     },
     "execution_count": 181,
     "metadata": {},
     "output_type": "execute_result"
    }
   ],
   "source": [
    "keywords = ['universal', 'amblin', 'dreamworks', ' universal', ' amblin', ' Dreamworks', 'universal ', 'amblin ', ' Dreamworks ', ' universal ', ' amblin ', ' dreamworks ']\n",
    "exact_matches = [\n",
    "    'Focus Films', 'Focus Features', 'Illumination Entertainment',\n",
    "    'Illuminations Films', 'Universal International Pictures (UI)', 'Big Idea',\n",
    "    'Bullwinkle Studios', 'DreamWorks', 'DreamWorks Animation',\n",
    "    'Carnival Film & Television', 'Polygram Filmed Entertainment',\n",
    "    'PolyGram Filmed Entertainment', 'Polygram Pictures', 'PolyGram Film Productions BV',\n",
    "    ' Focus Films', ' Focus Features', ' Illumination Entertainment',\n",
    "    ' Illuminations Films', ' Universal International Pictures (UI)', ' Big Idea',\n",
    "    ' Bullwinkle Studios', ' DreamWorks', ' DreamWorks Animation',\n",
    "    ' Carnival Film & Television', ' Polygram Filmed Entertainment',\n",
    "    ' PolyGram Filmed Entertainment', ' Polygram Pictures', ' PolyGram Film Productions BV', \n",
    "    'Focus Films ', 'Focus Features ', 'Illumination Entertainment ',\n",
    "    'Illuminations Films ', 'Universal International Pictures (UI) ', 'Big Idea ',\n",
    "    'Bullwinkle Studios ', 'DreamWorks ', 'DreamWorks Animation ',\n",
    "    'Carnival Film & Television ', 'Polygram Filmed Entertainment ',\n",
    "    'PolyGram Filmed Entertainment ', 'Polygram Pictures ', 'PolyGram Film Productions BV '\n",
    "]\n",
    "\n",
    "def replace_company_name(company):\n",
    "    if pd.isna(company):\n",
    "        return company \n",
    "    company_lower = str(company).lower()  \n",
    "    if any(keyword in company_lower for keyword in keywords):\n",
    "        return 'Universal'\n",
    "    if company in exact_matches:\n",
    "        return 'Universal'\n",
    "    return company\n",
    "df_cleaned['production_company'] = df_cleaned['production_company'].apply(replace_company_name)\n",
    "\"\"\"universal_count = (df_cleaned['production_company'] == 'Universal').sum()\n",
    "print(f\"'Universal': {universal_count}\")\"\"\"\n"
   ],
   "metadata": {
    "collapsed": false,
    "ExecuteTime": {
     "end_time": "2024-05-31T09:47:55.274921Z",
     "start_time": "2024-05-31T09:47:54.705870Z"
    }
   },
   "id": "58b5ad5756942977",
   "execution_count": 181
  },
  {
   "cell_type": "markdown",
   "source": [
    "_Paramount_"
   ],
   "metadata": {
    "collapsed": false
   },
   "id": "ca383aaa81277077"
  },
  {
   "cell_type": "code",
   "outputs": [
    {
     "data": {
      "text/plain": "'paramount_count = (df_cleaned[\\'production_company\\'] == \\'Paramount\\').sum()\\nprint(f\"\\'Paramount\\': {paramount_count}\")'"
     },
     "execution_count": 182,
     "metadata": {},
     "output_type": "execute_result"
    }
   ],
   "source": [
    "paramount_keywords = ['paramount', 'cbs']\n",
    "paramount_exact_matches = ['Paramount', 'CBS', 'Miramax', 'Nickelodeon Movies', 'Nickel Odeon',\n",
    "                           'Republic Pictures (I)', 'Republic Pictures (II)',\n",
    "                           'Republic Pictures Corporation (I)', 'MTV Films',\n",
    "                           'BET Films', 'BET Pictures',\n",
    "                           'Awesomeness Films', 'Viacom18 Motion Pictures']\n",
    "def replace_company_name(company):\n",
    "    if pd.isna(company):\n",
    "        return company  \n",
    "    company_lower = str(company).lower()  \n",
    "    if any(keyword in company_lower for keyword in paramount_keywords):\n",
    "        return 'Paramount'\n",
    "    if company in paramount_exact_matches:\n",
    "        return 'Paramount'\n",
    "    return company\n",
    "\n",
    "df_cleaned['production_company'] = df_cleaned['production_company'].apply(replace_company_name)\n",
    "\n",
    "\"\"\"paramount_count = (df_cleaned['production_company'] == 'Paramount').sum()\n",
    "print(f\"'Paramount': {paramount_count}\")\"\"\""
   ],
   "metadata": {
    "collapsed": false,
    "ExecuteTime": {
     "end_time": "2024-05-31T09:47:55.426888800Z",
     "start_time": "2024-05-31T09:47:54.955390800Z"
    }
   },
   "id": "cdb7fedadb2e5728",
   "execution_count": 182
  },
  {
   "cell_type": "markdown",
   "source": [
    "_Warner_"
   ],
   "metadata": {
    "collapsed": false
   },
   "id": "a525a766b5d5fbaa"
  },
  {
   "cell_type": "code",
   "outputs": [],
   "source": [
    "warner_keywords = ['Warner']\n",
    "warner_exact_matches = ['HBO', 'New Line Cinema', 'Spyglass Entertainment', 'Rooster Teeth Productions',\n",
    "                           'DC Entertainment', 'DC Medias', 'DC Comics', 'Cartoon Network Studios',\n",
    "                           'Richard Williams Productions', 'Derick Williams Productions', \n",
    "                           'Hanna-Barbera Productions', 'Alloy Entertainment', 'Castle Rock Entertainment',\n",
    "                           'Turner Pictures (I)', 'Discovery Films UK', 'The Weinstein Company']\n",
    "def mod_and_count(df_cleaned, keywords, exact_matches):\n",
    "    mods_count = 0\n",
    "    for i, row in df_cleaned.iterrows():\n",
    "        if any(keyword.lower() in str(row['production_company']).lower() for keyword in keywords):\n",
    "            df_cleaned.at[i, 'production_company'] = 'Warner'\n",
    "            mods_count += 1\n",
    "        elif row['production_company'] in exact_matches:\n",
    "            df_cleaned.at[i, 'production_company'] = 'Warner'\n",
    "            mods_count += 1\n",
    "    return mods_count\n",
    "\n",
    "mods = mod_and_count(df_cleaned, warner_keywords, warner_exact_matches)\n",
    "numero_righe_warner = (df_cleaned['production_company'] == 'Warner').sum()\n"
   ],
   "metadata": {
    "collapsed": false,
    "ExecuteTime": {
     "end_time": "2024-05-31T09:47:56.817634500Z",
     "start_time": "2024-05-31T09:47:55.048885Z"
    }
   },
   "id": "ff966700df0d56e5",
   "execution_count": 183
  },
  {
   "cell_type": "markdown",
   "source": [
    "_20th Century Fox_"
   ],
   "metadata": {
    "collapsed": false
   },
   "id": "a37af12d75523718"
  },
  {
   "cell_type": "code",
   "outputs": [],
   "source": [
    "twenty_exact_matches = ['ESPN Films',\n",
    " '20th Century Fox',\n",
    " '20th Century Fox Argentina',\n",
    " '20th Century Fox Television',\n",
    " '20th Century Pictures',\n",
    " 'Twentieth Century Fox',\n",
    " 'Twentieth Century Fox Animation',\n",
    " 'Fox 2000 Pictures',\n",
    " 'Fox Searchlight Pictures',\n",
    " 'Fox Atomic',\n",
    " 'Fox International Productions (FIP)',\n",
    " 'Fox Film Corporation',\n",
    " 'Fox STAR Studios',\n",
    " 'Fox Digital Studios',\n",
    " 'Fox Family Channel',\n",
    " 'Fox Filmes do Brasil',\n",
    " '21st Century Film Corporation',\n",
    " '21st Century 3D',\n",
    " '21st Century Films',\n",
    " '21st Century Productions UK',\n",
    " '21st Century Film Production',\n",
    " 'ESPN Films',\n",
    " 'Lucasfilm',\n",
    " 'Lucasfilm Animation',\n",
    " 'Freeform',\n",
    " 'New World Pictures',\n",
    " 'New World Entertainment Films',\n",
    " 'New World Films', 'Regency Enterprises']\n",
    "\n",
    "def mod_and_count(df_cleaned, twenty_exact_matches):\n",
    "    mods_count = 0\n",
    "    for i, row in df_cleaned.iterrows():\n",
    "        \"\"\"if any(keyword.lower() in str(row['production_company']).lower() for keyword in keywords):\n",
    "            df_cleaned.at[i, 'production_company'] = 'Twentieth Century Fox'\n",
    "            mods_count += 1\"\"\"\n",
    "        if row['production_company'] in twenty_exact_matches:\n",
    "            df_cleaned.at[i, 'production_company'] = 'Twentieth Century Fox'\n",
    "            mods_count += 1\n",
    "    return mods_count\n",
    "\n",
    "# Esegui le modifiche e contali\n",
    "mods = mod_and_count(df_cleaned, twenty_exact_matches)\n"
   ],
   "metadata": {
    "collapsed": false,
    "ExecuteTime": {
     "end_time": "2024-05-31T09:47:57.697188500Z",
     "start_time": "2024-05-31T09:47:56.833233500Z"
    }
   },
   "id": "ec989df3bf5b6179",
   "execution_count": 184
  },
  {
   "cell_type": "markdown",
   "source": [
    "_Disney_"
   ],
   "metadata": {
    "collapsed": false
   },
   "id": "300d4683dd72af7f"
  },
  {
   "cell_type": "code",
   "outputs": [
    {
     "data": {
      "text/plain": "344"
     },
     "execution_count": 185,
     "metadata": {},
     "output_type": "execute_result"
    }
   ],
   "source": [
    "disney_keywords = ['Disney']\n",
    "\n",
    "# Lista delle corrispondenze esatte\n",
    "disney_exact_matches = [\n",
    "    'Marvel Entertainment', 'Marvel Enterprises', 'Marvel Studios', 'Pixar Animation Studios', 'Touchstone Pictures',\n",
    "    'Hollywood Pictures'\n",
    "]\n",
    "\n",
    "# Funzione per contare le righe che soddisfano le condizioni specificate\n",
    "def mod_and_count(df_cleaned, disney_keywords, disney_exact_matches):\n",
    "    mods_count = 0\n",
    "    for i, row in df_cleaned.iterrows():\n",
    "        if any(keyword.lower() in str(row['production_company']).lower() for keyword in disney_keywords):\n",
    "            df_cleaned.at[i, 'production_company'] = 'Disney'\n",
    "            mods_count += 1\n",
    "        elif row['production_company'] in disney_exact_matches:\n",
    "            df_cleaned.at[i, 'production_company'] = 'Disney'\n",
    "            mods_count += 1\n",
    "    return mods_count\n",
    "\n",
    "# Esegui le modifiche e contali\n",
    "mod_and_count(df_cleaned, disney_keywords, disney_exact_matches)"
   ],
   "metadata": {
    "collapsed": false,
    "ExecuteTime": {
     "end_time": "2024-05-31T09:47:58.617445300Z",
     "start_time": "2024-05-31T09:47:57.687664500Z"
    }
   },
   "id": "884d405be1f6eb2a",
   "execution_count": 185
  },
  {
   "cell_type": "markdown",
   "source": [
    "_Sony_"
   ],
   "metadata": {
    "collapsed": false
   },
   "id": "3db6f247638d2acc"
  },
  {
   "cell_type": "code",
   "outputs": [
    {
     "data": {
      "text/plain": "620"
     },
     "execution_count": 186,
     "metadata": {},
     "output_type": "execute_result"
    }
   ],
   "source": [
    "sony_keywords = ['sony', 'tristar', 'columbia']\n",
    "sony_exact_matches = [\n",
    "     'Screen Gems',\n",
    "     'Stage 6 Films',\n",
    "     'Affirm Films',\n",
    "     'Ghost Film Pictures',\n",
    "     'Ghost Pictures',\n",
    "     'Madhouse',\n",
    "     'Toei Company',\n",
    "     'Toei Animation',\n",
    "     'Toei',\n",
    "     'Toei Tokyo',\n",
    "     'Toei Video Company',\n",
    "     'Destination Films',\n",
    "     'Left Bank Pictures',\n",
    "     'Revolution Studios',\n",
    "     'Revolution Films',\n",
    "]\n",
    "\n",
    "def mod_and_count(df_cleaned, sony_keywords, sony_exact_matches):\n",
    "    mods_count = 0\n",
    "    for i, row in df_cleaned.iterrows():\n",
    "        if any(keyword.lower() in str(row['production_company']).lower() for keyword in sony_keywords):\n",
    "            df_cleaned.at[i, 'production_company'] = 'Sony'\n",
    "            mods_count += 1\n",
    "        elif row['production_company'] in sony_exact_matches:\n",
    "            df_cleaned.at[i, 'production_company'] = 'Sony'\n",
    "            mods_count += 1\n",
    "    return mods_count\n",
    "\n",
    "mod_and_count(df_cleaned, sony_keywords, sony_exact_matches)"
   ],
   "metadata": {
    "collapsed": false,
    "ExecuteTime": {
     "end_time": "2024-05-31T09:47:59.482474300Z",
     "start_time": "2024-05-31T09:47:58.610926Z"
    }
   },
   "id": "9bc14f66e2fbe3f9",
   "execution_count": 186
  },
  {
   "cell_type": "markdown",
   "source": [
    "_MGM_"
   ],
   "metadata": {
    "collapsed": false
   },
   "id": "9a540b3649a31d6"
  },
  {
   "cell_type": "code",
   "outputs": [
    {
     "data": {
      "text/plain": "265"
     },
     "execution_count": 187,
     "metadata": {},
     "output_type": "execute_result"
    }
   ],
   "source": [
    "MGM_exact_matches = [\n",
    "     'Metro-Goldwyn-Mayer (MGM)',\n",
    "     'Metro Films',\n",
    "     'Metro Pictures Corporation',\n",
    "     'Metro Communications',\n",
    "     'Monogram Pictures',\n",
    "     'Cannon Group',\n",
    "     'Cannon Films',\n",
    "     'The Cannon Group',\n",
    "     'Cannon Pictures',\n",
    "     'Cannon International',\n",
    "     'Cannon Entertainment',\n",
    "     'The Samuel Goldwyn Company',\n",
    "     'Samuel Goldwyn Films'\n",
    "]\n",
    "\n",
    "def mod_and_count(df_cleaned, MGM_exact_matches):\n",
    "    mods_count = 0\n",
    "    for i, row in df_cleaned.iterrows():\n",
    "        \"\"\"if any(keyword.lower() in str(row['production_company']).lower() for keyword in sony_keywords):\n",
    "            df_cleaned.at[i, 'production_company'] = 'MGM'\n",
    "            mods_count += 1\"\"\"\n",
    "        if row['production_company'] in MGM_exact_matches:\n",
    "            df_cleaned.at[i, 'production_company'] = 'MGM'\n",
    "            mods_count += 1\n",
    "    return mods_count\n",
    "\n",
    "mod_and_count(df_cleaned, MGM_exact_matches)"
   ],
   "metadata": {
    "collapsed": false,
    "ExecuteTime": {
     "end_time": "2024-05-31T09:48:00.181874400Z",
     "start_time": "2024-05-31T09:47:59.485765400Z"
    }
   },
   "id": "ca2ae3699a773b7d",
   "execution_count": 187
  },
  {
   "cell_type": "markdown",
   "source": [
    "_United Artists_"
   ],
   "metadata": {
    "collapsed": false
   },
   "id": "75d8176b228b391a"
  },
  {
   "cell_type": "code",
   "outputs": [
    {
     "data": {
      "text/plain": "34"
     },
     "execution_count": 188,
     "metadata": {},
     "output_type": "execute_result"
    }
   ],
   "source": [
    "UA_exact_matches = [\n",
    "     'United Artists',\n",
    "     'United Artists Film Corporation',\n",
    "     'United Artists Pictures', 'United Arists'\n",
    "]\n",
    "def mod_and_count(df_cleaned, UA_exact_matches):\n",
    "    mods_count = 0\n",
    "    for i, row in df_cleaned.iterrows():\n",
    "        \"\"\"if any(keyword.lower() in str(row['production_company']).lower() for keyword in sony_keywords):\n",
    "            df_cleaned.at[i, 'production_company'] = 'United Artists'\n",
    "            mods_count += 1\"\"\"\n",
    "        if row['production_company'] in UA_exact_matches:\n",
    "            df_cleaned.at[i, 'production_company'] = 'United Artists'\n",
    "            mods_count += 1\n",
    "    return mods_count\n",
    "\n",
    "mod_and_count(df_cleaned, UA_exact_matches)"
   ],
   "metadata": {
    "collapsed": false,
    "ExecuteTime": {
     "end_time": "2024-05-31T09:48:00.761027500Z",
     "start_time": "2024-05-31T09:48:00.184877200Z"
    }
   },
   "id": "31c791c81aeecd7d",
   "execution_count": 188
  },
  {
   "cell_type": "markdown",
   "source": [
    "_RKO_"
   ],
   "metadata": {
    "collapsed": false
   },
   "id": "ef38bd9c21f7ff66"
  },
  {
   "cell_type": "code",
   "outputs": [
    {
     "data": {
      "text/plain": "35"
     },
     "execution_count": 189,
     "metadata": {},
     "output_type": "execute_result"
    }
   ],
   "source": [
    "RKO_exact_matches = [\n",
    "     'RKO Radio Pictures',\n",
    "     'RKO Pictures'\n",
    "]\n",
    "\n",
    "# Funzione per contare le righe che soddisfano le condizioni specificate\n",
    "def mod_and_count(df_cleaned, RKO_exact_matches):\n",
    "    mods_count = 0\n",
    "    for i, row in df_cleaned.iterrows():\n",
    "        \"\"\"if any(keyword.lower() in str(row['production_company']).lower() for keyword in sony_keywords):\n",
    "            df_cleaned.at[i, 'production_company'] = 'United Artists'\n",
    "            mods_count += 1\"\"\"\n",
    "        if row['production_company'] in RKO_exact_matches:\n",
    "            df_cleaned.at[i, 'production_company'] = 'RKO'\n",
    "            mods_count += 1\n",
    "    return mods_count\n",
    "mod_and_count(df_cleaned, RKO_exact_matches)"
   ],
   "metadata": {
    "collapsed": false,
    "ExecuteTime": {
     "end_time": "2024-05-31T09:48:01.349480700Z",
     "start_time": "2024-05-31T09:48:00.762033300Z"
    }
   },
   "id": "185cfd5b2327eaa3",
   "execution_count": 189
  },
  {
   "cell_type": "markdown",
   "source": [
    "_Lionsgate_"
   ],
   "metadata": {
    "collapsed": false
   },
   "id": "77773701f95853ee"
  },
  {
   "cell_type": "code",
   "outputs": [
    {
     "data": {
      "text/plain": "193"
     },
     "execution_count": 190,
     "metadata": {},
     "output_type": "execute_result"
    }
   ],
   "source": [
    "LG_exact_matches = [\n",
    "     'Lionsgate',\n",
    "     'Lions Gate Films',\n",
    "     'Lions Gate Entertainment',\n",
    "     'Lionsgate Premiere',\n",
    "     'Lionsgate UK',\n",
    "     'Lions Gate International',\n",
    "     'Lions Gate Family Entertainment',\n",
    "     'Summit Entertainment',\n",
    "     'Summit Premiere',\n",
    "     '3 Arts Entertainment',\n",
    "     'Entertainment One',\n",
    "     'Entertainment One India Ltd.',\n",
    "     'Good Universe',\n",
    "     'Grindstone Entertainment Group',\n",
    "     'Pantelion Films',\n",
    "     'Roadside Attractions',\n",
    "     'Spyglass Entertainment',\n",
    "     'Artisan Entertainment',\n",
    "     'Overture Films'\n",
    "]\n",
    "\n",
    "def mod_and_count(df_cleaned, LG_exact_matches):\n",
    "    mods_count = 0\n",
    "    for i, row in df_cleaned.iterrows():\n",
    "        \"\"\"if any(keyword.lower() in str(row['production_company']).lower() for keyword in LG_keywords):\n",
    "            df_cleaned.at[i, 'production_company'] = 'United Artists'\n",
    "            mods_count += 1\"\"\"\n",
    "        if row['production_company'] in LG_exact_matches:\n",
    "            df_cleaned.at[i, 'production_company'] = 'Lionsgate'\n",
    "            mods_count += 1\n",
    "    return mods_count\n",
    "\n",
    "mod_and_count(df_cleaned, LG_exact_matches)"
   ],
   "metadata": {
    "collapsed": false,
    "ExecuteTime": {
     "end_time": "2024-05-31T09:48:02.011721700Z",
     "start_time": "2024-05-31T09:48:01.353807200Z"
    }
   },
   "id": "bfc21570ea65e252",
   "execution_count": 190
  },
  {
   "cell_type": "markdown",
   "source": [
    "_Amazon_"
   ],
   "metadata": {
    "collapsed": false
   },
   "id": "f0550f417e31631b"
  },
  {
   "cell_type": "code",
   "outputs": [
    {
     "data": {
      "text/plain": "77"
     },
     "execution_count": 191,
     "metadata": {},
     "output_type": "execute_result"
    }
   ],
   "source": [
    "AMZ_exact_matches = [\n",
    "     'Amazon Studios',\n",
    "     'Amazon Prime Video',\n",
    "     'Orion Pictures',\n",
    "     'LightWorkers Media',\n",
    "     'American International Pictures (AIP)',\n",
    "     'American Independent Productions',\n",
    "]\n",
    "\n",
    "def mod_and_count(df_cleaned, AMZ_exact_matches):\n",
    "    mods_count = 0\n",
    "    for i, row in df_cleaned.iterrows():\n",
    "        \"\"\"if any(keyword.lower() in str(row['production_company']).lower() for keyword in LG_keywords):\n",
    "            df_cleaned.at[i, 'production_company'] = 'United Artists'\n",
    "            mods_count += 1\"\"\"\n",
    "        if row['production_company'] in AMZ_exact_matches:\n",
    "            df_cleaned.at[i, 'production_company'] = 'Amazon'\n",
    "            mods_count += 1\n",
    "    return mods_count\n",
    "\n",
    "mod_and_count(df_cleaned, AMZ_exact_matches)"
   ],
   "metadata": {
    "collapsed": false,
    "ExecuteTime": {
     "end_time": "2024-05-31T09:48:02.632074800Z",
     "start_time": "2024-05-31T09:48:02.013751200Z"
    }
   },
   "id": "d9f1fdd1b39dddb7",
   "execution_count": 191
  },
  {
   "cell_type": "markdown",
   "source": [
    "_STX_"
   ],
   "metadata": {
    "collapsed": false
   },
   "id": "348aed6dca5e7953"
  },
  {
   "cell_type": "code",
   "outputs": [
    {
     "data": {
      "text/plain": "8"
     },
     "execution_count": 192,
     "metadata": {},
     "output_type": "execute_result"
    }
   ],
   "source": [
    "STX_exact_matches = [\n",
    "     'STX Films',\n",
    "     'STX Entertainment'\n",
    "]\n",
    "\n",
    "def mod_and_count(df_cleaned, STX_exact_matches):\n",
    "    mods_count = 0\n",
    "    for i, row in df_cleaned.iterrows():\n",
    "        \"\"\"if any(keyword.lower() in str(row['production_company']).lower() for keyword in LG_keywords):\n",
    "            df_cleaned.at[i, 'production_company'] = 'United Artists'\n",
    "            mods_count += 1\"\"\"\n",
    "        if row['production_company'] in STX_exact_matches:\n",
    "            df_cleaned.at[i, 'production_company'] = 'STX'\n",
    "            mods_count += 1\n",
    "    return mods_count\n",
    "\n",
    "mod_and_count(df_cleaned, STX_exact_matches)\n"
   ],
   "metadata": {
    "collapsed": false,
    "ExecuteTime": {
     "end_time": "2024-05-31T09:48:03.212202300Z",
     "start_time": "2024-05-31T09:48:02.629236700Z"
    }
   },
   "id": "cc68071b31aaaddf",
   "execution_count": 192
  },
  {
   "cell_type": "markdown",
   "source": [
    "_De Laurentiis_"
   ],
   "metadata": {
    "collapsed": false
   },
   "id": "c322d7a49abdf46a"
  },
  {
   "cell_type": "code",
   "outputs": [
    {
     "data": {
      "text/plain": "46"
     },
     "execution_count": 193,
     "metadata": {},
     "output_type": "execute_result"
    }
   ],
   "source": [
    "Dino_keywords = ['De Laurentiis']\n",
    "\n",
    "def mod_and_count(df_cleaned, Dino_keywords):\n",
    "    mods_count = 0\n",
    "    for i, row in df_cleaned.iterrows():\n",
    "        if any(keyword.lower() in str(row['production_company']).lower() for keyword in Dino_keywords):\n",
    "            df_cleaned.at[i, 'production_company'] = 'De Laurentiis'\n",
    "            mods_count += 1\n",
    "    return mods_count\n",
    "\n",
    "mod_and_count(df_cleaned, Dino_keywords)"
   ],
   "metadata": {
    "collapsed": false,
    "ExecuteTime": {
     "end_time": "2024-05-31T09:48:03.809108300Z",
     "start_time": "2024-05-31T09:48:03.215202200Z"
    }
   },
   "id": "7fda5695d1a08ec7",
   "execution_count": 193
  },
  {
   "cell_type": "markdown",
   "source": [
    "_Medusa films_"
   ],
   "metadata": {
    "collapsed": false
   },
   "id": "e2c87ea196478efa"
  },
  {
   "cell_type": "code",
   "outputs": [
    {
     "data": {
      "text/plain": "36"
     },
     "execution_count": 194,
     "metadata": {},
     "output_type": "execute_result"
    }
   ],
   "source": [
    "Dino_keywords = ['Medusa', 'Berlusconi', 'Cecchi']\n",
    "\n",
    "def mod_and_count(df_cleaned, Dino_keywords):\n",
    "    mods_count = 0\n",
    "    for i, row in df_cleaned.iterrows():\n",
    "        if any(keyword.lower() in str(row['production_company']).lower() for keyword in Dino_keywords):\n",
    "            df_cleaned.at[i, 'production_company'] = 'Medusa'\n",
    "            mods_count += 1\n",
    "    return mods_count\n",
    "\n",
    "mod_and_count(df_cleaned, Dino_keywords)"
   ],
   "metadata": {
    "collapsed": false,
    "ExecuteTime": {
     "end_time": "2024-05-31T09:48:04.481357Z",
     "start_time": "2024-05-31T09:48:03.812117100Z"
    }
   },
   "id": "f22690d4a9d45b9d",
   "execution_count": 194
  },
  {
   "cell_type": "code",
   "outputs": [],
   "source": [
    "df_cleaned.to_csv('../dataset/complete_raw_dataset.csv', index=False)"
   ],
   "metadata": {
    "collapsed": false,
    "ExecuteTime": {
     "end_time": "2024-05-31T09:48:04.658749800Z",
     "start_time": "2024-05-31T09:48:04.486392600Z"
    }
   },
   "id": "d86e233283ce70d9",
   "execution_count": 195
  },
  {
   "cell_type": "code",
   "outputs": [],
   "source": [
    "\"\"\"df = pd.read_csv('../dataset/complete_raw_dataset.csv')\n",
    "\n",
    "production_counts = df['production_company'].value_counts()\n",
    "\n",
    "with open('production_company_counts.txt', 'w') as file:\n",
    "    for company, count in production_counts.items():\n",
    "        file.write(f'{company}: {count}\\n')\"\"\""
   ],
   "metadata": {
    "collapsed": false,
    "ExecuteTime": {
     "end_time": "2024-05-31T09:48:04.753158400Z",
     "start_time": "2024-05-31T09:48:04.661675500Z"
    }
   },
   "id": "4864f2a045f2d9d9",
   "execution_count": 196
  },
  {
   "cell_type": "markdown",
   "source": [
    "# Date conversion"
   ],
   "metadata": {
    "collapsed": false
   },
   "id": "6148623ebb7ee362"
  },
  {
   "cell_type": "code",
   "outputs": [],
   "source": [],
   "metadata": {
    "collapsed": false
   },
   "id": "7d323a7912f52788"
  },
  {
   "cell_type": "markdown",
   "source": [
    "# One hot encoding"
   ],
   "metadata": {
    "collapsed": false
   },
   "id": "b279010ef15f852a"
  },
  {
   "cell_type": "code",
   "outputs": [
    {
     "name": "stdout",
     "output_type": "stream",
     "text": [
      "production_company\n",
      "Warner                     679\n",
      "Universal                  622\n",
      "Sony                       620\n",
      "Paramount                  509\n",
      "Twentieth Century Fox      499\n",
      "                          ... \n",
      "State Street Pictures        1\n",
      "Roc Media                    1\n",
      "Tag Entertainment            1\n",
      "Graveyard Filmworks          1\n",
      "Thomas Thiruvalla Films      1\n",
      "Name: count, Length: 9876, dtype: int64\n"
     ]
    },
    {
     "data": {
      "text/plain": "\"top_languages = language_counts.head(15).index\\ndf_cleaned.loc[~df_cleaned['country'].isin(top_countries), 'country'] = 'Other'\""
     },
     "execution_count": 200,
     "metadata": {},
     "output_type": "execute_result"
    }
   ],
   "source": [
    "\"\"\"companies_counts = df_cleaned['production_company'].value_counts()\n",
    "print(companies_counts)\n",
    "top_languages = language_counts.head(22).index\n",
    "df_cleaned.loc[~df_cleaned['production_company'].isin(top_countries), 'production_company'] = 'Other'\"\"\""
   ],
   "metadata": {
    "collapsed": false,
    "ExecuteTime": {
     "end_time": "2024-05-31T09:58:31.108025600Z",
     "start_time": "2024-05-31T09:58:31.095834300Z"
    }
   },
   "id": "d43653c821f858ac",
   "execution_count": 200
  },
  {
   "cell_type": "code",
   "outputs": [],
   "source": [
    "def multivalue_one_hot(df, column):\n",
    "    s = df[column].str.get_dummies(sep=', ')\n",
    "    return df.join(s.add_prefix(column + ''))\n",
    "df_selected = multi_value_one_hot(df_selected, 'genre')"
   ],
   "metadata": {
    "collapsed": false
   },
   "id": "200a288c68d33c5b"
  }
 ],
 "metadata": {
  "kernelspec": {
   "display_name": "Python 3",
   "language": "python",
   "name": "python3"
  },
  "language_info": {
   "codemirror_mode": {
    "name": "ipython",
    "version": 2
   },
   "file_extension": ".py",
   "mimetype": "text/x-python",
   "name": "python",
   "nbconvert_exporter": "python",
   "pygments_lexer": "ipython2",
   "version": "2.7.6"
  }
 },
 "nbformat": 4,
 "nbformat_minor": 5
}
