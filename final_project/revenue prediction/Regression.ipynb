{
 "cells": [
  {
   "cell_type": "code",
   "execution_count": 36,
   "id": "initial_id",
   "metadata": {
    "collapsed": true,
    "ExecuteTime": {
     "end_time": "2024-05-31T15:32:43.024214Z",
     "start_time": "2024-05-31T15:32:42.665011500Z"
    }
   },
   "outputs": [],
   "source": [
    "import pandas as pd\n",
    "import numpy as np\n",
    "from sklearn.model_selection import train_test_split\n",
    "\n",
    "# Carica il dataset\n",
    "df = pd.read_csv('../dataset/preprocessed_dataset.csv')\n",
    "df = df.drop('votes', axis=1)\n",
    "df = df.drop('avg_vote', axis=1)"
   ]
  },
  {
   "cell_type": "code",
   "execution_count": 37,
   "outputs": [
    {
     "name": "stdout",
     "output_type": "stream",
     "text": [
      "   duration  converted_budget  dir_oscar_nomination  dir_oscar_won  \\\n",
      "0      88.0          175700.3                     0              0   \n",
      "1      59.0         3013850.0                     0              0   \n",
      "2      77.0          521727.6                     0              0   \n",
      "3      50.0         5598468.6                     0              0   \n",
      "4     300.0        10802441.1                     0              0   \n",
      "\n",
      "   writer_oscar_nomination  writer_oscar_won  cast_oscar_nomination  \\\n",
      "0                        0                 0                      0   \n",
      "1                        0                 0                      0   \n",
      "2                        0                 0                      0   \n",
      "3                        0                 0                      0   \n",
      "4                        0                 0                      0   \n",
      "\n",
      "   cast_oscar_won  dir_globe_nomination  dir_globe_won  ...  month_3  month_4  \\\n",
      "0               0                     0              0  ...    False    False   \n",
      "1               0                     0              0  ...    False    False   \n",
      "2               0                     0              0  ...    False    False   \n",
      "3               0                     0              0  ...    False     True   \n",
      "4               0                     0              0  ...    False    False   \n",
      "\n",
      "   month_5  month_6  month_7  month_8  month_9  month_10  month_11  month_12  \n",
      "0    False    False    False    False    False     False      True     False  \n",
      "1    False    False    False    False    False      True     False     False  \n",
      "2    False    False    False    False    False     False      True     False  \n",
      "3    False    False    False    False    False     False     False     False  \n",
      "4    False    False    False    False    False     False     False     False  \n",
      "\n",
      "[5 rows x 96 columns]\n"
     ]
    }
   ],
   "source": [
    "X = df.drop('revenue_with_CPI', axis=1)\n",
    "y = df['revenue_with_CPI']\n",
    "print(X.head())"
   ],
   "metadata": {
    "collapsed": false,
    "ExecuteTime": {
     "end_time": "2024-05-31T15:32:43.092209100Z",
     "start_time": "2024-05-31T15:32:43.030209200Z"
    }
   },
   "id": "c06e8f645e77cbe3"
  },
  {
   "cell_type": "code",
   "execution_count": 38,
   "outputs": [],
   "source": [
    "import pandas as pd\n",
    "from sklearn.model_selection import train_test_split\n",
    "from sklearn.preprocessing import StandardScaler\n",
    "from sklearn.ensemble import RandomForestClassifier\n",
    "from sklearn.metrics import accuracy_score, classification_report, confusion_matrix\n",
    "from sklearn.neighbors import NearestNeighbors\n",
    "import numpy as np\n",
    "from imblearn.over_sampling import SMOTENC\n",
    "from imblearn.under_sampling import RandomUnderSampler\n",
    "\n",
    "X_train, X_test, y_train, y_test = train_test_split(X, y, test_size=0.2, random_state=42)\n"
   ],
   "metadata": {
    "collapsed": false,
    "ExecuteTime": {
     "end_time": "2024-05-31T15:32:43.206205600Z",
     "start_time": "2024-05-31T15:32:43.101209100Z"
    }
   },
   "id": "9259993586f3b330"
  },
  {
   "cell_type": "code",
   "execution_count": 39,
   "outputs": [],
   "source": [
    "from sklearn.preprocessing import StandardScaler\n",
    "from sklearn.decomposition import PCA\n",
    "from sklearn.preprocessing import StandardScaler\n",
    "import numpy as np\n",
    "from scipy import stats\n",
    "scaler = StandardScaler()\n",
    "numerical_columns = ['duration','converted_budget',\n",
    "                     'dir_oscar_nomination', 'dir_oscar_won', \n",
    "                     'writer_oscar_nomination', 'writer_oscar_won', \n",
    "                     'cast_oscar_nomination', 'cast_oscar_won', \n",
    "                     'dir_globe_nomination', 'dir_globe_won', \n",
    "                     'cast_globe_nomination', 'cast_globe_won',\n",
    "                     'BAFTA_writer_nom','BAFTA_writer_won', 'dir_emmy_nom','dir_emmy_won','writer_emmy_won',\n",
    "                     #'actors_films_before', 'director_films_before', 'writers_films_before'\n",
    "                     ]\n",
    "\n",
    "'''lambdas = {}\n",
    "for col in numerical_columns:\n",
    "    print(col)\n",
    "    # La trasformazione di Box-Cox richiede valori positivi, aggiungi 1 se ci sono zeri o negativi\n",
    "    X_train[col], lambdas[col] = stats.boxcox(X_train[col] + 1)\n",
    "    X_test[col] = stats.boxcox(X_test[col]+1, lmbda=lambdas[col])'''\n",
    "for col in numerical_columns:\n",
    "     X_train[col] = np.log1p(X_train[col])\n",
    "     X_test[col] = np.log1p(X_test[col])\n",
    "\n",
    "\n",
    "scaler = StandardScaler()\n",
    "\n",
    "# Adatta lo scaler solo al training set e poi trasforma sia il training set che il test set\n",
    "X_train[numerical_columns] = scaler.fit_transform(X_train[numerical_columns])\n",
    "X_test[numerical_columns] = scaler.transform(X_test[numerical_columns])\n",
    "\n",
    "\n",
    "#X_train, X_test = X_train.align(X_test, join='outer', axis=1, fill_value=0)\n",
    "\n",
    "\n",
    "# Esegui la PCA solo sul set di training\n",
    "#pca = PCA(n_components=10)  # Sostituisci 10 con il numero desiderato di componenti principali\n",
    "#X_train_resampled = pca.fit_transform(X_train_resampled)\n",
    "#X_test = pca.transform(X_test)  # Applica le stesse trasformazioni al set di test\n",
    "\n",
    "#y_train_transformed, lambda_train = stats.boxcox(y_train)\n",
    "#y_test_transformed = stats.boxcox(y_test, lmbda=lambda_train)\n",
    "\n",
    "#y_train_transformed = np.log1p(y_train)\n",
    "#y_test_transformed = np.log1p(y_test)\n"
   ],
   "metadata": {
    "collapsed": false,
    "ExecuteTime": {
     "end_time": "2024-05-31T15:32:43.291202700Z",
     "start_time": "2024-05-31T15:32:43.186213100Z"
    }
   },
   "id": "78eded39229f9b55"
  },
  {
   "cell_type": "code",
   "execution_count": 40,
   "outputs": [
    {
     "name": "stdout",
     "output_type": "stream",
     "text": [
      "Selected features based on Random Forest importance: ['duration', 'converted_budget', 'writer_oscar_nomination', 'cast_oscar_nomination', 'cast_oscar_won', 'cast_globe_nomination', 'cast_globe_won', 'BAFTA_act_nom', 'act_emmy_nom', 'genre_Action', 'genre_Adventure', 'genre_Comedy', 'genre_Crime', 'genre_Drama', 'genre_Romance', 'genre_Thriller', 'language_English', 'production_company_Disney', 'production_company_Sony', 'month_1', 'month_4', 'month_6', 'month_9', 'month_10']\n"
     ]
    }
   ],
   "source": [
    "from sklearn.ensemble import RandomForestRegressor\n",
    "\n",
    "# Addestra un modello di Random Forest\n",
    "rf = RandomForestRegressor(n_estimators=100,max_features=4, random_state=42)\n",
    "rf.fit(X_train, y_train)\n",
    "\n",
    "# Ottieni le importanze delle feature\n",
    "importances = rf.feature_importances_\n",
    "\n",
    "# Seleziona le feature con importanza sopra una soglia\n",
    "threshold = np.percentile(importances, 75)  # Seleziona le feature nel top 25%\n",
    "selected_features_rf = X_train.columns[importances >= threshold].tolist()\n",
    "\n",
    "X_train = X_train[selected_features_rf]\n",
    "X_test = X_test[selected_features_rf]\n",
    "print(\"Selected features based on Random Forest importance:\", selected_features_rf)\n"
   ],
   "metadata": {
    "collapsed": false,
    "ExecuteTime": {
     "end_time": "2024-05-31T15:32:54.256050Z",
     "start_time": "2024-05-31T15:32:43.333210200Z"
    }
   },
   "id": "919090bb7dd6f93f"
  },
  {
   "cell_type": "code",
   "execution_count": 41,
   "outputs": [
    {
     "name": "stdout",
     "output_type": "stream",
     "text": [
      "Test Set - MSE: 4.642763775112868e+16\n",
      "Test Set - R²: 0.3759952918254178\n",
      "Test Set - MAE: 85322637.91117847\n",
      "\n",
      "Train Set - MSE: 7363007566664910.0\n",
      "Train Set - R²: 0.9127623764168248\n",
      "Train Set - MAE: 30686530.28275454\n"
     ]
    },
    {
     "data": {
      "text/plain": "\"from scipy.special import inv_boxcox\\n\\n# Applica la trasformazione inversa ai valori previsti\\ny_pred_inverse = inv_boxcox(y_pred_test, lambda_train)\\n# Applica la trasformazione inversa ai valori effettivi\\ny_test_inverse = inv_boxcox(y_test_transformed, lambda_train)\\n\\n# Calcola l'errore assoluto o l'errore quadratico medio tra i valori previsti invertiti e i valori effettivi invertiti\\nmae_inverse = mean_absolute_error(y_test_inverse, y_pred_inverse)\\nmse_inverse = mean_squared_error(y_test_inverse, y_pred_inverse)\\n\\nprint(f'Mean Absolute Error (Inverse): {mae_inverse}')\\nprint(f'Mean Squared Error (Inverse): {mse_inverse}')\""
     },
     "execution_count": 41,
     "metadata": {},
     "output_type": "execute_result"
    }
   ],
   "source": [
    "from sklearn.ensemble import RandomForestRegressor\n",
    "from sklearn.metrics import mean_squared_error, r2_score, mean_absolute_error\n",
    "\n",
    "# Addestra il modello Random Forest\n",
    "rf_regressor = RandomForestRegressor(n_jobs=10, n_estimators=500, max_features=4)\n",
    "rf_regressor.fit(X_train, y_train)\n",
    "\n",
    "# Fai previsioni sui dati di test\n",
    "y_pred_test = rf_regressor.predict(X_test)\n",
    "\n",
    "# Fai previsioni sui dati di train\n",
    "y_pred_train = rf_regressor.predict(X_train)\n",
    "\n",
    "# Calcola le metriche di valutazione per il test set\n",
    "mse_test = mean_squared_error(y_test, y_pred_test)\n",
    "r2_test = r2_score(y_test, y_pred_test)\n",
    "mae_test = mean_absolute_error(y_test, y_pred_test)\n",
    "\n",
    "# Calcola le metriche di valutazione per il train set\n",
    "mse_train = mean_squared_error(y_train, y_pred_train)\n",
    "r2_train = r2_score(y_train, y_pred_train)\n",
    "mae_train = mean_absolute_error(y_train, y_pred_train)\n",
    "\n",
    "print(f'Test Set - MSE: {mse_test}')\n",
    "print(f'Test Set - R²: {r2_test}')\n",
    "print(f'Test Set - MAE: {mae_test}')\n",
    "\n",
    "print(f'\\nTrain Set - MSE: {mse_train}')\n",
    "print(f'Train Set - R²: {r2_train}')\n",
    "print(f'Train Set - MAE: {mae_train}')\n"
   ],
   "metadata": {
    "collapsed": false,
    "ExecuteTime": {
     "end_time": "2024-05-31T15:33:02.757033300Z",
     "start_time": "2024-05-31T15:32:54.271061700Z"
    }
   },
   "id": "d8861eb8d8692ec1"
  }
 ],
 "metadata": {
  "kernelspec": {
   "display_name": "Python 3",
   "language": "python",
   "name": "python3"
  },
  "language_info": {
   "codemirror_mode": {
    "name": "ipython",
    "version": 2
   },
   "file_extension": ".py",
   "mimetype": "text/x-python",
   "name": "python",
   "nbconvert_exporter": "python",
   "pygments_lexer": "ipython2",
   "version": "2.7.6"
  }
 },
 "nbformat": 4,
 "nbformat_minor": 5
}
