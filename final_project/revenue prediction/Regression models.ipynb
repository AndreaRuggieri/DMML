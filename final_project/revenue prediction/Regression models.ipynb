{
 "cells": [
  {
   "cell_type": "code",
   "execution_count": 1,
   "id": "initial_id",
   "metadata": {
    "collapsed": true,
    "ExecuteTime": {
     "end_time": "2024-06-04T08:49:35.144236700Z",
     "start_time": "2024-06-04T08:49:33.825482Z"
    }
   },
   "outputs": [],
   "source": [
    "import os\n",
    "from sklearn.linear_model import ElasticNet\n",
    "from sklearn.model_selection import GridSearchCV, train_test_split\n",
    "from sklearn.ensemble import RandomForestRegressor\n",
    "import numpy as np\n",
    "import pandas as pd\n",
    "from sklearn.compose import ColumnTransformer\n",
    "from sklearn.pipeline import Pipeline\n",
    "from sklearn.preprocessing import StandardScaler, FunctionTransformer\n",
    "from sklearn.feature_selection import SelectKBest, f_regression\n",
    "from sklearn.metrics import make_scorer, mean_absolute_error, mean_squared_error, r2_score\n",
    "from sklearn.ensemble import GradientBoostingRegressor\n",
    "from sklearn.ensemble import AdaBoostRegressor\n",
    "import pickle\n",
    "from sklearn.neighbors import KNeighborsRegressor\n",
    "\n",
    "df = pd.read_csv('../dataset/preprocessed_dataset.csv')\n",
    "df = df.drop('votes', axis=1)\n",
    "df = df.drop('avg_vote', axis=1)"
   ]
  },
  {
   "cell_type": "code",
   "execution_count": 2,
   "outputs": [
    {
     "name": "stdout",
     "output_type": "stream",
     "text": [
      "   duration  converted_budget  dir_oscar_nomination  writer_oscar_nomination  \\\n",
      "0      88.0          175700.3                     0                        0   \n",
      "1      59.0         3013850.0                     0                        0   \n",
      "2      77.0          521727.6                     0                        0   \n",
      "3      50.0         5598468.6                     0                        0   \n",
      "4     300.0        10802441.1                     0                        0   \n",
      "\n",
      "   cast_globe_nomination  BAFTA_act_nom  BAFTA_dir_nom  BAFTA_writer_nom  \\\n",
      "0                      0              0              0                 0   \n",
      "1                      0              0              0                 0   \n",
      "2                      0              0              0                 0   \n",
      "3                      0              0              0                 0   \n",
      "4                      0              0              0                 0   \n",
      "\n",
      "   dir_emmy_nom  writer_emmy_nom  ...  month_published_11  month_published_12  \\\n",
      "0             0                0  ...                   1                   0   \n",
      "1             0                0  ...                   0                   0   \n",
      "2             0                0  ...                   1                   0   \n",
      "3             0                0  ...                   0                   0   \n",
      "4             0                0  ...                   0                   0   \n",
      "\n",
      "   month_published_2  month_published_3  month_published_4  month_published_5  \\\n",
      "0                  0                  0                  0                  0   \n",
      "1                  0                  0                  0                  0   \n",
      "2                  0                  0                  0                  0   \n",
      "3                  0                  0                  1                  0   \n",
      "4                  0                  0                  0                  0   \n",
      "\n",
      "   month_published_6  month_published_7  month_published_8  month_published_9  \n",
      "0                  0                  0                  0                  0  \n",
      "1                  0                  0                  0                  0  \n",
      "2                  0                  0                  0                  0  \n",
      "3                  0                  0                  0                  0  \n",
      "4                  0                  0                  0                  0  \n",
      "\n",
      "[5 rows x 86 columns]\n"
     ]
    }
   ],
   "source": [
    "X = df.drop('revenue_with_CPI', axis=1)\n",
    "y = df['revenue_with_CPI']\n",
    "print(X.head())\n",
    "\n",
    "numerical_columns = ['duration','converted_budget',\n",
    "                     'dir_oscar_nomination', 'writer_oscar_nomination',\n",
    "                     'cast_globe_nomination',\n",
    "                     'BAFTA_writer_nom', 'BAFTA_dir_nom', 'BAFTA_act_nom', \n",
    "                     'dir_emmy_nom', 'writer_emmy_nom', 'act_emmy_nom',\n",
    "                     'actors_films_before', 'director_films_before', 'writers_films_before'\n",
    "                     ]"
   ],
   "metadata": {
    "collapsed": false,
    "ExecuteTime": {
     "end_time": "2024-06-04T08:49:35.196250500Z",
     "start_time": "2024-06-04T08:49:35.152256600Z"
    }
   },
   "id": "c06e8f645e77cbe3"
  },
  {
   "cell_type": "code",
   "execution_count": 3,
   "outputs": [],
   "source": [
    "\n",
    "# Splitting the dataset into the Training set and Test set\n",
    "X_train, X_test, y_train, y_test = train_test_split(X, y, test_size=0.2, random_state=42)\n",
    "\n",
    "def rmse(y_true, y_pred):\n",
    "    return np.sqrt(mean_squared_error(y_true, y_pred))\n",
    "\n",
    "def mape(y_true, y_pred):\n",
    "    return np.mean(np.abs((y_true - y_pred) / y_true)) * 100\n",
    "\n",
    "log_transformer = FunctionTransformer(np.log1p, validate=True)\n",
    "\n",
    "preprocessor = ColumnTransformer(\n",
    "    transformers=[\n",
    "        ('log_scaler', Pipeline(steps=[\n",
    "            ('scaler', StandardScaler())\n",
    "        ]), numerical_columns)\n",
    "    ],\n",
    "    remainder='passthrough'  \n",
    ")\n",
    "\n",
    "preprocessor_linear = ColumnTransformer(\n",
    "    transformers=[\n",
    "        ('log_scaler', Pipeline(steps=[\n",
    "            ('log', log_transformer),\n",
    "            ('scaler', StandardScaler())\n",
    "        ]), numerical_columns)\n",
    "    ],\n",
    "    remainder='passthrough' \n",
    ")\n"
   ],
   "metadata": {
    "collapsed": false,
    "ExecuteTime": {
     "end_time": "2024-06-04T08:49:35.278064700Z",
     "start_time": "2024-06-04T08:49:35.201240300Z"
    }
   },
   "id": "92eaa77704566667"
  },
  {
   "cell_type": "markdown",
   "source": [
    "# Random Forest"
   ],
   "metadata": {
    "collapsed": false
   },
   "id": "ac6f1dd274b39ba4"
  },
  {
   "cell_type": "code",
   "execution_count": 4,
   "outputs": [
    {
     "name": "stdout",
     "output_type": "stream",
     "text": [
      "Best parameters: {'regressor__bootstrap': True, 'regressor__criterion': 'squared_error', 'regressor__max_depth': None, 'regressor__max_features': 'sqrt', 'regressor__min_samples_leaf': 1, 'regressor__min_samples_split': 10, 'regressor__n_estimators': 500, 'regressor__random_state': 42}\n",
      "Test set results:\n",
      "Final RMSE: 207184974.83640644\n",
      "Final MAE: 82376330.61702259\n",
      "Final MSE: 4.292561379796237e+16\n",
      "Final R2: 0.4230637954316091\n",
      "\n",
      "Train set results:\n",
      "Final RMSE: 163423686.50702277\n",
      "Final MAE: 58019523.746770635\n",
      "Final MSE: 2.6707301311545656e+16\n",
      "Final R2: 0.6835693189713254\n"
     ]
    }
   ],
   "source": [
    "pipeline = Pipeline(steps=[\n",
    "    ('preprocessor', preprocessor),\n",
    "    ('feature_selection', SelectKBest(score_func=f_regression, k=20)),\n",
    "    ('regressor', RandomForestRegressor())\n",
    "])\n",
    "param_grid = {\n",
    "    'regressor__n_estimators': [ 500],#300],\n",
    "    'regressor__max_depth': [ None],# 4, 10],\n",
    "    'regressor__min_samples_split': [ 10],#2],\n",
    "    'regressor__min_samples_leaf': [1],\n",
    "    'regressor__max_features': [ 'sqrt'],# 4],  \n",
    "    'regressor__bootstrap': [True],# False],  \n",
    "    'regressor__criterion': ['squared_error'],# 'poisson'],# 'absolute_error', 'friedman_mse'], \n",
    "    'regressor__random_state': [42]  \n",
    "}\n",
    "\n",
    "grid_search = GridSearchCV(pipeline, param_grid, cv=10, scoring='neg_mean_squared_error', n_jobs=-1)\n",
    "\n",
    "grid_search.fit(X_train, y_train)\n",
    "\n",
    "best_params = grid_search.best_params_\n",
    "print(\"Best parameters:\", best_params)\n",
    "\n",
    "best_model = grid_search.best_estimator_\n",
    "best_model.fit(X_train, y_train)\n",
    "\n",
    "y_pred_test = best_model.predict(X_test)\n",
    "final_rmse_test = rmse(y_test, y_pred_test)\n",
    "final_r2_test = r2_score(y_test, y_pred_test)\n",
    "final_mae_test = mean_absolute_error(y_test, y_pred_test)\n",
    "final_mse_test = mean_squared_error(y_test, y_pred_test)\n",
    "\n",
    "y_pred_train = best_model.predict(X_train)\n",
    "final_rmse_train = rmse(y_train, y_pred_train)\n",
    "final_r2_train = r2_score(y_train, y_pred_train)\n",
    "final_mae_train = mean_absolute_error(y_train, y_pred_train)\n",
    "final_mse_train = mean_squared_error(y_train, y_pred_train)\n",
    "\n",
    "print(\"Test set results:\")\n",
    "print(\"Final RMSE:\", final_rmse_test)\n",
    "print(\"Final MAE:\", final_mae_test)\n",
    "print(\"Final MSE:\", final_mse_test)\n",
    "print(\"Final R2:\", final_r2_test)\n",
    "\n",
    "print(\"\\nTrain set results:\")\n",
    "print(\"Final RMSE:\", final_rmse_train)\n",
    "print(\"Final MAE:\", final_mae_train)\n",
    "print(\"Final MSE:\", final_mse_train)\n",
    "print(\"Final R2:\", final_r2_train)\n",
    "\n",
    "file_path = \"../models/regression/RandomForestRegressor.pkl\"\n",
    "\n",
    "os.makedirs(os.path.dirname(file_path), exist_ok=True)\n",
    "\n",
    "with open(file_path, 'wb') as file:\n",
    "    pickle.dump(best_model, file)\n",
    "    "
   ],
   "metadata": {
    "collapsed": false,
    "ExecuteTime": {
     "end_time": "2024-06-04T08:51:21.169794600Z",
     "start_time": "2024-06-04T08:49:35.254069100Z"
    }
   },
   "id": "858338721bd64ae6"
  },
  {
   "cell_type": "markdown",
   "source": [
    "# AdaBoost"
   ],
   "metadata": {
    "collapsed": false
   },
   "id": "10059aaec034ba22"
  },
  {
   "cell_type": "code",
   "execution_count": 5,
   "outputs": [
    {
     "name": "stdout",
     "output_type": "stream",
     "text": [
      "Best parameters: {'regressor__learning_rate': 0.01, 'regressor__loss': 'exponential', 'regressor__n_estimators': 50}\n",
      "Test set results:\n",
      "Final RMSE: 213376611.619415\n",
      "Final MAE: 85714908.53466384\n",
      "Final MSE: 4.5529578386182664e+16\n",
      "Final R2: 0.38806554349211964\n",
      "\n",
      "Train set results:\n",
      "Final RMSE: 214334578.56208\n",
      "Final MAE: 82018095.73655291\n",
      "Final MSE: 4.593931156738445e+16\n",
      "Final R2: 0.45570660713024935\n"
     ]
    }
   ],
   "source": [
    "pipeline = Pipeline(steps=[\n",
    "    ('preprocessor', preprocessor),\n",
    "    ('feature_selection', SelectKBest(score_func=f_regression, k=20)),\n",
    "    ('regressor', AdaBoostRegressor(random_state=42))\n",
    "])\n",
    "param_grid = {\n",
    "    'regressor__n_estimators': [50],# 100, 150],\n",
    "    'regressor__learning_rate': [0.01],# 0.1, 1.0],\n",
    "    'regressor__loss': [ 'exponential']#'linear', 'square',\n",
    "}\n",
    "\n",
    "grid_search = GridSearchCV(pipeline, param_grid, cv=10, scoring='neg_mean_squared_error', n_jobs=-1)\n",
    "\n",
    "grid_search.fit(X_train, y_train)\n",
    "\n",
    "best_params = grid_search.best_params_\n",
    "print(\"Best parameters:\", best_params)\n",
    "\n",
    "best_model = grid_search.best_estimator_\n",
    "best_model.fit(X_train, y_train)\n",
    "\n",
    "y_pred_test = best_model.predict(X_test)\n",
    "final_rmse_test = rmse(y_test, y_pred_test)\n",
    "final_r2_test = r2_score(y_test, y_pred_test)\n",
    "final_mae_test = mean_absolute_error(y_test, y_pred_test)\n",
    "final_mse_test = mean_squared_error(y_test, y_pred_test)\n",
    "\n",
    "y_pred_train = best_model.predict(X_train)\n",
    "final_rmse_train = rmse(y_train, y_pred_train)\n",
    "final_r2_train = r2_score(y_train, y_pred_train)\n",
    "final_mae_train = mean_absolute_error(y_train, y_pred_train)\n",
    "final_mse_train = mean_squared_error(y_train, y_pred_train)\n",
    "\n",
    "print(\"Test set results:\")\n",
    "print(\"Final RMSE:\", final_rmse_test)\n",
    "print(\"Final MAE:\", final_mae_test)\n",
    "print(\"Final MSE:\", final_mse_test)\n",
    "print(\"Final R2:\", final_r2_test)\n",
    "\n",
    "print(\"\\nTrain set results:\")\n",
    "print(\"Final RMSE:\", final_rmse_train)\n",
    "print(\"Final MAE:\", final_mae_train)\n",
    "print(\"Final MSE:\", final_mse_train)\n",
    "print(\"Final R2:\", final_r2_train)\n",
    "\n",
    "file_path = \"../models/regression/AdaBoostRegressor.pkl\"\n",
    "\n",
    "os.makedirs(os.path.dirname(file_path), exist_ok=True)\n",
    "\n",
    "with open(file_path, 'wb') as file:\n",
    "    pickle.dump(best_model, file)"
   ],
   "metadata": {
    "collapsed": false,
    "ExecuteTime": {
     "end_time": "2024-06-04T08:51:34.454641400Z",
     "start_time": "2024-06-04T08:51:21.284795900Z"
    }
   },
   "id": "4d92aba84b865a37"
  },
  {
   "cell_type": "markdown",
   "source": [
    "# GradientBoosting"
   ],
   "metadata": {
    "collapsed": false
   },
   "id": "2d4caff3c9b01b49"
  },
  {
   "cell_type": "code",
   "execution_count": 6,
   "outputs": [
    {
     "name": "stdout",
     "output_type": "stream",
     "text": [
      "Best parameters: {'regressor__learning_rate': 0.1, 'regressor__max_depth': 3, 'regressor__min_samples_leaf': 1, 'regressor__min_samples_split': 5, 'regressor__n_estimators': 50}\n",
      "Test set results:\n",
      "Final RMSE: 218256233.40746337\n",
      "Final MAE: 83342728.40080352\n",
      "Final MSE: 4.763578342121314e+16\n",
      "Final R2: 0.359757364960937\n",
      "\n",
      "Train set results:\n",
      "Final RMSE: 199650305.7017214\n",
      "Final MAE: 77359532.15199389\n",
      "Final MSE: 3.986024456679081e+16\n",
      "Final R2: 0.5277319790904333\n"
     ]
    }
   ],
   "source": [
    "pipeline = Pipeline(steps=[\n",
    "    ('preprocessor', preprocessor),\n",
    "    ('feature_selection', SelectKBest(score_func=f_regression, k=20)),\n",
    "    ('regressor', GradientBoostingRegressor(random_state=42))\n",
    "])\n",
    "\n",
    "param_grid = {\n",
    "    'regressor__n_estimators': [50],# 100, 150],\n",
    "    'regressor__learning_rate': [0.1],# 1.0,0.01],\n",
    "    'regressor__max_depth': [3],# 5, 7],\n",
    "    'regressor__min_samples_split': [ 5],#2, 10],\n",
    "    'regressor__min_samples_leaf': [1],# 2, 4]\n",
    "}\n",
    "\n",
    "grid_search = GridSearchCV(pipeline, param_grid, cv=10, scoring='neg_mean_squared_error', n_jobs=-1)\n",
    "\n",
    "grid_search.fit(X_train, y_train)\n",
    "\n",
    "best_params = grid_search.best_params_\n",
    "print(\"Best parameters:\", best_params)\n",
    "\n",
    "best_model = grid_search.best_estimator_\n",
    "best_model.fit(X_train, y_train)\n",
    "\n",
    "y_pred_test = best_model.predict(X_test)\n",
    "final_rmse_test = rmse(y_test, y_pred_test)\n",
    "final_r2_test = r2_score(y_test, y_pred_test)\n",
    "final_mae_test = mean_absolute_error(y_test, y_pred_test)\n",
    "final_mse_test = mean_squared_error(y_test, y_pred_test)\n",
    "\n",
    "y_pred_train = best_model.predict(X_train)\n",
    "final_rmse_train = rmse(y_train, y_pred_train)\n",
    "final_r2_train = r2_score(y_train, y_pred_train)\n",
    "final_mae_train = mean_absolute_error(y_train, y_pred_train)\n",
    "final_mse_train = mean_squared_error(y_train, y_pred_train)\n",
    "\n",
    "print(\"Test set results:\")\n",
    "print(\"Final RMSE:\", final_rmse_test)\n",
    "print(\"Final MAE:\", final_mae_test)\n",
    "print(\"Final MSE:\", final_mse_test)\n",
    "print(\"Final R2:\", final_r2_test)\n",
    "\n",
    "print(\"\\nTrain set results:\")\n",
    "print(\"Final RMSE:\", final_rmse_train)\n",
    "print(\"Final MAE:\", final_mae_train)\n",
    "print(\"Final MSE:\", final_mse_train)\n",
    "print(\"Final R2:\", final_r2_train)\n",
    "\n",
    "file_path = \"../models/regression/GradientBoostingRegressor.pkl\"\n",
    "\n",
    "os.makedirs(os.path.dirname(file_path), exist_ok=True)\n",
    "\n",
    "with open(file_path, 'wb') as file:\n",
    "    pickle.dump(best_model, file)"
   ],
   "metadata": {
    "collapsed": false,
    "ExecuteTime": {
     "end_time": "2024-06-04T08:51:40.908262600Z",
     "start_time": "2024-06-04T08:51:34.474632800Z"
    }
   },
   "id": "bd5f59b7f2577cf3"
  },
  {
   "cell_type": "markdown",
   "source": [
    "# ElasticNet"
   ],
   "metadata": {
    "collapsed": false
   },
   "id": "cebaccbc11182a5"
  },
  {
   "cell_type": "code",
   "execution_count": 7,
   "outputs": [
    {
     "name": "stdout",
     "output_type": "stream",
     "text": [
      "Best parameters: {'regressor__alpha': 0.1, 'regressor__l1_ratio': 0.9}\n",
      "Test set results:\n",
      "Final RMSE: 255072458.62690815\n",
      "Final MAE: 119316715.32961605\n",
      "Final MSE: 6.506195914997578e+16\n",
      "Final R2: 0.12554308598954644\n",
      "\n",
      "Train set results:\n",
      "Final RMSE: 273842741.7020254\n",
      "Final MAE: 118242345.18430261\n",
      "Final MSE: 7.498984718288222e+16\n",
      "Final R2: 0.11151306013619999\n"
     ]
    }
   ],
   "source": [
    "pipeline = Pipeline(steps=[\n",
    "    ('preprocessor', preprocessor_linear),\n",
    "    ('feature_selection', SelectKBest(score_func=f_regression, k=20)),\n",
    "    ('regressor', ElasticNet(random_state=42))\n",
    "])\n",
    "\n",
    "param_grid = {\n",
    "    'regressor__alpha': [0.1],# 0.5, 1.0],\n",
    "    'regressor__l1_ratio': [ 0.9] #0.1, 0.5,\n",
    "}\n",
    "grid_search = GridSearchCV(pipeline, param_grid, cv=10, scoring='neg_mean_squared_error', n_jobs=-1)\n",
    "\n",
    "grid_search.fit(X_train, y_train)\n",
    "\n",
    "best_params = grid_search.best_params_\n",
    "print(\"Best parameters:\", best_params)\n",
    "\n",
    "best_model = grid_search.best_estimator_\n",
    "best_model.fit(X_train, y_train)\n",
    "\n",
    "y_pred_test = best_model.predict(X_test)\n",
    "final_rmse_test = rmse(y_test, y_pred_test)\n",
    "final_r2_test = r2_score(y_test, y_pred_test)\n",
    "final_mae_test = mean_absolute_error(y_test, y_pred_test)\n",
    "final_mse_test = mean_squared_error(y_test, y_pred_test)\n",
    "\n",
    "y_pred_train = best_model.predict(X_train)\n",
    "final_rmse_train = rmse(y_train, y_pred_train)\n",
    "final_r2_train = r2_score(y_train, y_pred_train)\n",
    "final_mae_train = mean_absolute_error(y_train, y_pred_train)\n",
    "final_mse_train = mean_squared_error(y_train, y_pred_train)\n",
    "\n",
    "print(\"Test set results:\")\n",
    "print(\"Final RMSE:\", final_rmse_test)\n",
    "print(\"Final MAE:\", final_mae_test)\n",
    "print(\"Final MSE:\", final_mse_test)\n",
    "print(\"Final R2:\", final_r2_test)\n",
    "\n",
    "print(\"\\nTrain set results:\")\n",
    "print(\"Final RMSE:\", final_rmse_train)\n",
    "print(\"Final MAE:\", final_mae_train)\n",
    "print(\"Final MSE:\", final_mse_train)\n",
    "print(\"Final R2:\", final_r2_train)\n",
    "\n",
    "file_path = \"../models/regression/ElasticNetRegressor.pkl\"\n",
    "\n",
    "os.makedirs(os.path.dirname(file_path), exist_ok=True)\n",
    "\n",
    "with open(file_path, 'wb') as file:\n",
    "    pickle.dump(best_model, file)"
   ],
   "metadata": {
    "collapsed": false,
    "ExecuteTime": {
     "end_time": "2024-06-04T08:51:41.777565200Z",
     "start_time": "2024-06-04T08:51:40.931262300Z"
    }
   },
   "id": "48254aea411c376f"
  },
  {
   "cell_type": "markdown",
   "source": [
    "# Knneighbors"
   ],
   "metadata": {
    "collapsed": false
   },
   "id": "88528bd14221b7f8"
  },
  {
   "cell_type": "code",
   "execution_count": 8,
   "outputs": [
    {
     "name": "stdout",
     "output_type": "stream",
     "text": [
      "Best parameters: {'regressor__algorithm': 'kd_tree', 'regressor__leaf_size': 30, 'regressor__n_neighbors': 11, 'regressor__p': 2, 'regressor__weights': 'uniform'}\n",
      "Test set results:\n",
      "Final RMSE: 216123892.93944815\n",
      "Final MAE: 83324620.34960154\n",
      "Final MSE: 4.670953709930205e+16\n",
      "Final R2: 0.37220645980612665\n",
      "\n",
      "Train set results:\n",
      "Final RMSE: 212777695.48503122\n",
      "Final MAE: 74847311.88379893\n",
      "Final MSE: 4.527434769592068e+16\n",
      "Final R2: 0.46358516319445875\n"
     ]
    }
   ],
   "source": [
    "\n",
    "pipeline = Pipeline(steps=[\n",
    "    ('preprocessor', preprocessor),\n",
    "    ('feature_selection', SelectKBest(score_func=f_regression, k=20)),\n",
    "    ('regressor', KNeighborsRegressor())\n",
    "])\n",
    "\n",
    "param_grid = {\n",
    "    'regressor__n_neighbors': [ 11],#3, 5, 7, 9,\n",
    "    'regressor__weights': ['uniform'],# 'distance'],\n",
    "    'regressor__algorithm': [ 'kd_tree'],# 'brute','auto', 'ball_tree'],\n",
    "    'regressor__leaf_size': [ 30],# 40, 50,20],\n",
    "    'regressor__p': [ 2]#,1]  # Parametro p: 1 = distanza di Manhattan, 2 = distanza euclidea\n",
    "}\n",
    "grid_search = GridSearchCV(pipeline, param_grid, cv=10, scoring='neg_mean_squared_error', n_jobs=-1)\n",
    "\n",
    "grid_search.fit(X_train, y_train)\n",
    "\n",
    "best_params = grid_search.best_params_\n",
    "print(\"Best parameters:\", best_params)\n",
    "\n",
    "best_model = grid_search.best_estimator_\n",
    "best_model.fit(X_train, y_train)\n",
    "\n",
    "y_pred_test = best_model.predict(X_test)\n",
    "final_rmse_test = rmse(y_test, y_pred_test)\n",
    "final_r2_test = r2_score(y_test, y_pred_test)\n",
    "final_mae_test = mean_absolute_error(y_test, y_pred_test)\n",
    "final_mse_test = mean_squared_error(y_test, y_pred_test)\n",
    "\n",
    "y_pred_train = best_model.predict(X_train)\n",
    "final_rmse_train = rmse(y_train, y_pred_train)\n",
    "final_r2_train = r2_score(y_train, y_pred_train)\n",
    "final_mae_train = mean_absolute_error(y_train, y_pred_train)\n",
    "final_mse_train = mean_squared_error(y_train, y_pred_train)\n",
    "\n",
    "print(\"Test set results:\")\n",
    "print(\"Final RMSE:\", final_rmse_test)\n",
    "print(\"Final MAE:\", final_mae_test)\n",
    "print(\"Final MSE:\", final_mse_test)\n",
    "print(\"Final R2:\", final_r2_test)\n",
    "\n",
    "print(\"\\nTrain set results:\")\n",
    "print(\"Final RMSE:\", final_rmse_train)\n",
    "print(\"Final MAE:\", final_mae_train)\n",
    "print(\"Final MSE:\", final_mse_train)\n",
    "print(\"Final R2:\", final_r2_train)\n",
    "\n",
    "file_path = \"../models/regression/KNNRegressor.pkl\"\n",
    "\n",
    "os.makedirs(os.path.dirname(file_path), exist_ok=True)\n",
    "\n",
    "with open(file_path, 'wb') as file:\n",
    "    pickle.dump(best_model, file)"
   ],
   "metadata": {
    "collapsed": false,
    "ExecuteTime": {
     "end_time": "2024-06-04T08:51:50.400171900Z",
     "start_time": "2024-06-04T08:51:41.798564100Z"
    }
   },
   "id": "fbecbb7b98014b0"
  },
  {
   "cell_type": "markdown",
   "source": [
    "# DecisionTree"
   ],
   "metadata": {
    "collapsed": false
   },
   "id": "825a95458139ee58"
  },
  {
   "cell_type": "code",
   "execution_count": 9,
   "outputs": [
    {
     "name": "stdout",
     "output_type": "stream",
     "text": [
      "Best parameters: {'regressor__max_depth': 10, 'regressor__min_samples_leaf': 4, 'regressor__min_samples_split': 2}\n",
      "Test set results:\n",
      "Final RMSE: 234266887.36524343\n",
      "Final MAE: 88005703.68190682\n",
      "Final MSE: 5.4880974515799656e+16\n",
      "Final R2: 0.2623793036673354\n",
      "\n",
      "Train set results:\n",
      "Final RMSE: 192282060.24231526\n",
      "Final MAE: 71758403.94561547\n",
      "Final MSE: 3.697239069102935e+16\n",
      "Final R2: 0.5619475502542429\n"
     ]
    }
   ],
   "source": [
    "\n",
    "\n",
    "pipeline = Pipeline(steps=[\n",
    "    ('preprocessor', preprocessor),\n",
    "    ('feature_selection', SelectKBest(score_func=f_regression, k=20)),\n",
    "    ('regressor', DecisionTreeRegressor(random_state=42))\n",
    "])\n",
    "\n",
    "\n",
    "param_grid = {\n",
    "    'regressor__max_depth': [ 10],# 20, 30,None],\n",
    "    'regressor__min_samples_split': [2],# 5, 10],\n",
    "    'regressor__min_samples_leaf': [ 4]#,1, 2]\n",
    "}\n",
    "grid_search = GridSearchCV(pipeline, param_grid, cv=10, scoring='neg_mean_squared_error', n_jobs=-1)\n",
    "\n",
    "grid_search.fit(X_train, y_train)\n",
    "\n",
    "best_params = grid_search.best_params_\n",
    "print(\"Best parameters:\", best_params)\n",
    "\n",
    "best_model = grid_search.best_estimator_\n",
    "best_model.fit(X_train, y_train)\n",
    "\n",
    "y_pred_test = best_model.predict(X_test)\n",
    "final_rmse_test = rmse(y_test, y_pred_test)\n",
    "final_r2_test = r2_score(y_test, y_pred_test)\n",
    "final_mae_test = mean_absolute_error(y_test, y_pred_test)\n",
    "final_mse_test = mean_squared_error(y_test, y_pred_test)\n",
    "\n",
    "y_pred_train = best_model.predict(X_train)\n",
    "final_rmse_train = rmse(y_train, y_pred_train)\n",
    "final_r2_train = r2_score(y_train, y_pred_train)\n",
    "final_mae_train = mean_absolute_error(y_train, y_pred_train)\n",
    "final_mse_train = mean_squared_error(y_train, y_pred_train)\n",
    "\n",
    "print(\"Test set results:\")\n",
    "print(\"Final RMSE:\", final_rmse_test)\n",
    "print(\"Final MAE:\", final_mae_test)\n",
    "print(\"Final MSE:\", final_mse_test)\n",
    "print(\"Final R2:\", final_r2_test)\n",
    "\n",
    "print(\"\\nTrain set results:\")\n",
    "print(\"Final RMSE:\", final_rmse_train)\n",
    "print(\"Final MAE:\", final_mae_train)\n",
    "print(\"Final MSE:\", final_mse_train)\n",
    "print(\"Final R2:\", final_r2_train)\n",
    "\n",
    "file_path = \"../models/regression/DecisionTreeRegressor.pkl\"\n",
    "\n",
    "os.makedirs(os.path.dirname(file_path), exist_ok=True)\n",
    "\n",
    "with open(file_path, 'wb') as file:\n",
    "    pickle.dump(best_model, file)"
   ],
   "metadata": {
    "collapsed": false,
    "ExecuteTime": {
     "end_time": "2024-06-04T08:51:51.452577800Z",
     "start_time": "2024-06-04T08:51:50.419171Z"
    }
   },
   "id": "e651287ad472a985"
  }
 ],
 "metadata": {
  "kernelspec": {
   "display_name": "Python 3",
   "language": "python",
   "name": "python3"
  },
  "language_info": {
   "codemirror_mode": {
    "name": "ipython",
    "version": 2
   },
   "file_extension": ".py",
   "mimetype": "text/x-python",
   "name": "python",
   "nbconvert_exporter": "python",
   "pygments_lexer": "ipython2",
   "version": "2.7.6"
  }
 },
 "nbformat": 4,
 "nbformat_minor": 5
}
