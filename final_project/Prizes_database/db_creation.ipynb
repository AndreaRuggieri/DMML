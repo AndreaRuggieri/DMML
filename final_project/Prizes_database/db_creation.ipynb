{
 "cells": [
  {
   "cell_type": "code",
   "execution_count": 1,
   "id": "initial_id",
   "metadata": {
    "collapsed": true,
    "ExecuteTime": {
     "end_time": "2024-06-04T09:19:22.104727800Z",
     "start_time": "2024-06-04T09:19:20.201984600Z"
    }
   },
   "outputs": [
    {
     "name": "stdout",
     "output_type": "stream",
     "text": [
      "                 nominee  oscar_nomination  emmy_nomination  bafta_nomination  \\\n",
      "0           Meryl Streep                21                0                 7   \n",
      "1            Woody Allen                18                0                 1   \n",
      "2      Katharine Hepburn                12                0                 2   \n",
      "3          William Wyler                12                0                 0   \n",
      "4         Jack Nicholson                12                0                 1   \n",
      "...                  ...               ...              ...               ...   \n",
      "4323    Barbara Mandrell                 0                0                 0   \n",
      "4324        Lauren Tewes                 0                0                 0   \n",
      "4325  Danielle Brisebois                 0                0                 0   \n",
      "4326   Herve Villechaize                 0                0                 0   \n",
      "4327        Andrew Scott                 0                0                 0   \n",
      "\n",
      "      golden_globe_nomination  \n",
      "0                          32  \n",
      "1                           7  \n",
      "2                           8  \n",
      "3                           5  \n",
      "4                          17  \n",
      "...                       ...  \n",
      "4323                        1  \n",
      "4324                        1  \n",
      "4325                        1  \n",
      "4326                        1  \n",
      "4327                        1  \n",
      "\n",
      "[4328 rows x 5 columns]\n"
     ]
    }
   ],
   "source": [
    "import pandas as pd\n",
    "\n",
    "oscar_df = pd.read_csv('../dataset/the_oscar_award.csv')\n",
    "emmy_df = pd.read_csv('../dataset/the_emmy_awards.csv')\n",
    "bafta_df = pd.read_csv('../dataset/NEW_bafta_films_cleaned.csv')\n",
    "golden_globe_df = pd.read_csv('../dataset/golden_globe_awards.csv')\n",
    "\n",
    "oscar_counts = oscar_df['nominee'].value_counts().reset_index()\n",
    "oscar_counts.columns = ['nominee', 'oscar_nomination']\n",
    "\n",
    "emmy_counts = emmy_df['nominee'].value_counts().reset_index()\n",
    "emmy_counts.columns = ['nominee', 'emmy_nomination']\n",
    "\n",
    "bafta_counts = bafta_df['nominee'].value_counts().reset_index()\n",
    "bafta_counts.columns = ['nominee', 'bafta_nomination']\n",
    "\n",
    "golden_globe_counts = golden_globe_df['nominee'].value_counts().reset_index()\n",
    "golden_globe_counts.columns = ['nominee', 'golden_globe_nomination']\n",
    "\n",
    "total_counts = pd.merge(oscar_counts, emmy_counts, on='nominee', how='outer')\n",
    "total_counts = pd.merge(total_counts, bafta_counts, on='nominee', how='outer')\n",
    "total_counts = pd.merge(total_counts, golden_globe_counts, on='nominee', how='outer')\n",
    "\n",
    "total_counts = total_counts.fillna(0)\n",
    "\n",
    "total_counts[['oscar_nomination', 'emmy_nomination', 'bafta_nomination', 'golden_globe_nomination']] = total_counts[['oscar_nomination', 'emmy_nomination', 'bafta_nomination', 'golden_globe_nomination']].astype(int)\n",
    "\n",
    "total_counts.to_csv('nominee_total_nominations.csv', index=False)\n",
    "\n",
    "print(total_counts)\n"
   ]
  },
  {
   "cell_type": "code",
   "execution_count": 3,
   "outputs": [
    {
     "name": "stderr",
     "output_type": "stream",
     "text": [
      "C:\\Users\\BOLO\\AppData\\Local\\Temp\\ipykernel_18472\\1748082512.py:5: UserWarning: This pattern is interpreted as a regular expression, and has match groups. To actually get the groups, use str.extract.\n",
      "  return raw_dataset[column].str.contains(nominee, case=False, na=False).sum()\n",
      "C:\\Users\\BOLO\\AppData\\Local\\Temp\\ipykernel_18472\\1748082512.py:5: UserWarning: This pattern is interpreted as a regular expression, and has match groups. To actually get the groups, use str.extract.\n",
      "  return raw_dataset[column].str.contains(nominee, case=False, na=False).sum()\n",
      "C:\\Users\\BOLO\\AppData\\Local\\Temp\\ipykernel_18472\\1748082512.py:5: UserWarning: This pattern is interpreted as a regular expression, and has match groups. To actually get the groups, use str.extract.\n",
      "  return raw_dataset[column].str.contains(nominee, case=False, na=False).sum()\n"
     ]
    },
    {
     "name": "stdout",
     "output_type": "stream",
     "text": [
      "                 nominee  oscar_nomination  emmy_nomination  bafta_nomination  \\\n",
      "0           Meryl Streep                21                0                 7   \n",
      "1            Woody Allen                18                0                 1   \n",
      "2      Katharine Hepburn                12                0                 2   \n",
      "3          William Wyler                12                0                 0   \n",
      "4         Jack Nicholson                12                0                 1   \n",
      "...                  ...               ...              ...               ...   \n",
      "4323    Barbara Mandrell                 0                0                 0   \n",
      "4324        Lauren Tewes                 0                0                 0   \n",
      "4325  Danielle Brisebois                 0                0                 0   \n",
      "4326   Herve Villechaize                 0                0                 0   \n",
      "4327        Andrew Scott                 0                0                 0   \n",
      "\n",
      "      golden_globe_nomination  director_count  writer_count  actor_count  \n",
      "0                          32               0             0           45  \n",
      "1                           7              45            45           27  \n",
      "2                           8               0             0            8  \n",
      "3                           5               5             0            0  \n",
      "4                          17               1             0           30  \n",
      "...                       ...             ...           ...          ...  \n",
      "4323                        1               0             0            0  \n",
      "4324                        1               0             0            1  \n",
      "4325                        1               0             0            0  \n",
      "4326                        1               0             0            0  \n",
      "4327                        1               0             0           10  \n",
      "\n",
      "[4328 rows x 8 columns]\n"
     ]
    }
   ],
   "source": [
    "\n",
    "raw_dataset = pd.read_csv('../dataset/raw_dataset.csv')\n",
    "\n",
    "def count_occurrences(raw_dataset, column, nominee):\n",
    "    return raw_dataset[column].str.contains(nominee, case=False, na=False).sum()\n",
    "\n",
    "total_counts['director_count'] = total_counts['nominee'].apply(lambda nominee: count_occurrences(raw_dataset, 'director', nominee))\n",
    "total_counts['writer_count'] = total_counts['nominee'].apply(lambda nominee: count_occurrences(raw_dataset, 'writer', nominee))\n",
    "total_counts['actor_count'] = total_counts['nominee'].apply(lambda nominee: count_occurrences(raw_dataset, 'actors', nominee))\n",
    "\n",
    "total_counts.to_csv('nominee_total_nominations_with_roles.csv', index=False)\n",
    "\n",
    "print(total_counts)"
   ],
   "metadata": {
    "collapsed": false,
    "ExecuteTime": {
     "end_time": "2024-06-04T09:36:34.267428700Z",
     "start_time": "2024-06-04T09:25:45.987926900Z"
    }
   },
   "id": "d092110a53dedafb"
  },
  {
   "cell_type": "code",
   "execution_count": 4,
   "outputs": [],
   "source": [
    "\n",
    "main_csv_path = 'nominee_total_nominations_with_roles.csv'\n",
    "additional_csv_paths = ['golden_globe_awards.csv', 'bafta_films_cleaned.csv', 'the_emmy_awards.csv', 'the_oscar_award.csv']\n",
    "\n",
    "main_df = pd.read_csv(main_csv_path)\n",
    "\n",
    "additional_dfs = [pd.read_csv(file) for file in additional_csv_paths]\n",
    "\n",
    "nominee_set = set()\n",
    "for df in additional_dfs:\n",
    "    nominee_set.update(df['nominee'].unique())\n",
    "\n",
    "filtered_main_df = main_df[main_df['nominee'].isin(nominee_set)]\n",
    "\n",
    "filtered_main_df.to_csv('filtered_prizes.csv', index=False)\n",
    "\n"
   ],
   "metadata": {
    "collapsed": false,
    "ExecuteTime": {
     "end_time": "2024-06-05T14:52:54.123238600Z",
     "start_time": "2024-06-05T14:52:53.326245700Z"
    }
   },
   "id": "76d75af0b7af8beb"
  }
 ],
 "metadata": {
  "kernelspec": {
   "display_name": "Python 3",
   "language": "python",
   "name": "python3"
  },
  "language_info": {
   "codemirror_mode": {
    "name": "ipython",
    "version": 2
   },
   "file_extension": ".py",
   "mimetype": "text/x-python",
   "name": "python",
   "nbconvert_exporter": "python",
   "pygments_lexer": "ipython2",
   "version": "2.7.6"
  }
 },
 "nbformat": 4,
 "nbformat_minor": 5
}
