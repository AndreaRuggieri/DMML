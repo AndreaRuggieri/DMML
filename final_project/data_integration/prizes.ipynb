{
 "cells": [
  {
   "cell_type": "code",
   "execution_count": 5,
   "id": "initial_id",
   "metadata": {
    "collapsed": true,
    "ExecuteTime": {
     "end_time": "2024-05-30T13:25:55.056364200Z",
     "start_time": "2024-05-30T13:25:55.052306300Z"
    }
   },
   "outputs": [],
   "source": [
    "import csv\n",
    "import pandas as pd"
   ]
  },
  {
   "cell_type": "code",
   "outputs": [],
   "source": [
    "def remove_outstanding(file_csv):\n",
    "    df = pd.read_csv(file_csv)\n",
    "    df['category'] = df['category'].str.replace('outstanding', '', case=False)\n",
    "    df = pd.read_csv(file_csv)\n",
    "    df.to_csv(file_csv, index=False)\n",
    "\n",
    "def remove_dots(file_csv):\n",
    "    righe_modificate = []\n",
    "    with open(file_csv, 'r', newline='', encoding='utf-8') as csvfile:\n",
    "        reader = csv.DictReader(csvfile)\n",
    "        for riga in reader:\n",
    "            riga['staff'] = riga['staff'].replace(';', '')\n",
    "            righe_modificate.append(riga)\n",
    "    with open(file_csv, 'w', newline='', encoding='utf-8') as csvfile:\n",
    "        writer = csv.DictWriter(csvfile, fieldnames=reader.fieldnames)\n",
    "        writer.writeheader()\n",
    "        writer.writerows(righe_modificate)"
   ],
   "metadata": {
    "collapsed": false,
    "ExecuteTime": {
     "end_time": "2024-05-30T13:27:13.365293Z",
     "start_time": "2024-05-30T13:27:13.354437300Z"
    }
   },
   "id": "24b05b8f1d329323",
   "execution_count": 6
  },
  {
   "cell_type": "code",
   "outputs": [],
   "source": [
    "file_csv = '../dataset/the_emmy_awards.csv'\n",
    "remove_empty_lines(file_csv)\n",
    "remove_dots(file_csv)\n",
    "rimuovi_outstanding(file_csv)\n"
   ],
   "metadata": {
    "collapsed": false,
    "ExecuteTime": {
     "end_time": "2024-05-30T13:27:17.479346300Z",
     "start_time": "2024-05-30T13:27:16.740349Z"
    }
   },
   "id": "4a72aaa9993578da",
   "execution_count": 7
  }
 ],
 "metadata": {
  "kernelspec": {
   "display_name": "Python 3",
   "language": "python",
   "name": "python3"
  },
  "language_info": {
   "codemirror_mode": {
    "name": "ipython",
    "version": 2
   },
   "file_extension": ".py",
   "mimetype": "text/x-python",
   "name": "python",
   "nbconvert_exporter": "python",
   "pygments_lexer": "ipython2",
   "version": "2.7.6"
  }
 },
 "nbformat": 4,
 "nbformat_minor": 5
}
