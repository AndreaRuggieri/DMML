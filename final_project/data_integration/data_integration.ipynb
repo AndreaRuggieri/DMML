{
 "cells": [
  {
   "cell_type": "markdown",
   "source": [
    "# IMPORT"
   ],
   "metadata": {
    "collapsed": false
   },
   "id": "d04956d7ae54761"
  },
  {
   "cell_type": "code",
   "outputs": [],
   "source": [
    "import pandas as pd"
   ],
   "metadata": {
    "collapsed": false,
    "ExecuteTime": {
     "end_time": "2024-05-30T08:02:15.664569700Z",
     "start_time": "2024-05-30T08:02:15.660560Z"
    }
   },
   "id": "e958c68edceab141",
   "execution_count": 3
  },
  {
   "cell_type": "code",
   "outputs": [],
   "source": [
    "tmdb_data = pd.read_csv('../dataset/TMDB_movie_dataset_v11.csv')"
   ],
   "metadata": {
    "collapsed": false,
    "ExecuteTime": {
     "end_time": "2024-05-30T10:46:10.369525900Z",
     "start_time": "2024-05-30T10:45:54.232563600Z"
    }
   },
   "id": "fb665f4c7717d417",
   "execution_count": 58
  },
  {
   "cell_type": "code",
   "outputs": [],
   "source": [
    "imdb_data = pd.read_csv('../dataset/IMDb movies.csv') "
   ],
   "metadata": {
    "collapsed": false,
    "ExecuteTime": {
     "end_time": "2024-05-30T10:46:11.468090600Z",
     "start_time": "2024-05-30T10:46:10.372525900Z"
    }
   },
   "id": "3ef02274a425d812",
   "execution_count": 59
  },
  {
   "cell_type": "code",
   "outputs": [
    {
     "name": "stdout",
     "output_type": "stream",
     "text": [
      "(1030555, 24)\n",
      "(81273, 22)\n"
     ]
    }
   ],
   "source": [
    "print(tmdb_data.shape)\n",
    "print(imdb_data.shape)"
   ],
   "metadata": {
    "collapsed": false,
    "ExecuteTime": {
     "end_time": "2024-05-30T10:46:11.479617500Z",
     "start_time": "2024-05-30T10:46:11.468090600Z"
    }
   },
   "id": "18dd0efc08f1f50c",
   "execution_count": 60
  },
  {
   "cell_type": "markdown",
   "source": [
    "# MERGE DATA"
   ],
   "metadata": {
    "collapsed": false
   },
   "id": "ce438c8bb8de9b85"
  },
  {
   "cell_type": "markdown",
   "source": [
    "Merging data based on imdb_title_id of IMDb and imdb_id of TMDB"
   ],
   "metadata": {
    "collapsed": false
   },
   "id": "2f5e63c727c7267b"
  },
  {
   "cell_type": "code",
   "outputs": [],
   "source": [
    "merged_data = pd.merge(imdb_data, tmdb_data, left_on='imdb_title_id', right_on='imdb_id', how='left', suffixes=('_imdb', '_tmdb'))\n",
    "\n",
    "# Update Imdb with budget and revenue from TMDB\n",
    "for idx, row in merged_data.iterrows():\n",
    "    if pd.notna(row['budget_tmdb']) and row['budget_tmdb'] != 0:\n",
    "        imdb_data.at[idx, 'budget'] = row['budget_tmdb']\n",
    "    if pd.notna(row['revenue']) and row['revenue'] != 0:\n",
    "        imdb_data.at[idx, 'worlwide_gross_income'] = row['revenue']\n",
    "\n",
    "imdb_data.to_csv('../dataset/updated_imdb_data.csv', index=False)"
   ],
   "metadata": {
    "collapsed": false,
    "ExecuteTime": {
     "end_time": "2024-05-30T10:46:22.743989500Z",
     "start_time": "2024-05-30T10:46:11.485772300Z"
    }
   },
   "id": "bb74cc40bc13decc",
   "execution_count": 61
  },
  {
   "cell_type": "code",
   "outputs": [
    {
     "name": "stdout",
     "output_type": "stream",
     "text": [
      "Rows removed: 60002\n",
      "(21272, 22)\n"
     ]
    }
   ],
   "source": [
    "rows_removed = imdb_data[imdb_data['worlwide_gross_income'].isnull() | (imdb_data['worlwide_gross_income'] == 0)].shape[0]\n",
    "imdb_data = imdb_data.drop(imdb_data[imdb_data['worlwide_gross_income'].isnull() | (imdb_data['worlwide_gross_income'] == 0)].index)\n",
    "rows_removed = rows_removed + imdb_data[imdb_data['budget'].isnull() | (imdb_data['budget'] == 0)].shape[0]\n",
    "imdb_data = imdb_data.drop(imdb_data[imdb_data['budget'].isnull() | (imdb_data['budget'] == 0)].index)\n",
    "print(\"Rows removed:\", rows_removed)\n",
    "print(imdb_data.shape)\n",
    "imdb_data.to_csv('../dataset/updated_imdb_data.csv', index=False)"
   ],
   "metadata": {
    "collapsed": false,
    "ExecuteTime": {
     "end_time": "2024-05-30T10:46:23.893271700Z",
     "start_time": "2024-05-30T10:46:22.745979700Z"
    }
   },
   "id": "b85c486733746783",
   "execution_count": 62
  }
 ],
 "metadata": {
  "kernelspec": {
   "display_name": "Python 3",
   "language": "python",
   "name": "python3"
  },
  "language_info": {
   "codemirror_mode": {
    "name": "ipython",
    "version": 2
   },
   "file_extension": ".py",
   "mimetype": "text/x-python",
   "name": "python",
   "nbconvert_exporter": "python",
   "pygments_lexer": "ipython2",
   "version": "2.7.6"
  }
 },
 "nbformat": 4,
 "nbformat_minor": 5
}
