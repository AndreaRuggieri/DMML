{
 "cells": [
  {
   "cell_type": "code",
   "execution_count": 3,
   "id": "initial_id",
   "metadata": {
    "collapsed": true,
    "ExecuteTime": {
     "end_time": "2024-05-28T11:51:35.558224500Z",
     "start_time": "2024-05-28T11:51:35.489234100Z"
    }
   },
   "outputs": [
    {
     "name": "stdout",
     "output_type": "stream",
     "text": [
      "  date_published                                            cast   director  \\\n",
      "0     2022-01-01  Actor1, Actor2, Actor3, Actor4, Actor5, Actor6  Director1   \n",
      "1     2021-05-15        Actor7, Actor8, Actor9, Actor10, Actor11  Director2   \n",
      "2     2023-08-20     Actor12, Actor13, Actor14, Actor15, Actor16  Director3   \n",
      "\n",
      "                     writers  cast_films_before  director_films_before  \\\n",
      "0           Writer1, Writer2                  1                      0   \n",
      "1                    Writer3                  0                      0   \n",
      "2  Writer1, Writer3, Writer4                  0                      0   \n",
      "\n",
      "   writers_films_before  \n",
      "0                     0  \n",
      "1                     0  \n",
      "2                     2  \n"
     ]
    }
   ],
   "source": [
    "import pandas as pd\n",
    "\n",
    "# Esempio di dataset\n",
    "data = {\n",
    "    'date_published': ['2022-01-01', '2021-05-15', '2023-08-20'],\n",
    "    'cast': ['Actor1, Actor2, Actor3, Actor4, Actor5, Actor6', 'Actor7, Actor8, Actor9, Actor10, Actor11', 'Actor12, Actor13, Actor14, Actor15, Actor16'],\n",
    "    'director': ['Director1', 'Director2', 'Director3'],\n",
    "    'writers': ['Writer1, Writer2', 'Writer3', 'Writer1, Writer3, Writer4']\n",
    "}\n",
    "\n",
    "df = pd.DataFrame(data)\n",
    "\n",
    "# Funzione per contare il numero di film fatti prima del film di riferimento per ogni attore, regista o scrittore\n",
    "def count_previous_films(row, reference_date, names):\n",
    "    films_before = 0\n",
    "    for name in names:\n",
    "        for idx, member in enumerate(row[name].split(', ')):\n",
    "            if member == '':\n",
    "                continue\n",
    "            # Conta i film fatti prima del film di riferimento per l'attore, regista o scrittore\n",
    "            if idx < 5:  # Considera solo i primi 5 attori\n",
    "                films_before += df.loc[(pd.to_datetime(df['date_published']) < pd.to_datetime(reference_date)) & (df[name].str.contains(member))].shape[0]\n",
    "    return films_before\n",
    "\n",
    "# Applica la funzione per contare i film precedenti per ogni attore, regista e scrittore\n",
    "df['cast_films_before'] = df.apply(lambda row: count_previous_films(row, row['date_published'], ['cast']), axis=1)\n",
    "df['director_films_before'] = df.apply(lambda row: count_previous_films(row, row['date_published'], ['director']), axis=1)\n",
    "df['writers_films_before'] = df.apply(lambda row: count_previous_films(row, row['date_published'], ['writers']), axis=1)\n",
    "\n",
    "# Visualizza il DataFrame risultante\n",
    "print(df)\n"
   ]
  },
  {
   "cell_type": "code",
   "execution_count": 9,
   "outputs": [
    {
     "name": "stdout",
     "output_type": "stream",
     "text": [
      "       Unnamed: 0 imdb_title_id                      title  \\\n",
      "0               0     tt0003471           Traffic in Souls   \n",
      "1               1     tt0005060                     Carmen   \n",
      "2               2     tt0005149                 The Coward   \n",
      "3               3     tt0006509  The Children in the House   \n",
      "4               4     tt0006886                      Judex   \n",
      "...           ...           ...                        ...   \n",
      "20774       20800     tt9815714               The Hard Way   \n",
      "20775       20801     tt9878242                Subharathri   \n",
      "20776       20802     tt9896916     The Pilgrim's Progress   \n",
      "20777       20803     tt9900782                     Kaithi   \n",
      "20778       20804     tt9905412                      Ottam   \n",
      "\n",
      "                  original_title  year date_published  \\\n",
      "0               Traffic in Souls  1913     1913-11-24   \n",
      "1                         Carmen  1915     1915-10-31   \n",
      "2                     The Coward  1915     1915-11-14   \n",
      "3      The Children in the House  1916     1916-04-30   \n",
      "4                          Judex  1916     1917-01-19   \n",
      "...                          ...   ...            ...   \n",
      "20774               The Hard Way  2019     2019-03-05   \n",
      "20775                Subharathri  2019     2019-07-06   \n",
      "20776     The Pilgrim's Progress  2019     2019-04-18   \n",
      "20777                     Kaithi  2019     2019-10-25   \n",
      "20778                      Ottam  2019     2019-03-08   \n",
      "\n",
      "                              genre  duration_df1 country language  ...  \\\n",
      "0                      Crime, Drama          88.0     USA  English  ...   \n",
      "1                             Drama          59.0     USA  English  ...   \n",
      "2               Drama, History, War          77.0     USA  English  ...   \n",
      "3                             Drama          50.0     USA  English  ...   \n",
      "4                  Adventure, Crime         300.0  France   French  ...   \n",
      "...                             ...           ...     ...      ...  ...   \n",
      "20774                        Action          92.0     USA  English  ...   \n",
      "20775                Drama, Romance         130.0   India    Other  ...   \n",
      "20776  Animation, Adventure, Family         108.0     USA  English  ...   \n",
      "20777              Action, Thriller         145.0   India    Other  ...   \n",
      "20778                         Drama         120.0   India    Other  ...   \n",
      "\n",
      "      writer_oscar_won cast_oscar_nomination cast_oscar_won  \\\n",
      "0                    0                     0              0   \n",
      "1                    0                     0              0   \n",
      "2                    0                     0              0   \n",
      "3                    0                     0              0   \n",
      "4                    0                     0              0   \n",
      "...                ...                   ...            ...   \n",
      "20774                0                     0              0   \n",
      "20775                0                     0              0   \n",
      "20776                0                     0              0   \n",
      "20777                0                     0              0   \n",
      "20778                0                     0              0   \n",
      "\n",
      "      dir_globe_nomination dir_globe_won  cast_globe_nomination  \\\n",
      "0                        0             0                      0   \n",
      "1                        0             0                      0   \n",
      "2                        0             0                      0   \n",
      "3                        0             0                      0   \n",
      "4                        0             0                      0   \n",
      "...                    ...           ...                    ...   \n",
      "20774                    0             0                      0   \n",
      "20775                    0             0                      0   \n",
      "20776                    0             0                      0   \n",
      "20777                    0             0                      0   \n",
      "20778                    0             0                      1   \n",
      "\n",
      "       cast_globe_won  actors_films_before director_films_before  \\\n",
      "0                   0                    0                     0   \n",
      "1                   0                    0                     0   \n",
      "2                   0                    0                     0   \n",
      "3                   0                    0                     0   \n",
      "4                   0                    0                     0   \n",
      "...               ...                  ...                   ...   \n",
      "20774               0                   44                     6   \n",
      "20775               0                   50                     0   \n",
      "20776               0                   29                     0   \n",
      "20777               0                   52                     0   \n",
      "20778               0                   14                     7   \n",
      "\n",
      "       writers_films_before  \n",
      "0                         0  \n",
      "1                         0  \n",
      "2                         0  \n",
      "3                         0  \n",
      "4                         0  \n",
      "...                     ...  \n",
      "20774                     3  \n",
      "20775                     0  \n",
      "20776                     1  \n",
      "20777                     0  \n",
      "20778                     0  \n",
      "\n",
      "[20779 rows x 41 columns]\n"
     ]
    }
   ],
   "source": [
    "import pandas as pd\n",
    "\n",
    "\n",
    "\n",
    "df = pd.read_csv('../dataset/golden_globe_oscar_prizedFilms.csv')\n",
    "\n",
    "# Funzione per contare il numero di film fatti prima del film di riferimento per ogni attore, regista o scrittore\n",
    "def count_previous_films(row, reference_date, names):\n",
    "    films_before = 0\n",
    "    for name in names:\n",
    "        try:\n",
    "            if pd.notnull(row[name]):\n",
    "                for idx, member in enumerate(row[name].split(', ')):\n",
    "                    # Conta i film fatti prima del film di riferimento per l'attore, regista o scrittore\n",
    "                    if idx < 5:  # Considera solo i primi 5 attori\n",
    "                        films_before += df.loc[(pd.to_datetime(df['date_published']) < pd.to_datetime(reference_date)) & (df[name].str.contains(member))].shape[0]\n",
    "        except AttributeError:  # Se la colonna contiene valori non stringa\n",
    "            films_before = 0\n",
    "    return films_before\n",
    "\n",
    "# Applica la funzione per contare i film precedenti per ogni attore, regista e scrittore\n",
    "df['actors_films_before'] = df.apply(lambda row: count_previous_films(row, row['date_published'], ['actors']), axis=1)\n",
    "df['director_films_before'] = df.apply(lambda row: count_previous_films(row, row['date_published'], ['director']), axis=1)\n",
    "df['writers_films_before'] = df.apply(lambda row: count_previous_films(row, row['date_published'], ['writer']), axis=1)\n",
    "\n",
    "# Visualizza il DataFrame risultante\n",
    "print(df)"
   ],
   "metadata": {
    "collapsed": false,
    "ExecuteTime": {
     "end_time": "2024-05-28T13:17:37.375304300Z",
     "start_time": "2024-05-28T12:14:06.863796900Z"
    }
   },
   "id": "5402f3a95e00b87"
  },
  {
   "cell_type": "code",
   "execution_count": 10,
   "outputs": [],
   "source": [
    "df.to_csv('../dataset/movies_with_actors_counts.csv', index=False)"
   ],
   "metadata": {
    "collapsed": false,
    "ExecuteTime": {
     "end_time": "2024-05-28T13:19:22.607470300Z",
     "start_time": "2024-05-28T13:19:22.022324Z"
    }
   },
   "id": "4c7adff8c96e00a4"
  }
 ],
 "metadata": {
  "kernelspec": {
   "display_name": "Python 3",
   "language": "python",
   "name": "python3"
  },
  "language_info": {
   "codemirror_mode": {
    "name": "ipython",
    "version": 2
   },
   "file_extension": ".py",
   "mimetype": "text/x-python",
   "name": "python",
   "nbconvert_exporter": "python",
   "pygments_lexer": "ipython2",
   "version": "2.7.6"
  }
 },
 "nbformat": 4,
 "nbformat_minor": 5
}
