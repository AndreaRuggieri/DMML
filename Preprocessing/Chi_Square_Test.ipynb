{
 "cells": [
  {
   "cell_type": "code",
   "execution_count": 34,
   "id": "initial_id",
   "metadata": {
    "collapsed": true,
    "ExecuteTime": {
     "end_time": "2024-05-26T12:32:07.360756200Z",
     "start_time": "2024-05-26T12:32:06.624786Z"
    }
   },
   "outputs": [
    {
     "name": "stdout",
     "output_type": "stream",
     "text": [
      "Chi2: 818082.2843871017\n",
      "P-value: 0.0\n",
      "Degrees of Freedom: 13209\n",
      "Expected frequencies:\n",
      "[[2.41627604e-04 9.18184893e-04 4.83255207e-05 ... 4.83255207e-05\n",
      "  2.89953124e-04 1.44976562e-04]\n",
      " [4.83255207e-04 1.83636979e-03 9.66510414e-05 ... 9.66510414e-05\n",
      "  5.79906248e-04 2.89953124e-04]\n",
      " [4.83255207e-04 1.83636979e-03 9.66510414e-05 ... 9.66510414e-05\n",
      "  5.79906248e-04 2.89953124e-04]\n",
      " ...\n",
      " [1.23230078e-02 4.68274296e-02 2.46460156e-03 ... 2.46460156e-03\n",
      "  1.47876093e-02 7.39380467e-03]\n",
      " [2.41627604e-04 9.18184893e-04 4.83255207e-05 ... 4.83255207e-05\n",
      "  2.89953124e-04 1.44976562e-04]\n",
      " [6.04069009e-03 2.29546223e-02 1.20813802e-03 ... 1.20813802e-03\n",
      "  7.24882811e-03 3.62441405e-03]]\n"
     ]
    },
    {
     "ename": "PermissionError",
     "evalue": "[Errno 13] Permission denied: 'contingency_table.csv'",
     "output_type": "error",
     "traceback": [
      "\u001B[1;31m---------------------------------------------------------------------------\u001B[0m",
      "\u001B[1;31mPermissionError\u001B[0m                           Traceback (most recent call last)",
      "Cell \u001B[1;32mIn[34], line 29\u001B[0m\n\u001B[0;32m     26\u001B[0m \u001B[38;5;28mprint\u001B[39m(\u001B[38;5;124m\"\u001B[39m\u001B[38;5;124mExpected frequencies:\u001B[39m\u001B[38;5;124m\"\u001B[39m)\n\u001B[0;32m     27\u001B[0m \u001B[38;5;28mprint\u001B[39m(expected)\n\u001B[1;32m---> 29\u001B[0m \u001B[43mcontingency_table\u001B[49m\u001B[38;5;241;43m.\u001B[39;49m\u001B[43mto_csv\u001B[49m\u001B[43m(\u001B[49m\u001B[38;5;124;43m'\u001B[39;49m\u001B[38;5;124;43mcontingency_table.csv\u001B[39;49m\u001B[38;5;124;43m'\u001B[39;49m\u001B[43m,\u001B[49m\u001B[43m \u001B[49m\u001B[43mindex\u001B[49m\u001B[38;5;241;43m=\u001B[39;49m\u001B[38;5;28;43;01mFalse\u001B[39;49;00m\u001B[43m)\u001B[49m\n",
      "File \u001B[1;32m~\\miniconda3\\envs\\Business\\lib\\site-packages\\pandas\\core\\generic.py:3772\u001B[0m, in \u001B[0;36mNDFrame.to_csv\u001B[1;34m(self, path_or_buf, sep, na_rep, float_format, columns, header, index, index_label, mode, encoding, compression, quoting, quotechar, lineterminator, chunksize, date_format, doublequote, escapechar, decimal, errors, storage_options)\u001B[0m\n\u001B[0;32m   3761\u001B[0m df \u001B[38;5;241m=\u001B[39m \u001B[38;5;28mself\u001B[39m \u001B[38;5;28;01mif\u001B[39;00m \u001B[38;5;28misinstance\u001B[39m(\u001B[38;5;28mself\u001B[39m, ABCDataFrame) \u001B[38;5;28;01melse\u001B[39;00m \u001B[38;5;28mself\u001B[39m\u001B[38;5;241m.\u001B[39mto_frame()\n\u001B[0;32m   3763\u001B[0m formatter \u001B[38;5;241m=\u001B[39m DataFrameFormatter(\n\u001B[0;32m   3764\u001B[0m     frame\u001B[38;5;241m=\u001B[39mdf,\n\u001B[0;32m   3765\u001B[0m     header\u001B[38;5;241m=\u001B[39mheader,\n\u001B[1;32m   (...)\u001B[0m\n\u001B[0;32m   3769\u001B[0m     decimal\u001B[38;5;241m=\u001B[39mdecimal,\n\u001B[0;32m   3770\u001B[0m )\n\u001B[1;32m-> 3772\u001B[0m \u001B[38;5;28;01mreturn\u001B[39;00m \u001B[43mDataFrameRenderer\u001B[49m\u001B[43m(\u001B[49m\u001B[43mformatter\u001B[49m\u001B[43m)\u001B[49m\u001B[38;5;241;43m.\u001B[39;49m\u001B[43mto_csv\u001B[49m\u001B[43m(\u001B[49m\n\u001B[0;32m   3773\u001B[0m \u001B[43m    \u001B[49m\u001B[43mpath_or_buf\u001B[49m\u001B[43m,\u001B[49m\n\u001B[0;32m   3774\u001B[0m \u001B[43m    \u001B[49m\u001B[43mlineterminator\u001B[49m\u001B[38;5;241;43m=\u001B[39;49m\u001B[43mlineterminator\u001B[49m\u001B[43m,\u001B[49m\n\u001B[0;32m   3775\u001B[0m \u001B[43m    \u001B[49m\u001B[43msep\u001B[49m\u001B[38;5;241;43m=\u001B[39;49m\u001B[43msep\u001B[49m\u001B[43m,\u001B[49m\n\u001B[0;32m   3776\u001B[0m \u001B[43m    \u001B[49m\u001B[43mencoding\u001B[49m\u001B[38;5;241;43m=\u001B[39;49m\u001B[43mencoding\u001B[49m\u001B[43m,\u001B[49m\n\u001B[0;32m   3777\u001B[0m \u001B[43m    \u001B[49m\u001B[43merrors\u001B[49m\u001B[38;5;241;43m=\u001B[39;49m\u001B[43merrors\u001B[49m\u001B[43m,\u001B[49m\n\u001B[0;32m   3778\u001B[0m \u001B[43m    \u001B[49m\u001B[43mcompression\u001B[49m\u001B[38;5;241;43m=\u001B[39;49m\u001B[43mcompression\u001B[49m\u001B[43m,\u001B[49m\n\u001B[0;32m   3779\u001B[0m \u001B[43m    \u001B[49m\u001B[43mquoting\u001B[49m\u001B[38;5;241;43m=\u001B[39;49m\u001B[43mquoting\u001B[49m\u001B[43m,\u001B[49m\n\u001B[0;32m   3780\u001B[0m \u001B[43m    \u001B[49m\u001B[43mcolumns\u001B[49m\u001B[38;5;241;43m=\u001B[39;49m\u001B[43mcolumns\u001B[49m\u001B[43m,\u001B[49m\n\u001B[0;32m   3781\u001B[0m \u001B[43m    \u001B[49m\u001B[43mindex_label\u001B[49m\u001B[38;5;241;43m=\u001B[39;49m\u001B[43mindex_label\u001B[49m\u001B[43m,\u001B[49m\n\u001B[0;32m   3782\u001B[0m \u001B[43m    \u001B[49m\u001B[43mmode\u001B[49m\u001B[38;5;241;43m=\u001B[39;49m\u001B[43mmode\u001B[49m\u001B[43m,\u001B[49m\n\u001B[0;32m   3783\u001B[0m \u001B[43m    \u001B[49m\u001B[43mchunksize\u001B[49m\u001B[38;5;241;43m=\u001B[39;49m\u001B[43mchunksize\u001B[49m\u001B[43m,\u001B[49m\n\u001B[0;32m   3784\u001B[0m \u001B[43m    \u001B[49m\u001B[43mquotechar\u001B[49m\u001B[38;5;241;43m=\u001B[39;49m\u001B[43mquotechar\u001B[49m\u001B[43m,\u001B[49m\n\u001B[0;32m   3785\u001B[0m \u001B[43m    \u001B[49m\u001B[43mdate_format\u001B[49m\u001B[38;5;241;43m=\u001B[39;49m\u001B[43mdate_format\u001B[49m\u001B[43m,\u001B[49m\n\u001B[0;32m   3786\u001B[0m \u001B[43m    \u001B[49m\u001B[43mdoublequote\u001B[49m\u001B[38;5;241;43m=\u001B[39;49m\u001B[43mdoublequote\u001B[49m\u001B[43m,\u001B[49m\n\u001B[0;32m   3787\u001B[0m \u001B[43m    \u001B[49m\u001B[43mescapechar\u001B[49m\u001B[38;5;241;43m=\u001B[39;49m\u001B[43mescapechar\u001B[49m\u001B[43m,\u001B[49m\n\u001B[0;32m   3788\u001B[0m \u001B[43m    \u001B[49m\u001B[43mstorage_options\u001B[49m\u001B[38;5;241;43m=\u001B[39;49m\u001B[43mstorage_options\u001B[49m\u001B[43m,\u001B[49m\n\u001B[0;32m   3789\u001B[0m \u001B[43m\u001B[49m\u001B[43m)\u001B[49m\n",
      "File \u001B[1;32m~\\miniconda3\\envs\\Business\\lib\\site-packages\\pandas\\io\\formats\\format.py:1186\u001B[0m, in \u001B[0;36mDataFrameRenderer.to_csv\u001B[1;34m(self, path_or_buf, encoding, sep, columns, index_label, mode, compression, quoting, quotechar, lineterminator, chunksize, date_format, doublequote, escapechar, errors, storage_options)\u001B[0m\n\u001B[0;32m   1165\u001B[0m     created_buffer \u001B[38;5;241m=\u001B[39m \u001B[38;5;28;01mFalse\u001B[39;00m\n\u001B[0;32m   1167\u001B[0m csv_formatter \u001B[38;5;241m=\u001B[39m CSVFormatter(\n\u001B[0;32m   1168\u001B[0m     path_or_buf\u001B[38;5;241m=\u001B[39mpath_or_buf,\n\u001B[0;32m   1169\u001B[0m     lineterminator\u001B[38;5;241m=\u001B[39mlineterminator,\n\u001B[1;32m   (...)\u001B[0m\n\u001B[0;32m   1184\u001B[0m     formatter\u001B[38;5;241m=\u001B[39m\u001B[38;5;28mself\u001B[39m\u001B[38;5;241m.\u001B[39mfmt,\n\u001B[0;32m   1185\u001B[0m )\n\u001B[1;32m-> 1186\u001B[0m \u001B[43mcsv_formatter\u001B[49m\u001B[38;5;241;43m.\u001B[39;49m\u001B[43msave\u001B[49m\u001B[43m(\u001B[49m\u001B[43m)\u001B[49m\n\u001B[0;32m   1188\u001B[0m \u001B[38;5;28;01mif\u001B[39;00m created_buffer:\n\u001B[0;32m   1189\u001B[0m     \u001B[38;5;28;01massert\u001B[39;00m \u001B[38;5;28misinstance\u001B[39m(path_or_buf, StringIO)\n",
      "File \u001B[1;32m~\\miniconda3\\envs\\Business\\lib\\site-packages\\pandas\\io\\formats\\csvs.py:240\u001B[0m, in \u001B[0;36mCSVFormatter.save\u001B[1;34m(self)\u001B[0m\n\u001B[0;32m    236\u001B[0m \u001B[38;5;250m\u001B[39m\u001B[38;5;124;03m\"\"\"\u001B[39;00m\n\u001B[0;32m    237\u001B[0m \u001B[38;5;124;03mCreate the writer & save.\u001B[39;00m\n\u001B[0;32m    238\u001B[0m \u001B[38;5;124;03m\"\"\"\u001B[39;00m\n\u001B[0;32m    239\u001B[0m \u001B[38;5;66;03m# apply compression and byte/text conversion\u001B[39;00m\n\u001B[1;32m--> 240\u001B[0m \u001B[38;5;28;01mwith\u001B[39;00m \u001B[43mget_handle\u001B[49m\u001B[43m(\u001B[49m\n\u001B[0;32m    241\u001B[0m \u001B[43m    \u001B[49m\u001B[38;5;28;43mself\u001B[39;49m\u001B[38;5;241;43m.\u001B[39;49m\u001B[43mfilepath_or_buffer\u001B[49m\u001B[43m,\u001B[49m\n\u001B[0;32m    242\u001B[0m \u001B[43m    \u001B[49m\u001B[38;5;28;43mself\u001B[39;49m\u001B[38;5;241;43m.\u001B[39;49m\u001B[43mmode\u001B[49m\u001B[43m,\u001B[49m\n\u001B[0;32m    243\u001B[0m \u001B[43m    \u001B[49m\u001B[43mencoding\u001B[49m\u001B[38;5;241;43m=\u001B[39;49m\u001B[38;5;28;43mself\u001B[39;49m\u001B[38;5;241;43m.\u001B[39;49m\u001B[43mencoding\u001B[49m\u001B[43m,\u001B[49m\n\u001B[0;32m    244\u001B[0m \u001B[43m    \u001B[49m\u001B[43merrors\u001B[49m\u001B[38;5;241;43m=\u001B[39;49m\u001B[38;5;28;43mself\u001B[39;49m\u001B[38;5;241;43m.\u001B[39;49m\u001B[43merrors\u001B[49m\u001B[43m,\u001B[49m\n\u001B[0;32m    245\u001B[0m \u001B[43m    \u001B[49m\u001B[43mcompression\u001B[49m\u001B[38;5;241;43m=\u001B[39;49m\u001B[38;5;28;43mself\u001B[39;49m\u001B[38;5;241;43m.\u001B[39;49m\u001B[43mcompression\u001B[49m\u001B[43m,\u001B[49m\n\u001B[0;32m    246\u001B[0m \u001B[43m    \u001B[49m\u001B[43mstorage_options\u001B[49m\u001B[38;5;241;43m=\u001B[39;49m\u001B[38;5;28;43mself\u001B[39;49m\u001B[38;5;241;43m.\u001B[39;49m\u001B[43mstorage_options\u001B[49m\u001B[43m,\u001B[49m\n\u001B[0;32m    247\u001B[0m \u001B[43m\u001B[49m\u001B[43m)\u001B[49m \u001B[38;5;28;01mas\u001B[39;00m handles:\n\u001B[0;32m    248\u001B[0m     \u001B[38;5;66;03m# Note: self.encoding is irrelevant here\u001B[39;00m\n\u001B[0;32m    249\u001B[0m     \u001B[38;5;28mself\u001B[39m\u001B[38;5;241m.\u001B[39mwriter \u001B[38;5;241m=\u001B[39m csvlib\u001B[38;5;241m.\u001B[39mwriter(\n\u001B[0;32m    250\u001B[0m         handles\u001B[38;5;241m.\u001B[39mhandle,\n\u001B[0;32m    251\u001B[0m         lineterminator\u001B[38;5;241m=\u001B[39m\u001B[38;5;28mself\u001B[39m\u001B[38;5;241m.\u001B[39mlineterminator,\n\u001B[1;32m   (...)\u001B[0m\n\u001B[0;32m    256\u001B[0m         quotechar\u001B[38;5;241m=\u001B[39m\u001B[38;5;28mself\u001B[39m\u001B[38;5;241m.\u001B[39mquotechar,\n\u001B[0;32m    257\u001B[0m     )\n\u001B[0;32m    259\u001B[0m     \u001B[38;5;28mself\u001B[39m\u001B[38;5;241m.\u001B[39m_save()\n",
      "File \u001B[1;32m~\\miniconda3\\envs\\Business\\lib\\site-packages\\pandas\\io\\common.py:859\u001B[0m, in \u001B[0;36mget_handle\u001B[1;34m(path_or_buf, mode, encoding, compression, memory_map, is_text, errors, storage_options)\u001B[0m\n\u001B[0;32m    854\u001B[0m \u001B[38;5;28;01melif\u001B[39;00m \u001B[38;5;28misinstance\u001B[39m(handle, \u001B[38;5;28mstr\u001B[39m):\n\u001B[0;32m    855\u001B[0m     \u001B[38;5;66;03m# Check whether the filename is to be opened in binary mode.\u001B[39;00m\n\u001B[0;32m    856\u001B[0m     \u001B[38;5;66;03m# Binary mode does not support 'encoding' and 'newline'.\u001B[39;00m\n\u001B[0;32m    857\u001B[0m     \u001B[38;5;28;01mif\u001B[39;00m ioargs\u001B[38;5;241m.\u001B[39mencoding \u001B[38;5;129;01mand\u001B[39;00m \u001B[38;5;124m\"\u001B[39m\u001B[38;5;124mb\u001B[39m\u001B[38;5;124m\"\u001B[39m \u001B[38;5;129;01mnot\u001B[39;00m \u001B[38;5;129;01min\u001B[39;00m ioargs\u001B[38;5;241m.\u001B[39mmode:\n\u001B[0;32m    858\u001B[0m         \u001B[38;5;66;03m# Encoding\u001B[39;00m\n\u001B[1;32m--> 859\u001B[0m         handle \u001B[38;5;241m=\u001B[39m \u001B[38;5;28;43mopen\u001B[39;49m\u001B[43m(\u001B[49m\n\u001B[0;32m    860\u001B[0m \u001B[43m            \u001B[49m\u001B[43mhandle\u001B[49m\u001B[43m,\u001B[49m\n\u001B[0;32m    861\u001B[0m \u001B[43m            \u001B[49m\u001B[43mioargs\u001B[49m\u001B[38;5;241;43m.\u001B[39;49m\u001B[43mmode\u001B[49m\u001B[43m,\u001B[49m\n\u001B[0;32m    862\u001B[0m \u001B[43m            \u001B[49m\u001B[43mencoding\u001B[49m\u001B[38;5;241;43m=\u001B[39;49m\u001B[43mioargs\u001B[49m\u001B[38;5;241;43m.\u001B[39;49m\u001B[43mencoding\u001B[49m\u001B[43m,\u001B[49m\n\u001B[0;32m    863\u001B[0m \u001B[43m            \u001B[49m\u001B[43merrors\u001B[49m\u001B[38;5;241;43m=\u001B[39;49m\u001B[43merrors\u001B[49m\u001B[43m,\u001B[49m\n\u001B[0;32m    864\u001B[0m \u001B[43m            \u001B[49m\u001B[43mnewline\u001B[49m\u001B[38;5;241;43m=\u001B[39;49m\u001B[38;5;124;43m\"\u001B[39;49m\u001B[38;5;124;43m\"\u001B[39;49m\u001B[43m,\u001B[49m\n\u001B[0;32m    865\u001B[0m \u001B[43m        \u001B[49m\u001B[43m)\u001B[49m\n\u001B[0;32m    866\u001B[0m     \u001B[38;5;28;01melse\u001B[39;00m:\n\u001B[0;32m    867\u001B[0m         \u001B[38;5;66;03m# Binary mode\u001B[39;00m\n\u001B[0;32m    868\u001B[0m         handle \u001B[38;5;241m=\u001B[39m \u001B[38;5;28mopen\u001B[39m(handle, ioargs\u001B[38;5;241m.\u001B[39mmode)\n",
      "\u001B[1;31mPermissionError\u001B[0m: [Errno 13] Permission denied: 'contingency_table.csv'"
     ]
    }
   ],
   "source": [
    "import pandas as pd\n",
    "from scipy.stats import chi2_contingency\n",
    "\n",
    "# Caricare il dataset\n",
    "df = pd.read_csv('rounded_updated_films.csv')\n",
    "\n",
    "def get_first_value(x):\n",
    "    if pd.notnull(x):  # Controlla se il valore non è NaN\n",
    "        return x.split(',')[0].strip()\n",
    "    return x\n",
    "\n",
    "# Estrai il primo valore di 'country' e 'language'\n",
    "df['first_country'] = df['country'].apply(get_first_value)\n",
    "df['first_language'] = df['language'].apply(get_first_value)\n",
    "\n",
    "# Crea una tabella di contingenza\n",
    "contingency_table = pd.crosstab(df['first_country'], df['first_language'])\n",
    "\n",
    "# Esegui il test chi-quadro\n",
    "chi2, p, dof, expected = chi2_contingency(contingency_table)\n",
    "\n",
    "# Stampa i risultati\n",
    "print(f\"Chi2: {chi2}\")\n",
    "print(f\"P-value: {p}\")\n",
    "print(f\"Degrees of Freedom: {dof}\")\n",
    "print(\"Expected frequencies:\")\n",
    "print(expected)\n",
    "\n",
    "contingency_table.to_csv('contingency_table.csv', index=False)\n"
   ]
  },
  {
   "cell_type": "code",
   "execution_count": 7,
   "outputs": [
    {
     "name": "stdout",
     "output_type": "stream",
     "text": [
      "Attenzione: Alcune frequenze attese sono inferiori a 5.\n",
      "Le frequenze attese inferiori a 5 sono le seguenti:\n",
      "[2.41627604e-04 9.18184893e-04 4.83255207e-05 ... 1.20813802e-03\n",
      " 7.24882811e-03 3.62441405e-03]\n"
     ]
    }
   ],
   "source": [
    "\n",
    "# Verifica se ci sono frequenze attese inferiori a 5\n",
    "low_expected_frequencies = expected[expected < 5]\n",
    "\n",
    "if low_expected_frequencies.size == 0:\n",
    "    print(\"Tutte le frequenze attese sono superiori a 5. Le frequenze attese sono adeguate.\")\n",
    "else:\n",
    "    print(\"Attenzione: Alcune frequenze attese sono inferiori a 5.\")\n",
    "    print(\"Le frequenze attese inferiori a 5 sono le seguenti:\")\n",
    "    print(low_expected_frequencies)"
   ],
   "metadata": {
    "collapsed": false,
    "ExecuteTime": {
     "end_time": "2024-05-24T09:22:43.136831800Z",
     "start_time": "2024-05-24T09:22:43.099902800Z"
    }
   },
   "id": "fea8d17a94960bc2"
  },
  {
   "cell_type": "code",
   "execution_count": 10,
   "outputs": [
    {
     "name": "stdout",
     "output_type": "stream",
     "text": [
      "Valori con frequenze basse:\n",
      "first_language  Aboriginal  Afrikaans  Akan  Albanian  American Sign Language  \\\n",
      "first_country                                                                   \n",
      "Afghanistan              0        0.0     0         0                       0   \n",
      "Albania                  0        0.0     0         2                       0   \n",
      "Algeria                  0        0.0     0         0                       0   \n",
      "Andorra                  0        0.0     0         0                       0   \n",
      "Argentina                0        0.0     0         0                       0   \n",
      "...                    ...        ...   ...       ...                     ...   \n",
      "Venezuela                0        0.0     0         0                       0   \n",
      "Vietnam                  0        0.0     0         0                       0   \n",
      "West Germany             0        0.0     0         0                       0   \n",
      "Yemen                    0        0.0     0         0                       0   \n",
      "Yugoslavia               0        0.0     0         0                       0   \n",
      "\n",
      "first_language  Amharic  Arabic  Aramaic  Armenian  Azerbaijani  ...  Tibetan  \\\n",
      "first_country                                                    ...            \n",
      "Afghanistan           0     0.0        0         0            0  ...        0   \n",
      "Albania               0     0.0        0         0            0  ...        0   \n",
      "Algeria               0     0.0        0         0            0  ...        0   \n",
      "Andorra               0     0.0        0         0            0  ...        0   \n",
      "Argentina             0     0.0        0         0            0  ...        0   \n",
      "...                 ...     ...      ...       ...          ...  ...      ...   \n",
      "Venezuela             0     0.0        0         0            0  ...        0   \n",
      "Vietnam               0     0.0        0         0            0  ...        0   \n",
      "West Germany          0     0.0        0         0            0  ...        0   \n",
      "Yemen                 0     1.0        0         0            0  ...        0   \n",
      "Yugoslavia            0     0.0        0         0            0  ...        0   \n",
      "\n",
      "first_language  Tswana  Turkish  Ukrainian  Urdu  Vietnamese  Welsh  Wolof  \\\n",
      "first_country                                                                \n",
      "Afghanistan          0      0.0        0.0   0.0         0.0      0      0   \n",
      "Albania              0      0.0        0.0   0.0         0.0      0      0   \n",
      "Algeria              0      0.0        0.0   0.0         0.0      0      0   \n",
      "Andorra              0      0.0        0.0   0.0         0.0      0      0   \n",
      "Argentina            0      0.0        0.0   0.0         0.0      0      0   \n",
      "...                ...      ...        ...   ...         ...    ...    ...   \n",
      "Venezuela            0      0.0        0.0   0.0         0.0      0      0   \n",
      "Vietnam              0      0.0        0.0   0.0         NaN      0      0   \n",
      "West Germany         0      0.0        0.0   0.0         0.0      0      0   \n",
      "Yemen                0      0.0        0.0   0.0         0.0      0      0   \n",
      "Yugoslavia           0      0.0        0.0   0.0         0.0      0      0   \n",
      "\n",
      "first_language  Xhosa  Zulu  \n",
      "first_country                \n",
      "Afghanistan       0.0     0  \n",
      "Albania           0.0     0  \n",
      "Algeria           0.0     0  \n",
      "Andorra           0.0     0  \n",
      "Argentina         0.0     0  \n",
      "...               ...   ...  \n",
      "Venezuela         0.0     0  \n",
      "Vietnam           0.0     0  \n",
      "West Germany      0.0     0  \n",
      "Yemen             0.0     0  \n",
      "Yugoslavia        0.0     0  \n",
      "\n",
      "[120 rows x 112 columns]\n"
     ]
    }
   ],
   "source": [
    "# Specifica una soglia per le frequenze basse\n",
    "threshold = 5\n",
    "\n",
    "# Trova i valori nella tabella di contingenza che sono inferiori alla soglia\n",
    "low_frequencies = contingency_table[contingency_table < threshold]\n",
    "\n",
    "# Stampa i valori con frequenze basse\n",
    "print(\"Valori con frequenze basse:\")\n",
    "print(low_frequencies)\n"
   ],
   "metadata": {
    "collapsed": false,
    "ExecuteTime": {
     "end_time": "2024-05-24T09:27:58.513419200Z",
     "start_time": "2024-05-24T09:27:58.466422600Z"
    }
   },
   "id": "a73cc85058254c50"
  },
  {
   "cell_type": "code",
   "execution_count": 32,
   "outputs": [
    {
     "name": "stdout",
     "output_type": "stream",
     "text": [
      "Chi2: 590624.9949839278\n",
      "P-value: 0.0\n",
      "Degrees of Freedom: 31710\n",
      "Expected frequencies:\n",
      "[[1.83210103e-03 8.54980479e-03 3.05350171e-04 ... 2.38173134e-02\n",
      "  1.52675086e-03 1.03819058e-02]\n",
      " [1.17777923e-03 5.49630308e-03 1.96296539e-04 ... 1.53111300e-02\n",
      "  9.81482693e-04 6.67408231e-03]\n",
      " [2.48642282e-03 1.16033065e-02 4.14403804e-04 ... 3.23234967e-02\n",
      "  2.07201902e-03 1.40897293e-02]\n",
      " ...\n",
      " [6.15062488e-03 2.87029161e-02 1.02510415e-03 ... 7.99581234e-02\n",
      "  5.12552073e-03 3.48535410e-02]\n",
      " [5.23457436e-04 2.44280137e-03 8.72429061e-05 ... 6.80494667e-03\n",
      "  4.36214530e-04 2.96625881e-03]\n",
      " [1.30864359e-04 6.10700342e-04 2.18107265e-05 ... 1.70123667e-03\n",
      "  1.09053633e-04 7.41564702e-04]]\n"
     ]
    }
   ],
   "source": [
    "import pandas as pd\n",
    "from scipy.stats import chi2_contingency\n",
    "\n",
    "# Caricare il dataset\n",
    "df = pd.read_csv('rounded_updated_films.csv')\n",
    "\n",
    "# Funzione per espandere le colonne 'country' e 'language'\n",
    "def expand_columns(df, col1, col2):\n",
    "    # Riempire i valori NaN con stringhe vuote per evitare errori durante la divisione\n",
    "    df[col1] = df[col1].fillna('')\n",
    "    df[col2] = df[col2].fillna('')\n",
    "    \n",
    "    # Split and explode the columns\n",
    "    df_expanded = df.copy()\n",
    "    df_expanded[col1] = df_expanded[col1].str.split(', ')\n",
    "    df_expanded[col2] = df_expanded[col2].str.split(', ')\n",
    "    df_expanded = df_expanded.explode(col1).explode(col2)\n",
    "    \n",
    "    # Rimuovere righe con valori vuoti dopo l'esplosione\n",
    "    df_expanded = df_expanded[(df_expanded[col1] != '') & (df_expanded[col2] != '')]\n",
    "    return df_expanded\n",
    "\n",
    "# Espandere le colonne 'country' e 'language'\n",
    "df_expanded = expand_columns(df, 'country', 'language')\n",
    "\n",
    "# Creare una tabella di contingenza\n",
    "contingency_table = pd.crosstab(df_expanded['country'], df_expanded['language'])\n",
    "\n",
    "# Eseguire il test chi-quadro\n",
    "chi2, p, dof, expected = chi2_contingency(contingency_table)\n",
    "\n",
    "# Visualizzare i risultati\n",
    "print(f\"Chi2: {chi2}\")\n",
    "print(f\"P-value: {p}\")\n",
    "print(f\"Degrees of Freedom: {dof}\")\n",
    "print(\"Expected frequencies:\")\n",
    "print(expected)\n",
    "\n",
    "# Salvare la tabella di contingenza per eventuali verifiche future\n",
    "#contingency_table.to_csv('contingency_table.csv')\n"
   ],
   "metadata": {
    "collapsed": false,
    "ExecuteTime": {
     "end_time": "2024-05-26T12:26:53.977924Z",
     "start_time": "2024-05-26T12:26:52.202756100Z"
    }
   },
   "id": "2184f5c21e23d4d0"
  },
  {
   "cell_type": "code",
   "execution_count": 23,
   "outputs": [
    {
     "name": "stdout",
     "output_type": "stream",
     "text": [
      "Chi2: 431742.3952163828\n",
      "P-value: 0.0\n",
      "Degrees of Freedom: 9384\n",
      "Expected frequencies:\n",
      "[[0.0085498  0.02564941 0.01496216 ... 0.01190866 0.02381731 0.01038191]\n",
      " [0.01160331 0.03480992 0.02030579 ... 0.01616175 0.0323235  0.01408973]\n",
      " [0.14473598 0.43420794 0.25328797 ... 0.20159655 0.40319309 0.17575083]\n",
      " ...\n",
      " [0.01343541 0.04030622 0.02351196 ... 0.0187136  0.03742721 0.01631442]\n",
      " [0.10565116 0.31695348 0.18488953 ... 0.14715697 0.29431394 0.12829069]\n",
      " [0.02870292 0.08610875 0.0502301  ... 0.03997906 0.07995812 0.03485354]]\n"
     ]
    }
   ],
   "source": [
    "import pandas as pd\n",
    "from scipy.stats import chi2_contingency\n",
    "\n",
    "# Rimuovere le righe con valori NaN nelle colonne 'country' e 'language'\n",
    "df_expanded.dropna(subset=['country', 'language'], inplace=True)\n",
    "\n",
    "# Riduzione delle categorie\n",
    "df_expanded['country'] = df_expanded['country'].apply(lambda x: x if df_expanded['country'].value_counts()[x] > 10 else 'Altro')\n",
    "df_expanded['language'] = df_expanded['language'].apply(lambda x: x if df_expanded['language'].value_counts()[x] > 10 else 'Altro')\n",
    "\n",
    "# Calcolo della tabella di contingenza\n",
    "contingency_table = pd.crosstab(df_expanded['country'], df_expanded['language'])\n",
    "\n",
    "# Esecuzione del test chi-quadro\n",
    "chi2, p, dof, expected = chi2_contingency(contingency_table)\n",
    "print(f\"Chi2: {chi2}\")\n",
    "print(f\"P-value: {p}\")\n",
    "print(f\"Degrees of Freedom: {dof}\")\n",
    "print(\"Expected frequencies:\")\n",
    "print(expected)\n"
   ],
   "metadata": {
    "collapsed": false,
    "ExecuteTime": {
     "end_time": "2024-05-24T10:30:55.865423700Z",
     "start_time": "2024-05-24T10:25:36.380644500Z"
    }
   },
   "id": "2e9a1a0a3ff0a8fc"
  },
  {
   "cell_type": "code",
   "execution_count": 21,
   "outputs": [
    {
     "name": "stdout",
     "output_type": "stream",
     "text": [
      "Usando solo il primo valore:\n",
      "Numero di paesi unici: 120\n",
      "Numero di lingue uniche: 112\n",
      "Gradi di libertà: 13209\n",
      "\n",
      "Usando tutti i valori:\n",
      "Numero di paesi unici: 152\n",
      "Numero di lingue uniche: 211\n",
      "Gradi di libertà: 31710\n"
     ]
    }
   ],
   "source": [
    "import pandas as pd\n",
    "from scipy.stats import chi2_contingency\n",
    "\n",
    "# Caricare il dataset\n",
    "df = pd.read_csv('rounded_updated_films.csv')\n",
    "\n",
    "# Funzione per ottenere il primo valore di ogni cella\n",
    "def get_first_value(x):\n",
    "    if pd.notnull(x):\n",
    "        return x.split(',')[0].strip()\n",
    "    return x\n",
    "\n",
    "# Funzione per esplodere colonne con valori multipli\n",
    "def expand_columns(df, col1, col2):\n",
    "    # Riempire i valori NaN con stringhe vuote per evitare errori durante la divisione\n",
    "    df[col1] = df[col1].fillna('')\n",
    "    df[col2] = df[col2].fillna('')\n",
    "    \n",
    "    # Split and explode the columns\n",
    "    df_expanded = df.copy()\n",
    "    df_expanded[col1] = df_expanded[col1].str.split(', ')\n",
    "    df_expanded[col2] = df_expanded[col2].str.split(', ')\n",
    "    df_expanded = df_expanded.explode(col1).explode(col2)\n",
    "    \n",
    "    # Rimuovere righe con valori vuoti dopo l'esplosione\n",
    "    df_expanded = df_expanded[(df_expanded[col1] != '') & (df_expanded[col2] != '')]\n",
    "    return df_expanded\n",
    "\n",
    "# Situazione 1: Usare solo il primo valore\n",
    "df_first_value = df.copy()\n",
    "df_first_value['country'] = df_first_value['country'].apply(get_first_value)\n",
    "df_first_value['language'] = df_first_value['language'].apply(get_first_value)\n",
    "\n",
    "# Creare una tabella di contingenza\n",
    "contingency_table_first = pd.crosstab(df_first_value['country'], df_first_value['language'])\n",
    "\n",
    "# Calcolare il numero di categorie uniche\n",
    "num_countries_first = df_first_value['country'].nunique()\n",
    "num_languages_first = df_first_value['language'].nunique()\n",
    "\n",
    "# Situazione 2: Usare tutti i valori\n",
    "df_expanded = expand_columns(df, 'country', 'language')\n",
    "\n",
    "# Creare una tabella di contingenza\n",
    "contingency_table_expanded = pd.crosstab(df_expanded['country'], df_expanded['language'])\n",
    "\n",
    "# Calcolare il numero di categorie uniche\n",
    "num_countries_expanded = df_expanded['country'].nunique()\n",
    "num_languages_expanded = df_expanded['language'].nunique()\n",
    "\n",
    "# Visualizzare i risultati\n",
    "print(\"Usando solo il primo valore:\")\n",
    "print(f\"Numero di paesi unici: {num_countries_first}\")\n",
    "print(f\"Numero di lingue uniche: {num_languages_first}\")\n",
    "print(f\"Gradi di libertà: {(num_countries_first - 1) * (num_languages_first - 1)}\")\n",
    "\n",
    "print(\"\\nUsando tutti i valori:\")\n",
    "print(f\"Numero di paesi unici: {num_countries_expanded}\")\n",
    "print(f\"Numero di lingue uniche: {num_languages_expanded}\")\n",
    "print(f\"Gradi di libertà: {(num_countries_expanded - 1) * (num_languages_expanded - 1)}\")\n"
   ],
   "metadata": {
    "collapsed": false,
    "ExecuteTime": {
     "end_time": "2024-05-24T10:11:24.182392600Z",
     "start_time": "2024-05-24T10:11:23.302969100Z"
    }
   },
   "id": "18192b806f8212f1"
  },
  {
   "cell_type": "code",
   "execution_count": null,
   "outputs": [],
   "source": [],
   "metadata": {
    "collapsed": false
   },
   "id": "7f770ae8dd0f2d07"
  },
  {
   "cell_type": "code",
   "execution_count": 36,
   "outputs": [
    {
     "data": {
      "text/plain": "<Figure size 1000x600 with 1 Axes>",
      "image/png": "[encoded data removed]"
     },
     "metadata": {},
     "output_type": "display_data"
    },
    {
     "data": {
      "text/plain": "<Figure size 1000x600 with 1 Axes>",
      "image/png": "[encoded data removed]"
     },
     "metadata": {},
     "output_type": "display_data"
    }
   ],
   "source": [
    "import pandas as pd\n",
    "import matplotlib.pyplot as plt\n",
    "\n",
    "df = pd.read_csv('rounded_updated_films.csv')\n",
    "# Funzione per mantenere solo il primo valore in ogni cella\n",
    "def mantieni_primo_valore(df, colonna):\n",
    "    df[colonna] = df[colonna].str.split(',').str[0]\n",
    "    return df\n",
    "\n",
    "# Applica la funzione alle colonne 'country' e 'language'\n",
    "df_expanded = mantieni_primo_valore(df, 'country')\n",
    "df_expanded = mantieni_primo_valore(df, 'language')\n",
    "\n",
    "\n",
    "top_country_values = df_expanded['country'].value_counts().head(15)\n",
    "top_language_values = df_expanded['language'].value_counts().head(15)\n",
    "\n",
    "# Grafico a barre per la distribuzione delle categorie nella colonna 'country'\n",
    "plt.figure(figsize=(10, 6))\n",
    "top_country_values.plot(kind='bar')\n",
    "plt.title('Distribuzione delle categorie nella colonna \"country\" (Primi 15)')\n",
    "plt.xlabel('Paese')\n",
    "plt.ylabel('Frequenza')\n",
    "plt.show()\n",
    "\n",
    "# Grafico a barre per la distribuzione delle categorie nella colonna 'language'\n",
    "plt.figure(figsize=(10, 6))\n",
    "top_language_values.plot(kind='bar')\n",
    "plt.title('Distribuzione delle categorie nella colonna \"language\" (Primi 15)')\n",
    "plt.xlabel('Lingua')\n",
    "plt.ylabel('Frequenza')\n",
    "plt.show()\n",
    "\n",
    "# Funzione per raggruppare il resto sotto 'Altro'\n",
    "def raggruppa_sotto_altro(df, colonna, n=10):\n",
    "    valori_contati = df[colonna].value_counts()\n",
    "    categorie_da_mantenere = valori_contati[:n].index\n",
    "    df[colonna] = df[colonna].apply(lambda x: x if x in categorie_da_mantenere else 'Altro')\n",
    "    return df\n",
    "\n",
    "# Applica la funzione alle colonne 'country' e 'language'\n",
    "df_expanded = raggruppa_sotto_altro(df_expanded, 'country', n=15)\n",
    "df_expanded = raggruppa_sotto_altro(df_expanded, 'language', n=15)\n"
   ],
   "metadata": {
    "collapsed": false,
    "ExecuteTime": {
     "end_time": "2024-05-26T12:32:38.256572100Z",
     "start_time": "2024-05-26T12:32:36.693594600Z"
    }
   },
   "id": "7c978417454eb805"
  },
  {
   "cell_type": "code",
   "execution_count": 58,
   "outputs": [
    {
     "name": "stdout",
     "output_type": "stream",
     "text": [
      "   Unnamed: 0 imdb_title_id                      title  \\\n",
      "0           0     tt0003471           Traffic in Souls   \n",
      "1           1     tt0005060                     Carmen   \n",
      "2           2     tt0005149                 The Coward   \n",
      "3           3     tt0006509  The Children in the House   \n",
      "4           4     tt0006886                      Judex   \n",
      "\n",
      "              original_title  year date_published                genre  \\\n",
      "0           Traffic in Souls  1913     1913-11-24         Crime, Drama   \n",
      "1                     Carmen  1915     1915-10-31                Drama   \n",
      "2                 The Coward  1915     1915-11-14  Drama, History, War   \n",
      "3  The Children in the House  1916     1916-04-30                Drama   \n",
      "4                      Judex  1916     1917-01-19     Adventure, Crime   \n",
      "\n",
      "   duration country language  ... usa_gross_income worlwide_gross_income  \\\n",
      "0        88     USA  English  ...              NaN             1800000.0   \n",
      "1        59     USA  English  ...              NaN            11000000.0   \n",
      "2        77     USA  English  ...              NaN              137365.0   \n",
      "3         5     USA  English  ...              NaN             8000000.0   \n",
      "4         3  France   French  ...              NaN             1750000.0   \n",
      "\n",
      "  metascore reviews_from_users reviews_from_critics  currency         nation  \\\n",
      "0       NaN              130.0                100.0       USD  United States   \n",
      "1       NaN              190.0                 60.0       USD  United States   \n",
      "2       NaN              150.0                 30.0       USD  United States   \n",
      "3       NaN               40.0                  NaN       USD  United States   \n",
      "4       NaN               90.0                140.0       USD  United States   \n",
      "\n",
      "   budget_with_CPI revenue_with_CPI  converted_budget  \n",
      "0     1.757003e+05       55484317.0          175700.3  \n",
      "1     3.013850e+06      331523495.5         3013850.0  \n",
      "2     5.217276e+05        4139975.0          521727.6  \n",
      "3     5.598469e+06      223938744.3         5598468.6  \n",
      "4     1.080244e+07       48986600.3        10802441.1  \n",
      "\n",
      "[5 rows x 28 columns]\n"
     ]
    }
   ],
   "source": [
    "#codice per lasciare solo le prime 15 lingue e paesi\n",
    "import pandas as pd\n",
    "\n",
    "# Carica il dataset\n",
    "df = pd.read_csv('rounded_updated_films.csv')\n",
    "\n",
    "# Trova i 15 valori più popolari in 'country' e 'language'\n",
    "top_countries = df['country'].str.split(',').explode().value_counts().head(15).index\n",
    "top_languages = df['language'].str.split(',').explode().value_counts().head(15).index\n",
    "\n",
    "# Funzione per mantenere i valori tra i primi 15 e aggiungere 'Other' se necessario\n",
    "def filtra_valori_e_aggiungi_other(valore, top_values):\n",
    "    if isinstance(valore, str):\n",
    "        valori = valore.split(',')\n",
    "        nuovi_valori = [v.strip() for v in valori if v.strip() in top_values]\n",
    "        if len(nuovi_valori) != len(valori):  # Aggiungi 'Other' se ci sono valori non presenti nei top 15\n",
    "            nuovi_valori.append('Other')\n",
    "        return ', '.join(sorted(set(nuovi_valori), key=nuovi_valori.index))  # Mantieni l'ordine originale e rimuovi duplicati\n",
    "    return valore\n",
    "\n",
    "# Applica la funzione alle colonne 'country' e 'language'\n",
    "df['country'] = df['country'].apply(lambda x: filtra_valori_e_aggiungi_other(x, top_countries))\n",
    "df['language'] = df['language'].apply(lambda x: filtra_valori_e_aggiungi_other(x, top_languages))\n",
    "\n",
    "# Rimuovi le righe duplicate basandoti sul valore di 'imdb_title_id'\n",
    "df = df.drop_duplicates(subset='imdb_title_id')\n",
    "\n",
    "# Salva il dataset risultante in un nuovo file CSV\n",
    "df.to_csv('reduced_country_language.csv', index=False)\n",
    "\n",
    "# Visualizza le prime righe del dataset risultante\n",
    "print(df.head())\n",
    "\n",
    "df.to_csv('reduced_country_language.csv', index=False) #dataset con 15 country e language"
   ],
   "metadata": {
    "collapsed": false,
    "ExecuteTime": {
     "end_time": "2024-05-26T14:13:20.262112400Z",
     "start_time": "2024-05-26T14:13:18.166951800Z"
    }
   },
   "id": "56c3ed16073308fb"
  },
  {
   "cell_type": "code",
   "execution_count": 9,
   "outputs": [
    {
     "name": "stdout",
     "output_type": "stream",
     "text": [
      "   Unnamed: 0 imdb_title_id                      title  \\\n",
      "0           0     tt0003471           Traffic in Souls   \n",
      "1           1     tt0005060                     Carmen   \n",
      "2           2     tt0005149                 The Coward   \n",
      "3           3     tt0006509  The Children in the House   \n",
      "4           4     tt0006886                      Judex   \n",
      "\n",
      "              original_title  year date_published                genre  \\\n",
      "0           Traffic in Souls  1913     1913-11-24         Crime, Drama   \n",
      "1                     Carmen  1915     1915-10-31                Drama   \n",
      "2                 The Coward  1915     1915-11-14  Drama, History, War   \n",
      "3  The Children in the House  1916     1916-04-30                Drama   \n",
      "4                      Judex  1916     1917-01-19     Adventure, Crime   \n",
      "\n",
      "   duration_df1 country language  ... cast_oscar_won dir_globe_nomination  \\\n",
      "0          88.0     USA  English  ...            0.0                  0.0   \n",
      "1          59.0     USA  English  ...            0.0                  0.0   \n",
      "2          77.0     USA  English  ...            0.0                  0.0   \n",
      "3          50.0     USA  English  ...            0.0                  0.0   \n",
      "4         300.0  France   French  ...            0.0                  0.0   \n",
      "\n",
      "  dir_globe_won cast_globe_nomination cast_globe_won  actors_films_before  \\\n",
      "0           0.0                   0.0            0.0                  0.0   \n",
      "1           0.0                   0.0            0.0                  0.0   \n",
      "2           0.0                   0.0            0.0                  0.0   \n",
      "3           0.0                   0.0            0.0                  0.0   \n",
      "4           0.0                   0.0            0.0                  0.0   \n",
      "\n",
      "   director_films_before  writers_films_before BAFTA_nominees  BAFTA_awards  \n",
      "0                    0.0                   0.0            0.0           0.0  \n",
      "1                    0.0                   0.0            0.0           0.0  \n",
      "2                    0.0                   0.0            0.0           0.0  \n",
      "3                    0.0                   0.0            0.0           0.0  \n",
      "4                    0.0                   0.0            0.0           0.0  \n",
      "\n",
      "[5 rows x 43 columns]\n"
     ]
    }
   ],
   "source": [
    "#duration fix\n",
    "import pandas as pd\n",
    "\n",
    "# Carica i due dataset\n",
    "df1 = pd.read_csv('rounded_updated_films_PC.csv')\n",
    "df2 = pd.read_csv('../dataset/final_imdb_data_with_updated_budgets.csv')\n",
    "\n",
    "# Effettua il merge sulla colonna 'imdb_title_id' e unisci le colonne 'duration'\n",
    "df_merged = pd.merge(df1, df2[['imdb_title_id', 'duration']], on='imdb_title_id', suffixes=('_df1', '_df2'))\n",
    "\n",
    "# Mantieni solo la nuova durata nel primo dataset e dividi tutti i valori per 10\n",
    "df_merged['duration_df1'] = df_merged['duration_df2'] / 10\n",
    "\n",
    "# Rimuovi la colonna 'duration_df2'\n",
    "df_merged.drop(columns=['duration_df2'], inplace=True)\n",
    "\n",
    "# Visualizza il dataset risultante\n",
    "print(df_merged.head())\n",
    "df_merged.to_csv('rounded_updated_films_PC.csv',index=False)\n"
   ],
   "metadata": {
    "collapsed": false,
    "ExecuteTime": {
     "end_time": "2024-05-28T14:46:57.735875200Z",
     "start_time": "2024-05-28T14:46:55.703214400Z"
    }
   },
   "id": "927e59d2b336d78f"
  },
  {
   "cell_type": "code",
   "execution_count": 5,
   "outputs": [
    {
     "name": "stdout",
     "output_type": "stream",
     "text": [
      "Chi2: 99040.32002671546\n",
      "P-value: 0.0\n",
      "Degrees of Freedom: 90\n",
      "Expected frequencies:\n",
      "[[3.82468770e+02 3.69839373e+01 1.64272582e+01 1.70602351e+01\n",
      "  1.50708791e+01 1.59148483e+01 8.94607383e+01 1.33527989e+01\n",
      "  2.59821956e+01 1.02783395e+01]\n",
      " [9.38061445e+02 9.07085974e+01 4.02902898e+01 4.18427597e+01\n",
      "  3.69635686e+01 3.90335285e+01 2.19415743e+02 3.27497218e+01\n",
      "  6.37251923e+01 2.52091538e+01]\n",
      " [4.67802893e+02 4.52355702e+01 2.00924089e+01 2.08666118e+01\n",
      "  1.84334027e+01 1.94656732e+01 1.09420678e+02 1.63319948e+01\n",
      "  3.17791862e+01 1.25715806e+01]\n",
      " [6.51363346e+02 6.29854855e+01 2.79764381e+01 2.90544293e+01\n",
      "  2.56664570e+01 2.71037786e+01 1.52356089e+02 2.27404809e+01\n",
      "  4.42489719e+01 1.75045237e+01]\n",
      " [3.71418308e+02 3.59153805e+01 1.59526344e+01 1.65673230e+01\n",
      "  1.46354444e+01 1.54550293e+01 8.68759979e+01 1.29670037e+01\n",
      "  2.52315061e+01 9.98137307e+00]\n",
      " [3.38266921e+02 3.27097102e+01 1.45287629e+01 1.50885868e+01\n",
      "  1.33291403e+01 1.40755721e+01 7.91217766e+01 1.18096183e+01\n",
      "  2.29794378e+01 9.09047366e+00]\n",
      " [2.45258866e+03 2.37160240e+02 1.05340123e+02 1.09399100e+02\n",
      "  9.66423146e+01 1.02054284e+02 5.73668779e+02 8.56250907e+01\n",
      "  1.66611350e+02 6.59100585e+01]\n",
      " [3.35811263e+02 3.24722531e+01 1.44232909e+01 1.49790508e+01\n",
      "  1.32323770e+01 1.39733901e+01 7.85473898e+01 1.17238860e+01\n",
      "  2.28126179e+01 9.02448111e+00]\n",
      " [2.06275291e+02 1.99463931e+01 8.85964488e+00 9.20102569e+00\n",
      "  8.12811457e+00 8.58328898e+00 4.82484881e+01 7.20150951e+00\n",
      "  1.40128695e+01 5.54337414e+00]\n",
      " [9.93927669e+02 9.61107456e+01 4.26897770e+01 4.43347041e+01\n",
      "  3.91649330e+01 4.13581692e+01 2.32483042e+02 3.47001306e+01\n",
      "  6.75203445e+01 2.67104843e+01]\n",
      " [5.55101543e+03 5.36771687e+02 2.38419372e+02 2.47606173e+02\n",
      "  2.18733369e+02 2.30982437e+02 1.29840128e+03 1.93797765e+02\n",
      "  3.77096328e+02 1.49176158e+02]]\n"
     ]
    }
   ],
   "source": [
    "import pandas as pd\n",
    "from scipy.stats import chi2_contingency\n",
    "\n",
    "# Caricare il dataset\n",
    "df = pd.read_csv('../dataset/gg_bft_os_movies.csv')\n",
    "\n",
    "def get_first_value(x):\n",
    "    if pd.notnull(x):  # Controlla se il valore non è NaN\n",
    "        return x.split(',')[0].strip()\n",
    "    return x\n",
    "\n",
    "# Estrai il primo valore di 'country' e 'language'\n",
    "df['country'] = df['country'].apply(get_first_value)\n",
    "df['language'] = df['language'].apply(get_first_value)\n",
    "\n",
    "# Crea una tabella di contingenza\n",
    "contingency_table = pd.crosstab(df['country'], df['language'])\n",
    "\n",
    "# Esegui il test chi-quadro\n",
    "chi2, p, dof, expected = chi2_contingency(contingency_table)\n",
    "\n",
    "# Stampa i risultati\n",
    "print(f\"Chi2: {chi2}\")\n",
    "print(f\"P-value: {p}\")\n",
    "print(f\"Degrees of Freedom: {dof}\")\n",
    "print(\"Expected frequencies:\")\n",
    "print(expected)\n",
    "\n",
    "df.to_csv('only_one_language_country.csv', index=False)"
   ],
   "metadata": {
    "collapsed": false,
    "ExecuteTime": {
     "end_time": "2024-05-28T13:45:01.308868Z",
     "start_time": "2024-05-28T13:44:59.773995500Z"
    }
   },
   "id": "6c3953feedb0b6e5"
  },
  {
   "cell_type": "code",
   "execution_count": 6,
   "outputs": [
    {
     "name": "stdout",
     "output_type": "stream",
     "text": [
      "   Unnamed: 0 imdb_title_id                      title  \\\n",
      "0           0     tt0003471           Traffic in Souls   \n",
      "1           1     tt0005060                     Carmen   \n",
      "2           2     tt0005149                 The Coward   \n",
      "3           3     tt0006509  The Children in the House   \n",
      "4           4     tt0006886                      Judex   \n",
      "\n",
      "              original_title  year date_published                genre  \\\n",
      "0           Traffic in Souls  1913     1913-11-24         Crime, Drama   \n",
      "1                     Carmen  1915     1915-10-31                Drama   \n",
      "2                 The Coward  1915     1915-11-14  Drama, History, War   \n",
      "3  The Children in the House  1916     1916-04-30                Drama   \n",
      "4                      Judex  1916     1917-01-19     Adventure, Crime   \n",
      "\n",
      "   duration country language  ... usa_gross_income worlwide_gross_income  \\\n",
      "0        88     USA  English  ...              NaN             1800000.0   \n",
      "1        59     USA  English  ...              NaN            11000000.0   \n",
      "2        77     USA  English  ...              NaN              137365.0   \n",
      "3         5     USA  English  ...              NaN             8000000.0   \n",
      "4         3  France   French  ...              NaN             1750000.0   \n",
      "\n",
      "  metascore reviews_from_users reviews_from_critics  currency         nation  \\\n",
      "0       NaN              130.0                100.0       USD  United States   \n",
      "1       NaN              190.0                 60.0       USD  United States   \n",
      "2       NaN              150.0                 30.0       USD  United States   \n",
      "3       NaN               40.0                  NaN       USD  United States   \n",
      "4       NaN               90.0                140.0       USD  United States   \n",
      "\n",
      "   budget_with_CPI revenue_with_CPI  converted_budget  \n",
      "0     1.757003e+05       55484317.0          175700.3  \n",
      "1     3.013850e+06      331523495.5         3013850.0  \n",
      "2     5.217276e+05        4139975.0          521727.6  \n",
      "3     5.598469e+06      223938744.3         5598468.6  \n",
      "4     1.080244e+07       48986600.3        10802441.1  \n",
      "\n",
      "[5 rows x 28 columns]\n"
     ]
    }
   ],
   "source": [
    "import pandas as pd\n",
    "# Carica i due dataset\n",
    "df1 = pd.read_csv('rounded_updated_films.csv')\n",
    "df2 = pd.read_csv('other.csv')\n",
    "\n",
    "# Effettua il merge sulla colonna 'imdb_title_id' e unisci le colonne 'duration'\n",
    "df_merged = pd.merge(df1, df2[['imdb_title_id', 'production_company']], on='imdb_title_id', suffixes=('_df1', '_df2'))\n",
    "\n",
    "df_merged['production_company_df1'] = df_merged['production_company_df2']\n",
    "\n",
    "# Rimuovi la colonna 'duration_df2'\n",
    "df_merged.drop(columns=['production_company_df2'], inplace=True)\n",
    "\n",
    "# Visualizza il dataset risultante\n",
    "print(df_merged.head())\n",
    "df_merged.to_csv('rounded_updated_films_PC.csv',index=False)"
   ],
   "metadata": {
    "collapsed": false,
    "ExecuteTime": {
     "end_time": "2024-05-28T14:34:19.236036100Z",
     "start_time": "2024-05-28T14:34:17.360071500Z"
    }
   },
   "id": "e6769a29b069d978"
  },
  {
   "cell_type": "code",
   "execution_count": 7,
   "outputs": [],
   "source": [
    "import pandas as pd\n",
    "\n",
    "# Carica i dataset\n",
    "# Assumendo che i dataset siano in formato CSV, si possono leggere con pd.read_csv\n",
    "# Sostituisci 'first_dataset.csv' e 'second_dataset.csv' con i nomi effettivi dei tuoi file\n",
    "\n",
    "first_dataset = pd.read_csv('rounded_updated_films_PC.csv')\n",
    "second_dataset = pd.read_csv('../dataset/gg_bft_os_movies.csv')\n",
    "\n",
    "# Seleziona solo le colonne necessarie dal secondo dataset\n",
    "second_dataset_columns = [\n",
    "    'imdb_title_id',\n",
    "    'dir_oscar_nomination', 'dir_oscar_won', 'writer_oscar_nomination', 'writer_oscar_won',\n",
    "    'cast_oscar_nomination', 'cast_oscar_won', 'dir_globe_nomination', 'dir_globe_won',\n",
    "    'cast_globe_nomination', 'cast_globe_won', 'actors_films_before', 'director_films_before',\n",
    "    'writers_films_before', 'BAFTA_nominees', 'BAFTA_awards'\n",
    "]\n",
    "\n",
    "second_dataset = second_dataset[second_dataset_columns]\n",
    "\n",
    "# Effettua il merge dei due dataset sul campo 'imdb_title_id'\n",
    "merged_dataset = pd.merge(first_dataset, second_dataset, on='imdb_title_id', how='left')\n",
    "\n",
    "# Salva il dataset risultante in un nuovo file CSV\n",
    "merged_dataset.to_csv('rounded_updated_films_PC.csv', index=False)\n"
   ],
   "metadata": {
    "collapsed": false,
    "ExecuteTime": {
     "end_time": "2024-05-28T14:40:57.066980600Z",
     "start_time": "2024-05-28T14:40:55.251293Z"
    }
   },
   "id": "40f6945fdc76bd15"
  },
  {
   "cell_type": "code",
   "execution_count": null,
   "outputs": [],
   "source": [],
   "metadata": {
    "collapsed": false
   },
   "id": "773cfb6f833ae214"
  }
 ],
 "metadata": {
  "kernelspec": {
   "display_name": "Python 3",
   "language": "python",
   "name": "python3"
  },
  "language_info": {
   "codemirror_mode": {
    "name": "ipython",
    "version": 2
   },
   "file_extension": ".py",
   "mimetype": "text/x-python",
   "name": "python",
   "nbconvert_exporter": "python",
   "pygments_lexer": "ipython2",
   "version": "2.7.6"
  }
 },
 "nbformat": 4,
 "nbformat_minor": 5
}
