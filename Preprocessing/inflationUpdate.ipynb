{
 "cells": [
  {
   "cell_type": "code",
   "execution_count": 2,
   "id": "initial_id",
   "metadata": {
    "collapsed": true,
    "ExecuteTime": {
     "end_time": "2024-05-06T20:35:48.911575Z",
     "start_time": "2024-05-06T20:35:48.906130900Z"
    }
   },
   "outputs": [],
   "source": [
    "import pandas as pd"
   ]
  },
  {
   "cell_type": "code",
   "outputs": [
    {
     "name": "stdout",
     "output_type": "stream",
     "text": [
      "             Entity Code  Year  Inflation, consumer prices (annual %)\n",
      "8675  United States  USA  1960                               1.457976\n",
      "8676  United States  USA  1961                               1.070724\n",
      "8677  United States  USA  1962                               1.198773\n",
      "8678  United States  USA  1963                               1.239669\n",
      "8679  United States  USA  1964                               1.278912\n",
      "...             ...  ...   ...                                    ...\n",
      "8732  United States  USA  2017                               2.130110\n",
      "8733  United States  USA  2018                               2.442583\n",
      "8734  United States  USA  2019                               1.812210\n",
      "8735  United States  USA  2020                               1.233584\n",
      "8736  United States  USA  2021                               4.697859\n",
      "\n",
      "[62 rows x 4 columns]\n"
     ]
    }
   ],
   "source": [
    "df = pd.read_csv('C:/Users/andre/Documents/GitHub/DMML/dataset/inflation-of-consumer-prices.csv')\n",
    "\n",
    "# Rimuovi le righe con valori diversi da \"USA\" nella colonna \"Code\"\n",
    "df = df[df['Code'] == 'USA']\n",
    "\n",
    "# Ora df contiene solo le righe con \"USA\" nella colonna \"Code\"\n",
    "\n",
    "# Puoi stampare il dataframe risultante se lo desideri\n",
    "print(df)\n",
    "\n",
    "# O puoi salvarlo in un nuovo file CSV\n",
    "df.to_csv('nuovo_file.csv', index=False)\n"
   ],
   "metadata": {
    "collapsed": false,
    "ExecuteTime": {
     "end_time": "2024-05-06T20:36:01.576221Z",
     "start_time": "2024-05-06T20:36:01.522871700Z"
    }
   },
   "id": "6d3c6a9553cdbee4",
   "execution_count": 3
  },
  {
   "cell_type": "code",
   "outputs": [
    {
     "name": "stderr",
     "output_type": "stream",
     "text": [
      "C:\\Users\\andre\\AppData\\Local\\Temp\\ipykernel_26840\\621547856.py:31: FutureWarning: Setting an item of incompatible dtype is deprecated and will raise an error in a future version of pandas. Value '93214.6225760468' has dtype incompatible with int64, please explicitly cast to a compatible dtype first.\n",
      "  filtered_df.at[index, 'normalized_budget'] = normalized_budget\n",
      "C:\\Users\\andre\\AppData\\Local\\Temp\\ipykernel_26840\\621547856.py:32: FutureWarning: Setting an item of incompatible dtype is deprecated and will raise an error in a future version of pandas. Value '184619.25248071403' has dtype incompatible with int64, please explicitly cast to a compatible dtype first.\n",
      "  filtered_df.at[index, 'normalized_revenue'] = normalized_revenue\n"
     ]
    }
   ],
   "source": [
    "import pandas as pd\n",
    "\n",
    "# Carica i dataset\n",
    "filtered_df = pd.read_csv('C:/Users/andre/Documents/GitHub/DMML/dataset/filtered_dataset.csv')\n",
    "cpi_df = pd.read_csv('C:/Users/andre/Documents/GitHub/DMML/dataset/nuovo_file.csv')\n",
    "\n",
    "# Aggiungi colonne 'normalized_budget' e 'normalized_revenue' in filtered_df\n",
    "filtered_df['normalized_budget'] = 0\n",
    "filtered_df['normalized_revenue'] = 0\n",
    "\n",
    "# Trova il valore del CPI per l'anno 2023\n",
    "cpi_2023 = cpi_df.loc[cpi_df['Year'] == 2019, 'Inflation, consumer prices (annual %)'].values[0]\n",
    "\n",
    "# Per ogni riga in filtered_df\n",
    "for index, row in filtered_df.iterrows():\n",
    "    # Estrapola l'anno dal campo 'year'\n",
    "    year = int(row['year'])\n",
    "    \n",
    "    # Trova il CPI corrispondente all'anno nel file nuovo_file.csv\n",
    "    cpi_value = cpi_df.loc[cpi_df['Year'] == year, 'Inflation, consumer prices (annual %)'].values\n",
    "    \n",
    "    # Se il CPI per l'anno non è disponibile, passa alla riga successiva\n",
    "    if len(cpi_value) == 0:\n",
    "        continue\n",
    "    \n",
    "    # Calcola i valori normalizzati per budget e revenue\n",
    "    normalized_budget = row['budget'] * cpi_value / cpi_2023\n",
    "    normalized_revenue = row['worlwide_gross_income'] * cpi_value / cpi_2023\n",
    "    \n",
    "    # Aggiorna i valori nelle colonne 'normalized_budget' e 'normalized_revenue' in filtered_df\n",
    "    filtered_df.at[index, 'normalized_budget'] = normalized_budget\n",
    "    filtered_df.at[index, 'normalized_revenue'] = normalized_revenue\n",
    "\n",
    "# Salva il dataframe risultante nel file normalizedValues.csv\n",
    "filtered_df.to_csv('C:/Users/andre/Documents/GitHub/DMML/dataset/normalizedValues.csv', index=False)\n"
   ],
   "metadata": {
    "collapsed": false,
    "ExecuteTime": {
     "end_time": "2024-05-06T20:55:57.183987700Z",
     "start_time": "2024-05-06T20:55:52.045956900Z"
    }
   },
   "id": "be1e28c9b4e15744",
   "execution_count": 11
  },
  {
   "cell_type": "code",
   "outputs": [],
   "source": [
    "import pandas as pd\n",
    "\n",
    "# Carica il dataset filtrato\n",
    "filtered_dataset = pd.read_csv('C:/Users/andre/Documents/GitHub/DMML/dataset/filtered_dataset.csv')\n",
    "\n",
    "# Ottieni i valori unici dalla colonna 'production_company' e conta la loro frequenza\n",
    "production_counts = filtered_dataset['production_company'].value_counts()\n",
    "\n",
    "# Stampa nome e numero di ciascun valore unico\n",
    "for production_name, count in production_counts.items():\n",
    "    print(f'{production_name}: {count}')\n",
    "\n",
    "# Conta il numero totale di valori unici nella colonna 'production_company'\n",
    "unique_production_count = filtered_dataset['production_company'].nunique()\n",
    "print(f\"Ci sono {unique_production_count} possibili valori per la colonna 'production_company'.\")\n"
   ],
   "metadata": {
    "collapsed": false
   },
   "id": "deb61f6ca93678ba",
   "execution_count": null
  },
  {
   "cell_type": "code",
   "outputs": [
    {
     "name": "stdout",
     "output_type": "stream",
     "text": [
      "Righe senza writer: 154\n",
      "Righe senza language: 94\n",
      "Righe senza production_company: 557\n",
      "Righe senza director: 6\n",
      "Righe senza writer e production_company: 61\n",
      "Righe senza writer e actors: 3\n",
      "Righe senza language e production_company: 4\n",
      "Righe senza language e writer: 2\n",
      "Righe senza director e writer e actors: 2\n",
      "Righe senza language e actors: 2\n",
      "Righe senza actors: 4\n",
      "Righe senza director e writer e production_company: 1\n",
      "Righe senza director e writer: 2\n",
      "Righe senza director e production_company: 2\n",
      "Righe senza language e writer e actors: 1\n",
      "Righe senza language e writer e production_company: 1\n",
      "Totale righe con tutti i valori completi: 19823\n"
     ]
    }
   ],
   "source": [
    "import pandas as pd\n",
    "from collections import defaultdict\n",
    "\n",
    "# Carica il dataset\n",
    "dataset = pd.read_csv('C:/Users/andre/Documents/GitHub/DMML/dataset/dataset_inflation_adjusted.csv')\n",
    "\n",
    "# Crea un conteggio delle righe con valori mancanti per ciascuna colonna\n",
    "missing_counts = dataset.isnull().sum()\n",
    "missing_combinations = defaultdict(int)\n",
    "\n",
    "# Itera su ogni riga per trovare combinazioni uniche di colonne con valori mancanti\n",
    "for index, row in dataset.iterrows():\n",
    "    missing_cols = row[row.isnull()].index.tolist()\n",
    "    if missing_cols:\n",
    "        key = \" e \".join(missing_cols)\n",
    "        missing_combinations[key] += 1\n",
    "\n",
    "# Mostra quante righe hanno ciascuna combinazione di colonne con valori mancanti\n",
    "for combination, count in missing_combinations.items():\n",
    "    print(f'Righe senza {combination}: {count}')\n",
    "\n",
    "# Conta il numero di righe che non hanno valori mancanti in nessuna colonna\n",
    "complete_rows_count = dataset.dropna().shape[0]\n",
    "print(f'Totale righe con tutti i valori completi: {complete_rows_count}')\n"
   ],
   "metadata": {
    "collapsed": false,
    "ExecuteTime": {
     "end_time": "2024-05-07T20:05:37.053313400Z",
     "start_time": "2024-05-07T20:05:33.591012100Z"
    }
   },
   "id": "97eb2c45bd434775",
   "execution_count": 19
  },
  {
   "cell_type": "code",
   "outputs": [
    {
     "name": "stdout",
     "output_type": "stream",
     "text": [
      "Valore medio del budget per le righe con production_company mancante: 31189803.503194887\n",
      "Valore medio del revenue per le righe con production_company mancante: 84159018.06070288\n",
      "Valore medio del budget per le righe con production_company presente: 29666340.571940478\n",
      "Valore medio del revenue per le righe con production_company presente: 71787621.59632708\n",
      "-1523462.9312544093\n",
      "-12371396.464375794\n"
     ]
    }
   ],
   "source": [
    "import pandas as pd\n",
    "\n",
    "# Carica il dataset\n",
    "dataset = pd.read_csv('C:/Users/andre/Documents/GitHub/DMML/dataset/dataset_inflation_adjusted.csv')\n",
    "\n",
    "# Filtra le righe in cui `production_company` è nullo o vuoto\n",
    "missing_production = dataset[dataset['production_company'].isna() | (dataset['production_company'].str.strip() == '')]\n",
    "\n",
    "# Filtra le righe in cui `production_company` è presente\n",
    "present_production = dataset[~(dataset['production_company'].isna() | (dataset['production_company'].str.strip() == ''))]\n",
    "\n",
    "# Calcola la media delle colonne `adjusted budget` e `adjusted revenue` per le righe filtrate (mancanti)\n",
    "average_budget_missing = missing_production['adjusted budget'].mean()\n",
    "average_revenue_missing = missing_production['adjusted revenue'].mean()\n",
    "\n",
    "# Calcola la media delle colonne `adjusted budget` e `adjusted revenue` per le righe filtrate (presenti)\n",
    "average_budget_present = present_production['adjusted budget'].mean()\n",
    "average_revenue_present = present_production['adjusted revenue'].mean()\n",
    "\n",
    "# Stampa i risultati\n",
    "print(f'Valore medio del budget per le righe con production_company mancante: {average_budget_missing}')\n",
    "print(f'Valore medio del revenue per le righe con production_company mancante: {average_revenue_missing}')\n",
    "print(f'Valore medio del budget per le righe con production_company presente: {average_budget_present}')\n",
    "print(f'Valore medio del revenue per le righe con production_company presente: {average_revenue_present}')\n",
    "print(average_budget_present-average_budget_missing)\n",
    "print(average_revenue_present-average_revenue_missing)"
   ],
   "metadata": {
    "collapsed": false,
    "ExecuteTime": {
     "end_time": "2024-05-07T20:13:54.598946600Z",
     "start_time": "2024-05-07T20:13:53.924119Z"
    }
   },
   "id": "cf69e20092cc546b",
   "execution_count": 33
  },
  {
   "cell_type": "code",
   "outputs": [],
   "source": [],
   "metadata": {
    "collapsed": false
   },
   "id": "bde273012c84eecf"
  }
 ],
 "metadata": {
  "kernelspec": {
   "display_name": "Python 3",
   "language": "python",
   "name": "python3"
  },
  "language_info": {
   "codemirror_mode": {
    "name": "ipython",
    "version": 2
   },
   "file_extension": ".py",
   "mimetype": "text/x-python",
   "name": "python",
   "nbconvert_exporter": "python",
   "pygments_lexer": "ipython2",
   "version": "2.7.6"
  }
 },
 "nbformat": 4,
 "nbformat_minor": 5
}
