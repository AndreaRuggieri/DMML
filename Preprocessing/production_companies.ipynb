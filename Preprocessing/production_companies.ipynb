{
 "cells": [
  {
   "cell_type": "markdown",
   "source": [
    "Gestione della colonna production company"
   ],
   "metadata": {
    "collapsed": false
   },
   "id": "4712125bf9d3a06c"
  },
  {
   "cell_type": "code",
   "outputs": [],
   "source": [
    "import pandas as pd"
   ],
   "metadata": {
    "collapsed": false,
    "ExecuteTime": {
     "end_time": "2024-05-26T14:59:16.325755800Z",
     "start_time": "2024-05-26T14:59:16.255451500Z"
    }
   },
   "id": "637c13be3dc74143",
   "execution_count": 110
  },
  {
   "cell_type": "code",
   "outputs": [],
   "source": [
    "df = pd.read_csv('rounded_updated_films.csv')\n",
    "\n",
    "# Calcolare il conteggio dei valori unici nella colonna 'production_companies'\n",
    "production_counts = df['production_company'].value_counts()\n",
    "\n",
    "# Salva i risultati in un file di testo\n",
    "with open('production_company_counts.txt', 'w') as file:\n",
    "    for company, count in production_counts.items():\n",
    "        file.write(f'{company}: {count}\\n')"
   ],
   "metadata": {
    "collapsed": false,
    "ExecuteTime": {
     "end_time": "2024-05-26T14:59:16.660893Z",
     "start_time": "2024-05-26T14:59:16.330753800Z"
    }
   },
   "id": "89d6514f3b9753aa",
   "execution_count": 111
  },
  {
   "cell_type": "code",
   "outputs": [],
   "source": [
    "import pandas as pd\n",
    "\n",
    "# Carica il DataFrame (assumendo che sia già caricato come df)\n",
    "# df = pd.read_csv('your_dataset.csv')\n",
    "\n",
    "# Calcolare il conteggio dei valori unici nella colonna 'production_companies'\n",
    "production_counts = df['production_company'].value_counts()\n",
    "\n",
    "# Crea file separati per ogni categoria di conteggio\n",
    "with open('top3.txt', 'w') as top3, \\\n",
    "     open('top10.txt', 'w') as top10, \\\n",
    "     open('top50.txt', 'w') as top50, \\\n",
    "     open('top100.txt', 'w') as top100, \\\n",
    "     open('top200.txt', 'w') as top200, \\\n",
    "     open('top.txt', 'w') as top:\n",
    "    for company, count in production_counts.items():\n",
    "        if count < 4:\n",
    "            top3.write(f'{company}: {count}\\n')\n",
    "        elif 4 <= count <= 10:\n",
    "            top10.write(f'{company}: {count}\\n')\n",
    "        elif 11 <= count <= 50:\n",
    "            top50.write(f'{company}: {count}\\n')\n",
    "        elif 51 <= count <= 100:\n",
    "            top100.write(f'{company}: {count}\\n')\n",
    "        elif 101 <= count <= 200:\n",
    "            top200.write(f'{company}: {count}\\n')\n",
    "        else:\n",
    "            top.write(f'{company}: {count}\\n')\n"
   ],
   "metadata": {
    "collapsed": false,
    "ExecuteTime": {
     "end_time": "2024-05-26T14:59:16.715351700Z",
     "start_time": "2024-05-26T14:59:16.669894100Z"
    }
   },
   "id": "f0c104a7a2c4b36e",
   "execution_count": 112
  },
  {
   "cell_type": "markdown",
   "source": [
    "Conversione di tutti i valori relativi alla compagnia Universal in Universal"
   ],
   "metadata": {
    "collapsed": false
   },
   "id": "95f3f0c4a71f835b"
  },
  {
   "cell_type": "code",
   "outputs": [
    {
     "name": "stdout",
     "output_type": "stream",
     "text": [
      "Numero di 'Universal': 623\n"
     ]
    }
   ],
   "source": [
    "import pandas as pd\n",
    "\n",
    "# Carica il dataset\n",
    "df = pd.read_csv('rounded_updated_films.csv')\n",
    "\n",
    "# Lista delle parole chiave per la modifica del nome della compagnia (in lowercase per il confronto case-insensitive)\n",
    "keywords = ['universal', 'amblin', 'dreamworks', ' universal', ' amblin', ' Dreamworks', 'universal ', 'amblin ', ' Dreamworks ', ' universal ', ' amblin ', ' dreamworks ']\n",
    "exact_matches = [\n",
    "    'Focus Films', 'Focus Features', 'Illumination Entertainment',\n",
    "    'Illuminations Films', 'Universal International Pictures (UI)', 'Big Idea',\n",
    "    'Bullwinkle Studios', 'DreamWorks', 'DreamWorks Animation',\n",
    "    'Carnival Film & Television', 'Polygram Filmed Entertainment',\n",
    "    'PolyGram Filmed Entertainment', 'Polygram Pictures', 'PolyGram Film Productions BV',\n",
    "    ' Focus Films', ' Focus Features', ' Illumination Entertainment',\n",
    "    ' Illuminations Films', ' Universal International Pictures (UI)', ' Big Idea',\n",
    "    ' Bullwinkle Studios', ' DreamWorks', ' DreamWorks Animation',\n",
    "    ' Carnival Film & Television', ' Polygram Filmed Entertainment',\n",
    "    ' PolyGram Filmed Entertainment', ' Polygram Pictures', ' PolyGram Film Productions BV', \n",
    "    'Focus Films ', 'Focus Features ', 'Illumination Entertainment ',\n",
    "    'Illuminations Films ', 'Universal International Pictures (UI) ', 'Big Idea ',\n",
    "    'Bullwinkle Studios ', 'DreamWorks ', 'DreamWorks Animation ',\n",
    "    'Carnival Film & Television ', 'Polygram Filmed Entertainment ',\n",
    "    'PolyGram Filmed Entertainment ', 'Polygram Pictures ', 'PolyGram Film Productions BV '\n",
    "]\n",
    "\n",
    "# Funzione per verificare e sostituire il nome della compagnia\n",
    "def replace_company_name(company):\n",
    "    if pd.isna(company):\n",
    "        return company  # Ritorna il valore NaN come è se presente\n",
    "    company_lower = str(company).lower()  # Converti in lowercase per matching case-insensitive\n",
    "    if any(keyword in company_lower for keyword in keywords):\n",
    "        return 'Universal'\n",
    "    if company in exact_matches:\n",
    "        return 'Universal'\n",
    "    return company\n",
    "\n",
    "# Applica la funzione alla colonna 'production_company'\n",
    "df['production_company'] = df['production_company'].apply(replace_company_name)\n",
    "\n",
    "# Conta le occorrenze di 'Universal'\n",
    "universal_count = (df['production_company'] == 'Universal').sum()\n",
    "print(f\"Numero di 'Universal': {universal_count}\")\n",
    "\n",
    "# Salva il DataFrame aggiornato\n",
    "df.to_csv('production_merged.csv', index=False)\n"
   ],
   "metadata": {
    "collapsed": false,
    "ExecuteTime": {
     "end_time": "2024-05-26T14:59:18.222306900Z",
     "start_time": "2024-05-26T14:59:16.713355200Z"
    }
   },
   "id": "cb9c4d1d67510fc",
   "execution_count": 113
  },
  {
   "cell_type": "markdown",
   "source": [
    "Conversione di tutti i valori relativi alla compagnia Paramount in Paramount"
   ],
   "metadata": {
    "collapsed": false
   },
   "id": "f57a0d93683b307b"
  },
  {
   "cell_type": "code",
   "outputs": [
    {
     "name": "stdout",
     "output_type": "stream",
     "text": [
      "Numero di 'Paramount': 509\n"
     ]
    }
   ],
   "source": [
    "import pandas as pd\n",
    "\n",
    "# Carica il dataset\n",
    "df = pd.read_csv('production_merged.csv')\n",
    "\n",
    "# Lista delle parole chiave per il confronto case-insensitive\n",
    "paramount_keywords = ['paramount', 'cbs']\n",
    "\n",
    "# Lista delle corrispondenze esatte\n",
    "paramount_exact_matches = ['Paramount', 'CBS', 'Miramax', 'Nickelodeon Movies', 'Nickel Odeon',\n",
    "                           'Republic Pictures (I)', 'Republic Pictures (II)',\n",
    "                           'Republic Pictures Corporation (I)', 'MTV Films',\n",
    "                           'BET Films', 'BET Pictures',\n",
    "                           'Awesomeness Films', 'Viacom18 Motion Pictures']\n",
    "\n",
    "# Funzione per verificare e sostituire il nome della compagnia\n",
    "def replace_company_name(company):\n",
    "    if pd.isna(company):\n",
    "        return company  # Ritorna il valore NaN se presente\n",
    "    company_lower = str(company).lower()  # Converti in lowercase per matching case-insensitive\n",
    "    if any(keyword in company_lower for keyword in paramount_keywords):\n",
    "        return 'Paramount'\n",
    "    if company in paramount_exact_matches:\n",
    "        return 'Paramount'\n",
    "    return company\n",
    "\n",
    "# Applica la funzione alla colonna 'production_company'\n",
    "df['production_company'] = df['production_company'].apply(replace_company_name)\n",
    "\n",
    "# Conta le occorrenze di 'Paramount'\n",
    "paramount_count = (df['production_company'] == 'Paramount').sum()\n",
    "print(f\"Numero di 'Paramount': {paramount_count}\")\n",
    "\n",
    "# Salva il DataFrame aggiornato\n",
    "df.to_csv('production_merged.csv', index=False)\n"
   ],
   "metadata": {
    "collapsed": false,
    "ExecuteTime": {
     "end_time": "2024-05-26T14:59:19.196489Z",
     "start_time": "2024-05-26T14:59:18.226306400Z"
    }
   },
   "id": "2ce6bdcf03a0cf21",
   "execution_count": 114
  },
  {
   "cell_type": "markdown",
   "source": [
    "WARNER"
   ],
   "metadata": {
    "collapsed": false
   },
   "id": "c581abf958e79ebe"
  },
  {
   "cell_type": "code",
   "outputs": [
    {
     "name": "stdout",
     "output_type": "stream",
     "text": [
      "Numero di modifiche effettuate: 679\n",
      "Numero totale di righe che contengono 'Warner': 679\n"
     ]
    }
   ],
   "source": [
    "import pandas as pd\n",
    "\n",
    "# Carica il dataset\n",
    "df = pd.read_csv('production_merged.csv')\n",
    "\n",
    "# Lista delle parole chiave per il confronto case-insensitive\n",
    "warner_keywords = ['Warner']\n",
    "\n",
    "# Lista delle corrispondenze esatte\n",
    "warner_exact_matches = ['HBO', 'New Line Cinema', 'Spyglass Entertainment', 'Rooster Teeth Productions',\n",
    "                           'DC Entertainment', 'DC Medias', 'DC Comics', 'Cartoon Network Studios',\n",
    "                           'Richard Williams Productions', 'Derick Williams Productions', \n",
    "                           'Hanna-Barbera Productions', 'Alloy Entertainment', 'Castle Rock Entertainment',\n",
    "                           'Turner Pictures (I)', 'Discovery Films UK', 'The Weinstein Company']\n",
    "\n",
    "# Funzione per contare le righe che soddisfano le condizioni specificate\n",
    "def modifica_e_conta(df, keywords, exact_matches):\n",
    "    contatore_modifiche = 0\n",
    "    for i, row in df.iterrows():\n",
    "        if any(keyword.lower() in str(row['production_company']).lower() for keyword in keywords):\n",
    "            df.at[i, 'production_company'] = 'Warner'\n",
    "            contatore_modifiche += 1\n",
    "        elif row['production_company'] in exact_matches:\n",
    "            df.at[i, 'production_company'] = 'Warner'\n",
    "            contatore_modifiche += 1\n",
    "    return contatore_modifiche\n",
    "\n",
    "# Esegui le modifiche e contali\n",
    "numero_modifiche = modifica_e_conta(df, warner_keywords, warner_exact_matches)\n",
    "\n",
    "# Conta il numero totale di righe che contengono 'Warner'\n",
    "numero_righe_warner = (df['production_company'] == 'Warner').sum()\n",
    "\n",
    "# Stampa il numero di modifiche e il numero totale di righe con 'Warner'\n",
    "print(\"Numero di modifiche effettuate:\", numero_modifiche)\n",
    "print(\"Numero totale di righe che contengono 'Warner':\", numero_righe_warner)\n",
    "\n",
    "# Salva il DataFrame aggiornato\n",
    "df.to_csv('production_merged.csv', index=False)\n"
   ],
   "metadata": {
    "collapsed": false,
    "ExecuteTime": {
     "end_time": "2024-05-26T14:59:20.997811700Z",
     "start_time": "2024-05-26T14:59:19.198484200Z"
    }
   },
   "id": "5ea50d88e93f39d8",
   "execution_count": 115
  },
  {
   "cell_type": "markdown",
   "source": [
    "20-th century fox"
   ],
   "metadata": {
    "collapsed": false
   },
   "id": "5914982ac0dad454"
  },
  {
   "cell_type": "code",
   "outputs": [
    {
     "name": "stdout",
     "output_type": "stream",
     "text": [
      "Numero di modifiche effettuate: 467\n",
      "Numero totale di righe che contengono 'Twentieth Century Fox': 467\n"
     ]
    }
   ],
   "source": [
    "# Carica il dataset\n",
    "df = pd.read_csv('production_merged.csv')\n",
    "\n",
    "# Lista delle corrispondenze esatte\n",
    "twenty_exact_matches = ['ESPN Films',\n",
    " '20th Century Fox',\n",
    " '20th Century Fox Argentina',\n",
    " '20th Century Fox Television',\n",
    " '20th Century Pictures',\n",
    " 'Twentieth Century Fox',\n",
    " 'Twentieth Century Fox Animation',\n",
    " 'Fox 2000 Pictures',\n",
    " 'Fox Searchlight Pictures',\n",
    " 'Fox Atomic',\n",
    " 'Fox International Productions (FIP)',\n",
    " 'Fox Film Corporation',\n",
    " 'Fox STAR Studios',\n",
    " 'Fox Digital Studios',\n",
    " 'Fox Family Channel',\n",
    " 'Fox Filmes do Brasil',\n",
    " '21st Century Film Corporation',\n",
    " '21st Century 3D',\n",
    " '21st Century Films',\n",
    " '21st Century Productions UK',\n",
    " '21st Century Film Production',\n",
    " 'ESPN Films',\n",
    " 'Lucasfilm',\n",
    " 'Lucasfilm Animation',\n",
    " 'Freeform',\n",
    " 'New World Pictures',\n",
    " 'New World Entertainment Films',\n",
    " 'New World Films']\n",
    "\n",
    "# Funzione per contare le righe che soddisfano le condizioni specificate\n",
    "def modifica_e_conta(df, twenty_exact_matches):\n",
    "    contatore_modifiche = 0\n",
    "    for i, row in df.iterrows():\n",
    "        \"\"\"if any(keyword.lower() in str(row['production_company']).lower() for keyword in keywords):\n",
    "            df.at[i, 'production_company'] = 'Twentieth Century Fox'\n",
    "            contatore_modifiche += 1\"\"\"\n",
    "        if row['production_company'] in twenty_exact_matches:\n",
    "            df.at[i, 'production_company'] = 'Twentieth Century Fox'\n",
    "            contatore_modifiche += 1\n",
    "    return contatore_modifiche\n",
    "\n",
    "# Esegui le modifiche e contali\n",
    "numero_modifiche = modifica_e_conta(df, twenty_exact_matches)\n",
    "\n",
    "# Conta il numero totale di righe che contengono 'Warner'\n",
    "numero_righe_warner = (df['production_company'] == 'Twentieth Century Fox').sum()\n",
    "\n",
    "# Stampa il numero di modifiche e il numero totale di righe con 'Warner'\n",
    "print(\"Numero di modifiche effettuate:\", numero_modifiche)\n",
    "print(\"Numero totale di righe che contengono 'Twentieth Century Fox':\", numero_righe_warner)\n",
    "\n",
    "# Salva il DataFrame aggiornato\n",
    "df.to_csv('production_merged.csv', index=False)\n"
   ],
   "metadata": {
    "collapsed": false,
    "ExecuteTime": {
     "end_time": "2024-05-26T14:59:23.164758100Z",
     "start_time": "2024-05-26T14:59:20.999811500Z"
    }
   },
   "id": "2f811a24dda55f45",
   "execution_count": 116
  },
  {
   "cell_type": "markdown",
   "source": [
    "DISNEY"
   ],
   "metadata": {
    "collapsed": false
   },
   "id": "c4dfc3097119fb93"
  },
  {
   "cell_type": "code",
   "outputs": [
    {
     "name": "stdout",
     "output_type": "stream",
     "text": [
      "Numero di modifiche effettuate: 302\n",
      "Numero totale di righe che contengono 'Disney': 302\n"
     ]
    }
   ],
   "source": [
    "# Carica il dataset\n",
    "df = pd.read_csv('production_merged.csv')\n",
    "\n",
    "# Lista delle parole chiave per il confronto case-insensitive\n",
    "disney_keywords = ['Disney']\n",
    "\n",
    "# Lista delle corrispondenze esatte\n",
    "disney_exact_matches = [\n",
    "    'Marvel Entertainment', 'Marvel Enterprises', 'Marvel Studios', 'Pixar Animation Studios', 'Touchstone Pictures'\n",
    "]\n",
    "\n",
    "# Funzione per contare le righe che soddisfano le condizioni specificate\n",
    "def modifica_e_conta(df, disney_keywords, disney_exact_matches):\n",
    "    contatore_modifiche = 0\n",
    "    for i, row in df.iterrows():\n",
    "        if any(keyword.lower() in str(row['production_company']).lower() for keyword in disney_keywords):\n",
    "            df.at[i, 'production_company'] = 'Disney'\n",
    "            contatore_modifiche += 1\n",
    "        elif row['production_company'] in disney_exact_matches:\n",
    "            df.at[i, 'production_company'] = 'Disney'\n",
    "            contatore_modifiche += 1\n",
    "    return contatore_modifiche\n",
    "\n",
    "# Esegui le modifiche e contali\n",
    "numero_modifiche = modifica_e_conta(df, disney_keywords, disney_exact_matches)\n",
    "\n",
    "# Conta il numero totale di righe che contengono 'Warner'\n",
    "numero_righe_warner = (df['production_company'] == 'Disney').sum()\n",
    "\n",
    "# Stampa il numero di modifiche e il numero totale di righe con 'Warner'\n",
    "print(\"Numero di modifiche effettuate:\", numero_modifiche)\n",
    "print(\"Numero totale di righe che contengono 'Disney':\", numero_righe_warner)\n",
    "\n",
    "# Salva il DataFrame aggiornato\n",
    "df.to_csv('production_merged.csv', index=False)\n"
   ],
   "metadata": {
    "collapsed": false,
    "ExecuteTime": {
     "end_time": "2024-05-26T14:59:25.019875200Z",
     "start_time": "2024-05-26T14:59:23.170043900Z"
    }
   },
   "id": "f42482ae6aa2db86",
   "execution_count": 117
  },
  {
   "cell_type": "code",
   "outputs": [
    {
     "name": "stdout",
     "output_type": "stream",
     "text": [
      "Numero di righe che contengono la parola 'Disney' nella colonna 'product_companies': 160\n"
     ]
    }
   ],
   "source": [
    "import pandas as pd\n",
    "\n",
    "# Carica il dataset\n",
    "df = pd.read_csv('rounded_updated_films.csv')\n",
    "\n",
    "# Conta il numero di righe che contengono 'Disney' nella colonna 'product_companies'\n",
    "numero_righe_disney = df['production_company'].str.contains('Disney', case=False).sum()\n",
    "\n",
    "print(\"Numero di righe che contengono la parola 'Disney' nella colonna 'product_companies':\", numero_righe_disney)\n"
   ],
   "metadata": {
    "collapsed": false,
    "ExecuteTime": {
     "end_time": "2024-05-26T14:59:25.283610800Z",
     "start_time": "2024-05-26T14:59:25.019875200Z"
    }
   },
   "id": "8847c008b3fb3f87",
   "execution_count": 118
  },
  {
   "cell_type": "markdown",
   "source": [
    "SONY"
   ],
   "metadata": {
    "collapsed": false
   },
   "id": "762bb9fbc8bad768"
  },
  {
   "cell_type": "code",
   "outputs": [
    {
     "name": "stdout",
     "output_type": "stream",
     "text": [
      "Numero di righe che contengono la parola 'Sony' nella colonna 'product_companies': 18\n"
     ]
    }
   ],
   "source": [
    "import pandas as pd\n",
    "\n",
    "# Carica il dataset\n",
    "df = pd.read_csv('rounded_updated_films.csv')\n",
    "\n",
    "# Conta il numero di righe che contengono 'Disney' nella colonna 'product_companies'\n",
    "numero_righe_disney = df['production_company'].str.contains('sony', case=False).sum()\n",
    "\n",
    "print(\"Numero di righe che contengono la parola 'Sony' nella colonna 'product_companies':\", numero_righe_disney)\n"
   ],
   "metadata": {
    "collapsed": false,
    "ExecuteTime": {
     "end_time": "2024-05-26T14:59:25.571665300Z",
     "start_time": "2024-05-26T14:59:25.286582Z"
    }
   },
   "id": "44bd763f554f7140",
   "execution_count": 119
  },
  {
   "cell_type": "code",
   "outputs": [
    {
     "name": "stdout",
     "output_type": "stream",
     "text": [
      "Numero di modifiche effettuate: 623\n",
      "Numero totale di righe che contengono 'Sony': 623\n"
     ]
    }
   ],
   "source": [
    "# Carica il dataset\n",
    "df = pd.read_csv('production_merged.csv')\n",
    "\n",
    "# Lista delle parole chiave per il confronto case-insensitive\n",
    "sony_keywords = ['sony', 'tristar', 'columbia']\n",
    "\n",
    "# Lista delle corrispondenze esatte\n",
    "sony_exact_matches = [\n",
    "     'Screen Gems',\n",
    "     'Stage 6 Films',\n",
    "     'Affirm Films',\n",
    "     'Ghost Film Pictures',\n",
    "     'Ghost Pictures',\n",
    "     'Madhouse',\n",
    "     'Toei Company',\n",
    "     'Toei Animation',\n",
    "     'Toei',\n",
    "     'Toei Tokyo',\n",
    "     'Toei Video Company',\n",
    "     'Destination Films',\n",
    "     'Left Bank Pictures',\n",
    "     'Revolution Studios',\n",
    "     'Revolution Films',\n",
    "]\n",
    "\n",
    "# Funzione per contare le righe che soddisfano le condizioni specificate\n",
    "def modifica_e_conta(df, sony_keywords, sony_exact_matches):\n",
    "    contatore_modifiche = 0\n",
    "    for i, row in df.iterrows():\n",
    "        if any(keyword.lower() in str(row['production_company']).lower() for keyword in sony_keywords):\n",
    "            df.at[i, 'production_company'] = 'Sony'\n",
    "            contatore_modifiche += 1\n",
    "        elif row['production_company'] in sony_exact_matches:\n",
    "            df.at[i, 'production_company'] = 'Sony'\n",
    "            contatore_modifiche += 1\n",
    "    return contatore_modifiche\n",
    "\n",
    "# Esegui le modifiche e contali\n",
    "numero_modifiche = modifica_e_conta(df, sony_keywords, sony_exact_matches)\n",
    "\n",
    "# Conta il numero totale di righe che contengono 'Warner'\n",
    "numero_righe_warner = (df['production_company'] == 'Sony').sum()\n",
    "\n",
    "# Stampa il numero di modifiche e il numero totale di righe con 'Warner'\n",
    "print(\"Numero di modifiche effettuate:\", numero_modifiche)\n",
    "print(\"Numero totale di righe che contengono 'Sony':\", numero_righe_warner)\n",
    "\n",
    "# Salva il DataFrame aggiornato\n",
    "df.to_csv('production_merged.csv', index=False)\n"
   ],
   "metadata": {
    "collapsed": false,
    "ExecuteTime": {
     "end_time": "2024-05-26T14:59:27.586889100Z",
     "start_time": "2024-05-26T14:59:25.574177900Z"
    }
   },
   "id": "de692c905ef37584",
   "execution_count": 120
  },
  {
   "cell_type": "code",
   "outputs": [
    {
     "name": "stdout",
     "output_type": "stream",
     "text": [
      "Numero di righe che soddisfano le condizioni specificate: 623\n"
     ]
    }
   ],
   "source": [
    "import pandas as pd\n",
    "\n",
    "# Carica il dataset\n",
    "df = pd.read_csv('rounded_updated_films.csv')\n",
    "\n",
    "# Lista delle parole chiave per il confronto case-insensitive\n",
    "sony_keywords = ['sony', 'tristar', 'columbia']\n",
    "\n",
    "# Lista delle corrispondenze esatte\n",
    "sony_exact_matches = [\n",
    "     'Screen Gems', 'Stage 6 Films', 'Affirm Films', 'Ghost Film Pictures',\n",
    "     'Ghost Pictures', 'Madhouse', 'Toei Company', 'Toei Animation', 'Toei',\n",
    "     'Toei Tokyo', 'Toei Video Company', 'Destination Films', 'Left Bank Pictures',\n",
    "     'Revolution Studios', 'Revolution Films'\n",
    "]\n",
    "\n",
    "# Funzione per contare le righe che soddisfano le condizioni specificate\n",
    "def conta_righe_sony(df, keywords, exact_matches):\n",
    "    # Conta le righe che contengono una delle parole chiave o corrispondenze esatte\n",
    "    contain_keywords = df['production_company'].str.contains('|'.join(keywords), case=False)\n",
    "    contain_exact_matches = df['production_company'].isin(exact_matches)\n",
    "    total_count = contain_keywords.sum() + contain_exact_matches.sum()\n",
    "    return total_count\n",
    "\n",
    "# Conta il numero di righe che soddisfano le condizioni specificate\n",
    "numero_righe_sony = conta_righe_sony(df, sony_keywords, sony_exact_matches)\n",
    "print(\"Numero di righe che soddisfano le condizioni specificate:\", numero_righe_sony)\n"
   ],
   "metadata": {
    "collapsed": false,
    "ExecuteTime": {
     "end_time": "2024-05-26T14:59:27.863661500Z",
     "start_time": "2024-05-26T14:59:27.588889100Z"
    }
   },
   "id": "867b9b4458b0467f",
   "execution_count": 121
  },
  {
   "cell_type": "markdown",
   "source": [
    "MGM"
   ],
   "metadata": {
    "collapsed": false
   },
   "id": "3f29d7c65ef61d0d"
  },
  {
   "cell_type": "code",
   "outputs": [
    {
     "name": "stdout",
     "output_type": "stream",
     "text": [
      "Numero di righe che soddisfano le condizioni specificate: 265\n"
     ]
    }
   ],
   "source": [
    "import pandas as pd\n",
    "\n",
    "# Carica il dataset\n",
    "df = pd.read_csv('rounded_updated_films.csv')\n",
    "\n",
    "# Lista delle parole chiave per il confronto case-insensitive\n",
    "# MGM_keywords = ['sony', 'tristar', 'columbia']\n",
    "\n",
    "# Lista delle corrispondenze esatte\n",
    "MGM_exact_matches = [\n",
    "     'Metro-Goldwyn-Mayer (MGM)',\n",
    "     'Metro Films',\n",
    "     'Metro Pictures Corporation',\n",
    "     'Metro Communications',\n",
    "     'Monogram Pictures',\n",
    "     'Cannon Group',\n",
    "     'Cannon Films',\n",
    "     'The Cannon Group',\n",
    "     'Cannon Pictures',\n",
    "     'Cannon International',\n",
    "     'Cannon Entertainment',\n",
    "     'The Samuel Goldwyn Company',\n",
    "     'Samuel Goldwyn Films'\n",
    "]\n",
    "\n",
    "# Funzione per contare le righe che soddisfano le condizioni specificate\n",
    "def conta_righe_sony(df, MGM_exact_matches):\n",
    "    # Conta le righe che contengono una delle parole chiave o corrispondenze esatte\n",
    "    # contain_keywords = df['production_company'].str.contains('|'.join(keywords), case=False)\n",
    "    contain_exact_matches = df['production_company'].isin(MGM_exact_matches)\n",
    "    total_count = contain_exact_matches.sum()\n",
    "    return total_count\n",
    "\n",
    "# Conta il numero di righe che soddisfano le condizioni specificate\n",
    "numero_righe_sony = conta_righe_sony(df, MGM_exact_matches)\n",
    "print(\"Numero di righe che soddisfano le condizioni specificate:\", numero_righe_sony)\n"
   ],
   "metadata": {
    "collapsed": false,
    "ExecuteTime": {
     "end_time": "2024-05-26T14:59:28.136628800Z",
     "start_time": "2024-05-26T14:59:27.857150600Z"
    }
   },
   "id": "5d431e0b2f129812",
   "execution_count": 122
  },
  {
   "cell_type": "code",
   "outputs": [
    {
     "name": "stdout",
     "output_type": "stream",
     "text": [
      "Numero di modifiche effettuate: 265\n",
      "Numero totale di righe che contengono 'MGM': 265\n"
     ]
    }
   ],
   "source": [
    "# Carica il dataset\n",
    "df = pd.read_csv('production_merged.csv')\n",
    "\n",
    "# Lista delle corrispondenze esatte\n",
    "MGM_exact_matches = [\n",
    "     'Metro-Goldwyn-Mayer (MGM)',\n",
    "     'Metro Films',\n",
    "     'Metro Pictures Corporation',\n",
    "     'Metro Communications',\n",
    "     'Monogram Pictures',\n",
    "     'Cannon Group',\n",
    "     'Cannon Films',\n",
    "     'The Cannon Group',\n",
    "     'Cannon Pictures',\n",
    "     'Cannon International',\n",
    "     'Cannon Entertainment',\n",
    "     'The Samuel Goldwyn Company',\n",
    "     'Samuel Goldwyn Films'\n",
    "]\n",
    "\n",
    "# Funzione per contare le righe che soddisfano le condizioni specificate\n",
    "def modifica_e_conta(df, MGM_exact_matches):\n",
    "    contatore_modifiche = 0\n",
    "    for i, row in df.iterrows():\n",
    "        \"\"\"if any(keyword.lower() in str(row['production_company']).lower() for keyword in sony_keywords):\n",
    "            df.at[i, 'production_company'] = 'MGM'\n",
    "            contatore_modifiche += 1\"\"\"\n",
    "        if row['production_company'] in MGM_exact_matches:\n",
    "            df.at[i, 'production_company'] = 'MGM'\n",
    "            contatore_modifiche += 1\n",
    "    return contatore_modifiche\n",
    "\n",
    "# Esegui le modifiche e contali\n",
    "numero_modifiche = modifica_e_conta(df, MGM_exact_matches)\n",
    "\n",
    "# Conta il numero totale di righe che contengono 'Warner'\n",
    "numero_righe_MGM = (df['production_company'] == 'MGM').sum()\n",
    "\n",
    "# Stampa il numero di modifiche e il numero totale di righe con 'Warner'\n",
    "print(\"Numero di modifiche effettuate:\", numero_modifiche)\n",
    "print(\"Numero totale di righe che contengono 'MGM':\", numero_righe_MGM)\n",
    "\n",
    "# Salva il DataFrame aggiornato\n",
    "df.to_csv('production_merged.csv', index=False)\n"
   ],
   "metadata": {
    "collapsed": false,
    "ExecuteTime": {
     "end_time": "2024-05-26T14:59:29.806623Z",
     "start_time": "2024-05-26T14:59:28.142614600Z"
    }
   },
   "id": "dc4c4ebdf192b8ba",
   "execution_count": 123
  },
  {
   "cell_type": "markdown",
   "source": [
    "UNITED ARTIST"
   ],
   "metadata": {
    "collapsed": false
   },
   "id": "813cffd8a27f2390"
  },
  {
   "cell_type": "code",
   "outputs": [
    {
     "name": "stdout",
     "output_type": "stream",
     "text": [
      "Numero di modifiche effettuate: 34\n",
      "Numero totale di righe che contengono 'United Artists': 34\n"
     ]
    }
   ],
   "source": [
    "# Carica il dataset\n",
    "df = pd.read_csv('production_merged.csv')\n",
    "\n",
    "# Lista delle corrispondenze esatte\n",
    "UA_exact_matches = [\n",
    "     'United Artists',\n",
    "     'United Artists Film Corporation',\n",
    "     'United Artists Pictures', 'United Arists'\n",
    "]\n",
    "\n",
    "# Funzione per contare le righe che soddisfano le condizioni specificate\n",
    "def modifica_e_conta(df, UA_exact_matches):\n",
    "    contatore_modifiche = 0\n",
    "    for i, row in df.iterrows():\n",
    "        \"\"\"if any(keyword.lower() in str(row['production_company']).lower() for keyword in sony_keywords):\n",
    "            df.at[i, 'production_company'] = 'United Artists'\n",
    "            contatore_modifiche += 1\"\"\"\n",
    "        if row['production_company'] in UA_exact_matches:\n",
    "            df.at[i, 'production_company'] = 'United Artists'\n",
    "            contatore_modifiche += 1\n",
    "    return contatore_modifiche\n",
    "\n",
    "# Esegui le modifiche e contali\n",
    "numero_modifiche = modifica_e_conta(df, UA_exact_matches)\n",
    "\n",
    "# Conta il numero totale di righe che contengono 'Warner'\n",
    "numero_righe_UA = (df['production_company'] == 'United Artists').sum()\n",
    "\n",
    "# Stampa il numero di modifiche e il numero totale di righe con 'Warner'\n",
    "print(\"Numero di modifiche effettuate:\", numero_modifiche)\n",
    "print(\"Numero totale di righe che contengono 'United Artists':\", numero_righe_UA)\n",
    "\n",
    "# Salva il DataFrame aggiornato\n",
    "df.to_csv('production_merged.csv', index=False)\n"
   ],
   "metadata": {
    "collapsed": false,
    "ExecuteTime": {
     "end_time": "2024-05-26T14:59:31.513573200Z",
     "start_time": "2024-05-26T14:59:29.811622300Z"
    }
   },
   "id": "1427b8899eceb120",
   "execution_count": 124
  },
  {
   "cell_type": "markdown",
   "source": [
    "RKO"
   ],
   "metadata": {
    "collapsed": false
   },
   "id": "57c22ae65cf7da7"
  },
  {
   "cell_type": "code",
   "outputs": [
    {
     "name": "stdout",
     "output_type": "stream",
     "text": [
      "Numero di modifiche effettuate: 35\n",
      "Numero totale di righe che contengono 'RKO': 34\n"
     ]
    }
   ],
   "source": [
    "# Carica il dataset\n",
    "df = pd.read_csv('production_merged.csv')\n",
    "\n",
    "# Lista delle corrispondenze esatte\n",
    "RKO_exact_matches = [\n",
    "     'RKO Radio Pictures',\n",
    "     'RKO Pictures'\n",
    "]\n",
    "\n",
    "# Funzione per contare le righe che soddisfano le condizioni specificate\n",
    "def modifica_e_conta(df, RKO_exact_matches):\n",
    "    contatore_modifiche = 0\n",
    "    for i, row in df.iterrows():\n",
    "        \"\"\"if any(keyword.lower() in str(row['production_company']).lower() for keyword in sony_keywords):\n",
    "            df.at[i, 'production_company'] = 'United Artists'\n",
    "            contatore_modifiche += 1\"\"\"\n",
    "        if row['production_company'] in RKO_exact_matches:\n",
    "            df.at[i, 'production_company'] = 'RKO'\n",
    "            contatore_modifiche += 1\n",
    "    return contatore_modifiche\n",
    "\n",
    "# Esegui le modifiche e contali\n",
    "numero_modifiche = modifica_e_conta(df, RKO_exact_matches)\n",
    "\n",
    "# Conta il numero totale di righe che contengono 'Warner'\n",
    "numero_righe_RKO = (df['production_company'] == 'RKO').sum()\n",
    "\n",
    "# Stampa il numero di modifiche e il numero totale di righe con 'Warner'\n",
    "print(\"Numero di modifiche effettuate:\", numero_modifiche)\n",
    "print(\"Numero totale di righe che contengono 'RKO':\", numero_righe_UA)\n",
    "\n",
    "# Salva il DataFrame aggiornato\n",
    "df.to_csv('production_merged.csv', index=False)\n"
   ],
   "metadata": {
    "collapsed": false,
    "ExecuteTime": {
     "end_time": "2024-05-26T14:59:33.169353100Z",
     "start_time": "2024-05-26T14:59:31.516605500Z"
    }
   },
   "id": "e3c00fe50d0a9c1b",
   "execution_count": 125
  },
  {
   "cell_type": "markdown",
   "source": [
    "LIONSGATE"
   ],
   "metadata": {
    "collapsed": false
   },
   "id": "d46ea5cfe83c7176"
  },
  {
   "cell_type": "code",
   "outputs": [
    {
     "name": "stdout",
     "output_type": "stream",
     "text": [
      "Numero di modifiche effettuate: 193\n",
      "Numero totale di righe che contengono 'Lionsgate': 193\n"
     ]
    }
   ],
   "source": [
    "# Carica il dataset\n",
    "df = pd.read_csv('production_merged.csv')\n",
    "\n",
    "# Lista delle corrispondenze esatte\n",
    "LG_exact_matches = [\n",
    "     'Lionsgate',\n",
    "     'Lions Gate Films',\n",
    "     'Lions Gate Entertainment',\n",
    "     'Lionsgate Premiere',\n",
    "     'Lionsgate UK',\n",
    "     'Lions Gate International',\n",
    "     'Lions Gate Family Entertainment',\n",
    "     'Summit Entertainment',\n",
    "     'Summit Premiere',\n",
    "     '3 Arts Entertainment',\n",
    "     'Entertainment One',\n",
    "     'Entertainment One India Ltd.',\n",
    "     'Good Universe',\n",
    "     'Grindstone Entertainment Group',\n",
    "     'Pantelion Films',\n",
    "     'Roadside Attractions',\n",
    "     'Spyglass Entertainment',\n",
    "     'Artisan Entertainment',\n",
    "     'Overture Films'\n",
    "]\n",
    "\n",
    "# Funzione per contare le righe che soddisfano le condizioni specificate\n",
    "def modifica_e_conta(df, LG_exact_matches):\n",
    "    contatore_modifiche = 0\n",
    "    for i, row in df.iterrows():\n",
    "        \"\"\"if any(keyword.lower() in str(row['production_company']).lower() for keyword in LG_keywords):\n",
    "            df.at[i, 'production_company'] = 'United Artists'\n",
    "            contatore_modifiche += 1\"\"\"\n",
    "        if row['production_company'] in LG_exact_matches:\n",
    "            df.at[i, 'production_company'] = 'Lionsgate'\n",
    "            contatore_modifiche += 1\n",
    "    return contatore_modifiche\n",
    "\n",
    "# Esegui le modifiche e contali\n",
    "numero_modifiche = modifica_e_conta(df, LG_exact_matches)\n",
    "\n",
    "# Conta il numero totale di righe che contengono 'Warner'\n",
    "numero_righe_LG = (df['production_company'] == 'Lionsgate').sum()\n",
    "\n",
    "# Stampa il numero di modifiche e il numero totale di righe con 'Warner'\n",
    "print(\"Numero di modifiche effettuate:\", numero_modifiche)\n",
    "print(\"Numero totale di righe che contengono 'Lionsgate':\", numero_righe_LG)\n",
    "\n",
    "# Salva il DataFrame aggiornato\n",
    "df.to_csv('production_merged.csv', index=False)\n"
   ],
   "metadata": {
    "collapsed": false,
    "ExecuteTime": {
     "end_time": "2024-05-26T14:59:34.687722700Z",
     "start_time": "2024-05-26T14:59:33.168352200Z"
    }
   },
   "id": "9a7a65ab9e2ddea1",
   "execution_count": 126
  },
  {
   "cell_type": "markdown",
   "source": [
    "AMAZON"
   ],
   "metadata": {
    "collapsed": false
   },
   "id": "b1d1a3926aae9b8f"
  },
  {
   "cell_type": "code",
   "outputs": [
    {
     "name": "stdout",
     "output_type": "stream",
     "text": [
      "Numero di modifiche effettuate: 0\n",
      "Numero totale di righe che contengono 'Amazon': 77\n"
     ]
    }
   ],
   "source": [
    "# Carica il dataset\n",
    "df = pd.read_csv('production_merged.csv')\n",
    "\n",
    "# Lista delle corrispondenze esatte\n",
    "AMZ_exact_matches = [\n",
    "     'Amazon Studios',\n",
    "     'Amazon Prime Video',\n",
    "     'Orion Pictures',\n",
    "     'LightWorkers Media',\n",
    "     'American International Pictures (AIP)',\n",
    "     'American Independent Productions',\n",
    "]\n",
    "\n",
    "# Funzione per contare le righe che soddisfano le condizioni specificate\n",
    "def modifica_e_conta(df, AMZ_exact_matches):\n",
    "    contatore_modifiche = 0\n",
    "    for i, row in df.iterrows():\n",
    "        \"\"\"if any(keyword.lower() in str(row['production_company']).lower() for keyword in LG_keywords):\n",
    "            df.at[i, 'production_company'] = 'United Artists'\n",
    "            contatore_modifiche += 1\"\"\"\n",
    "        if row['production_company'] in AMZ_exact_matches:\n",
    "            df.at[i, 'production_company'] = 'Amazon'\n",
    "            contatore_modifiche += 1\n",
    "    return contatore_modifiche\n",
    "\n",
    "# Esegui le modifiche e contali\n",
    "numero_modifiche = modifica_e_conta(df, AMZ_exact_matches)\n",
    "\n",
    "# Conta il numero totale di righe che contengono 'Warner'\n",
    "numero_righe_AMZ = (df['production_company'] == 'Amazon').sum()\n",
    "\n",
    "# Stampa il numero di modifiche e il numero totale di righe con 'Warner'\n",
    "print(\"Numero di modifiche effettuate:\", numero_modifiche)\n",
    "print(\"Numero totale di righe che contengono 'Amazon':\", numero_righe_AMZ)\n",
    "\n",
    "# Salva il DataFrame aggiornato\n",
    "df.to_csv('production_merged.csv', index=False)\n"
   ],
   "metadata": {
    "collapsed": false,
    "ExecuteTime": {
     "end_time": "2024-05-26T15:01:24.856092Z",
     "start_time": "2024-05-26T15:01:22.658464600Z"
    }
   },
   "id": "190b15c2c94d8355",
   "execution_count": 129
  },
  {
   "cell_type": "code",
   "outputs": [
    {
     "name": "stdout",
     "output_type": "stream",
     "text": [
      "Amazon Studios: 5\n",
      "Amazon Prime Video: 2\n",
      "Orion Pictures: 54\n",
      "LightWorkers Media: 1\n",
      "American International Pictures (AIP): 13\n",
      "American Independent Productions: 2\n",
      "Totale: 77\n"
     ]
    }
   ],
   "source": [
    "import pandas as pd\n",
    "\n",
    "# Carica il dataset\n",
    "df = pd.read_csv('rounded_updated_films.csv')\n",
    "\n",
    "# Valori da cercare nella colonna 'production_company'\n",
    "valori_da_cercare = [\n",
    "    'Amazon Studios', 'Amazon Prime Video', 'Orion Pictures',\n",
    "    'LightWorkers Media', 'American International Pictures (AIP)',\n",
    "    'American Independent Productions'\n",
    "]\n",
    "\n",
    "# Conta il numero di righe che contengono uno dei valori specificati\n",
    "numero_righe = df['production_company'].isin(valori_da_cercare).sum()\n",
    "\n",
    "# Stampare il numero di righe corrispondenti per ogni valore specificato\n",
    "for valore in valori_da_cercare:\n",
    "    righe_valore = (df['production_company'] == valore).sum()\n",
    "    print(f\"{valore}: {righe_valore}\")\n",
    "\n",
    "print(\"Totale:\", numero_righe)\n"
   ],
   "metadata": {
    "collapsed": false,
    "ExecuteTime": {
     "end_time": "2024-05-26T15:01:59.477558Z",
     "start_time": "2024-05-26T15:01:59.229421900Z"
    }
   },
   "id": "3bd9ce29a5f15506",
   "execution_count": 132
  },
  {
   "cell_type": "markdown",
   "source": [
    "STX"
   ],
   "metadata": {
    "collapsed": false
   },
   "id": "c5c58e49a678b380"
  },
  {
   "cell_type": "code",
   "outputs": [
    {
     "name": "stdout",
     "output_type": "stream",
     "text": [
      "Numero di modifiche effettuate: 8\n",
      "Numero totale di righe che contengono 'Amazon': 8\n"
     ]
    }
   ],
   "source": [
    "# Carica il dataset\n",
    "df = pd.read_csv('production_merged.csv')\n",
    "\n",
    "# Lista delle corrispondenze esatte\n",
    "STX_exact_matches = [\n",
    "     'STX Films',\n",
    "     'STX Entertainment'\n",
    "]\n",
    "\n",
    "# Funzione per contare le righe che soddisfano le condizioni specificate\n",
    "def modifica_e_conta(df, STX_exact_matches):\n",
    "    contatore_modifiche = 0\n",
    "    for i, row in df.iterrows():\n",
    "        \"\"\"if any(keyword.lower() in str(row['production_company']).lower() for keyword in LG_keywords):\n",
    "            df.at[i, 'production_company'] = 'United Artists'\n",
    "            contatore_modifiche += 1\"\"\"\n",
    "        if row['production_company'] in STX_exact_matches:\n",
    "            df.at[i, 'production_company'] = 'STX'\n",
    "            contatore_modifiche += 1\n",
    "    return contatore_modifiche\n",
    "\n",
    "# Esegui le modifiche e contali\n",
    "numero_modifiche = modifica_e_conta(df, STX_exact_matches)\n",
    "\n",
    "# Conta il numero totale di righe che contengono 'Warner'\n",
    "numero_righe_STX = (df['production_company'] == 'STX').sum()\n",
    "\n",
    "# Stampa il numero di modifiche e il numero totale di righe con 'Warner'\n",
    "print(\"Numero di modifiche effettuate:\", numero_modifiche)\n",
    "print(\"Numero totale di righe che contengono 'Amazon':\", numero_righe_STX)\n",
    "\n",
    "# Salva il DataFrame aggiornato\n",
    "df.to_csv('production_merged.csv', index=False)\n"
   ],
   "metadata": {
    "collapsed": false,
    "ExecuteTime": {
     "end_time": "2024-05-26T15:04:04.994652100Z",
     "start_time": "2024-05-26T15:04:02.685467800Z"
    }
   },
   "id": "fab246d18693def6",
   "execution_count": 133
  },
  {
   "cell_type": "code",
   "outputs": [
    {
     "name": "stdout",
     "output_type": "stream",
     "text": [
      "Numero di righe modificate: 17290\n"
     ]
    }
   ],
   "source": [
    "import pandas as pd\n",
    "\n",
    "# Carica il dataset\n",
    "df = pd.read_csv('production_merged.csv')\n",
    "\n",
    "# Definisci i valori consentiti per 'production_company'\n",
    "valori_consentiti = ['Amazon', 'STX', 'Lionsgate', 'RKO', 'United Artists', 'MGM', 'Sony', 'Walt Disney', 'Twentieth Century Fox', 'Warner', 'Paramount', 'Universal']\n",
    "\n",
    "# Contatore per tener traccia del numero di righe modificate\n",
    "contatore_modifiche = 0\n",
    "\n",
    "# Modifica i valori della colonna 'production_company' se necessario\n",
    "for i, row in df.iterrows():\n",
    "    if row['production_company'] not in valori_consentiti:\n",
    "        df.at[i, 'production_company'] = 'Other'\n",
    "        contatore_modifiche += 1\n",
    "\n",
    "# Stampa il numero di righe modificate\n",
    "print(\"Numero di righe modificate:\", contatore_modifiche)\n",
    "\n",
    "# Salva il DataFrame aggiornato\n",
    "df.to_csv('other.csv', index=False)\n"
   ],
   "metadata": {
    "collapsed": false,
    "ExecuteTime": {
     "end_time": "2024-05-26T15:09:55.357487700Z",
     "start_time": "2024-05-26T15:09:52.657213900Z"
    }
   },
   "id": "713681126fd4c59d",
   "execution_count": 134
  },
  {
   "cell_type": "markdown",
   "source": [],
   "metadata": {
    "collapsed": false
   },
   "id": "594f6ed866a904e8"
  }
 ],
 "metadata": {
  "kernelspec": {
   "display_name": "Python 3",
   "language": "python",
   "name": "python3"
  },
  "language_info": {
   "codemirror_mode": {
    "name": "ipython",
    "version": 2
   },
   "file_extension": ".py",
   "mimetype": "text/x-python",
   "name": "python",
   "nbconvert_exporter": "python",
   "pygments_lexer": "ipython2",
   "version": "2.7.6"
  }
 },
 "nbformat": 4,
 "nbformat_minor": 5
}
