{
 "cells": [
  {
   "cell_type": "code",
   "execution_count": 2,
   "id": "initial_id",
   "metadata": {
    "collapsed": true,
    "ExecuteTime": {
     "end_time": "2024-05-02T09:04:46.008106900Z",
     "start_time": "2024-05-02T09:04:44.369348500Z"
    }
   },
   "outputs": [],
   "source": [
    "import pandas as pd"
   ]
  },
  {
   "cell_type": "code",
   "execution_count": 3,
   "outputs": [
    {
     "name": "stdout",
     "output_type": "stream",
     "text": [
      "  imdb_title_id                      title             original_title   year  \\\n",
      "0     tt0003471           Traffic in Souls           Traffic in Souls  19130   \n",
      "1     tt0005060                     Carmen                     Carmen  19150   \n",
      "2     tt0005149                 The Coward                 The Coward  19150   \n",
      "3     tt0006509  The Children in the House  The Children in the House  19160   \n",
      "4     tt0006886                      Judex                      Judex  19160   \n",
      "\n",
      "  date_published                genre  duration country language  \\\n",
      "0     1913-11-24         Crime, Drama       880     USA  English   \n",
      "1     1915-10-31                Drama       590     USA  English   \n",
      "2     1915-11-14  Drama, History, War       770     USA  English   \n",
      "3     1916-04-30                Drama       500     USA  English   \n",
      "4     1917-01-19     Adventure, Crime      3000  France   French   \n",
      "\n",
      "                               director  ... Horror Music Musical Mystery  \\\n",
      "0                   George Loane Tucker  ...      0     0       0       0   \n",
      "1                      Cecil B. DeMille  ...      0     0       0       0   \n",
      "2       Reginald Barker, Thomas H. Ince  ...      0     0       0       0   \n",
      "3  Chester M. Franklin, Sidney Franklin  ...      0     0       0       0   \n",
      "4                       Louis Feuillade  ...      0     0       0       0   \n",
      "\n",
      "   Romance  Sci-Fi Sport Thriller War  Western  \n",
      "0        0       0     0        0   0        0  \n",
      "1        0       0     0        0   0        0  \n",
      "2        0       0     0        0   1        0  \n",
      "3        0       0     0        0   0        0  \n",
      "4        0       0     0        0   0        0  \n",
      "\n",
      "[5 rows x 408 columns]\n"
     ]
    }
   ],
   "source": [
    "# Carica il dataset\n",
    "imdb_df = pd.read_csv('test/new_imdb.csv', delimiter=';')\n",
    "\n",
    "# Funzione per applicare one-hot encoding a colonne con valori multipli separati da virgole\n",
    "def apply_multi_value_one_hot(df, column_name):\n",
    "    return df[column_name].str.get_dummies(sep=', ')\n",
    "\n",
    "# Applica la funzione alle colonne 'country', 'language', e 'genre'\n",
    "country_encoded_df = apply_multi_value_one_hot(imdb_df, 'country')\n",
    "language_encoded_df = apply_multi_value_one_hot(imdb_df, 'language')\n",
    "genres_encoded_df = apply_multi_value_one_hot(imdb_df, 'genre')\n",
    "\n",
    "# Unisci i DataFrame codificati con l'originale\n",
    "encoded_df = pd.concat([imdb_df, country_encoded_df, language_encoded_df, genres_encoded_df], axis=1)\n",
    "\n",
    "# Visualizza il risultato\n",
    "print(encoded_df.head())"
   ],
   "metadata": {
    "collapsed": false,
    "ExecuteTime": {
     "end_time": "2024-05-02T09:04:53.442889400Z",
     "start_time": "2024-05-02T09:04:47.345767400Z"
    }
   },
   "id": "e794da0a100202b3"
  },
  {
   "cell_type": "code",
   "execution_count": 4,
   "outputs": [],
   "source": [
    "encoded_df.to_csv('dataset/encoded_imdb.csv', index=False)"
   ],
   "metadata": {
    "collapsed": false,
    "ExecuteTime": {
     "end_time": "2024-05-02T09:05:04.003532100Z",
     "start_time": "2024-05-02T09:05:00.194992Z"
    }
   },
   "id": "65eb11352bff3517"
  },
  {
   "cell_type": "code",
   "execution_count": 5,
   "outputs": [],
   "source": [
    "# Funzione per correggere le date che contengono solo l'anno\n",
    "def fix_date(date_str):\n",
    "    # Controlla se la data è composta solo dall'anno (lunghezza 4)\n",
    "    if len(date_str) == 4:\n",
    "        # Aggiungi \"-01-01\" per fare l'anno completo al primo gennaio\n",
    "        return date_str + \"-01-01\"\n",
    "    else:\n",
    "        # Se la data è già completa, la lascia inalterata\n",
    "        return date_str\n",
    "\n",
    "# Applica la funzione di correzione alla colonna della data\n",
    "encoded_df['date_published'] = encoded_df['date_published'].apply(fix_date)\n",
    "\n",
    "# Salva il DataFrame corretto in un nuovo file CSV\n",
    "encoded_df.to_csv('dataset/encoded_imdb.csv', index=False)"
   ],
   "metadata": {
    "collapsed": false,
    "ExecuteTime": {
     "end_time": "2024-05-01T09:44:29.991033100Z",
     "start_time": "2024-05-01T09:44:27.524128200Z"
    }
   },
   "id": "85b5496ebaf2e08d"
  },
  {
   "cell_type": "code",
   "execution_count": 8,
   "outputs": [],
   "source": [
    "imdb_df = pd.read_csv('dataset/imdb.csv', delimiter=';')\n",
    "\n",
    "# Funzione per correggere le date che contengono solo l'anno\n",
    "def fix_date(date_str):\n",
    "    # Controlla se la data è composta solo dall'anno (lunghezza 4)\n",
    "    if len(date_str) == 4:\n",
    "        # Aggiungi \"-01-01\" per fare l'anno completo al primo gennaio\n",
    "        return date_str + \"-01-01\"\n",
    "    else:\n",
    "        # Se la data è già completa, la lascia inalterata\n",
    "        return date_str\n",
    "\n",
    "# Applica la funzione di correzione alla colonna della data\n",
    "imdb_df['date_published'] = imdb_df['date_published'].apply(fix_date)\n",
    "\n",
    "# Salva il DataFrame corretto in un nuovo file CSV\n",
    "imdb_df.to_csv('dataset/new_imdb.csv', index=False)"
   ],
   "metadata": {
    "collapsed": false,
    "ExecuteTime": {
     "end_time": "2024-05-01T11:53:04.785469700Z",
     "start_time": "2024-05-01T11:53:04.055869700Z"
    }
   },
   "id": "87a0e5f0907ab33b"
  },
  {
   "cell_type": "code",
   "execution_count": null,
   "outputs": [],
   "source": [],
   "metadata": {
    "collapsed": false
   },
   "id": "b5fff1b009826876"
  }
 ],
 "metadata": {
  "kernelspec": {
   "display_name": "Python 3",
   "language": "python",
   "name": "python3"
  },
  "language_info": {
   "codemirror_mode": {
    "name": "ipython",
    "version": 2
   },
   "file_extension": ".py",
   "mimetype": "text/x-python",
   "name": "python",
   "nbconvert_exporter": "python",
   "pygments_lexer": "ipython2",
   "version": "2.7.6"
  }
 },
 "nbformat": 4,
 "nbformat_minor": 5
}
