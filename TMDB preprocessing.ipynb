{
 "cells": [
  {
   "cell_type": "code",
   "execution_count": 2,
   "outputs": [
    {
     "name": "stdout",
     "output_type": "stream",
     "text": [
      "TMDB Columns: Index(['id', 'title', 'vote_average', 'vote_count', 'status', 'release_date',\n",
      "       'revenue', 'runtime', 'adult', 'backdrop_path', 'budget', 'homepage',\n",
      "       'imdb_id', 'original_language', 'original_title', 'overview',\n",
      "       'popularity', 'poster_path', 'tagline', 'genres',\n",
      "       'production_companies', 'production_countries', 'spoken_languages',\n",
      "       'keywords'],\n",
      "      dtype='object')\n",
      "IMDb Columns: Index(['imdb_title_id', 'title', 'original_title', 'year', 'date_published',\n",
      "       'genre', 'duration', 'country', 'language', 'director', 'writer',\n",
      "       'production_company', 'actors', 'description', 'avg_vote', 'votes',\n",
      "       'budget', 'usa_gross_income', 'worlwide_gross_income', 'metascore',\n",
      "       'reviews_from_users', 'reviews_from_critics'],\n",
      "      dtype='object')\n"
     ]
    }
   ],
   "source": [
    "import pandas as pd\n",
    "\n",
    "# Carica i dataset\n",
    "tmdb_data = pd.read_csv('dataset/TMDB_movie_dataset_v11.csv')\n",
    "imdb_data = pd.read_csv('dataset/IMDb movies.csv')\n",
    "\n",
    "\n",
    "# Stampa i nomi delle colonne per verificare\n",
    "print(\"TMDB Columns:\", tmdb_data.columns)\n",
    "print(\"IMDb Columns:\", imdb_data.columns)\n",
    "\n",
    "# Merge dei dati basandoti su imdb_title_id (IMDb) e imdb_id (TMDB)\n",
    "merged_data = pd.merge(imdb_data, tmdb_data, left_on='imdb_title_id', right_on='imdb_id', how='left', suffixes=('_imdb', '_tmdb'))\n",
    "\n",
    "# Sostituzione condizionata: Da TMDB a IMDb\n",
    "for idx, row in merged_data.iterrows():\n",
    "    if pd.notna(row['budget_tmdb']) and row['budget_tmdb'] != 0:\n",
    "        imdb_data.at[idx, 'budget'] = row['budget_tmdb']\n",
    "    if pd.notna(row['revenue']) and row['revenue'] != 0:\n",
    "        imdb_data.at[idx, 'worlwide_gross_income'] = row['revenue']\n",
    "\n",
    "# Sostituzione condizionata: Da IMDb a TMDB\n",
    "for idx, row in merged_data.iterrows():\n",
    "    if pd.notna(row['budget_imdb']) and row['budget_imdb'] != 0:\n",
    "        tmdb_data.at[idx, 'budget'] = row['budget_imdb']\n",
    "    if pd.notna(row['worlwide_gross_income']) and row['worlwide_gross_income'] != 0:\n",
    "        tmdb_data.at[idx, 'revenue'] = row['worlwide_gross_income']\n",
    "\n",
    "# Salvataggio dei dataset aggiornati\n",
    "imdb_data.to_csv('test/updated_imdb_data.csv', index=False)\n",
    "tmdb_data.to_csv('test/updated_tmdb_data.csv', index=False)"
   ],
   "metadata": {
    "collapsed": false,
    "ExecuteTime": {
     "end_time": "2024-05-02T07:52:50.288494200Z",
     "start_time": "2024-05-02T07:51:28.393669100Z"
    }
   },
   "id": "57f976d7a0549cc2"
  },
  {
   "cell_type": "code",
   "execution_count": null,
   "outputs": [],
   "source": [],
   "metadata": {
    "collapsed": false
   },
   "id": "65fe34ce9b16bd5c"
  }
 ],
 "metadata": {
  "kernelspec": {
   "display_name": "Python 3",
   "language": "python",
   "name": "python3"
  },
  "language_info": {
   "codemirror_mode": {
    "name": "ipython",
    "version": 2
   },
   "file_extension": ".py",
   "mimetype": "text/x-python",
   "name": "python",
   "nbconvert_exporter": "python",
   "pygments_lexer": "ipython2",
   "version": "2.7.6"
  }
 },
 "nbformat": 4,
 "nbformat_minor": 5
}
