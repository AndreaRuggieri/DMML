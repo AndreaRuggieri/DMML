{
 "cells": [
  {
   "cell_type": "code",
   "execution_count": 15,
   "id": "initial_id",
   "metadata": {
    "collapsed": true,
    "ExecuteTime": {
     "end_time": "2024-05-01T12:45:10.403451100Z",
     "start_time": "2024-05-01T12:45:10.309803400Z"
    }
   },
   "outputs": [
    {
     "data": {
      "text/plain": "array(['ACTOR', 'ACTRESS', 'ART DIRECTION', 'CINEMATOGRAPHY',\n       'DIRECTING (Comedy Picture)', 'DIRECTING (Dramatic Picture)',\n       'ENGINEERING EFFECTS', 'OUTSTANDING PICTURE',\n       'UNIQUE AND ARTISTIC PICTURE', 'WRITING (Adaptation)',\n       'WRITING (Original Story)', 'WRITING (Title Writing)',\n       'SPECIAL AWARD', 'DIRECTING', 'WRITING', 'OUTSTANDING PRODUCTION',\n       'SOUND RECORDING', 'SHORT SUBJECT (Cartoon)',\n       'SHORT SUBJECT (Comedy)', 'SHORT SUBJECT (Novelty)',\n       'ASSISTANT DIRECTOR', 'FILM EDITING', 'MUSIC (Scoring)',\n       'MUSIC (Song)', 'DANCE DIRECTION', 'WRITING (Screenplay)',\n       'ACTOR IN A SUPPORTING ROLE', 'ACTRESS IN A SUPPORTING ROLE',\n       'SHORT SUBJECT (Color)', 'SHORT SUBJECT (One-reel)',\n       'SHORT SUBJECT (Two-reel)', 'IRVING G. THALBERG MEMORIAL AWARD',\n       'MUSIC (Original Score)', 'CINEMATOGRAPHY (Black-and-White)',\n       'CINEMATOGRAPHY (Color)', 'SPECIAL EFFECTS',\n       'ART DIRECTION (Black-and-White)', 'ART DIRECTION (Color)',\n       'WRITING (Original Screenplay)', 'DOCUMENTARY (Short Subject)',\n       'MUSIC (Music Score of a Dramatic Picture)',\n       'MUSIC (Scoring of a Musical Picture)',\n       'OUTSTANDING MOTION PICTURE', 'DOCUMENTARY',\n       'MUSIC (Music Score of a Dramatic or Comedy Picture)',\n       'WRITING (Original Motion Picture Story)', 'DOCUMENTARY (Feature)',\n       'BEST MOTION PICTURE', 'WRITING (Motion Picture Story)',\n       'COSTUME DESIGN (Black-and-White)', 'COSTUME DESIGN (Color)',\n       'SPECIAL FOREIGN LANGUAGE FILM AWARD',\n       'WRITING (Story and Screenplay)',\n       'HONORARY FOREIGN LANGUAGE FILM AWARD', 'HONORARY AWARD',\n       'FOREIGN LANGUAGE FILM', 'WRITING (Screenplay--Adapted)',\n       'WRITING (Screenplay--Original)',\n       'JEAN HERSHOLT HUMANITARIAN AWARD', 'COSTUME DESIGN',\n       'SHORT SUBJECT (Live Action)',\n       'WRITING (Screenplay--based on material from another medium)',\n       'WRITING (Story and Screenplay--written directly for the screen)',\n       'SOUND', 'MUSIC (Music Score--substantially original)',\n       'MUSIC (Scoring of Music--adaptation or treatment)',\n       'BEST PICTURE', 'SOUND EFFECTS', 'SPECIAL VISUAL EFFECTS',\n       'MUSIC (Original Music Score)',\n       'MUSIC (Original Score--for a motion picture [not a musical])',\n       'MUSIC (Score of a Musical Picture--original or adaptation)',\n       'MUSIC (Song--Original for the Picture)',\n       'WRITING (Story and Screenplay--based on material not previously published or produced)',\n       'MUSIC (Original Song Score)',\n       'WRITING (Story and Screenplay--based on factual material or material not previously published or produced)',\n       'MUSIC (Original Dramatic Score)',\n       'MUSIC (Scoring: Adaptation and Original Song Score)',\n       'SHORT SUBJECT (Animated)',\n       'SPECIAL ACHIEVEMENT AWARD (Visual Effects)',\n       'MUSIC (Scoring: Original Song Score and Adaptation -or- Scoring: Adaptation)',\n       'SHORT FILM (Animated)', 'SHORT FILM (Live Action)',\n       'WRITING (Screenplay Adapted from Other Material)',\n       'MUSIC (Original Song)',\n       'SPECIAL ACHIEVEMENT AWARD (Sound Effects)',\n       'ACTOR IN A LEADING ROLE', 'ACTRESS IN A LEADING ROLE',\n       'MUSIC (Original Song Score and Its Adaptation or Adaptation Score)',\n       'WRITING (Screenplay Written Directly for the Screen--based on factual material or on story material not previously published or produced)',\n       'VISUAL EFFECTS', 'SPECIAL ACHIEVEMENT AWARD',\n       'SPECIAL ACHIEVEMENT AWARD (Sound Effects Editing)',\n       'MUSIC (Adaptation Score)',\n       'WRITING (Screenplay Based on Material from Another Medium)',\n       'WRITING (Screenplay Written Directly for the Screen)',\n       'MUSIC (Original Song Score and Its Adaptation -or- Adaptation Score)',\n       'SPECIAL ACHIEVEMENT AWARD (Sound Editing)',\n       'SHORT FILM (Dramatic Live Action)', 'MAKEUP',\n       'SOUND EFFECTS EDITING',\n       'MUSIC (Original Song Score or Adaptation Score)',\n       'WRITING (Screenplay Based on Material Previously Produced or Published)',\n       'MUSIC (Original Musical or Comedy Score)', 'SOUND EDITING',\n       'ANIMATED FEATURE FILM', 'WRITING (Adapted Screenplay)',\n       'SOUND MIXING', 'MAKEUP AND HAIRSTYLING', 'PRODUCTION DESIGN',\n       'INTERNATIONAL FEATURE FILM', 'DOCUMENTARY FEATURE FILM',\n       'DOCUMENTARY SHORT FILM', 'GORDON E. SAWYER AWARD',\n       'AWARD OF COMMENDATION'], dtype=object)"
     },
     "execution_count": 15,
     "metadata": {},
     "output_type": "execute_result"
    }
   ],
   "source": [
    "\"\"\"import pandas as pd\n",
    "\n",
    "# Load the dataset\n",
    "data = pd.read_csv('C:/Users/andre/Documents/GitHub/DMML/dataset/the_oscar_award.csv')\n",
    "\n",
    "# Extract unique categories\n",
    "unique_categories = data['category'].unique()\n",
    "\n",
    "# Save the unique categories into a new file\n",
    "unique_categories_df = pd.DataFrame(unique_categories, columns=['category'])\n",
    "# unique_categories_df.to_csv('/mnt/data/oscars.csv', index=False)\n",
    "\n",
    "# Display unique categories\n",
    "unique_categories\n",
    "\"\"\""
   ]
  },
  {
   "cell_type": "code",
   "outputs": [],
   "source": [
    "\"\"\"import pandas as pd\n",
    "\n",
    "# Carica il dataset\n",
    "df = pd.read_csv('C:/Users/andre/Documents/GitHub/DMML/dataset/the_oscar_award.csv')\n",
    "\n",
    "# Elenco delle categorie da rimuovere\n",
    "categories_to_remove = [\n",
    "    \"UNIQUE AND ARTISTIC PICTURE\", \"SPECIAL AWARD\", \"OUTSTANDING PRODUCTION\",\n",
    "    \"SOUND RECORDING\", \"SHORT SUBJECT (Cartoon)\", \"SHORT SUBJECT (Comedy)\",\n",
    "    \"SHORT SUBJECT (Novelty)\", \"ASSISTANT DIRECTOR\", \"FILM EDITING\", \"MUSIC (Scoring)\",\n",
    "    \"MUSIC (Song)\", \"DANCE DIRECTION\", \"SHORT SUBJECT (Color)\", \"SHORT SUBJECT (One-reel)\",\n",
    "    \"SHORT SUBJECT (Two-reel)\", \"IRVING G. THALBERG MEMORIAL AWARD\", \"CINEMATOGRAPHY (Black-and-White)\",\n",
    "    \"CINEMATOGRAPHY (Color)\", \"SPECIAL EFFECTS\", \"ART DIRECTION (Black-and-White)\",\n",
    "    \"ART DIRECTION (Color)\", \"DOCUMENTARY (Short Subject)\", \"MUSIC (Music Score of a Dramatic Picture)\",\n",
    "    \"MUSIC (Scoring of a Musical Picture)\", \"OUTSTANDING MOTION PICTURE\", \"DOCUMENTARY\",\n",
    "    \"MUSIC (Music Score of a Dramatic or Comedy Picture)\", \"DOCUMENTARY (Feature)\",\n",
    "    \"BEST MOTION PICTURE\", \"COSTUME DESIGN (Black-and-White)\", \"COSTUME DESIGN (Color)\",\n",
    "    \"SPECIAL FOREIGN LANGUAGE FILM AWARD\", \"HONORARY FOREIGN LANGUAGE FILM AWARD\",\n",
    "    \"HONORARY AWARD\", \"FOREIGN LANGUAGE FILM\", \"JEAN HERSHOLT HUMANITARIAN AWARD\",\n",
    "    \"COSTUME DESIGN\", \"SHORT SUBJECT (Live Action)\", \"SOUND\", \"MUSIC (Music Score--substantially original)\",\n",
    "    \"MUSIC (Scoring of Music--adaptation or treatment)\", \"BEST PICTURE\", \"SOUND EFFECTS\",\n",
    "    \"SPECIAL VISUAL EFFECTS\", \"MUSIC (Original Music Score)\", \"MUSIC (Original Score--for a motion picture [not a musical])\",\n",
    "    \"MUSIC (Score of a Musical Picture--original or adaptation)\", \"MUSIC (Song--Original for the Picture)\",\n",
    "    \"MUSIC (Original Song Score)\", \"MUSIC (Original Dramatic Score)\", \"MUSIC (Scoring: Adaptation and Original Song Score)\",\n",
    "    \"SHORT SUBJECT (Animated)\", \"SPECIAL ACHIEVEMENT AWARD (Visual Effects)\",\n",
    "    \"MUSIC (Scoring: Original Song Score and Adaptation -or- Scoring: Adaptation)\", \"SHORT FILM (Animated)\",\n",
    "    \"SHORT FILM (Live Action)\", \"SPECIAL ACHIEVEMENT AWARD (Sound Effects)\", \"MUSIC (Original Song Score and Its Adaptation or Adaptation Score)\", \"VISUAL EFFECTS\", \"SPECIAL ACHIEVEMENT AWARD\", \"SPECIAL ACHIEVEMENT AWARD (Sound Effects Editing)\",\n",
    "    \"MUSIC (Adaptation Score)\", \"MUSIC (Original Song Score and Its Adaptation -or- Adaptation Score)\",\n",
    "    \"SPECIAL ACHIEVEMENT AWARD (Sound Editing)\", \"SHORT FILM (Dramatic Live Action)\", \"MAKEUP\",\n",
    "    \"SOUND EFFECTS EDITING\", \"MUSIC (Original Song Score or Adaptation Score)\",\n",
    "    \"MUSIC (Original Musical or Comedy Score)\", \"SOUND EDITING\", \"ANIMATED FEATURE FILM\",\n",
    "    \"SOUND MIXING\", \"MAKEUP AND HAIRSTYLING\", \"PRODUCTION DESIGN\", \"INTERNATIONAL FEATURE FILM\",\n",
    "    \"DOCUMENTARY FEATURE FILM\", \"DOCUMENTARY SHORT FILM\", \"GORDON E. SAWYER AWARD\",\n",
    "    \"AWARD OF COMMENDATION\", \"OUTSTANDING PICTURE\", \"MUSIC (Original Score)\", \"MUSIC (Original Song)\", \"CINEMATOGRAPHY\", \"ART DIRECTION\", \"ENGINEERING EFFECTS\"\n",
    "]\n",
    "\n",
    "# Filtra il DataFrame per rimuovere le righe con le categorie specificate\n",
    "filtered_df = df[~df['category'].isin(categories_to_remove)]\n",
    "\n",
    "# Salva il nuovo DataFrame in un file CSV\n",
    "filtered_df.to_csv('oscars.csv', index=False)\"\"\"\n"
   ],
   "metadata": {
    "collapsed": false,
    "ExecuteTime": {
     "end_time": "2024-05-01T13:09:34.081611600Z",
     "start_time": "2024-05-01T13:09:33.988304700Z"
    }
   },
   "id": "3902588c73769abc",
   "execution_count": 22
  },
  {
   "cell_type": "code",
   "outputs": [],
   "source": [
    "\"\"\"import pandas as pd\n",
    "\n",
    "# Carica il dataset modificato\n",
    "df = pd.read_csv('C:/Users/andre/Documents/GitHub/DMML/dataset/oscars.csv')\n",
    "\n",
    "import pandas as pd\n",
    "import re\n",
    "\n",
    "# Carica il dataset modificato\n",
    "df = pd.read_csv('oscars.csv')\n",
    "\n",
    "# Definisci le frasi da rimuovere\n",
    "prefixes_to_remove = [\n",
    "    'Screenplay by',\n",
    "    'Story by',\n",
    "    'Story and Screenplay by',\n",
    "    'Written by',\n",
    "    'Original story by'\n",
    "]\n",
    "\n",
    "# Compila la regex che corrisponde a qualsiasi dei prefissi definiti\n",
    "# Aggiungi 'r' per denotare una raw string\n",
    "regex_pattern = r'^(?:' + '|'.join(re.escape(prefix) for prefix in prefixes_to_remove) + r')\\s'\n",
    "\n",
    "# Rimuovi i prefissi dalla colonna 'name'\n",
    "df['name'] = df['name'].replace(regex_pattern, '', regex=True)\n",
    "# Salva il DataFrame risultante\n",
    "df.to_csv('C:/Users/andre/Documents/GitHub/DMML/dataset/oscars_cleaned.csv', index=False)\n",
    "\"\"\""
   ],
   "metadata": {
    "collapsed": false,
    "ExecuteTime": {
     "end_time": "2024-05-01T14:01:22.505396500Z",
     "start_time": "2024-05-01T14:01:22.426315100Z"
    }
   },
   "id": "14c0b9aa2f47fae6",
   "execution_count": 24
  },
  {
   "cell_type": "code",
   "outputs": [],
   "source": [
    "import pandas as pd\n",
    "\n",
    "# Carica i dati\n",
    "merged_imdb = pd.read_csv('filtered_dataset.csv')\n",
    "oscars = pd.read_csv('oscars_cleaned.csv')\n",
    "\n",
    "# Preparazione del DataFrame\n",
    "merged_imdb['dir_oscar_nomination'] = 0\n",
    "merged_imdb['dir_oscar_won'] = 0\n",
    "merged_imdb['writer_oscar_nomination'] = 0\n",
    "merged_imdb['writer_oscar_won'] = 0\n",
    "merged_imdb['cast_oscar_nomination'] = 0\n",
    "merged_imdb['cast_oscar_won'] = 0\n",
    "\n",
    "# Assicurati che le colonne non abbiano valori NaN\n",
    "merged_imdb['actors'] = merged_imdb['actors'].fillna('')\n",
    "merged_imdb['director'] = merged_imdb['director'].fillna('')\n",
    "merged_imdb['writer'] = merged_imdb['writer'].fillna('')\n",
    "\n",
    "# Funzione per normalizzare i nomi\n",
    "def normalize_name(name):\n",
    "    name = name.replace('&', ',').replace(' Jr', ' Jr.').replace(' Senior', ' Senior').split(',')\n",
    "    name = [n.strip() for n in name]\n",
    "    return name\n",
    "\n",
    "# Funzione per gestire la verifica di nomination e vittorie Oscar\n",
    "def update_oscars(row):\n",
    "    raw_names = normalize_name(row['name'])\n",
    "    year_oscars = int(row['year_film'])\n",
    "    is_winner = row['winner'] == True\n",
    "    \n",
    "    # Crea una lista di tutti i possibili nomi invertiti\n",
    "    names = []\n",
    "    for name in raw_names:\n",
    "        parts = name.split()\n",
    "        if len(parts) > 1:\n",
    "            reversed_name = ' '.join(reversed(parts))\n",
    "            names.append(name)\n",
    "            names.append(reversed_name)\n",
    "        else:\n",
    "            names.append(name)\n",
    "    \n",
    "    for name in names:\n",
    "        # Verifica per la categoria DIRECTOR\n",
    "        if 'DIRECTING' in row['category']:\n",
    "            directors = merged_imdb['director'].apply(lambda x: name in x)\n",
    "            year_condition = merged_imdb['year'] >= year_oscars\n",
    "            indices = merged_imdb[directors & year_condition].index\n",
    "            merged_imdb.loc[indices, 'dir_oscar_nomination'] += 1\n",
    "            if is_winner:\n",
    "                merged_imdb.loc[indices, 'dir_oscar_won'] += 1\n",
    "\n",
    "        # Verifica per la categoria WRITING\n",
    "        elif 'WRITING' in row['category']:\n",
    "            writers = merged_imdb['writer'].apply(lambda x: name in x)\n",
    "            year_condition = merged_imdb['year'] >= year_oscars\n",
    "            indices = merged_imdb[writers & year_condition].index\n",
    "            merged_imdb.loc[indices, 'writer_oscar_nomination'] += 1\n",
    "            if is_winner:\n",
    "                merged_imdb.loc[indices, 'writer_oscar_won'] += 1\n",
    "\n",
    "        # Verifica per la categoria ACTOR o ACTRESS\n",
    "        elif 'ACTOR' in row['category'] or 'ACTRESS' in row['category']:\n",
    "            actors_condition = merged_imdb['actors'].apply(lambda x: name in x)\n",
    "            year_condition = merged_imdb['year'] >= year_oscars\n",
    "            indices = merged_imdb[actors_condition & year_condition].index\n",
    "            merged_imdb.loc[indices, 'cast_oscar_nomination'] += 1\n",
    "            if is_winner:\n",
    "                merged_imdb.loc[indices, 'cast_oscar_won'] += 1\n",
    "\n",
    "# Applica la funzione a tutte le righe di oscars\n",
    "oscars.apply(update_oscars, axis=1)\n",
    "\n",
    "# Salva il nuovo DataFrame\n",
    "merged_imdb.to_csv('filteredWithOscar.csv', index=False)\n"
   ],
   "metadata": {
    "collapsed": false,
    "ExecuteTime": {
     "end_time": "2024-05-04T08:30:51.258797200Z",
     "start_time": "2024-05-04T08:30:02.558271900Z"
    }
   },
   "id": "dc909824d48ff1dc",
   "execution_count": 154
  },
  {
   "cell_type": "code",
   "outputs": [],
   "source": [
    "winner_counts = oscars['category'].value_counts()\n",
    "print(winner_counts)"
   ],
   "metadata": {
    "collapsed": false
   },
   "id": "f337776f1f269002",
   "execution_count": null
  },
  {
   "cell_type": "code",
   "outputs": [],
   "source": [
    "df = pd.read_csv('C:/Users/andre/Documents/GitHub/DMML/dataset/golden_globe_filtered.csv')\n",
    "categories = df['category'].unique()\n",
    "\n",
    "# Stampa i valori\n",
    "for category in categories:\n",
    "    print(category)"
   ],
   "metadata": {
    "collapsed": false
   },
   "id": "369c78059dc30b3c",
   "execution_count": null
  },
  {
   "cell_type": "code",
   "outputs": [
    {
     "ename": "PermissionError",
     "evalue": "[Errno 13] Permission denied: 'golden_globe_filtered.csv'",
     "output_type": "error",
     "traceback": [
      "\u001B[1;31m---------------------------------------------------------------------------\u001B[0m",
      "\u001B[1;31mPermissionError\u001B[0m                           Traceback (most recent call last)",
      "Cell \u001B[1;32mIn[151], line 53\u001B[0m\n\u001B[0;32m     50\u001B[0m filtered_df \u001B[38;5;241m=\u001B[39m df[\u001B[38;5;241m~\u001B[39mdf[\u001B[38;5;124m'\u001B[39m\u001B[38;5;124mcategory\u001B[39m\u001B[38;5;124m'\u001B[39m]\u001B[38;5;241m.\u001B[39misin(categories_to_remove)]\n\u001B[0;32m     52\u001B[0m \u001B[38;5;66;03m# Salva il nuovo DataFrame in un file CSV\u001B[39;00m\n\u001B[1;32m---> 53\u001B[0m \u001B[43mfiltered_df\u001B[49m\u001B[38;5;241;43m.\u001B[39;49m\u001B[43mto_csv\u001B[49m\u001B[43m(\u001B[49m\u001B[38;5;124;43m'\u001B[39;49m\u001B[38;5;124;43mgolden_globe_filtered.csv\u001B[39;49m\u001B[38;5;124;43m'\u001B[39;49m\u001B[43m,\u001B[49m\u001B[43m \u001B[49m\u001B[43mindex\u001B[49m\u001B[38;5;241;43m=\u001B[39;49m\u001B[38;5;28;43;01mFalse\u001B[39;49;00m\u001B[43m)\u001B[49m\n",
      "File \u001B[1;32m~\\AppData\\Local\\Programs\\Python\\Python312\\Lib\\site-packages\\pandas\\util\\_decorators.py:333\u001B[0m, in \u001B[0;36mdeprecate_nonkeyword_arguments.<locals>.decorate.<locals>.wrapper\u001B[1;34m(*args, **kwargs)\u001B[0m\n\u001B[0;32m    327\u001B[0m \u001B[38;5;28;01mif\u001B[39;00m \u001B[38;5;28mlen\u001B[39m(args) \u001B[38;5;241m>\u001B[39m num_allow_args:\n\u001B[0;32m    328\u001B[0m     warnings\u001B[38;5;241m.\u001B[39mwarn(\n\u001B[0;32m    329\u001B[0m         msg\u001B[38;5;241m.\u001B[39mformat(arguments\u001B[38;5;241m=\u001B[39m_format_argument_list(allow_args)),\n\u001B[0;32m    330\u001B[0m         \u001B[38;5;167;01mFutureWarning\u001B[39;00m,\n\u001B[0;32m    331\u001B[0m         stacklevel\u001B[38;5;241m=\u001B[39mfind_stack_level(),\n\u001B[0;32m    332\u001B[0m     )\n\u001B[1;32m--> 333\u001B[0m \u001B[38;5;28;01mreturn\u001B[39;00m \u001B[43mfunc\u001B[49m\u001B[43m(\u001B[49m\u001B[38;5;241;43m*\u001B[39;49m\u001B[43margs\u001B[49m\u001B[43m,\u001B[49m\u001B[43m \u001B[49m\u001B[38;5;241;43m*\u001B[39;49m\u001B[38;5;241;43m*\u001B[39;49m\u001B[43mkwargs\u001B[49m\u001B[43m)\u001B[49m\n",
      "File \u001B[1;32m~\\AppData\\Local\\Programs\\Python\\Python312\\Lib\\site-packages\\pandas\\core\\generic.py:3967\u001B[0m, in \u001B[0;36mNDFrame.to_csv\u001B[1;34m(self, path_or_buf, sep, na_rep, float_format, columns, header, index, index_label, mode, encoding, compression, quoting, quotechar, lineterminator, chunksize, date_format, doublequote, escapechar, decimal, errors, storage_options)\u001B[0m\n\u001B[0;32m   3956\u001B[0m df \u001B[38;5;241m=\u001B[39m \u001B[38;5;28mself\u001B[39m \u001B[38;5;28;01mif\u001B[39;00m \u001B[38;5;28misinstance\u001B[39m(\u001B[38;5;28mself\u001B[39m, ABCDataFrame) \u001B[38;5;28;01melse\u001B[39;00m \u001B[38;5;28mself\u001B[39m\u001B[38;5;241m.\u001B[39mto_frame()\n\u001B[0;32m   3958\u001B[0m formatter \u001B[38;5;241m=\u001B[39m DataFrameFormatter(\n\u001B[0;32m   3959\u001B[0m     frame\u001B[38;5;241m=\u001B[39mdf,\n\u001B[0;32m   3960\u001B[0m     header\u001B[38;5;241m=\u001B[39mheader,\n\u001B[1;32m   (...)\u001B[0m\n\u001B[0;32m   3964\u001B[0m     decimal\u001B[38;5;241m=\u001B[39mdecimal,\n\u001B[0;32m   3965\u001B[0m )\n\u001B[1;32m-> 3967\u001B[0m \u001B[38;5;28;01mreturn\u001B[39;00m \u001B[43mDataFrameRenderer\u001B[49m\u001B[43m(\u001B[49m\u001B[43mformatter\u001B[49m\u001B[43m)\u001B[49m\u001B[38;5;241;43m.\u001B[39;49m\u001B[43mto_csv\u001B[49m\u001B[43m(\u001B[49m\n\u001B[0;32m   3968\u001B[0m \u001B[43m    \u001B[49m\u001B[43mpath_or_buf\u001B[49m\u001B[43m,\u001B[49m\n\u001B[0;32m   3969\u001B[0m \u001B[43m    \u001B[49m\u001B[43mlineterminator\u001B[49m\u001B[38;5;241;43m=\u001B[39;49m\u001B[43mlineterminator\u001B[49m\u001B[43m,\u001B[49m\n\u001B[0;32m   3970\u001B[0m \u001B[43m    \u001B[49m\u001B[43msep\u001B[49m\u001B[38;5;241;43m=\u001B[39;49m\u001B[43msep\u001B[49m\u001B[43m,\u001B[49m\n\u001B[0;32m   3971\u001B[0m \u001B[43m    \u001B[49m\u001B[43mencoding\u001B[49m\u001B[38;5;241;43m=\u001B[39;49m\u001B[43mencoding\u001B[49m\u001B[43m,\u001B[49m\n\u001B[0;32m   3972\u001B[0m \u001B[43m    \u001B[49m\u001B[43merrors\u001B[49m\u001B[38;5;241;43m=\u001B[39;49m\u001B[43merrors\u001B[49m\u001B[43m,\u001B[49m\n\u001B[0;32m   3973\u001B[0m \u001B[43m    \u001B[49m\u001B[43mcompression\u001B[49m\u001B[38;5;241;43m=\u001B[39;49m\u001B[43mcompression\u001B[49m\u001B[43m,\u001B[49m\n\u001B[0;32m   3974\u001B[0m \u001B[43m    \u001B[49m\u001B[43mquoting\u001B[49m\u001B[38;5;241;43m=\u001B[39;49m\u001B[43mquoting\u001B[49m\u001B[43m,\u001B[49m\n\u001B[0;32m   3975\u001B[0m \u001B[43m    \u001B[49m\u001B[43mcolumns\u001B[49m\u001B[38;5;241;43m=\u001B[39;49m\u001B[43mcolumns\u001B[49m\u001B[43m,\u001B[49m\n\u001B[0;32m   3976\u001B[0m \u001B[43m    \u001B[49m\u001B[43mindex_label\u001B[49m\u001B[38;5;241;43m=\u001B[39;49m\u001B[43mindex_label\u001B[49m\u001B[43m,\u001B[49m\n\u001B[0;32m   3977\u001B[0m \u001B[43m    \u001B[49m\u001B[43mmode\u001B[49m\u001B[38;5;241;43m=\u001B[39;49m\u001B[43mmode\u001B[49m\u001B[43m,\u001B[49m\n\u001B[0;32m   3978\u001B[0m \u001B[43m    \u001B[49m\u001B[43mchunksize\u001B[49m\u001B[38;5;241;43m=\u001B[39;49m\u001B[43mchunksize\u001B[49m\u001B[43m,\u001B[49m\n\u001B[0;32m   3979\u001B[0m \u001B[43m    \u001B[49m\u001B[43mquotechar\u001B[49m\u001B[38;5;241;43m=\u001B[39;49m\u001B[43mquotechar\u001B[49m\u001B[43m,\u001B[49m\n\u001B[0;32m   3980\u001B[0m \u001B[43m    \u001B[49m\u001B[43mdate_format\u001B[49m\u001B[38;5;241;43m=\u001B[39;49m\u001B[43mdate_format\u001B[49m\u001B[43m,\u001B[49m\n\u001B[0;32m   3981\u001B[0m \u001B[43m    \u001B[49m\u001B[43mdoublequote\u001B[49m\u001B[38;5;241;43m=\u001B[39;49m\u001B[43mdoublequote\u001B[49m\u001B[43m,\u001B[49m\n\u001B[0;32m   3982\u001B[0m \u001B[43m    \u001B[49m\u001B[43mescapechar\u001B[49m\u001B[38;5;241;43m=\u001B[39;49m\u001B[43mescapechar\u001B[49m\u001B[43m,\u001B[49m\n\u001B[0;32m   3983\u001B[0m \u001B[43m    \u001B[49m\u001B[43mstorage_options\u001B[49m\u001B[38;5;241;43m=\u001B[39;49m\u001B[43mstorage_options\u001B[49m\u001B[43m,\u001B[49m\n\u001B[0;32m   3984\u001B[0m \u001B[43m\u001B[49m\u001B[43m)\u001B[49m\n",
      "File \u001B[1;32m~\\AppData\\Local\\Programs\\Python\\Python312\\Lib\\site-packages\\pandas\\io\\formats\\format.py:1014\u001B[0m, in \u001B[0;36mDataFrameRenderer.to_csv\u001B[1;34m(self, path_or_buf, encoding, sep, columns, index_label, mode, compression, quoting, quotechar, lineterminator, chunksize, date_format, doublequote, escapechar, errors, storage_options)\u001B[0m\n\u001B[0;32m    993\u001B[0m     created_buffer \u001B[38;5;241m=\u001B[39m \u001B[38;5;28;01mFalse\u001B[39;00m\n\u001B[0;32m    995\u001B[0m csv_formatter \u001B[38;5;241m=\u001B[39m CSVFormatter(\n\u001B[0;32m    996\u001B[0m     path_or_buf\u001B[38;5;241m=\u001B[39mpath_or_buf,\n\u001B[0;32m    997\u001B[0m     lineterminator\u001B[38;5;241m=\u001B[39mlineterminator,\n\u001B[1;32m   (...)\u001B[0m\n\u001B[0;32m   1012\u001B[0m     formatter\u001B[38;5;241m=\u001B[39m\u001B[38;5;28mself\u001B[39m\u001B[38;5;241m.\u001B[39mfmt,\n\u001B[0;32m   1013\u001B[0m )\n\u001B[1;32m-> 1014\u001B[0m \u001B[43mcsv_formatter\u001B[49m\u001B[38;5;241;43m.\u001B[39;49m\u001B[43msave\u001B[49m\u001B[43m(\u001B[49m\u001B[43m)\u001B[49m\n\u001B[0;32m   1016\u001B[0m \u001B[38;5;28;01mif\u001B[39;00m created_buffer:\n\u001B[0;32m   1017\u001B[0m     \u001B[38;5;28;01massert\u001B[39;00m \u001B[38;5;28misinstance\u001B[39m(path_or_buf, StringIO)\n",
      "File \u001B[1;32m~\\AppData\\Local\\Programs\\Python\\Python312\\Lib\\site-packages\\pandas\\io\\formats\\csvs.py:251\u001B[0m, in \u001B[0;36mCSVFormatter.save\u001B[1;34m(self)\u001B[0m\n\u001B[0;32m    247\u001B[0m \u001B[38;5;250m\u001B[39m\u001B[38;5;124;03m\"\"\"\u001B[39;00m\n\u001B[0;32m    248\u001B[0m \u001B[38;5;124;03mCreate the writer & save.\u001B[39;00m\n\u001B[0;32m    249\u001B[0m \u001B[38;5;124;03m\"\"\"\u001B[39;00m\n\u001B[0;32m    250\u001B[0m \u001B[38;5;66;03m# apply compression and byte/text conversion\u001B[39;00m\n\u001B[1;32m--> 251\u001B[0m \u001B[38;5;28;01mwith\u001B[39;00m \u001B[43mget_handle\u001B[49m\u001B[43m(\u001B[49m\n\u001B[0;32m    252\u001B[0m \u001B[43m    \u001B[49m\u001B[38;5;28;43mself\u001B[39;49m\u001B[38;5;241;43m.\u001B[39;49m\u001B[43mfilepath_or_buffer\u001B[49m\u001B[43m,\u001B[49m\n\u001B[0;32m    253\u001B[0m \u001B[43m    \u001B[49m\u001B[38;5;28;43mself\u001B[39;49m\u001B[38;5;241;43m.\u001B[39;49m\u001B[43mmode\u001B[49m\u001B[43m,\u001B[49m\n\u001B[0;32m    254\u001B[0m \u001B[43m    \u001B[49m\u001B[43mencoding\u001B[49m\u001B[38;5;241;43m=\u001B[39;49m\u001B[38;5;28;43mself\u001B[39;49m\u001B[38;5;241;43m.\u001B[39;49m\u001B[43mencoding\u001B[49m\u001B[43m,\u001B[49m\n\u001B[0;32m    255\u001B[0m \u001B[43m    \u001B[49m\u001B[43merrors\u001B[49m\u001B[38;5;241;43m=\u001B[39;49m\u001B[38;5;28;43mself\u001B[39;49m\u001B[38;5;241;43m.\u001B[39;49m\u001B[43merrors\u001B[49m\u001B[43m,\u001B[49m\n\u001B[0;32m    256\u001B[0m \u001B[43m    \u001B[49m\u001B[43mcompression\u001B[49m\u001B[38;5;241;43m=\u001B[39;49m\u001B[38;5;28;43mself\u001B[39;49m\u001B[38;5;241;43m.\u001B[39;49m\u001B[43mcompression\u001B[49m\u001B[43m,\u001B[49m\n\u001B[0;32m    257\u001B[0m \u001B[43m    \u001B[49m\u001B[43mstorage_options\u001B[49m\u001B[38;5;241;43m=\u001B[39;49m\u001B[38;5;28;43mself\u001B[39;49m\u001B[38;5;241;43m.\u001B[39;49m\u001B[43mstorage_options\u001B[49m\u001B[43m,\u001B[49m\n\u001B[0;32m    258\u001B[0m \u001B[43m\u001B[49m\u001B[43m)\u001B[49m \u001B[38;5;28;01mas\u001B[39;00m handles:\n\u001B[0;32m    259\u001B[0m     \u001B[38;5;66;03m# Note: self.encoding is irrelevant here\u001B[39;00m\n\u001B[0;32m    260\u001B[0m     \u001B[38;5;28mself\u001B[39m\u001B[38;5;241m.\u001B[39mwriter \u001B[38;5;241m=\u001B[39m csvlib\u001B[38;5;241m.\u001B[39mwriter(\n\u001B[0;32m    261\u001B[0m         handles\u001B[38;5;241m.\u001B[39mhandle,\n\u001B[0;32m    262\u001B[0m         lineterminator\u001B[38;5;241m=\u001B[39m\u001B[38;5;28mself\u001B[39m\u001B[38;5;241m.\u001B[39mlineterminator,\n\u001B[1;32m   (...)\u001B[0m\n\u001B[0;32m    267\u001B[0m         quotechar\u001B[38;5;241m=\u001B[39m\u001B[38;5;28mself\u001B[39m\u001B[38;5;241m.\u001B[39mquotechar,\n\u001B[0;32m    268\u001B[0m     )\n\u001B[0;32m    270\u001B[0m     \u001B[38;5;28mself\u001B[39m\u001B[38;5;241m.\u001B[39m_save()\n",
      "File \u001B[1;32m~\\AppData\\Local\\Programs\\Python\\Python312\\Lib\\site-packages\\pandas\\io\\common.py:873\u001B[0m, in \u001B[0;36mget_handle\u001B[1;34m(path_or_buf, mode, encoding, compression, memory_map, is_text, errors, storage_options)\u001B[0m\n\u001B[0;32m    868\u001B[0m \u001B[38;5;28;01melif\u001B[39;00m \u001B[38;5;28misinstance\u001B[39m(handle, \u001B[38;5;28mstr\u001B[39m):\n\u001B[0;32m    869\u001B[0m     \u001B[38;5;66;03m# Check whether the filename is to be opened in binary mode.\u001B[39;00m\n\u001B[0;32m    870\u001B[0m     \u001B[38;5;66;03m# Binary mode does not support 'encoding' and 'newline'.\u001B[39;00m\n\u001B[0;32m    871\u001B[0m     \u001B[38;5;28;01mif\u001B[39;00m ioargs\u001B[38;5;241m.\u001B[39mencoding \u001B[38;5;129;01mand\u001B[39;00m \u001B[38;5;124m\"\u001B[39m\u001B[38;5;124mb\u001B[39m\u001B[38;5;124m\"\u001B[39m \u001B[38;5;129;01mnot\u001B[39;00m \u001B[38;5;129;01min\u001B[39;00m ioargs\u001B[38;5;241m.\u001B[39mmode:\n\u001B[0;32m    872\u001B[0m         \u001B[38;5;66;03m# Encoding\u001B[39;00m\n\u001B[1;32m--> 873\u001B[0m         handle \u001B[38;5;241m=\u001B[39m \u001B[38;5;28;43mopen\u001B[39;49m\u001B[43m(\u001B[49m\n\u001B[0;32m    874\u001B[0m \u001B[43m            \u001B[49m\u001B[43mhandle\u001B[49m\u001B[43m,\u001B[49m\n\u001B[0;32m    875\u001B[0m \u001B[43m            \u001B[49m\u001B[43mioargs\u001B[49m\u001B[38;5;241;43m.\u001B[39;49m\u001B[43mmode\u001B[49m\u001B[43m,\u001B[49m\n\u001B[0;32m    876\u001B[0m \u001B[43m            \u001B[49m\u001B[43mencoding\u001B[49m\u001B[38;5;241;43m=\u001B[39;49m\u001B[43mioargs\u001B[49m\u001B[38;5;241;43m.\u001B[39;49m\u001B[43mencoding\u001B[49m\u001B[43m,\u001B[49m\n\u001B[0;32m    877\u001B[0m \u001B[43m            \u001B[49m\u001B[43merrors\u001B[49m\u001B[38;5;241;43m=\u001B[39;49m\u001B[43merrors\u001B[49m\u001B[43m,\u001B[49m\n\u001B[0;32m    878\u001B[0m \u001B[43m            \u001B[49m\u001B[43mnewline\u001B[49m\u001B[38;5;241;43m=\u001B[39;49m\u001B[38;5;124;43m\"\u001B[39;49m\u001B[38;5;124;43m\"\u001B[39;49m\u001B[43m,\u001B[49m\n\u001B[0;32m    879\u001B[0m \u001B[43m        \u001B[49m\u001B[43m)\u001B[49m\n\u001B[0;32m    880\u001B[0m     \u001B[38;5;28;01melse\u001B[39;00m:\n\u001B[0;32m    881\u001B[0m         \u001B[38;5;66;03m# Binary mode\u001B[39;00m\n\u001B[0;32m    882\u001B[0m         handle \u001B[38;5;241m=\u001B[39m \u001B[38;5;28mopen\u001B[39m(handle, ioargs\u001B[38;5;241m.\u001B[39mmode)\n",
      "\u001B[1;31mPermissionError\u001B[0m: [Errno 13] Permission denied: 'golden_globe_filtered.csv'"
     ]
    }
   ],
   "source": [
    "\"\"\"df = pd.read_csv('C:/Users/andre/Documents/GitHub/DMML/dataset/golden_globe_awards.csv')\n",
    "\n",
    "# Elenco delle categorie da rimuovere\n",
    "categories_to_remove = [\n",
    "\"Picture\",\n",
    "\"Promoting International Understanding\",\n",
    "\"Special Achievement Award\",\n",
    "\"Best Screenplay - Motion Picture\",\n",
    "\"Best Original Score - Motion Picture\",\n",
    "\"New Star Of The Year - Actress\",\n",
    "\"New Star Of The Year - Actor\",\n",
    "\"Juvenile Performance\",\n",
    "\"Cinematography\",\n",
    "\"Foreign Film - English Language\",\n",
    "\"Best Motion Picture - Foreign Language\",\n",
    "\"Outstanding Use Of Color\",\n",
    "\"New Star Of The Year\",\n",
    "\"Henrietta Award (World Film Favorites)\",\n",
    "\"Cinematography - Color\",\n",
    "\"Cinematography - Black And White\",\n",
    "\"Best Motion Picture - Drama\",\n",
    "\"Best Motion Picture - Musical or Comedy\",\n",
    "\"Henrietta Award (World Film Favorite)\",\n",
    "\"Cecil B. deMille Award\",\n",
    "\"Documentary\",\n",
    "\"Television Achievement\",\n",
    "\"Hollywood Citizenship Award\",\n",
    "\"Foreign Film - Foreign Language\",\n",
    "\"Picture - Musical\",\n",
    "\"Picture - Comedy\",\n",
    "\"Samuel Goldwyn International Award\",\n",
    "\"Famous Silent Filmstars\",\n",
    "\"Best Original Song - Motion Picture\",\n",
    "\"Television Series\",\n",
    "\"Best Television Series - Drama\",\n",
    "\"Television Program\",\n",
    "\"Television Producer/Director\",\n",
    "\"Television Series - Comedy\",\n",
    "\"International News Coverage\",\n",
    "\"Television Series - Variety\",\n",
    "\"Best Television Series - Musical or Comedy\",\n",
    "\"Television Movie\",\n",
    "\"Television Special - Variety Or Musical\",\n",
    "\"Best Television Limited Series or Motion Picture Made for Television\",\n",
    "\"Best Motion Picture - Animated\",\n",
    "\"Carol Burnett Award\"\n",
    "]\n",
    "\n",
    "# Filtra il DataFrame per rimuovere le righe con le categorie specificate\n",
    "filtered_df = df[~df['category'].isin(categories_to_remove)]\n",
    "\n",
    "# Salva il nuovo DataFrame in un file CSV\n",
    "filtered_df.to_csv('golden_globe_filtered.csv', index=False)\n",
    "\"\"\""
   ],
   "metadata": {
    "collapsed": false,
    "ExecuteTime": {
     "end_time": "2024-05-04T08:17:51.652651200Z",
     "start_time": "2024-05-04T08:17:51.439636200Z"
    }
   },
   "id": "37f545b00cad61b1",
   "execution_count": 151
  },
  {
   "cell_type": "code",
   "outputs": [],
   "source": [
    "import pandas as pd\n",
    "\n",
    "# Carica i dati\n",
    "merged_imdb = pd.read_csv('filteredWithOscar.csv')\n",
    "oscars = pd.read_csv('golden_globe_filtered.csv')\n",
    "\n",
    "# Preparazione del DataFrame\n",
    "merged_imdb['dir_globe_nomination'] = 0\n",
    "merged_imdb['dir_globe_won'] = 0\n",
    "merged_imdb['cast_globe_nomination'] = 0\n",
    "merged_imdb['cast_globe_won'] = 0\n",
    "\n",
    "# Assicurati che le colonne non abbiano valori NaN\n",
    "merged_imdb['actors'] = merged_imdb['actors'].fillna('')\n",
    "merged_imdb['director'] = merged_imdb['director'].fillna('')\n",
    "\n",
    "# Funzione per normalizzare i nomi\n",
    "def normalize_name(name):\n",
    "    name = name.replace('&', ',').split(',')\n",
    "    name = [n.strip() for n in name]\n",
    "    return name\n",
    "\n",
    "# Funzione per gestire la verifica di nomination e vittorie Oscar\n",
    "def update_globe(row):\n",
    "    raw_names = normalize_name(row['nominee'])\n",
    "    year_oscars = int(row['year_award'])\n",
    "    is_winner = row['win'] == True\n",
    "    \n",
    "    # Crea una lista di tutti i possibili nomi invertiti\n",
    "    names = []\n",
    "    for name in raw_names:\n",
    "        parts = name.split()\n",
    "        if len(parts) > 1:\n",
    "            reversed_name = ' '.join(reversed(parts))\n",
    "            names.append(name)\n",
    "            names.append(reversed_name)\n",
    "        else:\n",
    "            names.append(name)\n",
    "    \n",
    "    for name in names:\n",
    "        # Verifica per la categoria DIRECTOR\n",
    "        if 'Director' in row['category']:\n",
    "            directors = merged_imdb['director'].apply(lambda x: name in x)\n",
    "            year_condition = merged_imdb['year'] >= year_oscars\n",
    "            indices = merged_imdb[directors & year_condition].index\n",
    "            merged_imdb.loc[indices, 'dir_globe_nomination'] += 1\n",
    "            if is_winner:\n",
    "                merged_imdb.loc[indices, 'dir_globe_won'] += 1\n",
    "        # Verifica per la categoria ACTOR o ACTRESS\n",
    "        elif 'actor' in row['category'] or 'Actor' in row['category'] or 'actress' in row['category'] or 'Actress' in row['category']:\n",
    "            actors_condition = merged_imdb['actors'].apply(lambda x: name in x)\n",
    "            year_condition = merged_imdb['year'] >= year_oscars\n",
    "            indices = merged_imdb[actors_condition & year_condition].index\n",
    "            merged_imdb.loc[indices, 'cast_globe_nomination'] += 1\n",
    "            if is_winner:\n",
    "                merged_imdb.loc[indices, 'cast_globe_won'] += 1\n",
    "\n",
    "# Applica la funzione a tutte le righe di oscars\n",
    "oscars.apply(update_globe, axis=1)\n",
    "\n",
    "# Salva il nuovo DataFrame\n",
    "merged_imdb.to_csv('golden_globe_oscar_prizedFilms.csv', index=False)\n"
   ],
   "metadata": {
    "collapsed": false,
    "ExecuteTime": {
     "end_time": "2024-05-04T08:36:32.051529400Z",
     "start_time": "2024-05-04T08:35:22.989847300Z"
    }
   },
   "id": "6bbcb3d2115403c6",
   "execution_count": 155
  },
  {
   "cell_type": "code",
   "outputs": [],
   "source": [
    "df = pd.read_csv('C:/Users/andre/Documents/GitHub/DMML/dataset/bafta_films.csv')\n",
    "categories = df['category'].unique()\n",
    "\n",
    "# Stampa i valori\n",
    "for category in categories:\n",
    "    print(category)"
   ],
   "metadata": {
    "collapsed": false
   },
   "id": "7b96630cb2651a9e",
   "execution_count": null
  },
  {
   "cell_type": "code",
   "outputs": [],
   "source": [
    "\"\"\"df = pd.read_csv('C:/Users/andre/Documents/GitHub/DMML/dataset/bafta_films.csv')\n",
    "\n",
    "# Elenco delle categorie da rimuovere\n",
    "categories_to_remove = [\n",
    "Film | British Film in 1949\n",
    "Film | Documentary in 1949\n",
    "Film | Film From Any Source in 1949\n",
    "Film | Special Award in 1949\n",
    "Film | United Nations Award - for the best Film embodying one or more of the principles of the United Nations Charter in 1949\n",
    "Film | British Film in 1950\n",
    "Film | Documentary in 1950\n",
    "Film | Film From Any Source in 1950\n",
    "Film | Special Award in 1950\n",
    "Film | United Nations Award - for the best Film embodying one or more of the principles of the United Nations Charter in 1950\n",
    "Film | British Film in 1951\n",
    "Film | Documentary in 1951\n",
    "Film | Film From Any Source in 1951\n",
    "Film | Special Award in 1951\n",
    "Film | United Nations Award - for the best Film embodying one or more of the principles of the United Nations Charter in 1951\n",
    "Film | British Film in 1952\n",
    "Film | Documentary in 1952\n",
    "Film | Film From Any Source in 1952\n",
    "Film | Special Award in 1952\n",
    "Film | United Nations Award - for the best Film embodying one or more of the principles of the United Nations Charter in 1952\n",
    "Film | British Actor in 1953\n",
    "Film | British Actress in 1953\n",
    "Film | British Film in 1953\n",
    "Film | Documentary in 1953\n",
    "Film | Film From Any Source in 1953\n",
    "Film | Foreign Actor in 1953\n",
    "Film | Foreign Actress in 1953\n",
    "Film | Most Promising Newcomer To Film in 1953\n",
    "Film | Special Award in 1953\n",
    "Film | United Nations Award - for the best Film embodying one or more of the principles of the United Nations Charter in 1953\n",
    "Film | British Actor in 1954\n",
    "Film | British Actress in 1954\n",
    "Film | British Film in 1954\n",
    "Film | Certificate Of Merit in 1954\n",
    "Film | Documentary in 1954\n",
    "Film | Film From Any Source in 1954\n",
    "Film | Foreign Actor in 1954\n",
    "Film | Foreign Actress in 1954\n",
    "Film | Most Promising Newcomer To Film in 1954\n",
    "Film | Special Award in 1954\n",
    "Film | United Nations Award - for the best Film embodying one or more of the principles of the United Nations Charter in 1954\n",
    "Film | Animated Film in 1955\n",
    "Film | British Actor in 1955\n",
    "Film | British Actress in 1955\n",
    "Film | British Film in 1955\n",
    "Film | British Screenplay in 1955\n",
    "Film | Documentary in 1955\n",
    "Film | Film From Any Source in 1955\n",
    "Film | Foreign Actor in 1955\n",
    "Film | Foreign Actress in 1955\n",
    "Film | Most Promising Newcomer To Film in 1955\n",
    "Film | Special Award in 1955\n",
    "Film | United Nations Award - for the best Film embodying one or more of the principles of the United Nations Charter in 1955\n",
    "Film | Animated Film in 1956\n",
    "Film | British Actor in 1956\n",
    "Film | British Actress in 1956\n",
    "Film | British Film in 1956\n",
    "Film | British Screenplay in 1956\n",
    "Film | Documentary in 1956\n",
    "Film | Film From Any Source in 1956\n",
    "Film | Foreign Actor in 1956\n",
    "Film | Foreign Actress in 1956\n",
    "Film | Most Promising Newcomer To Film in 1956\n",
    "Film | Special Award in 1956\n",
    "Film | United Nations Award - for the best Film embodying one or more of the principles of the United Nations Charter in 1956\n",
    "Film | Animated Film in 1957\n",
    "Film | British Actor in 1957\n",
    "Film | British Actress in 1957\n",
    "Film | British Film in 1957\n",
    "Film | British Screenplay in 1957\n",
    "Film | Documentary in 1957\n",
    "Film | Film From Any Source in 1957\n",
    "Film | Foreign Actor in 1957\n",
    "Film | Foreign Actress in 1957\n",
    "Film | Most Promising Newcomer To Film in 1957\n",
    "Film | Special Award in 1957\n",
    "Film | United Nations Award - for the best Film embodying one or more of the principles of the United Nations Charter in 1957\n",
    "Film | Animated Film in 1958\n",
    "Film | British Actor in 1958\n",
    "Film | British Actress in 1958\n",
    "Film | British Film in 1958\n",
    "Film | British Screenplay in 1958\n",
    "Film | Documentary in 1958\n",
    "Film | Film From Any Source in 1958\n",
    "Film | Foreign Actor in 1958\n",
    "Film | Foreign Actress in 1958\n",
    "Film | Most Promising Newcomer To Film in 1958\n",
    "Film | Special Award in 1958\n",
    "Film | United Nations Award - for the best Film embodying one or more of the principles of the United Nations Charter in 1958\n",
    "Film | Animated Film in 1959\n",
    "Film | British Actor in 1959\n",
    "Film | British Actress in 1959\n",
    "Film | British Film in 1959\n",
    "Film | British Screenplay in 1959\n",
    "Film | Documentary in 1959\n",
    "Film | Film From Any Source in 1959\n",
    "Film | Foreign Actor in 1959\n",
    "Film | Foreign Actress in 1959\n",
    "Film | Most Promising Newcomer To Film in 1959\n",
    "Film | Special Award in 1959\n",
    "Film | United Nations Award - for the best Film embodying one or more of the principles of the United Nations Charter in 1959\n",
    "Film | Animated Film in 1960\n",
    "Film | British Actor in 1960\n",
    "Film | British Actress in 1960\n",
    "Film | British Film in 1960\n",
    "Film | British Screenplay in 1960\n",
    "Film | Film From Any Source in 1960\n",
    "Film | Foreign Actor in 1960\n",
    "Film | Foreign Actress in 1960\n",
    "Film | Most Promising Newcomer To Film in 1960\n",
    "Film | Robert Flaherty Award (Feature Length Film, Documentary In Content) in 1960\n",
    "Film | Short Film in 1960\n",
    "Film | Specialised Film in 1960\n",
    "Film | United Nations Award - for the best Film embodying one or more of the principles of the United Nations Charter in 1960\n",
    "Film | Animated Film in 1961\n",
    "Film | British Actor in 1961\n",
    "Film | British Actress in 1961\n",
    "Film | British Film in 1961\n",
    "Film | British Screenplay in 1961\n",
    "Film | Film From Any Source in 1961\n",
    "Film | Foreign Actor in 1961\n",
    "Film | Foreign Actress in 1961\n",
    "Film | Most Promising Newcomer To Leading Film Roles in 1961\n",
    "Film | Robert Flaherty Award (Feature Length Film, Documentary In Content) in 1961\n",
    "Film | Short Film in 1961\n",
    "Film | Specialised Film in 1961\n",
    "Film | United Nations Award - for the best Film embodying one or more of the principles of the United Nations Charter in 1961\n",
    "Film | Animated Film in 1962\n",
    "Film | British Actor in 1962\n",
    "Film | British Actress in 1962\n",
    "Film | British Film in 1962\n",
    "Film | British Screenplay in 1962\n",
    "Film | Film From Any Source in 1962\n",
    "Film | Foreign Actor in 1962\n",
    "Film | Foreign Actress in 1962\n",
    "Film | Most Promising Newcomer To Leading Film Roles in 1962\n",
    "Film | Robert Flaherty Award (Feature Length Film, Documentary In Content) in 1962\n",
    "Film | Short Film in 1962\n",
    "Film | Specialised Film in 1962\n",
    "Film | United Nations Award - for the best Film embodying one or more of the principles of the United Nations Charter in 1962\n",
    "Film | Animated Film in 1963\n",
    "Film | British Actor in 1963\n",
    "Film | British Actress in 1963\n",
    "Film | British Film in 1963\n",
    "Film | British Screenplay in 1963\n",
    "Film | Film From Any Source in 1963\n",
    "Film | Foreign Actor in 1963\n",
    "Film | Foreign Actress in 1963\n",
    "Film | Most Promising Newcomer To Leading Film Roles in 1963\n",
    "Film | Robert Flaherty Award (Feature Length Film, Documentary In Content) in 1963\n",
    "Film | Short Film in 1963\n",
    "Film | Specialised Film in 1963\n",
    "Film | United Nations Award - for the best Film embodying one or more of the principles of the United Nations Charter in 1963\n",
    "Film | Animated Film in 1964\n",
    "Film | British Actor in 1964\n",
    "Film | British Actress in 1964\n",
    "Film | British Cinematography - Black and White in 1964\n",
    "Film | British Cinematography - Colour in 1964\n",
    "Film | British Film in 1964\n",
    "Film | British Screenplay in 1964\n",
    "Film | Film From Any Source in 1964\n",
    "Film | Foreign Actor in 1964\n",
    "Film | Foreign Actress in 1964\n",
    "Film | Most Promising Newcomer To Leading Film Roles in 1964\n",
    "Film | Robert Flaherty Award (Feature Length Film, Documentary In Content) in 1964\n",
    "Film | Short Film in 1964\n",
    "Film | Specialised Film in 1964\n",
    "Film | United Nations Award - for the best Film embodying one or more of the principles of the United Nations Charter in 1964\n",
    "Film | Animated Film in 1965\n",
    "Film | British Actor in 1965\n",
    "Film | British Actress in 1965\n",
    "Film | British Art Direction - Black and White in 1965\n",
    "Film | British Art Direction - Colour in 1965\n",
    "Film | British Cinematography - Black and White in 1965\n",
    "Film | British Cinematography - Colour in 1965\n",
    "Film | British Costume Design - Black and White in 1965\n",
    "Film | British Costume Design - Colour in 1965\n",
    "Film | British Film in 1965\n",
    "Film | British Screenplay in 1965\n",
    "Film | Film in 1965\n",
    "Film | Foreign Actor in 1965\n",
    "Film | Foreign Actress in 1965\n",
    "Film | Most Promising Newcomer To Leading Film Roles in 1965\n",
    "Film | Robert Flaherty Award (Feature Length Film, Documentary In Content) in 1965\n",
    "Film | Short Film in 1965\n",
    "Film | Specialised Film in 1965\n",
    "Film | United Nations Award - for the best Film embodying one or more of the principles of the United Nations Charter in 1965\n",
    "Film | Animated Film in 1966\n",
    "Film | British Actor in 1966\n",
    "Film | British Actress in 1966\n",
    "Film | British Art Direction - Black and White in 1966\n",
    "Film | British Art Direction - Colour in 1966\n",
    "Film | British Cinematography - Black and White in 1966\n",
    "Film | British Cinematography - Colour in 1966\n",
    "Film | British Costume Design - Black and White in 1966\n",
    "Film | British Costume Design - Colour in 1966\n",
    "Film | British Film in 1966\n",
    "Film | British Screenplay in 1966\n",
    "Film | Film in 1966\n",
    "Film | Foreign Actor in 1966\n",
    "Film | Foreign Actress in 1966\n",
    "Film | Most Promising Newcomer To Leading Film Roles in 1966\n",
    "Film | Robert Flaherty Award (Feature Length Film, Documentary In Content) in 1966\n",
    "Film | Short Film in 1966\n",
    "Film | Specialised Film in 1966\n",
    "Film | United Nations Award - for the best Film embodying one or more of the principles of the United Nations Charter in 1966\n",
    "Film | Animated Film in 1967\n",
    "Film | Best Cinematography - Black and White in 1967\n",
    "Film | British Actor in 1967\n",
    "Film | British Actress in 1967\n",
    "Film | British Art Direction - Black and White in 1967\n",
    "Film | British Art Direction - Colour in 1967\n",
    "Film | British Cinematography - Colour in 1967\n",
    "Film | British Costume Design - Black and White in 1967\n",
    "Film | British Costume Design - Colour in 1967\n",
    "Film | British Film in 1967\n",
    "Film | British Screenplay in 1967\n",
    "Film | Editing - for best film editing of a British Film in 1967\n",
    "Film | Film in 1967\n",
    "Film | Foreign Actor in 1967\n",
    "Film | Foreign Actress in 1967\n",
    "Film | Most Promising Newcomer To Leading Film Roles in 1967\n",
    "Film | Robert Flaherty Award (Feature Length Film, Documentary In Content) in 1967\n",
    "Film | Short Film in 1967\n",
    "Film | Specialised Film in 1967\n",
    "Film | United Nations Award - for the best Film embodying one or more of the principles of the United Nations Charter in 1967\n",
    "Film | Animated Film in 1968\n",
    "Film | British Actor in 1968\n",
    "Film | British Actress in 1968\n",
    "Film | British Art Direction - Black and White in 1968\n",
    "Film | British Art Direction - Colour in 1968\n",
    "Film | British Cinematography - Black and White in 1968\n",
    "Film | British Cinematography - Colour in 1968\n",
    "Film | British Costume Design - Black and White in 1968\n",
    "Film | British Costume Design - Colour in 1968\n",
    "Film | British Film in 1968\n",
    "Film | British Screenplay in 1968\n",
    "Film | Editing in 1968\n",
    "Film | Film in 1968\n",
    "Film | Foreign Actor in 1968\n",
    "Film | Foreign Actress in 1968\n",
    "Film | Most Promising Newcomer To Leading Film Roles in 1968\n",
    "Film | Robert Flaherty Award (Feature Length Film, Documentary In Content) in 1968\n",
    "Film | Short Film in 1968\n",
    "Film | Specialised Film in 1968\n",
    "Film | United Nations Award - for the best Film embodying one or more of the principles of the United Nations Charter in 1968\n",
    "Film | Actor in 1969\n",
    "Film | Actress in 1969\n",
    "Film | Animated Film in 1969\n",
    "Film | Anthony Asquith Award for Original Film Music in 1969\n",
    "Film | Art Direction in 1969\n",
    "Film | British Cinematography in 1969\n",
    "Film | Costume Design in 1969\n",
    "Film | Direction in 1969\n",
    "Film | Editing in 1969\n",
    "Film | Film in 1969\n",
    "Film | Most Promising Newcomer To Leading Film Roles in 1969\n",
    "Film | Robert Flaherty Award (Feature Length Film, Documentary In Content) in 1969\n",
    "Film | Screenplay in 1969\n",
    "Film | Short Film in 1969\n",
    "Film | Soundtrack in 1969\n",
    "Film | Specialised Film in 1969\n",
    "Film | Supporting Actor in 1969\n",
    "Film | Supporting Actress in 1969\n",
    "Film | United Nations Award - for the best Film embodying one or more of the principles of the United Nations Charter in 1969\n",
    "Film | Actor in 1970\n",
    "Film | Actress in 1970\n",
    "Film | Animated Film in 1970\n",
    "Film | Anthony Asquith Award for Original Film Music in 1970\n",
    "Film | Art Direction in 1970\n",
    "Film | Cinematography in 1970\n",
    "Film | Costume Design in 1970\n",
    "Film | Direction in 1970\n",
    "Film | Editing in 1970\n",
    "Film | Film in 1970\n",
    "Film | Most Promising Newcomer To Leading Film Roles in 1970\n",
    "Film | Robert Flaherty Award (Feature Length Film, Documentary In Content) in 1970\n",
    "Film | Screenplay in 1970\n",
    "Film | Short Film in 1970\n",
    "Film | Soundtrack in 1970\n",
    "Film | Specialised Film in 1970\n",
    "Film | Supporting Actor in 1970\n",
    "Film | Supporting Actress in 1970\n",
    "Film | United Nations Award - for the best Film embodying one or more of the principles of the United Nations Charter in 1970\n",
    "Film | Actor in 1971\n",
    "Film | Actress in 1971\n",
    "Film | Animated Film in 1971\n",
    "Film | Anthony Asquith Memorial Award in 1971\n",
    "Film | Art Direction in 1971\n",
    "Film | Cinematography in 1971\n",
    "Film | Costume Design in 1971\n",
    "Film | Direction in 1971\n",
    "Film | Fellowship in 1971\n",
    "Film | Film in 1971\n",
    "Film | Film Editing in 1971\n",
    "Film | Most Promising Newcomer To Leading Film Roles in 1971\n",
    "Film | Robert Flaherty Award (Feature Length Film, Documentary In Content) in 1971\n",
    "Film | Screenplay in 1971\n",
    "Film | Short Film in 1971\n",
    "Film | Soundtrack in 1971\n",
    "Film | Specialised Film in 1971\n",
    "Film | Supporting Actor in 1971\n",
    "Film | Supporting Actress in 1971\n",
    "Film | United Nations Award - for the best Film embodying one or more of the principles of the United Nations Charter in 1971\n",
    "Film | Actor in 1972\n",
    "Film | Actress in 1972\n",
    "Film | Animated Film in 1972\n",
    "Film | Anthony Asquith Memorial Award in 1972\n",
    "Film | Art Direction in 1972\n",
    "Film | Cinematography in 1972\n",
    "Film | Costume Design in 1972\n",
    "Film | Direction in 1972\n",
    "Film | Fellowship in 1972\n",
    "Film | Film in 1972\n",
    "Film | Film Editing in 1972\n",
    "Film | Most Promising Newcomer To Leading Film Roles in 1972\n",
    "Film | Robert Flaherty Award (Feature Length Film, Documentary In Content) in 1972\n",
    "Film | Screenplay in 1972\n",
    "Film | Short Film in 1972\n",
    "Film | Soundtrack in 1972\n",
    "Film | Specialised Film in 1972\n",
    "Film | Supporting Actor in 1972\n",
    "Film | Supporting Actress in 1972\n",
    "Film | United Nations Award - for the best Film embodying one or more of the principles of the United Nations Charter in 1972\n",
    "Film | Actor in 1973\n",
    "Film | Actress in 1973\n",
    "Film | Animated Film in 1973\n",
    "Film | Anthony Asquith Memorial Award in 1973\n",
    "Film | Art Direction in 1973\n",
    "Film | Cinematography in 1973\n",
    "Film | Costume Design in 1973\n",
    "Film | Direction in 1973\n",
    "Film | Film in 1973\n",
    "Film | Film Editing in 1973\n",
    "Film | John Grierson Award (Short Film) in 1973\n",
    "Film | Most Promising Newcomer To Leading Film Roles in 1973\n",
    "Film | Robert Flaherty Award (Feature Length Film, Documentary In Content) in 1973\n",
    "Film | Screenplay in 1973\n",
    "Film | Soundtrack in 1973\n",
    "Film | Specialised Film in 1973\n",
    "Film | Supporting Actor in 1973\n",
    "Film | Supporting Actress in 1973\n",
    "Film | United Nations Award - for the best Film embodying one or more of the principles of the United Nations Charter in 1973\n",
    "Film | Actor in 1974\n",
    "Film | Actress in 1974\n",
    "Film | Animated Film in 1974\n",
    "Film | Anthony Asquith Memorial Award in 1974\n",
    "Film | Art Direction in 1974\n",
    "Film | Cinematography in 1974\n",
    "Film | Costume Design in 1974\n",
    "Film | Direction in 1974\n",
    "Film | Fellowship in 1974\n",
    "Film | Film in 1974\n",
    "Film | Film Editing in 1974\n",
    "Film | John Grierson Award (Short Film) in 1974\n",
    "Film | Most Promising Newcomer To Leading Film Roles in 1974\n",
    "Film | Robert Flaherty Award (Feature Length Film, Documentary In Content) in 1974\n",
    "Film | Screenplay in 1974\n",
    "Film | Soundtrack in 1974\n",
    "Film | Specialised Film in 1974\n",
    "Film | Supporting Actor in 1974\n",
    "Film | Supporting Actress in 1974\n",
    "Film | United Nations Award - for the best Film embodying one or more of the principles of the United Nations Charter in 1974\n",
    "Film | Actor in 1975\n",
    "Film | Actress in 1975\n",
    "Film | Animated Film in 1975\n",
    "Film | Anthony Asquith Memorial Award in 1975\n",
    "Film | Art Direction in 1975\n",
    "Film | Cinematography in 1975\n",
    "Film | Costume Design in 1975\n",
    "Film | Direction in 1975\n",
    "Film | Fellowship in 1975\n",
    "Film | Film in 1975\n",
    "Film | Film Editing in 1975\n",
    "Film | John Grierson Award (Short Film) in 1975\n",
    "Film | Most Promising Newcomer To Leading Film Roles in 1975\n",
    "Film | Robert Flaherty Award (Feature Length Film, Documentary In Content) in 1975\n",
    "Film | Screenplay in 1975\n",
    "Film | Soundtrack in 1975\n",
    "Film | Specialised Film in 1975\n",
    "Film | Supporting Actor in 1975\n",
    "Film | Supporting Actress in 1975\n",
    "Film | United Nations Award - for the best Film embodying one or more of the principles of the United Nations Charter in 1975\n",
    "Film | Actor in 1976\n",
    "Film | Actress in 1976\n",
    "Film | Animated Film in 1976\n",
    "Film | Anthony Asquith Award for Original Film Music in 1976\n",
    "Film | Art Direction in 1976\n",
    "Film | Cinematography in 1976\n",
    "Film | Costume Design in 1976\n",
    "Film | Direction in 1976\n",
    "Film | Fellowship in 1976\n",
    "Film | Film in 1976\n",
    "Film | Film Editing in 1976\n",
    "Film | John Grierson Award (Short Film) in 1976\n",
    "Film | Most Promising Newcomer To Leading Film Roles in 1976\n",
    "Film | Robert Flaherty Award (Feature Length Film, Documentary In Content) in 1976\n",
    "Film | Screenplay in 1976\n",
    "Film | Soundtrack in 1976\n",
    "Film | Specialised Film in 1976\n",
    "Film | Supporting Actor in 1976\n",
    "Film | Supporting Actress in 1976\n",
    "Film | United Nations Award - for the best Film embodying one or more of the principles of the United Nations Charter in 1976\n",
    "Film | Actor in 1977\n",
    "Film | Actress in 1977\n",
    "Film | Anthony Asquith Memorial Award in 1977\n",
    "Film | Cinematography in 1977\n",
    "Film | Costume Design in 1977\n",
    "Film | Direction in 1977\n",
    "Film | Fellowship in 1977\n",
    "Film | Film in 1977\n",
    "Film | Film Editing in 1977\n",
    "Film | Most Promising Newcomer To Leading Film Roles in 1977\n",
    "Film | Production Design in 1977\n",
    "Film | Robert Flaherty Award (Feature Length Film, Documentary In Content) in 1977\n",
    "Film | Screenplay in 1977\n",
    "Film | Short Factual Film in 1977\n",
    "Film | Short Fictional Film in 1977\n",
    "Film | Soundtrack in 1977\n",
    "Film | Specialised Film in 1977\n",
    "Film | Supporting Actor in 1977\n",
    "Film | Supporting Actress in 1977\n",
    "Film | United Nations Award - for the best Film embodying one or more of the principles of the United Nations Charter in 1977\n",
    "Film | Actor in 1978\n",
    "Film | Actress in 1978\n",
    "Film | Anthony Asquith Award for Original Film Music in 1978\n",
    "Film | Cinematography in 1978\n",
    "Film | Costume Design in 1978\n",
    "Film | Direction in 1978\n",
    "Film | Factual Film in 1978\n",
    "Film | Fellowship in 1978\n",
    "Film | Fictional Film in 1978\n",
    "Film | Film in 1978\n",
    "Film | Film Editing in 1978\n",
    "Film | Most Promising Newcomer To Leading Film Roles in 1978\n",
    "Film | Production Design in 1978\n",
    "Film | Robert Flaherty Award (Feature Length Film, Documentary In Content) in 1978\n",
    "Film | Screenplay in 1978\n",
    "Film | Soundtrack in 1978\n",
    "Film | Specialised Film in 1978\n",
    "Film | Supporting Actor in 1978\n",
    "Film | Supporting Actress in 1978\n",
    "Film | Actor in 1979\n",
    "Film | Actress in 1979\n",
    "Film | Anthony Asquith Award for Original Film Music in 1979\n",
    "Film | Cinematography in 1979\n",
    "Film | Costume Design in 1979\n",
    "Film | Direction in 1979\n",
    "Film | Film in 1979\n",
    "Film | Film Editing in 1979\n",
    "Film | Most Promising Newcomer To Leading Film Roles in 1979\n",
    "Film | Outstanding British Contribution To Cinema in 1979\n",
    "Film | Production Design in 1979\n",
    "Film | Robert Flaherty Award (Feature Length Film, Documentary In Content) in 1979\n",
    "Film | Screenplay in 1979\n",
    "Film | Short Factual Film in 1979\n",
    "Film | Short Fictional Film in 1979\n",
    "Film | Soundtrack in 1979\n",
    "Film | Specialised Film in 1979\n",
    "Film | Supporting Actor in 1979\n",
    "Film | Supporting Actress in 1979\n",
    "Film | Actor in 1980\n",
    "Film | Actress in 1980\n",
    "Film | Anthony Asquith Award for Original Film Music in 1980\n",
    "Film | Cinematography in 1980\n",
    "Film | Costume Design in 1980\n",
    "Film | Direction in 1980\n",
    "Film | Fellowship in 1980\n",
    "Film | Film in 1980\n",
    "Film | Film Editing in 1980\n",
    "Film | Most Promising Newcomer To Leading Film Roles in 1980\n",
    "Film | Outstanding British Contribution To Cinema in 1980\n",
    "Film | Production Design in 1980\n",
    "Film | Robert Flaherty Award (Feature Length Film, Documentary In Content) in 1980\n",
    "Film | Screenplay in 1980\n",
    "Film | Short Film in 1980\n",
    "Film | Soundtrack in 1980\n",
    "Film | Supporting Actor in 1980\n",
    "Film | Supporting Actress in 1980\n",
    "Film | Actor in 1981\n",
    "Film | Actress in 1981\n",
    "Film | Animated Film in 1981\n",
    "Film | Cinematography in 1981\n",
    "Film | Costume Design in 1981\n",
    "Film | Direction in 1981\n",
    "Film | Editing in 1981\n",
    "Film | Fellowship in 1981\n",
    "Film | Film in 1981\n",
    "Film | Most Promising Newcomer To Leading Film Roles in 1981\n",
    "Film | Original Film Music in 1981\n",
    "Film | Outstanding British Contribution To Cinema in 1981\n",
    "Film | Production Design in 1981\n",
    "Film | Robert Flaherty Award (Feature Length Film, Documentary In Content) in 1981\n",
    "Film | Screenplay in 1981\n",
    "Film | Short Film in 1981\n",
    "Film | Sound in 1981\n",
    "Film | Special Award in 1981\n",
    "Film | Actor in 1982\n",
    "Film | Actress in 1982\n",
    "Film | Animated Film in 1982\n",
    "Film | Cinematography in 1982\n",
    "Film | Costume Design in 1982\n",
    "Film | Direction in 1982\n",
    "Film | Editing in 1982\n",
    "Film | Fellowship in 1982\n",
    "Film | Film in 1982\n",
    "Film | Most Promising Newcomer To Leading Film Roles in 1982\n",
    "Film | Original Film Music in 1982\n",
    "Film | Outstanding British Contribution To Cinema in 1982\n",
    "Film | Production Design in 1982\n",
    "Film | Robert Flaherty Award (Feature Length Film, Documentary In Content) in 1982\n",
    "Film | Screenplay in 1982\n",
    "Film | Short Film in 1982\n",
    "Film | Sound in 1982\n",
    "Film | Supporting Artist in 1982\n",
    "Film | Actor in 1983\n",
    "Film | Actress in 1983\n",
    "Film | Cinematography in 1983\n",
    "Film | Costume Design in 1983\n",
    "Film | Direction in 1983\n",
    "Film | Fellowship in 1983\n",
    "Film | Film in 1983\n",
    "Film | Film Editing in 1983\n",
    "Film | Foreign Language Film in 1983\n",
    "Film | Make-Up Artist in 1983\n",
    "Film | Most Promising Newcomer To Leading Film Roles in 1983\n",
    "Film | Original Song Written for a Film in 1983\n",
    "Film | Outstanding British Contribution To Cinema in 1983\n",
    "Film | Production Design in 1983\n",
    "Film | Robert Flaherty Award (Feature Length Film, Documentary In Content) in 1983\n",
    "Film | Score for a Film in 1983\n",
    "Film | Screenplay in 1983\n",
    "Film | Short Animation in 1983\n",
    "Film | Short Film in 1983\n",
    "Film | Sound in 1983\n",
    "Film | Special Visual Effects in 1983\n",
    "Film | Supporting Actor in 1983\n",
    "Film | Supporting Actress in 1983\n",
    "Film | Actor in 1984\n",
    "Film | Actress in 1984\n",
    "Film | Adapted Screenplay in 1984\n",
    "Film | Cinematography in 1984\n",
    "Film | Costume Design in 1984\n",
    "Film | Direction in 1984\n",
    "Film | Editing in 1984\n",
    "Film | Fellowship in 1984\n",
    "Film | Film in 1984\n",
    "Film | Flaherty Documentary Award in 1984\n",
    "Film | Foreign Language Film in 1984\n",
    "Film | Make-Up Artist in 1984\n",
    "Film | Most Promising Newcomer To Film in 1984\n",
    "Film | Original Screenplay in 1984\n",
    "Film | Original Song Written for a Film in 1984\n",
    "Film | Outstanding British Contribution To Cinema in 1984\n",
    "Film | Production Design in 1984\n",
    "Film | Score For A Film in 1984\n",
    "Film | Short Animation in 1984\n",
    "Film | Short Film in 1984\n",
    "Film | Sound in 1984\n",
    "Film | Special Award in 1984\n",
    "Film | Special Visual Effects in 1984\n",
    "Film | Supporting Actor in 1984\n",
    "Film | Supporting Actress in 1984\n",
    "Film | Actor in 1985\n",
    "Film | Actress in 1985\n",
    "Film | Adapted Screenplay in 1985\n",
    "Film | Cinematography in 1985\n",
    "Film | Costume Design in 1985\n",
    "Film | Direction in 1985\n",
    "Film | Editing in 1985\n",
    "Film | Film in 1985\n",
    "Film | Flaherty Documentary Award in 1985\n",
    "Film | Foreign Language Film in 1985\n",
    "Film | Make-Up Artist in 1985\n",
    "Film | Most Promising Newcomer To Film in 1985\n",
    "Film | Original Screenplay in 1985\n",
    "Film | Original Song Written for a Film in 1985\n",
    "Film | Outstanding British Contribution To Cinema in 1985\n",
    "Film | Production Design in 1985\n",
    "Film | Score For A Film in 1985\n",
    "Film | Short Animation in 1985\n",
    "Film | Short Film in 1985\n",
    "Film | Sound in 1985\n",
    "Film | Special Visual Effects in 1985\n",
    "Film | Supporting Actor in 1985\n",
    "Film | Supporting Actress in 1985\n",
    "Film | Actor in a Leading Role in 1986\n",
    "Film | Actor in a Supporting Role in 1986\n",
    "Film | Actress in a Leading Role in 1986\n",
    "Film | Actress in a Supporting Role in 1986\n",
    "Film | Adapted Screenplay in 1986\n",
    "Film | Cinematography in 1986\n",
    "Film | Costume Design in 1986\n",
    "Film | Editing in 1986\n",
    "Film | Fellowship in 1986\n",
    "Film | Film in 1986\n",
    "Film | Flaherty Documentary Award in 1986\n",
    "Film | Foreign Language Film in 1986\n",
    "Film | Make-Up Artist in 1986\n",
    "Film | Original Screenplay in 1986\n",
    "Film | Outstanding British Contribution To Cinema in 1986\n",
    "Film | Production Design in 1986\n",
    "Film | Score For A Film in 1986\n",
    "Film | Short Animation in 1986\n",
    "Film | Short Film in 1986\n",
    "Film | Sound in 1986\n",
    "Film | Special Visual Effects in 1986\n",
    "Film | Achievement in Direction in 1987\n",
    "Film | Actor in a Leading Role in 1987\n",
    "Film | Actor in a Supporting Role in 1987\n",
    "Film | Actress in a Leading Role in 1987\n",
    "Film | Actress in a Supporting Role in 1987\n",
    "Film | Adapted Screenplay in 1987\n",
    "Film | Cinematography in 1987\n",
    "Film | Costume Design in 1987\n",
    "Film | Editing in 1987\n",
    "Film | Fellowship in 1987\n",
    "Film | Film in 1987\n",
    "Film | Flaherty Documentary Award in 1987\n",
    "Film | Foreign Language Film in 1987\n",
    "Film | Make-Up Artist in 1987\n",
    "Film | Original Screenplay in 1987\n",
    "Film | Outstanding British Contribution To Cinema in 1987\n",
    "Film | Production Design in 1987\n",
    "Film | Score For A Film in 1987\n",
    "Film | Short Animation in 1987\n",
    "Film | Short Film in 1987\n",
    "Film | Sound in 1987\n",
    "Film | Special Award in 1987\n",
    "Film | Special Visual Effects in 1987\n",
    "Film | Achievement in Direction in 1988\n",
    "Film | Achievement in Special Visual Effects in 1988\n",
    "Film | Actor in a Leading Role in 1988\n",
    "Film | Actor in a Supporting Role in 1988\n",
    "Film | Actress in a Leading Role in 1988\n",
    "Film | Actress in a Supporting Role in 1988\n",
    "Film | Adapted Screenplay in 1988\n",
    "Film | Cinematography in 1988\n",
    "Film | Costume Design in 1988\n",
    "Film | Editing in 1988\n",
    "Film | Fellowship in 1988\n",
    "Film | Film in 1988\n",
    "Film | Flaherty Documentary Award in 1988\n",
    "Film | Foreign Language Film in 1988\n",
    "Film | Make-Up Artist in 1988\n",
    "Film | Original Screenplay in 1988\n",
    "Film | Outstanding British Contribution To Cinema in 1988\n",
    "Film | Production Design in 1988\n",
    "Film | Score For A Film in 1988\n",
    "Film | Short Animation in 1988\n",
    "Film | Short Film in 1988\n",
    "Film | Sound in 1988\n",
    "Film | Special Award in 1988\n",
    "Film | Achievement in Direction in 1989\n",
    "Film | Achievement in Special Visual Effects in 1989\n",
    "Film | Actor in a Leading Role in 1989\n",
    "Film | Actor in a Supporting Role in 1989\n",
    "Film | Actress in a Leading Role in 1989\n",
    "Film | Actress in a Supporting Role in 1989\n",
    "Film | Adapted Screenplay in 1989\n",
    "Film | Cinematography in 1989\n",
    "Film | Costume Design in 1989\n",
    "Film | Editing in 1989\n",
    "Film | Fellowship in 1989\n",
    "Film | Film in 1989\n",
    "Film | Film Not in the English Language in 1989\n",
    "Film | Flaherty Documentary Award in 1989\n",
    "Film | Make-Up Artist in 1989\n",
    "Film | Original Screenplay in 1989\n",
    "Film | Outstanding British Contribution To Cinema in 1989\n",
    "Film | Post Office BAFTA Scholarship in 1989\n",
    "Film | Production Design in 1989\n",
    "Film | Score For A Film in 1989\n",
    "Film | Short Animation in 1989\n",
    "Film | Short Film in 1989\n",
    "Film | Sound in 1989\n",
    "Film | Special Award in 1989\n",
    "Film | Special Award for Craft in 1989\n",
    "Film | Achievement in Direction in 1990\n",
    "Film | Achievement in Special Visual Effects in 1990\n",
    "Film | Actor in a Leading Role in 1990\n",
    "Film | Actor in a Supporting Role in 1990\n",
    "Film | Actress in a Leading Role in 1990\n",
    "Film | Actress in a Supporting Role in 1990\n",
    "Film | Adapted Screenplay in 1990\n",
    "Film | Cinematography in 1990\n",
    "Film | Costume Design in 1990\n",
    "Film | Editing in 1990\n",
    "Film | Film in 1990\n",
    "Film | Film Not in the English Language in 1990\n",
    "Film | Flaherty Documentary Award in 1990\n",
    "Film | Make-Up Artist in 1990\n",
    "Film | Original Film Score in 1990\n",
    "Film | Original Screenplay in 1990\n",
    "Film | Outstanding British Contribution To Cinema in 1990\n",
    "Film | Production Design in 1990\n",
    "Film | Short Animation in 1990\n",
    "Film | Short Film in 1990\n",
    "Film | Sound in 1990\n",
    "Film | Special Award in 1990\n",
    "Film | Achievement in Direction in 1991\n",
    "Film | Achievement in Special Visual Effects in 1991\n",
    "Film | Actor in a Leading Role in 1991\n",
    "Film | Actor in a Supporting Role in 1991\n",
    "Film | Actress in a Leading Role in 1991\n",
    "Film | Actress in a Supporting Role in 1991\n",
    "Film | Adapted Screenplay in 1991\n",
    "Film | Cinematography in 1991\n",
    "Film | Costume Design in 1991\n",
    "Film | Editing in 1991\n",
    "Film | Fellowship in 1991\n",
    "Film | Film in 1991\n",
    "Film | Film Not in the English Language in 1991\n",
    "Film | Flaherty Documentary Award in 1991\n",
    "Film | Make-Up Artist in 1991\n",
    "Film | Original Film Score in 1991\n",
    "Film | Original Screenplay in 1991\n",
    "Film | Outstanding British Contribution To Cinema in 1991\n",
    "Film | Production Design in 1991\n",
    "Film | Short Animation in 1991\n",
    "Film | Short Film in 1991\n",
    "Film | Sound in 1991\n",
    "Film | Special Award in 1991\n",
    "Film | Special Award for Craft in 1991\n",
    "Film | Achievement in Special Visual Effects in 1992\n",
    "Film | Actor in a Leading Role in 1992\n",
    "Film | Actor in a Supporting Role in 1992\n",
    "Film | Actress in a Leading Role in 1992\n",
    "Film | Actress in a Supporting Role in 1992\n",
    "Film | Adapted Screenplay in 1992\n",
    "Film | Cinematography in 1992\n",
    "Film | Costume Design in 1992\n",
    "Film | David Lean Award for Achievement in Direction in 1992\n",
    "Film | Editing in 1992\n",
    "Film | Fellowship in 1992\n",
    "Film | Film in 1992\n",
    "Film | Film Not in the English Language in 1992\n",
    "Film | Make-Up in 1992\n",
    "Film | Original Film Music in 1992\n",
    "Film | Original Screenplay in 1992\n",
    "Film | Outstanding British Contribution To Cinema in 1992\n",
    "Film | Production Design in 1992\n",
    "Film | Short Animation in 1992\n",
    "Film | Short Film in 1992\n",
    "Film | Sound in 1992\n",
    "Film | Special Award in 1992\n",
    "Film | Special Award for Craft in 1992\n",
    "Film | Achievements in Special Effects in 1993\n",
    "Film | Actor in a Leading Role in 1993\n",
    "Film | Actor in a Supporting Role in 1993\n",
    "Film | Actress in a Leading Role in 1993\n",
    "Film | Actress in a Supporting Role in 1993\n",
    "Film | Adapted Screenplay in 1993\n",
    "Film | Alexander Korda Award for the outstanding British Film of the Year in 1993\n",
    "Film | Cinematography in 1993\n",
    "Film | Costume Design in 1993\n",
    "Film | David Lean Award for Achievement in Direction in 1993\n",
    "Film | Editing in 1993\n",
    "Film | Fellowship in 1993\n",
    "Film | Film in 1993\n",
    "Film | Film Not in the English Language in 1993\n",
    "Film | Make-Up in 1993\n",
    "Film | Original Film Music in 1993\n",
    "Film | Original Screenplay in 1993\n",
    "Film | Outstanding British Contribution To Cinema in 1993\n",
    "Film | Production Design in 1993\n",
    "Film | Short Animation in 1993\n",
    "Film | Short Film in 1993\n",
    "Film | Sound in 1993\n",
    "Film | Special Award in 1993\n",
    "Film | Special Award for Craft in 1993\n",
    "Film | Achievement in Special Visual Effects in 1994\n",
    "Film | Actor in a Leading Role in 1994\n",
    "Film | Actor in a Supporting Role in 1994\n",
    "Film | Actress in a Leading Role in 1994\n",
    "Film | Actress in a Supporting Role in 1994\n",
    "Film | Adapted Screenplay in 1994\n",
    "Film | Alexander Korda Award for the outstanding British Film of the Year in 1994\n",
    "Film | Cinematography in 1994\n",
    "Film | Costume Design in 1994\n",
    "Film | David Lean Award for Achievement in Direction in 1994\n",
    "Film | Editing in 1994\n",
    "Film | Film in 1994\n",
    "Film | Film Not in the English Language in 1994\n",
    "Film | Lloyd's Bank Film Challenge in 1994\n",
    "Film | Lloyds Bank People's Vote For The Most Popular Film in 1994\n",
    "Film | Make-Up in 1994\n",
    "Film | Original Screenplay in 1994\n",
    "Film | Outstanding British Contribution To Cinema in 1994\n",
    "Film | Production Design in 1994\n",
    "Film | Score for a Film in 1994\n",
    "Film | Short Animation in 1994\n",
    "Film | Short Film in 1994\n",
    "Film | Sound in 1994\n",
    "Film | Special Award in 1994\n",
    "Film | Special Award for Craft in 1994\n",
    "Film | Achievement in Special Visual Effects in 1995\n",
    "Film | Actor in a Leading Role in 1995\n",
    "Film | Actor in a Supporting Role in 1995\n",
    "Film | Actress in a Leading Role in 1995\n",
    "Film | Actress in a Supporting Role in 1995\n",
    "Film | Adapted Screenplay in 1995\n",
    "Film | Alexander Korda Award for the outstanding British Film of the Year in 1995\n",
    "Film | Anthony Asquith Award for Original Film Music in 1995\n",
    "Film | Cinematography in 1995\n",
    "Film | Costume Design in 1995\n",
    "Film | David Lean Award for Achievement in Direction in 1995\n",
    "Film | Editing in 1995\n",
    "Film | Fellowship in 1995\n",
    "Film | Film in 1995\n",
    "Film | Film Not in the English Language in 1995\n",
    "Film | Lloyds Bank People's Vote For The Most Popular Film in 1995\n",
    "Film | Make-Up And Hair in 1995\n",
    "Film | Original Screenplay in 1995\n",
    "Film | Outstanding British Contribution To Cinema in 1995\n",
    "Film | Production Design in 1995\n",
    "Film | Short Animation in 1995\n",
    "Film | Short Film in 1995\n",
    "Film | Sound in 1995\n",
    "Film | Special Award in 1995\n",
    "Film | Achievement in Special Visual Effects in 1996\n",
    "Film | Actor in a Leading Role in 1996\n",
    "Film | Actor in a Supporting Role in 1996\n",
    "Film | Actress in a Leading Role in 1996\n",
    "Film | Actress in a Supporting Role in 1996\n",
    "Film | Adapted Screenplay in 1996\n",
    "Film | Alexander Korda Award for the outstanding British Film of the Year in 1996\n",
    "Film | Anthony Asquith Award for Original Film Music in 1996\n",
    "Film | Cinematography in 1996\n",
    "Film | Costume Design in 1996\n",
    "Film | David Lean Award for Achievement in Direction in 1996\n",
    "Film | Editing in 1996\n",
    "Film | Fellowship in 1996\n",
    "Film | Film in 1996\n",
    "Film | Film Not in the English Language in 1996\n",
    "Film | Lloyds Bank People's Vote For The Most Popular Film in 1996\n",
    "Film | Make-Up And Hair in 1996\n",
    "Film | Original Screenplay in 1996\n",
    "Film | Outstanding British Contribution To Cinema in 1996\n",
    "Film | Production Design in 1996\n",
    "Film | Short Animation in 1996\n",
    "Film | Short Film in 1996\n",
    "Film | Sound in 1996\n",
    "Film | Special Award in 1996\n",
    "Film | Achievement in Special Visual Effects in 2001\n",
    "Film | Actor in a Leading Role in 2001\n",
    "Film | Actor in a Supporting Role in 2001\n",
    "Film | Actress in a Leading Role in 2001\n",
    "Film | Actress in a Supporting Role in 2001\n",
    "Film | Adapted Screenplay in 2001\n",
    "Film | Alexander Korda Award for the outstanding British Film of the Year in 2001\n",
    "Film | Anthony Asquith Award for Original Film Music in 2001\n",
    "Film | Carl Foreman Award for the Most Promising Newcomer in British Film in 2001\n",
    "Film | Cinematography in 2001\n",
    "Film | Costume Design in 2001\n",
    "Film | David Lean Award for Achievement in Direction in 2001\n",
    "Film | Editing in 2001\n",
    "Film | Fellowship in 2001\n",
    "Film | Film in 2001\n",
    "Film | Film Not in the English Language in 2001\n",
    "Film | Make-Up And Hair in 2001\n",
    "Film | Orange Film Of The Year in 2001\n",
    "Film | Original Screenplay in 2001\n",
    "Film | Outstanding British Contribution To Cinema in 2001\n",
    "Film | Production Design in 2001\n",
    "Film | Short Animation in 2001\n",
    "Film | Short Film in 2001\n",
    "Film | Sound in 2001\n",
    "Film | Special Award in 2001\n",
    "Film | Adapted Screenplay in 2016\n",
    "Film | Animated Film in 2016\n",
    "Film | British Short Animation in 2016\n",
    "Film | British Short Film in 2016\n",
    "Film | Cinematography in 2016\n",
    "Film | Costume Design in 2016\n",
    "Film | Director in 2016\n",
    "Film | Documentary in 2016\n",
    "Film | EE Rising Star in 2016\n",
    "Film | Editing in 2016\n",
    "Film | Fellowship in 2016\n",
    "Film | Film in 2016\n",
    "Film | Film Not in the English Language in 2016\n",
    "Film | Leading Actor in 2016\n",
    "Film | Leading Actress in 2016\n",
    "Film | Make-Up And Hair in 2016\n",
    "Film | Original Music in 2016\n",
    "Film | Original Screenplay in 2016\n",
    "Film | Outstanding British Contribution to Cinema in 2016\n",
    "Film | Outstanding British Film in 2016\n",
    "Film | Outstanding Debut By A British Writer, Director or Producer in 2016\n",
    "Film | Production Design in 2016\n",
    "Film | Sound in 2016\n",
    "Film | Special Visual Effects in 2016\n",
    "Film | Supporting Actor in 2016\n",
    "Film | Supporting Actress in 2016\n",
    "Film | Adapted Screenplay in 2017\n",
    "Film | Animated Film in 2017\n",
    "Film | British Short Animation in 2017\n",
    "Film | British Short Film in 2017\n",
    "Film | Cinematography in 2017\n",
    "Film | Costume Design in 2017\n",
    "Film | Director in 2017\n",
    "Film | Documentary in 2017\n",
    "Film | EE Rising Star in 2017\n",
    "Film | Editing in 2017\n",
    "Film | Fellowship in 2017\n",
    "Film | Film in 2017\n",
    "Film | Film Not in the English Language in 2017\n",
    "Film | Leading Actor in 2017\n",
    "Film | Leading Actress in 2017\n",
    "Film | Make Up and Hair in 2017\n",
    "Film | Original Music in 2017\n",
    "Film | Original Screenplay in 2017\n",
    "Film | Outstanding British Contribution to Cinema in 2017\n",
    "Film | Outstanding British Film in 2017\n",
    "Film | Outstanding Debut By A British Writer, Director or Producer in 2017\n",
    "Film | Production Design in 2017\n",
    "Film | Sound in 2017\n",
    "Film | Special Visual Effects in 2017\n",
    "Film | Supporting Actor in 2017\n",
    "Film | Supporting Actress in 2017\n",
    "Film | Adapted Screenplay in 2018\n",
    "Film | Animated Film in 2018\n",
    "Film | Best Film in 2018\n",
    "Film | British Short Animation in 2018\n",
    "Film | British Short Film in 2018\n",
    "Film | Cinematography in 2018\n",
    "Film | Costume Design in 2018\n",
    "Film | Director in 2018\n",
    "Film | Documentary in 2018\n",
    "Film | EE Rising Star in 2018\n",
    "Film | Editing in 2018\n",
    "Film | Fellowship in 2018\n",
    "Film | Film Not in the English Language in 2018\n",
    "Film | Leading Actor in 2018\n",
    "Film | Leading Actress in 2018\n",
    "Film | Make Up and Hair in 2018\n",
    "Film | Original Music in 2018\n",
    "Film | Original Screenplay in 2018\n",
    "Film | Outstanding British Contribution to Cinema in 2018\n",
    "Film | Outstanding British Film in 2018\n",
    "Film | Outstanding Debut by a British Writer, Director or Producer in 2018\n",
    "Film | Production Design in 2018\n",
    "Film | Sound in 2018\n",
    "Film | Special Visual Effects in 2018\n",
    "Film | Supporting Actor in 2018\n",
    "Film | Supporting Actress in 2018\n",
    "Film | Adapted Screenplay in 2019\n",
    "Film | Animated Film in 2019\n",
    "Film | Best Film in 2019\n",
    "Film | British Short Animation in 2019\n",
    "Film | British Short Film in 2019\n",
    "Film | Cinematography in 2019\n",
    "Film | Costume Design in 2019\n",
    "Film | Director in 2019\n",
    "Film | Documentary in 2019\n",
    "Film | EE Rising Star Award in 2019\n",
    "Film | Editing in 2019\n",
    "Film | Fellowship in 2019\n",
    "Film | Film Not in the English Language in 2019\n",
    "Film | Leading Actor in 2019\n",
    "Film | Leading Actress in 2019\n",
    "Film | Make Up and Hair in 2019\n",
    "Film | Original Music in 2019\n",
    "Film | Original Screenplay in 2019\n",
    "Film | Outstanding British Contribution to Cinema in 2019\n",
    "Film | Outstanding British Film in 2019\n",
    "Film | Outstanding Debut by a British Writer, Director or Producer in 2019\n",
    "Film | Production Design in 2019\n",
    "Film | Sound in 2019\n",
    "Film | Special Visual Effects in 2019\n",
    "Film | Supporting Actor in 2019\n",
    "Film | Supporting Actress in 2019\n",
    "Film | Adapted Screenplay in 2020\n",
    "Film | Animated Film in 2020\n",
    "Film | Best Film in 2020\n",
    "Film | British Short Animation in 2020\n",
    "Film | British Short Film in 2020\n",
    "Film | Casting in 2020\n",
    "Film | Cinematography in 2020\n",
    "Film | Costume Design in 2020\n",
    "Film | Director in 2020\n",
    "Film | Documentary in 2020\n",
    "Film | EE Rising Star Award in 2020\n",
    "Film | Editing in 2020\n",
    "Film | Fellowship in 2020\n",
    "Film | Film Not In The English Language in 2020\n",
    "Film | Leading Actor in 2020\n",
    "Film | Leading Actress in 2020\n",
    "Film | Make Up & Hair in 2020\n",
    "Film | Original Score in 2020\n",
    "Film | Original Screenplay in 2020\n",
    "Film | Outstanding British Film in 2020\n",
    "Film | Outstanding Debut By A British Writer, Director Or Producer in 2020\n",
    "Film | Production Design in 2020\n",
    "Film | Sound in 2020\n",
    "Film | Special Visual Effects in 2020\n",
    "Film | Supporting Actor in 2020\n",
    "Film | Supporting Actress in 2020\n",
    "]\n",
    "\n",
    "# Filtra il DataFrame per rimuovere le righe con le categorie specificate\n",
    "filtered_df = df[~df['category'].isin(categories_to_remove)]\n",
    "\n",
    "# Salva il nuovo DataFrame in un file CSV\n",
    "filtered_df.to_csv('bafta_filtered.csv', index=False)\"\"\""
   ],
   "metadata": {
    "collapsed": false
   },
   "id": "6fc867eb88f16cf1"
  },
  {
   "cell_type": "code",
   "outputs": [],
   "source": [
    "import pandas as pd\n",
    "\n",
    "# Carica i dati\n",
    "merged_imdb = pd.read_csv('golden_globe_oscar_prizedFilms.csv')\n",
    "oscars = pd.read_csv('bafta_filtered.csv')\n",
    "\n",
    "# Preparazione del DataFrame\n",
    "merged_imdb['dir_globe_nomination'] = 0\n",
    "merged_imdb['dir_globe_won'] = 0\n",
    "merged_imdb['cast_globe_nomination'] = 0\n",
    "merged_imdb['cast_globe_won'] = 0\n",
    "\n",
    "# Assicurati che le colonne non abbiano valori NaN\n",
    "merged_imdb['actors'] = merged_imdb['actors'].fillna('')\n",
    "merged_imdb['director'] = merged_imdb['director'].fillna('')\n",
    "\n",
    "# Funzione per normalizzare i nomi\n",
    "def normalize_name(name):\n",
    "    name = name.replace('&', ',').split(',')\n",
    "    name = [n.strip() for n in name]\n",
    "    return name\n",
    "\n",
    "# Funzione per gestire la verifica di nomination e vittorie Oscar\n",
    "def update_globe(row):\n",
    "    raw_names = normalize_name(row['nominee'])\n",
    "    year_oscars = int(row['year_award'])\n",
    "    is_winner = row['win'] == True\n",
    "    \n",
    "    # Crea una lista di tutti i possibili nomi invertiti\n",
    "    names = []\n",
    "    for name in raw_names:\n",
    "        parts = name.split()\n",
    "        if len(parts) > 1:\n",
    "            reversed_name = ' '.join(reversed(parts))\n",
    "            names.append(name)\n",
    "            names.append(reversed_name)\n",
    "        else:\n",
    "            names.append(name)\n",
    "    \n",
    "    for name in names:\n",
    "        # Verifica per la categoria DIRECTOR\n",
    "        if 'Director' in row['category']:\n",
    "            directors = merged_imdb['director'].apply(lambda x: name in x)\n",
    "            year_condition = merged_imdb['year'] >= year_oscars\n",
    "            indices = merged_imdb[directors & year_condition].index\n",
    "            merged_imdb.loc[indices, 'dir_globe_nomination'] += 1\n",
    "            if is_winner:\n",
    "                merged_imdb.loc[indices, 'dir_globe_won'] += 1\n",
    "        # Verifica per la categoria ACTOR o ACTRESS\n",
    "        elif 'actor' in row['category'] or 'Actor' in row['category'] or 'actress' in row['category'] or 'Actress' in row['category']:\n",
    "            actors_condition = merged_imdb['actors'].apply(lambda x: name in x)\n",
    "            year_condition = merged_imdb['year'] >= year_oscars\n",
    "            indices = merged_imdb[actors_condition & year_condition].index\n",
    "            merged_imdb.loc[indices, 'cast_globe_nomination'] += 1\n",
    "            if is_winner:\n",
    "                merged_imdb.loc[indices, 'cast_globe_won'] += 1\n",
    "\n",
    "# Applica la funzione a tutte le righe di oscars\n",
    "oscars.apply(update_globe, axis=1)\n",
    "\n",
    "# Salva il nuovo DataFrame\n",
    "merged_imdb.to_csv('bafta_gg_oscar_prizedFilms.csv', index=False)\n"
   ],
   "metadata": {
    "collapsed": false
   },
   "id": "327b661528dce5af"
  },
  {
   "cell_type": "code",
   "outputs": [
    {
     "name": "stdout",
     "output_type": "stream",
     "text": [
      "Numero di righe che soddisfano i criteri: 57\n"
     ]
    }
   ],
   "source": [
    "\"\"\"import pandas as pd\n",
    "\n",
    "# Carica il file CSV\n",
    "df = pd.read_csv('golden_globe_filtered.csv')\n",
    "\n",
    "# Seleziona le righe che soddisfano le condizioni specificate\n",
    "filtered_df = df[(df['year_film'] < 2018) & (df['nominee'].isin(['Emily Blunt', 'Lin-Manuel Miranda', 'Ben Whishaw', 'Emily Mortimer', 'Pixie Davies', 'Nathanael Saleh', 'Joel Dawson', 'Julie Walters', 'Meryl Streep', 'Colin Firth', 'Jeremy Swift', 'Kobna Holdbrook-Smith', 'Dick Van Dyke', 'Angela Lansbury', 'David Warner']))]\n",
    "\n",
    "# Stampa il numero di righe\n",
    "print(\"Numero di righe che soddisfano i criteri:\", len(filtered_df))\"\"\"\n"
   ],
   "metadata": {
    "collapsed": false,
    "ExecuteTime": {
     "end_time": "2024-05-04T08:18:56.642515Z",
     "start_time": "2024-05-04T08:18:56.619844500Z"
    }
   },
   "id": "872bc38875e9697f",
   "execution_count": 153
  },
  {
   "cell_type": "code",
   "outputs": [
    {
     "name": "stdout",
     "output_type": "stream",
     "text": [
      "Numero di righe che soddisfano i criteri: 51\n"
     ]
    }
   ],
   "source": [
    "import pandas as pd\n",
    "\n",
    "# Carica il file CSV\n",
    "df = pd.read_csv('golden_globe_filtered.csv')\n",
    "\n",
    "# Seleziona le righe che soddisfano le condizioni specificate\n",
    "filtered_df = df[(df['year_film'] < 2014) & (df['nominee'].isin(['Anna Kendrick', 'Daniel Huttlestone', 'James Corden', 'Emily Blunt', 'Christine Baranski', 'Tammy Blanchard', 'Lucy Punch', 'Tracey Ullman', 'Lilla Crawford', 'Meryl Streep', 'Simon Russell Beale', 'Joanna Riding', 'Johnny Depp', 'Billy Magnussen', 'Mackenzie Mauzy']))]\n",
    "\n",
    "# Stampa il numero di righe\n",
    "print(\"Numero di righe che soddisfano i criteri:\", len(filtered_df))\n"
   ],
   "metadata": {
    "collapsed": false,
    "ExecuteTime": {
     "end_time": "2024-05-04T08:08:37.022003400Z",
     "start_time": "2024-05-04T08:08:37.001849300Z"
    }
   },
   "id": "56927d053a03044e",
   "execution_count": 144
  },
  {
   "cell_type": "code",
   "outputs": [
    {
     "name": "stdout",
     "output_type": "stream",
     "text": [
      "Numero di righe che soddisfano i criteri: 28\n"
     ]
    }
   ],
   "source": [
    "df = pd.read_csv('oscars_cleaned.csv')\n",
    "\n",
    "# Seleziona le righe che soddisfano le condizioni specificate\n",
    "filtered_df = df[(df['year_film'] < 2018) & (df['name'].isin(['Emily Blunt', 'Lin-Manuel Miranda', 'Ben Whishaw', 'Emily Mortimer', 'Pixie Davies', 'Nathanael Saleh', 'Joel Dawson', 'Julie Walters', 'Meryl Streep', 'Colin Firth', 'Jeremy Swift', 'Kobna Holdbrook-Smith', 'Dick Van Dyke', 'Angela Lansbury', 'David Warner']))]\n",
    "\n",
    "# Stampa il numero di righe\n",
    "print(\"Numero di righe che soddisfano i criteri:\", len(filtered_df))"
   ],
   "metadata": {
    "collapsed": false,
    "ExecuteTime": {
     "end_time": "2024-05-04T07:14:13.089231600Z",
     "start_time": "2024-05-04T07:14:13.056872600Z"
    }
   },
   "id": "63e2f74355cc0ea6",
   "execution_count": 124
  },
  {
   "cell_type": "markdown",
   "source": [
    "BAFTA"
   ],
   "metadata": {
    "collapsed": false
   },
   "id": "ca4dfc6e158dbebb"
  },
  {
   "cell_type": "code",
   "outputs": [],
   "source": [
    "import pandas as pd"
   ],
   "metadata": {
    "collapsed": false,
    "ExecuteTime": {
     "end_time": "2024-05-27T12:36:57.875521300Z",
     "start_time": "2024-05-27T12:36:57.866011200Z"
    }
   },
   "id": "7e57e060929d2fa7",
   "execution_count": 3
  },
  {
   "cell_type": "code",
   "outputs": [],
   "source": [
    "import pandas as pd\n",
    "import re\n",
    "\n",
    "# Carica il dataset\n",
    "df = pd.read_csv('bafta_films.csv')\n",
    "\n",
    "# Rimuovi i numeri dalla colonna 'category'\n",
    "df['category'] = df['category'].apply(lambda x: re.sub(r'\\d+', '', x))\n",
    "\n",
    "# Conta i valori unici nella colonna 'category' e il relativo conteggio\n",
    "conteggio_valori = df['category'].value_counts()\n",
    "\n",
    "# Converti la serie dei conteggi in una stringa\n",
    "conteggio_stringa = conteggio_valori.to_string()\n",
    "\n",
    "# Salva la stringa in un file di testo\n",
    "with open('conteggio_category.txt', 'w') as file:\n",
    "    file.write(conteggio_stringa)\n"
   ],
   "metadata": {
    "collapsed": false,
    "ExecuteTime": {
     "end_time": "2024-05-27T15:05:55.333954900Z",
     "start_time": "2024-05-27T15:05:55.217327800Z"
    }
   },
   "id": "d199dec5d512ef17",
   "execution_count": 70
  },
  {
   "cell_type": "code",
   "outputs": [
    {
     "name": "stdout",
     "output_type": "stream",
     "text": [
      "Numero di righe che contengono 'Best film in' nella colonna 'category': 142\n"
     ]
    }
   ],
   "source": [
    "import pandas as pd\n",
    "\n",
    "# Carica il dataset\n",
    "df = pd.read_csv('bafta_films.csv')\n",
    "\n",
    "# Conta il numero di righe che contengono 'Best film in' nella colonna 'category'\n",
    "numero_righe = df['category'].str.contains('Costume Design in').sum()\n",
    "\n",
    "# Stampa il numero di righe che soddisfano la condizione\n",
    "print(\"Numero di righe che contengono 'Best film in' nella colonna 'category':\", numero_righe)\n"
   ],
   "metadata": {
    "collapsed": false,
    "ExecuteTime": {
     "end_time": "2024-05-27T15:05:59.161311900Z",
     "start_time": "2024-05-27T15:05:59.076040200Z"
    }
   },
   "id": "87beec3bf9d8780f",
   "execution_count": 71
  },
  {
   "cell_type": "code",
   "outputs": [
    {
     "name": "stdout",
     "output_type": "stream",
     "text": [
      "      year                           category  \\\n",
      "0     1953       Film | British Actor in 1953   \n",
      "1     1953       Film | British Actor in 1953   \n",
      "2     1953       Film | British Actor in 1953   \n",
      "3     1953       Film | British Actor in 1953   \n",
      "4     1953       Film | British Actor in 1953   \n",
      "...    ...                                ...   \n",
      "3397  2020  Film | Supporting Actress in 2020   \n",
      "3398  2020  Film | Supporting Actress in 2020   \n",
      "3399  2020  Film | Supporting Actress in 2020   \n",
      "3400  2020  Film | Supporting Actress in 2020   \n",
      "3401  2020  Film | Supporting Actress in 2020   \n",
      "\n",
      "                              nominee              workers  winner  \n",
      "0                    Ralph Richardson    The Sound Barrier    True  \n",
      "1                        Jack Hawkins                Mandy   False  \n",
      "2                        James Hayter  The Pickwick Papers   False  \n",
      "3                    Laurence Olivier               Carrie   False  \n",
      "4                       Nigel Patrick    The Sound Barrier   False  \n",
      "...                               ...                  ...     ...  \n",
      "3397                   Marriage Story           Laura Dern    True  \n",
      "3398                      Jojo Rabbit   Scarlett Johansson   False  \n",
      "3399                     Little Women        Florence Pugh   False  \n",
      "3400                        Bombshell        Margot Robbie   False  \n",
      "3401  Once Upon a Time.. in Hollywood        Margot Robbie   False  \n",
      "\n",
      "[3402 rows x 5 columns]\n"
     ]
    }
   ],
   "source": [
    "# Carica il dataset\n",
    "df = pd.read_csv('bafta_films_cleaned.csv')\n",
    "\n",
    "# Funzione per rimuovere il testo tra parentesi tonde\n",
    "def rimuovi_testo_tra_parentesi(text):\n",
    "    return re.sub(r'\\([^()]*\\)', '', text)\n",
    "\n",
    "# Applica la funzione alla colonna 'category'\n",
    "df['category'] = df['category'].apply(rimuovi_testo_tra_parentesi)\n",
    "\n",
    "# Stampa il DataFrame aggiornato\n",
    "print(df)\n"
   ],
   "metadata": {
    "collapsed": false,
    "ExecuteTime": {
     "end_time": "2024-05-27T15:06:17.997080900Z",
     "start_time": "2024-05-27T15:06:17.939276700Z"
    }
   },
   "id": "494cbf444d4f7735",
   "execution_count": 73
  },
  {
   "cell_type": "markdown",
   "source": [
    "Film | Film From Any Source in 234"
   ],
   "metadata": {
    "collapsed": false
   },
   "id": "494f49676b0e878b"
  },
  {
   "cell_type": "code",
   "outputs": [
    {
     "data": {
      "text/plain": "   year                      category           nominee              workers  \\\n0  1953  Film | British Actor in 1953  Ralph Richardson    The Sound Barrier   \n1  1953  Film | British Actor in 1953      Jack Hawkins                Mandy   \n2  1953  Film | British Actor in 1953      James Hayter  The Pickwick Papers   \n3  1953  Film | British Actor in 1953  Laurence Olivier               Carrie   \n4  1953  Film | British Actor in 1953     Nigel Patrick    The Sound Barrier   \n\n   winner  \n0    True  \n1   False  \n2   False  \n3   False  \n4   False  ",
      "text/html": "<div>\n<style scoped>\n    .dataframe tbody tr th:only-of-type {\n        vertical-align: middle;\n    }\n\n    .dataframe tbody tr th {\n        vertical-align: top;\n    }\n\n    .dataframe thead th {\n        text-align: right;\n    }\n</style>\n<table border=\"1\" class=\"dataframe\">\n  <thead>\n    <tr style=\"text-align: right;\">\n      <th></th>\n      <th>year</th>\n      <th>category</th>\n      <th>nominee</th>\n      <th>workers</th>\n      <th>winner</th>\n    </tr>\n  </thead>\n  <tbody>\n    <tr>\n      <th>0</th>\n      <td>1953</td>\n      <td>Film | British Actor in 1953</td>\n      <td>Ralph Richardson</td>\n      <td>The Sound Barrier</td>\n      <td>True</td>\n    </tr>\n    <tr>\n      <th>1</th>\n      <td>1953</td>\n      <td>Film | British Actor in 1953</td>\n      <td>Jack Hawkins</td>\n      <td>Mandy</td>\n      <td>False</td>\n    </tr>\n    <tr>\n      <th>2</th>\n      <td>1953</td>\n      <td>Film | British Actor in 1953</td>\n      <td>James Hayter</td>\n      <td>The Pickwick Papers</td>\n      <td>False</td>\n    </tr>\n    <tr>\n      <th>3</th>\n      <td>1953</td>\n      <td>Film | British Actor in 1953</td>\n      <td>Laurence Olivier</td>\n      <td>Carrie</td>\n      <td>False</td>\n    </tr>\n    <tr>\n      <th>4</th>\n      <td>1953</td>\n      <td>Film | British Actor in 1953</td>\n      <td>Nigel Patrick</td>\n      <td>The Sound Barrier</td>\n      <td>False</td>\n    </tr>\n  </tbody>\n</table>\n</div>"
     },
     "execution_count": 75,
     "metadata": {},
     "output_type": "execute_result"
    }
   ],
   "source": [
    "import pandas as pd\n",
    "\n",
    "# Carica il dataset\n",
    "df = pd.read_csv('bafta_films_cleaned.csv')\n",
    "\n",
    "# Rimuovi righe dove la colonna 'workers' è vuota\n",
    "df_cleaned = df.dropna(subset=['workers'])\n",
    "\n",
    "# Salva il dataset pulito in un nuovo file CSV\n",
    "df_cleaned.to_csv('bafta_films_cleaned.csv', index=False)\n",
    "\n",
    "df_cleaned.head()  # Mostra le prime righe del DataFrame pulito per conferma\n"
   ],
   "metadata": {
    "collapsed": false,
    "ExecuteTime": {
     "end_time": "2024-05-27T15:06:37.751262600Z",
     "start_time": "2024-05-27T15:06:37.666102700Z"
    }
   },
   "id": "430cdae24c4406fd",
   "execution_count": 75
  },
  {
   "cell_type": "markdown",
   "source": [
    "Rimuovo le colonne che non mi servono"
   ],
   "metadata": {
    "collapsed": false
   },
   "id": "1d02ffa07a1cc7d8"
  },
  {
   "cell_type": "markdown",
   "source": [
    "*Film | Film in* perchè premia il produttore del film\n"
   ],
   "metadata": {
    "collapsed": false
   },
   "id": "f3681d125ee4a524"
  },
  {
   "cell_type": "code",
   "outputs": [
    {
     "name": "stdout",
     "output_type": "stream",
     "text": [
      "Numero di righe da eliminare: 106\n"
     ]
    }
   ],
   "source": [
    "# Carica il dataset\n",
    "df = pd.read_csv('bafta_films_cleaned.csv')\n",
    "\n",
    "# Conta il numero di righe da eliminare\n",
    "righe_da_eliminare = df[df['category'].str.contains(r'Film \\| Film in \\d+', regex=True)]\n",
    "\n",
    "# Stampa il numero di righe da eliminare\n",
    "print(\"Numero di righe da eliminare:\", len(righe_da_eliminare))"
   ],
   "metadata": {
    "collapsed": false,
    "ExecuteTime": {
     "end_time": "2024-05-27T15:06:43.850788600Z",
     "start_time": "2024-05-27T15:06:43.777532400Z"
    }
   },
   "id": "1f44e1dddd643f88",
   "execution_count": 76
  },
  {
   "cell_type": "code",
   "outputs": [
    {
     "name": "stdout",
     "output_type": "stream",
     "text": [
      "Numero di righe droppate: 106\n"
     ]
    }
   ],
   "source": [
    "# Carica il dataset\n",
    "df = pd.read_csv('bafta_films_cleaned.csv')\n",
    "\n",
    "# Conta il numero di righe prima della rimozione\n",
    "righe_prima = len(df)\n",
    "\n",
    "# Droppa le righe che contengono 'Film' e 'Film in' seguiti da un numero nella colonna 'category'\n",
    "df = df[~df['category'].str.contains(r'Film \\| Film in \\d+', regex=True)]\n",
    "\n",
    "# Conta il numero di righe dopo la rimozione\n",
    "righe_dopo = len(df)\n",
    "\n",
    "# Calcola il numero di righe droppate\n",
    "righe_droppate = righe_prima - righe_dopo\n",
    "\n",
    "# Stampa il numero di righe droppate\n",
    "print(\"Numero di righe droppate:\", righe_droppate)\n",
    "\n",
    "df.to_csv('bafta_films_cleaned.csv', index=False)"
   ],
   "metadata": {
    "collapsed": false,
    "ExecuteTime": {
     "end_time": "2024-05-27T15:07:01.249638Z",
     "start_time": "2024-05-27T15:07:01.164808700Z"
    }
   },
   "id": "f9d98d3110efeb92",
   "execution_count": 77
  },
  {
   "cell_type": "markdown",
   "source": [
    "*Film | Costume Design in*"
   ],
   "metadata": {
    "collapsed": false
   },
   "id": "4555c19af7471bc6"
  },
  {
   "cell_type": "code",
   "outputs": [
    {
     "name": "stdout",
     "output_type": "stream",
     "text": [
      "Numero di righe da eliminare: 142\n"
     ]
    }
   ],
   "source": [
    "# Carica il dataset\n",
    "df = pd.read_csv('bafta_films_cleaned.csv')\n",
    "\n",
    "# Conta il numero di righe da eliminare\n",
    "righe_da_eliminare = df[df['category'].str.contains(r'Film \\| Costume Design in \\d+', regex=True)]\n",
    "\n",
    "# Stampa il numero di righe da eliminare\n",
    "print(\"Numero di righe da eliminare:\", len(righe_da_eliminare))"
   ],
   "metadata": {
    "collapsed": false,
    "ExecuteTime": {
     "end_time": "2024-05-27T15:07:09.472214Z",
     "start_time": "2024-05-27T15:07:09.394191300Z"
    }
   },
   "id": "3827c0f4d205ff20",
   "execution_count": 78
  },
  {
   "cell_type": "code",
   "outputs": [
    {
     "name": "stdout",
     "output_type": "stream",
     "text": [
      "Numero di righe droppate: 142\n"
     ]
    }
   ],
   "source": [
    "# Carica il dataset\n",
    "df = pd.read_csv('bafta_films_cleaned.csv')\n",
    "\n",
    "# Conta il numero di righe prima della rimozione\n",
    "righe_prima = len(df)\n",
    "\n",
    "# Droppa le righe che contengono 'Film' e 'Film in' seguiti da un numero nella colonna 'category'\n",
    "df = df[~df['category'].str.contains(r'Film \\| Costume Design in \\d+', regex=True)]\n",
    "\n",
    "# Conta il numero di righe dopo la rimozione\n",
    "righe_dopo = len(df)\n",
    "\n",
    "# Calcola il numero di righe droppate\n",
    "righe_droppate = righe_prima - righe_dopo\n",
    "\n",
    "# Stampa il numero di righe droppate\n",
    "print(\"Numero di righe droppate:\", righe_droppate)\n",
    "df.to_csv('bafta_films_cleaned.csv', index=False)"
   ],
   "metadata": {
    "collapsed": false,
    "ExecuteTime": {
     "end_time": "2024-05-27T15:07:13.281391Z",
     "start_time": "2024-05-27T15:07:13.176284Z"
    }
   },
   "id": "b48dfe505511b2ed",
   "execution_count": 79
  },
  {
   "cell_type": "markdown",
   "source": [
    "*Film | Cinematography in* perchè è la fotografia"
   ],
   "metadata": {
    "collapsed": false
   },
   "id": "89bbe6facb5e2285"
  },
  {
   "cell_type": "code",
   "outputs": [
    {
     "name": "stdout",
     "output_type": "stream",
     "text": [
      "Numero di righe da eliminare: 139\n"
     ]
    }
   ],
   "source": [
    "# Carica il dataset\n",
    "df = pd.read_csv('bafta_films_cleaned.csv')\n",
    "\n",
    "# Conta il numero di righe da eliminare\n",
    "righe_da_eliminare = df[df['category'].str.contains(r'Film \\| Cinematography in \\d+', regex=True)]\n",
    "\n",
    "# Stampa il numero di righe da eliminare\n",
    "print(\"Numero di righe da eliminare:\", len(righe_da_eliminare))"
   ],
   "metadata": {
    "collapsed": false,
    "ExecuteTime": {
     "end_time": "2024-05-27T15:07:16.204600300Z",
     "start_time": "2024-05-27T15:07:16.129796400Z"
    }
   },
   "id": "9254c41650eff6fb",
   "execution_count": 80
  },
  {
   "cell_type": "code",
   "outputs": [
    {
     "name": "stdout",
     "output_type": "stream",
     "text": [
      "Numero di righe droppate: 0\n"
     ]
    }
   ],
   "source": [
    "# Carica il dataset\n",
    "df = pd.read_csv('bafta_films_cleaned.csv')\n",
    "\n",
    "# Conta il numero di righe prima della rimozione\n",
    "righe_prima = len(df)\n",
    "\n",
    "# Droppa le righe che contengono 'Film' e 'Film in' seguiti da un numero nella colonna 'category'\n",
    "df = df[~df['category'].str.contains(r'Film \\| Cinematography in \\d+', regex=True)]\n",
    "\n",
    "# Conta il numero di righe dopo la rimozione\n",
    "righe_dopo = len(df)\n",
    "\n",
    "# Calcola il numero di righe droppate\n",
    "righe_droppate = righe_prima - righe_dopo\n",
    "\n",
    "# Stampa il numero di righe droppate\n",
    "print(\"Numero di righe droppate:\", righe_droppate)\n",
    "df.to_csv('bafta_films_cleaned.csv', index=False)"
   ],
   "metadata": {
    "collapsed": false,
    "ExecuteTime": {
     "end_time": "2024-05-27T15:07:21.385160800Z",
     "start_time": "2024-05-27T15:07:21.269177200Z"
    }
   },
   "id": "6b82748691658e85",
   "execution_count": 82
  },
  {
   "cell_type": "code",
   "outputs": [
    {
     "name": "stdout",
     "output_type": "stream",
     "text": [
      "Numero di righe da eliminare: 97\n"
     ]
    }
   ],
   "source": [
    "# Carica il dataset\n",
    "df = pd.read_csv('bafta_films_cleaned.csv')\n",
    "\n",
    "# Conta il numero di righe da eliminare\n",
    "righe_da_eliminare = df[df['category'].str.contains(r'Film \\| Short Film in \\d+', regex=True)]\n",
    "\n",
    "# Stampa il numero di righe da eliminare\n",
    "print(\"Numero di righe da eliminare:\", len(righe_da_eliminare))"
   ],
   "metadata": {
    "collapsed": false,
    "ExecuteTime": {
     "end_time": "2024-05-27T15:07:25.479631300Z",
     "start_time": "2024-05-27T15:07:25.403713200Z"
    }
   },
   "id": "6460e8894b75a327",
   "execution_count": 83
  },
  {
   "cell_type": "code",
   "outputs": [
    {
     "name": "stdout",
     "output_type": "stream",
     "text": [
      "Numero di righe droppate: 97\n"
     ]
    }
   ],
   "source": [
    "# Carica il dataset\n",
    "df = pd.read_csv('bafta_films_cleaned.csv')\n",
    "\n",
    "# Conta il numero di righe prima della rimozione\n",
    "righe_prima = len(df)\n",
    "\n",
    "# Droppa le righe che contengono 'Film' e 'Film in' seguiti da un numero nella colonna 'category'\n",
    "df = df[~df['category'].str.contains(r'Film \\| Short Film in \\d+', regex=True)]\n",
    "\n",
    "# Conta il numero di righe dopo la rimozione\n",
    "righe_dopo = len(df)\n",
    "\n",
    "# Calcola il numero di righe droppate\n",
    "righe_droppate = righe_prima - righe_dopo\n",
    "\n",
    "# Stampa il numero di righe droppate\n",
    "print(\"Numero di righe droppate:\", righe_droppate)\n",
    "df.to_csv('bafta_films_cleaned.csv', index=False)"
   ],
   "metadata": {
    "collapsed": false,
    "ExecuteTime": {
     "end_time": "2024-05-27T15:07:34.584592900Z",
     "start_time": "2024-05-27T15:07:34.487930Z"
    }
   },
   "id": "b3ded85a36755662",
   "execution_count": 84
  },
  {
   "cell_type": "markdown",
   "source": [
    "*United Nations Award - for the best Film embodying one or more of the principles of the United Nations Charter in*"
   ],
   "metadata": {
    "collapsed": false
   },
   "id": "7349a3f7ef5fb3c1"
  },
  {
   "cell_type": "code",
   "outputs": [
    {
     "name": "stdout",
     "output_type": "stream",
     "text": [
      "Numero di righe da eliminare: 24\n"
     ]
    }
   ],
   "source": [
    "# Carica il dataset\n",
    "df = pd.read_csv('bafta_films_cleaned.csv')\n",
    "\n",
    "# Conta il numero di righe da eliminare\n",
    "righe_da_eliminare = df[df['category'].str.contains(r'Film \\| United Nations Award - for the best Film embodying one or more of the principles of the United Nations Charter in \\d+', regex=True)]\n",
    "\n",
    "# Stampa il numero di righe da eliminare\n",
    "print(\"Numero di righe da eliminare:\", len(righe_da_eliminare))"
   ],
   "metadata": {
    "collapsed": false,
    "ExecuteTime": {
     "end_time": "2024-05-27T15:07:39.199577300Z",
     "start_time": "2024-05-27T15:07:39.130332Z"
    }
   },
   "id": "fe24fa2bcb6aedce",
   "execution_count": 85
  },
  {
   "cell_type": "code",
   "outputs": [],
   "source": [
    "import pandas as pd"
   ],
   "metadata": {
    "collapsed": false,
    "ExecuteTime": {
     "end_time": "2024-05-27T14:27:20.349316400Z",
     "start_time": "2024-05-27T14:27:19.135286500Z"
    }
   },
   "id": "fd3b0ab051c48c41",
   "execution_count": 2
  },
  {
   "cell_type": "code",
   "outputs": [
    {
     "name": "stdout",
     "output_type": "stream",
     "text": [
      "Numero di righe droppate: 24\n"
     ]
    }
   ],
   "source": [
    "# Carica il dataset\n",
    "df = pd.read_csv('bafta_films_cleaned.csv')\n",
    "\n",
    "# Conta il numero di righe prima della rimozione\n",
    "righe_prima = len(df)\n",
    "\n",
    "# Droppa le righe che contengono 'Film' e 'Film in' seguiti da un numero nella colonna 'category'\n",
    "df = df[~df['category'].str.contains(r'Film \\| United Nations Award - for the best Film embodying one or more of the principles of the United Nations Charter in \\d+', regex=True)]\n",
    "\n",
    "# Conta il numero di righe dopo la rimozione\n",
    "righe_dopo = len(df)\n",
    "\n",
    "# Calcola il numero di righe droppate\n",
    "righe_droppate = righe_prima - righe_dopo\n",
    "\n",
    "# Stampa il numero di righe droppate\n",
    "print(\"Numero di righe droppate:\", righe_droppate)\n",
    "df.to_csv('bafta_films_cleaned.csv', index=False)"
   ],
   "metadata": {
    "collapsed": false,
    "ExecuteTime": {
     "end_time": "2024-05-27T15:07:46.536402500Z",
     "start_time": "2024-05-27T15:07:46.434567400Z"
    }
   },
   "id": "9beeb46a18870e58",
   "execution_count": 86
  },
  {
   "cell_type": "markdown",
   "source": [
    "*sound in*"
   ],
   "metadata": {
    "collapsed": false
   },
   "id": "bf303ed43667a161"
  },
  {
   "cell_type": "code",
   "outputs": [
    {
     "name": "stdout",
     "output_type": "stream",
     "text": [
      "Numero di righe da eliminare: 95\n"
     ]
    }
   ],
   "source": [
    "# Carica il dataset\n",
    "df = pd.read_csv('bafta_films_cleaned.csv')\n",
    "\n",
    "# Conta il numero di righe da eliminare\n",
    "righe_da_eliminare = df[df['category'].str.contains(r'Film \\| Sound in \\d+', regex=True)]\n",
    "\n",
    "# Stampa il numero di righe da eliminare\n",
    "print(\"Numero di righe da eliminare:\", len(righe_da_eliminare))\n"
   ],
   "metadata": {
    "collapsed": false,
    "ExecuteTime": {
     "end_time": "2024-05-27T15:07:53.900314800Z",
     "start_time": "2024-05-27T15:07:53.814212900Z"
    }
   },
   "id": "6d18f4d3c2165f23",
   "execution_count": 87
  },
  {
   "cell_type": "code",
   "outputs": [
    {
     "name": "stdout",
     "output_type": "stream",
     "text": [
      "Numero di righe droppate: 95\n"
     ]
    }
   ],
   "source": [
    "# Carica il dataset\n",
    "df = pd.read_csv('bafta_films_cleaned.csv')\n",
    "\n",
    "# Conta il numero di righe prima della rimozione\n",
    "righe_prima = len(df)\n",
    "\n",
    "# Droppa le righe che contengono 'Film' e 'Film in' seguiti da un numero nella colonna 'category'\n",
    "df = df[~df['category'].str.contains(r'Film \\| Sound in \\d+', regex=True)]\n",
    "\n",
    "# Conta il numero di righe dopo la rimozione\n",
    "righe_dopo = len(df)\n",
    "\n",
    "# Calcola il numero di righe droppate\n",
    "righe_droppate = righe_prima - righe_dopo\n",
    "\n",
    "# Stampa il numero di righe droppate\n",
    "print(\"Numero di righe droppate:\", righe_droppate)\n",
    "df.to_csv('bafta_films_cleaned.csv', index=False)"
   ],
   "metadata": {
    "collapsed": false,
    "ExecuteTime": {
     "end_time": "2024-05-27T15:07:57.299759100Z",
     "start_time": "2024-05-27T15:07:57.175699800Z"
    }
   },
   "id": "3d996a0aec054131",
   "execution_count": 88
  },
  {
   "cell_type": "markdown",
   "source": [
    "*Most Promising Newcomer To Leading Film Roles in*"
   ],
   "metadata": {
    "collapsed": false
   },
   "id": "7741b9aa77b5eba6"
  },
  {
   "cell_type": "code",
   "outputs": [
    {
     "name": "stdout",
     "output_type": "stream",
     "text": [
      "Numero di righe da eliminare: 91\n"
     ]
    }
   ],
   "source": [
    "# Carica il dataset\n",
    "df = pd.read_csv('bafta_films_cleaned.csv')\n",
    "\n",
    "# Conta il numero di righe da eliminare\n",
    "righe_da_eliminare = df[df['category'].str.contains(r'Film \\| Most Promising Newcomer To Leading Film Roles in \\d+', regex=True)]\n",
    "\n",
    "# Stampa il numero di righe da eliminare\n",
    "print(\"Numero di righe da eliminare:\", len(righe_da_eliminare))"
   ],
   "metadata": {
    "collapsed": false,
    "ExecuteTime": {
     "end_time": "2024-05-27T15:08:00.747370400Z",
     "start_time": "2024-05-27T15:08:00.599373300Z"
    }
   },
   "id": "9455182386d55fee",
   "execution_count": 89
  },
  {
   "cell_type": "code",
   "outputs": [
    {
     "name": "stdout",
     "output_type": "stream",
     "text": [
      "Numero di righe droppate: 91\n"
     ]
    }
   ],
   "source": [
    "# Carica il dataset\n",
    "df = pd.read_csv('bafta_films_cleaned.csv')\n",
    "\n",
    "# Conta il numero di righe prima della rimozione\n",
    "righe_prima = len(df)\n",
    "\n",
    "# Droppa le righe che contengono 'Film' e 'Film in' seguiti da un numero nella colonna 'category'\n",
    "df = df[~df['category'].str.contains(r'Film \\| Most Promising Newcomer To Leading Film Roles in \\d+', regex=True)]\n",
    "\n",
    "# Conta il numero di righe dopo la rimozione\n",
    "righe_dopo = len(df)\n",
    "\n",
    "# Calcola il numero di righe droppate\n",
    "righe_droppate = righe_prima - righe_dopo\n",
    "\n",
    "# Stampa il numero di righe droppate\n",
    "print(\"Numero di righe droppate:\", righe_droppate)\n",
    "df.to_csv('bafta_films_cleaned.csv', index=False)"
   ],
   "metadata": {
    "collapsed": false,
    "ExecuteTime": {
     "end_time": "2024-05-27T15:08:03.126131900Z",
     "start_time": "2024-05-27T15:08:03.011847800Z"
    }
   },
   "id": "c185bc2dfc7674be",
   "execution_count": 90
  },
  {
   "cell_type": "markdown",
   "source": [
    "*Animated Film in*"
   ],
   "metadata": {
    "collapsed": false
   },
   "id": "90540636ea6c1c2c"
  },
  {
   "cell_type": "code",
   "outputs": [
    {
     "name": "stdout",
     "output_type": "stream",
     "text": [
      "Numero di righe da eliminare: 47\n"
     ]
    }
   ],
   "source": [
    "# Carica il dataset\n",
    "df = pd.read_csv('bafta_films_cleaned.csv')\n",
    "\n",
    "# Conta il numero di righe da eliminare\n",
    "righe_da_eliminare = df[df['category'].str.contains(r'Film \\| Animated Film in \\d+', regex=True)]\n",
    "\n",
    "# Stampa il numero di righe da eliminare\n",
    "print(\"Numero di righe da eliminare:\", len(righe_da_eliminare))"
   ],
   "metadata": {
    "collapsed": false,
    "ExecuteTime": {
     "end_time": "2024-05-27T15:08:06.423110100Z",
     "start_time": "2024-05-27T15:08:06.334269800Z"
    }
   },
   "id": "45fba304e90792a3",
   "execution_count": 91
  },
  {
   "cell_type": "code",
   "outputs": [
    {
     "name": "stdout",
     "output_type": "stream",
     "text": [
      "Numero di righe droppate: 47\n"
     ]
    }
   ],
   "source": [
    "# Carica il dataset\n",
    "df = pd.read_csv('bafta_films_cleaned.csv')\n",
    "\n",
    "# Conta il numero di righe prima della rimozione\n",
    "righe_prima = len(df)\n",
    "\n",
    "# Droppa le righe che contengono 'Film' e 'Film in' seguiti da un numero nella colonna 'category'\n",
    "df = df[~df['category'].str.contains(r'Film \\| Animated Film in \\d+', regex=True)]\n",
    "\n",
    "# Conta il numero di righe dopo la rimozione\n",
    "righe_dopo = len(df)\n",
    "\n",
    "# Calcola il numero di righe droppate\n",
    "righe_droppate = righe_prima - righe_dopo\n",
    "\n",
    "# Stampa il numero di righe droppate\n",
    "print(\"Numero di righe droppate:\", righe_droppate)\n",
    "df.to_csv('bafta_films_cleaned.csv', index=False)"
   ],
   "metadata": {
    "collapsed": false,
    "ExecuteTime": {
     "end_time": "2024-05-27T15:08:09.742448800Z",
     "start_time": "2024-05-27T15:08:09.643190Z"
    }
   },
   "id": "776a9b9e37d91d38",
   "execution_count": 92
  },
  {
   "cell_type": "markdown",
   "source": [
    "*Specialised Film in*"
   ],
   "metadata": {
    "collapsed": false
   },
   "id": "9b75c279ab93556e"
  },
  {
   "cell_type": "code",
   "outputs": [
    {
     "name": "stdout",
     "output_type": "stream",
     "text": [
      "Numero di righe da eliminare: 48\n"
     ]
    }
   ],
   "source": [
    "# Carica il dataset\n",
    "df = pd.read_csv('bafta_films_cleaned.csv')\n",
    "\n",
    "# Conta il numero di righe da eliminare\n",
    "righe_da_eliminare = df[df['category'].str.contains(r'Film \\| Specialised Film in \\d+', regex=True)]\n",
    "\n",
    "# Stampa il numero di righe da eliminare\n",
    "print(\"Numero di righe da eliminare:\", len(righe_da_eliminare))\n",
    "df.to_csv('bafta_films_cleaned.csv', index=False)"
   ],
   "metadata": {
    "collapsed": false,
    "ExecuteTime": {
     "end_time": "2024-05-27T15:08:14.042108Z",
     "start_time": "2024-05-27T15:08:13.957016700Z"
    }
   },
   "id": "bc20692f53f5a3af",
   "execution_count": 93
  },
  {
   "cell_type": "code",
   "outputs": [
    {
     "name": "stdout",
     "output_type": "stream",
     "text": [
      "Numero di righe droppate: 48\n"
     ]
    }
   ],
   "source": [
    "# Carica il dataset\n",
    "df = pd.read_csv('bafta_films_cleaned.csv')\n",
    "\n",
    "# Conta il numero di righe prima della rimozione\n",
    "righe_prima = len(df)\n",
    "\n",
    "# Droppa le righe che contengono 'Film' e 'Film in' seguiti da un numero nella colonna 'category'\n",
    "df = df[~df['category'].str.contains(r'Film \\| Specialised Film in \\d+', regex=True)]\n",
    "\n",
    "# Conta il numero di righe dopo la rimozione\n",
    "righe_dopo = len(df)\n",
    "\n",
    "# Calcola il numero di righe droppate\n",
    "righe_droppate = righe_prima - righe_dopo\n",
    "\n",
    "# Stampa il numero di righe droppate\n",
    "print(\"Numero di righe droppate:\", righe_droppate)\n",
    "df.to_csv('bafta_films_cleaned.csv', index=False)"
   ],
   "metadata": {
    "collapsed": false,
    "ExecuteTime": {
     "end_time": "2024-05-27T15:08:17.227046100Z",
     "start_time": "2024-05-27T15:08:17.141625800Z"
    }
   },
   "id": "6c26ea55be55361",
   "execution_count": 94
  },
  {
   "cell_type": "markdown",
   "source": [
    "*Short Animation in*"
   ],
   "metadata": {
    "collapsed": false
   },
   "id": "f780b51be6df056c"
  },
  {
   "cell_type": "code",
   "outputs": [
    {
     "name": "stdout",
     "output_type": "stream",
     "text": [
      "Numero di righe da eliminare: 60\n"
     ]
    }
   ],
   "source": [
    "# Carica il dataset\n",
    "df = pd.read_csv('bafta_films_cleaned.csv')\n",
    "\n",
    "# Conta il numero di righe da eliminare\n",
    "righe_da_eliminare = df[df['category'].str.contains(r'Film \\| Short Animation in \\d+', regex=True)]\n",
    "\n",
    "# Stampa il numero di righe da eliminare\n",
    "print(\"Numero di righe da eliminare:\", len(righe_da_eliminare))"
   ],
   "metadata": {
    "collapsed": false,
    "ExecuteTime": {
     "end_time": "2024-05-27T15:08:24.544602600Z",
     "start_time": "2024-05-27T15:08:24.469045400Z"
    }
   },
   "id": "312edd24e335bc13",
   "execution_count": 95
  },
  {
   "cell_type": "code",
   "outputs": [
    {
     "name": "stdout",
     "output_type": "stream",
     "text": [
      "Numero di righe droppate: 60\n"
     ]
    }
   ],
   "source": [
    "# Carica il dataset\n",
    "df = pd.read_csv('bafta_films_cleaned.csv')\n",
    "\n",
    "# Conta il numero di righe prima della rimozione\n",
    "righe_prima = len(df)\n",
    "\n",
    "# Droppa le righe che contengono 'Film' e 'Film in' seguiti da un numero nella colonna 'category'\n",
    "df = df[~df['category'].str.contains(r'Film \\| Short Animation in \\d+', regex=True)]\n",
    "\n",
    "# Conta il numero di righe dopo la rimozione\n",
    "righe_dopo = len(df)\n",
    "\n",
    "# Calcola il numero di righe droppate\n",
    "righe_droppate = righe_prima - righe_dopo\n",
    "\n",
    "# Stampa il numero di righe droppate\n",
    "print(\"Numero di righe droppate:\", righe_droppate)\n",
    "df.to_csv('bafta_films_cleaned.csv', index=False)"
   ],
   "metadata": {
    "collapsed": false,
    "ExecuteTime": {
     "end_time": "2024-05-27T15:08:27.030327500Z",
     "start_time": "2024-05-27T15:08:26.939375800Z"
    }
   },
   "id": "fe1ef7ad977d994f",
   "execution_count": 96
  },
  {
   "cell_type": "markdown",
   "source": [
    "*Robert Flaherty Award (Feature Length Film, Documentary In Content) in*"
   ],
   "metadata": {
    "collapsed": false
   },
   "id": "64fd3ab2d2c31bc7"
  },
  {
   "cell_type": "code",
   "outputs": [
    {
     "ename": "TypeError",
     "evalue": "StringMethods.extract() got an unexpected keyword argument 'regex'",
     "output_type": "error",
     "traceback": [
      "\u001B[1;31m---------------------------------------------------------------------------\u001B[0m",
      "\u001B[1;31mTypeError\u001B[0m                                 Traceback (most recent call last)",
      "Cell \u001B[1;32mIn[17], line 5\u001B[0m\n\u001B[0;32m      2\u001B[0m df \u001B[38;5;241m=\u001B[39m pd\u001B[38;5;241m.\u001B[39mread_csv(\u001B[38;5;124m'\u001B[39m\u001B[38;5;124mbafta_films_cleaned.csv\u001B[39m\u001B[38;5;124m'\u001B[39m)\n\u001B[0;32m      4\u001B[0m \u001B[38;5;66;03m# Conta il numero di righe da eliminare\u001B[39;00m\n\u001B[1;32m----> 5\u001B[0m righe_da_eliminare \u001B[38;5;241m=\u001B[39m df[\u001B[43mdf\u001B[49m\u001B[43m[\u001B[49m\u001B[38;5;124;43m'\u001B[39;49m\u001B[38;5;124;43mcategory\u001B[39;49m\u001B[38;5;124;43m'\u001B[39;49m\u001B[43m]\u001B[49m\u001B[38;5;241;43m.\u001B[39;49m\u001B[43mstr\u001B[49m\u001B[38;5;241;43m.\u001B[39;49m\u001B[43mextract\u001B[49m\u001B[43m(\u001B[49m\u001B[38;5;124;43mr\u001B[39;49m\u001B[38;5;124;43m'\u001B[39;49m\u001B[38;5;124;43mFilm \u001B[39;49m\u001B[38;5;124;43m\\\u001B[39;49m\u001B[38;5;124;43m| Robert Flaherty Award (Feature Length Film, Documentary In Content) in \u001B[39;49m\u001B[38;5;124;43m\\\u001B[39;49m\u001B[38;5;124;43md+\u001B[39;49m\u001B[38;5;124;43m'\u001B[39;49m\u001B[43m,\u001B[49m\u001B[43m \u001B[49m\u001B[43mregex\u001B[49m\u001B[38;5;241;43m=\u001B[39;49m\u001B[38;5;28;43;01mTrue\u001B[39;49;00m\u001B[43m)\u001B[49m]\n\u001B[0;32m      7\u001B[0m \u001B[38;5;66;03m# Stampa il numero di righe da eliminare\u001B[39;00m\n\u001B[0;32m      8\u001B[0m \u001B[38;5;28mprint\u001B[39m(\u001B[38;5;124m\"\u001B[39m\u001B[38;5;124mNumero di righe da eliminare:\u001B[39m\u001B[38;5;124m\"\u001B[39m, \u001B[38;5;28mlen\u001B[39m(righe_da_eliminare))\n",
      "File \u001B[1;32m~\\AppData\\Local\\Programs\\Python\\Python312\\Lib\\site-packages\\pandas\\core\\strings\\accessor.py:137\u001B[0m, in \u001B[0;36mforbid_nonstring_types.<locals>._forbid_nonstring_types.<locals>.wrapper\u001B[1;34m(self, *args, **kwargs)\u001B[0m\n\u001B[0;32m    132\u001B[0m     msg \u001B[38;5;241m=\u001B[39m (\n\u001B[0;32m    133\u001B[0m         \u001B[38;5;124mf\u001B[39m\u001B[38;5;124m\"\u001B[39m\u001B[38;5;124mCannot use .str.\u001B[39m\u001B[38;5;132;01m{\u001B[39;00mfunc_name\u001B[38;5;132;01m}\u001B[39;00m\u001B[38;5;124m with values of \u001B[39m\u001B[38;5;124m\"\u001B[39m\n\u001B[0;32m    134\u001B[0m         \u001B[38;5;124mf\u001B[39m\u001B[38;5;124m\"\u001B[39m\u001B[38;5;124minferred dtype \u001B[39m\u001B[38;5;124m'\u001B[39m\u001B[38;5;132;01m{\u001B[39;00m\u001B[38;5;28mself\u001B[39m\u001B[38;5;241m.\u001B[39m_inferred_dtype\u001B[38;5;132;01m}\u001B[39;00m\u001B[38;5;124m'\u001B[39m\u001B[38;5;124m.\u001B[39m\u001B[38;5;124m\"\u001B[39m\n\u001B[0;32m    135\u001B[0m     )\n\u001B[0;32m    136\u001B[0m     \u001B[38;5;28;01mraise\u001B[39;00m \u001B[38;5;167;01mTypeError\u001B[39;00m(msg)\n\u001B[1;32m--> 137\u001B[0m \u001B[38;5;28;01mreturn\u001B[39;00m \u001B[43mfunc\u001B[49m\u001B[43m(\u001B[49m\u001B[38;5;28;43mself\u001B[39;49m\u001B[43m,\u001B[49m\u001B[43m \u001B[49m\u001B[38;5;241;43m*\u001B[39;49m\u001B[43margs\u001B[49m\u001B[43m,\u001B[49m\u001B[43m \u001B[49m\u001B[38;5;241;43m*\u001B[39;49m\u001B[38;5;241;43m*\u001B[39;49m\u001B[43mkwargs\u001B[49m\u001B[43m)\u001B[49m\n",
      "\u001B[1;31mTypeError\u001B[0m: StringMethods.extract() got an unexpected keyword argument 'regex'"
     ]
    }
   ],
   "source": [
    "# Carica il dataset\n",
    "df = pd.read_csv('bafta_films_cleaned.csv')\n",
    "\n",
    "# Conta il numero di righe da eliminare\n",
    "righe_da_eliminare = df[df['category'].str.contains(r'Film \\| Robert Flaherty Award (Feature Length Film, Documentary In Content) in \\d+', regex=True)]\n",
    "\n",
    "# Stampa il numero di righe da eliminare\n",
    "print(\"Numero di righe da eliminare:\", len(righe_da_eliminare))"
   ],
   "metadata": {
    "collapsed": false,
    "ExecuteTime": {
     "end_time": "2024-05-27T14:34:17.551120900Z",
     "start_time": "2024-05-27T14:34:17.282476900Z"
    }
   },
   "id": "eb10a0086a8deee",
   "execution_count": 17
  },
  {
   "cell_type": "code",
   "outputs": [
    {
     "name": "stdout",
     "output_type": "stream",
     "text": [
      "Numero di righe droppate: 0\n"
     ]
    },
    {
     "name": "stderr",
     "output_type": "stream",
     "text": [
      "C:\\Users\\andre\\AppData\\Local\\Temp\\ipykernel_22156\\2905376825.py:8: UserWarning: This pattern is interpreted as a regular expression, and has match groups. To actually get the groups, use str.extract.\n",
      "  df = df[~df['category'].str.contains(r'Film \\| Robert Flaherty Award (Feature Length Film, Documentary In Content) in \\d+', regex=True)]\n"
     ]
    }
   ],
   "source": [
    "# Carica il dataset\n",
    "df = pd.read_csv('bafta_films_cleaned.csv')\n",
    "\n",
    "# Conta il numero di righe prima della rimozione\n",
    "righe_prima = len(df)\n",
    "\n",
    "# Droppa le righe che contengono 'Film' e 'Film in' seguiti da un numero nella colonna 'category'\n",
    "df = df[~df['category'].str.contains(r'Film \\| Robert Flaherty Award (Feature Length Film, Documentary In Content) in \\d+', regex=True)]\n",
    "\n",
    "# Conta il numero di righe dopo la rimozione\n",
    "righe_dopo = len(df)\n",
    "\n",
    "# Calcola il numero di righe droppate\n",
    "righe_droppate = righe_prima - righe_dopo\n",
    "\n",
    "# Stampa il numero di righe droppate\n",
    "print(\"Numero di righe droppate:\", righe_droppate)\n"
   ],
   "metadata": {
    "collapsed": false,
    "ExecuteTime": {
     "end_time": "2024-05-27T14:34:22.392216300Z",
     "start_time": "2024-05-27T14:34:22.357391300Z"
    }
   },
   "id": "2932294984b88f3b",
   "execution_count": 18
  },
  {
   "cell_type": "markdown",
   "source": [],
   "metadata": {
    "collapsed": false
   },
   "id": "15f6c4bd636e781d"
  },
  {
   "cell_type": "markdown",
   "source": [
    "*Soundtrack in*"
   ],
   "metadata": {
    "collapsed": false
   },
   "id": "4bc7e9cf17303878"
  },
  {
   "cell_type": "code",
   "outputs": [
    {
     "name": "stdout",
     "output_type": "stream",
     "text": [
      "Numero di righe da eliminare: 49\n"
     ]
    }
   ],
   "source": [
    "# Carica il dataset\n",
    "df = pd.read_csv('bafta_films_cleaned.csv')\n",
    "\n",
    "# Conta il numero di righe da eliminare\n",
    "righe_da_eliminare = df[df['category'].str.contains(r'Film \\| Soundtrack in \\d+', regex=True)]\n",
    "\n",
    "# Stampa il numero di righe da eliminare\n",
    "print(\"Numero di righe da eliminare:\", len(righe_da_eliminare))\n"
   ],
   "metadata": {
    "collapsed": false,
    "ExecuteTime": {
     "end_time": "2024-05-27T15:08:34.385655500Z",
     "start_time": "2024-05-27T15:08:34.276709100Z"
    }
   },
   "id": "df5022e9e93dc375",
   "execution_count": 97
  },
  {
   "cell_type": "code",
   "outputs": [
    {
     "name": "stdout",
     "output_type": "stream",
     "text": [
      "Numero di righe droppate: 49\n"
     ]
    }
   ],
   "source": [
    "# Carica il dataset\n",
    "df = pd.read_csv('bafta_films_cleaned.csv')\n",
    "\n",
    "# Conta il numero di righe prima della rimozione\n",
    "righe_prima = len(df)\n",
    "\n",
    "# Droppa le righe che contengono 'Film' e 'Film in' seguiti da un numero nella colonna 'category'\n",
    "df = df[~df['category'].str.contains(r'Film \\| Soundtrack in \\d+', regex=True)]\n",
    "\n",
    "# Conta il numero di righe dopo la rimozione\n",
    "righe_dopo = len(df)\n",
    "\n",
    "# Calcola il numero di righe droppate\n",
    "righe_droppate = righe_prima - righe_dopo\n",
    "\n",
    "# Stampa il numero di righe droppate\n",
    "print(\"Numero di righe droppate:\", righe_droppate)\n",
    "df.to_csv('bafta_films_cleaned.csv', index=False)"
   ],
   "metadata": {
    "collapsed": false,
    "ExecuteTime": {
     "end_time": "2024-05-27T15:08:41.421242900Z",
     "start_time": "2024-05-27T15:08:41.337033600Z"
    }
   },
   "id": "3fc7fc18cc33f387",
   "execution_count": 98
  },
  {
   "cell_type": "markdown",
   "source": [
    "*Special Visual Effects in*"
   ],
   "metadata": {
    "collapsed": false
   },
   "id": "3cc32436d27b55c3"
  },
  {
   "cell_type": "code",
   "outputs": [
    {
     "name": "stdout",
     "output_type": "stream",
     "text": [
      "Numero di righe da eliminare: 45\n"
     ]
    }
   ],
   "source": [
    "# Carica il dataset\n",
    "df = pd.read_csv('bafta_films_cleaned.csv')\n",
    "\n",
    "# Conta il numero di righe da eliminare\n",
    "righe_da_eliminare = df[df['category'].str.contains(r'Film \\| Special Visual Effects in \\d+', regex=True)]\n",
    "\n",
    "# Stampa il numero di righe da eliminare\n",
    "print(\"Numero di righe da eliminare:\", len(righe_da_eliminare))"
   ],
   "metadata": {
    "collapsed": false,
    "ExecuteTime": {
     "end_time": "2024-05-27T15:08:43.787965800Z",
     "start_time": "2024-05-27T15:08:43.712228900Z"
    }
   },
   "id": "b5cbba94df37ba06",
   "execution_count": 99
  },
  {
   "cell_type": "code",
   "outputs": [
    {
     "name": "stdout",
     "output_type": "stream",
     "text": [
      "Numero di righe droppate: 45\n"
     ]
    }
   ],
   "source": [
    "# Carica il dataset\n",
    "df = pd.read_csv('bafta_films_cleaned.csv')\n",
    "\n",
    "# Conta il numero di righe prima della rimozione\n",
    "righe_prima = len(df)\n",
    "\n",
    "# Droppa le righe che contengono 'Film' e 'Film in' seguiti da un numero nella colonna 'category'\n",
    "df = df[~df['category'].str.contains(r'Film \\| Special Visual Effects in \\d+', regex=True)]\n",
    "\n",
    "# Conta il numero di righe dopo la rimozione\n",
    "righe_dopo = len(df)\n",
    "\n",
    "# Calcola il numero di righe droppate\n",
    "righe_droppate = righe_prima - righe_dopo\n",
    "\n",
    "# Stampa il numero di righe droppate\n",
    "print(\"Numero di righe droppate:\", righe_droppate)\n",
    "df.to_csv('bafta_films_cleaned.csv', index=False)"
   ],
   "metadata": {
    "collapsed": false,
    "ExecuteTime": {
     "end_time": "2024-05-27T15:08:46.140822700Z",
     "start_time": "2024-05-27T15:08:46.012972100Z"
    }
   },
   "id": "25d4b5cb0cd4ac46",
   "execution_count": 100
  },
  {
   "cell_type": "markdown",
   "source": [
    "*Film Editing in*"
   ],
   "metadata": {
    "collapsed": false
   },
   "id": "84e0547edaa46a2"
  },
  {
   "cell_type": "code",
   "outputs": [
    {
     "name": "stdout",
     "output_type": "stream",
     "text": [
      "Numero di righe da eliminare: 44\n",
      "Numero di righe droppate: 44\n"
     ]
    }
   ],
   "source": [
    "# Carica il dataset\n",
    "df = pd.read_csv('bafta_films_cleaned.csv')\n",
    "\n",
    "# Conta il numero di righe da eliminare\n",
    "righe_da_eliminare = df[df['category'].str.contains(r'Film \\| Film Editing in \\d+', regex=True)]\n",
    "\n",
    "# Stampa il numero di righe da eliminare\n",
    "print(\"Numero di righe da eliminare:\", len(righe_da_eliminare))\n",
    "\n",
    "# Carica il dataset\n",
    "df = pd.read_csv('bafta_films_cleaned.csv')\n",
    "\n",
    "# Conta il numero di righe prima della rimozione\n",
    "righe_prima = len(df)\n",
    "\n",
    "# Droppa le righe che contengono 'Film' e 'Film in' seguiti da un numero nella colonna 'category'\n",
    "df = df[~df['category'].str.contains(r'Film \\| Film Editing in \\d+', regex=True)]\n",
    "\n",
    "# Conta il numero di righe dopo la rimozione\n",
    "righe_dopo = len(df)\n",
    "\n",
    "# Calcola il numero di righe droppate\n",
    "righe_droppate = righe_prima - righe_dopo\n",
    "\n",
    "# Stampa il numero di righe droppate\n",
    "print(\"Numero di righe droppate:\", righe_droppate)\n",
    "df.to_csv('bafta_films_cleaned.csv', index=False)"
   ],
   "metadata": {
    "collapsed": false,
    "ExecuteTime": {
     "end_time": "2024-05-27T15:08:50.347759900Z",
     "start_time": "2024-05-27T15:08:50.251198Z"
    }
   },
   "id": "62ed74d27a25c583",
   "execution_count": 101
  },
  {
   "cell_type": "markdown",
   "source": [
    "*Achievement in Special Visual Effects in*"
   ],
   "metadata": {
    "collapsed": false
   },
   "id": "5fec3f7550b7ef6d"
  },
  {
   "cell_type": "code",
   "outputs": [
    {
     "name": "stdout",
     "output_type": "stream",
     "text": [
      "Numero di righe da eliminare: 37\n",
      "Numero di righe droppate: 37\n"
     ]
    }
   ],
   "source": [
    "# Carica il dataset\n",
    "df = pd.read_csv('bafta_films_cleaned.csv')\n",
    "\n",
    "# Conta il numero di righe da eliminare\n",
    "righe_da_eliminare = df[df['category'].str.contains(r'Film \\| Achievement in Special Visual Effects in \\d+', regex=True)]\n",
    "\n",
    "# Stampa il numero di righe da eliminare\n",
    "print(\"Numero di righe da eliminare:\", len(righe_da_eliminare))\n",
    "\n",
    "# Carica il dataset\n",
    "df = pd.read_csv('bafta_films_cleaned.csv')\n",
    "\n",
    "# Conta il numero di righe prima della rimozione\n",
    "righe_prima = len(df)\n",
    "\n",
    "# Droppa le righe che contengono 'Film' e 'Film in' seguiti da un numero nella colonna 'category'\n",
    "df = df[~df['category'].str.contains(r'Film \\| Achievement in Special Visual Effects in \\d+', regex=True)]\n",
    "\n",
    "# Conta il numero di righe dopo la rimozione\n",
    "righe_dopo = len(df)\n",
    "\n",
    "# Calcola il numero di righe droppate\n",
    "righe_droppate = righe_prima - righe_dopo\n",
    "\n",
    "# Stampa il numero di righe droppate\n",
    "print(\"Numero di righe droppate:\", righe_droppate)\n",
    "df.to_csv('bafta_films_cleaned.csv', index=False)"
   ],
   "metadata": {
    "collapsed": false,
    "ExecuteTime": {
     "end_time": "2024-05-27T15:08:54.119826Z",
     "start_time": "2024-05-27T15:08:54.016950400Z"
    }
   },
   "id": "6f205019aacb76d8",
   "execution_count": 102
  },
  {
   "cell_type": "markdown",
   "source": [
    "*Anthony Asquith Award for Original Film Music in*"
   ],
   "metadata": {
    "collapsed": false
   },
   "id": "872bad249016c7bc"
  },
  {
   "cell_type": "code",
   "outputs": [
    {
     "name": "stdout",
     "output_type": "stream",
     "text": [
      "Numero di righe da eliminare: 37\n",
      "Numero di righe droppate: 37\n"
     ]
    }
   ],
   "source": [
    "# Carica il dataset\n",
    "df = pd.read_csv('bafta_films_cleaned.csv')\n",
    "\n",
    "# Conta il numero di righe da eliminare\n",
    "righe_da_eliminare = df[df['category'].str.contains(r'Film \\| Anthony Asquith Award for Original Film Music in \\d+', regex=True)]\n",
    "\n",
    "# Stampa il numero di righe da eliminare\n",
    "print(\"Numero di righe da eliminare:\", len(righe_da_eliminare))\n",
    "\n",
    "# Carica il dataset\n",
    "df = pd.read_csv('bafta_films_cleaned.csv')\n",
    "\n",
    "# Conta il numero di righe prima della rimozione\n",
    "righe_prima = len(df)\n",
    "\n",
    "# Droppa le righe che contengono 'Film' e 'Film in' seguiti da un numero nella colonna 'category'\n",
    "df = df[~df['category'].str.contains(r'Film \\| Anthony Asquith Award for Original Film Music in \\d+', regex=True)]\n",
    "\n",
    "# Conta il numero di righe dopo la rimozione\n",
    "righe_dopo = len(df)\n",
    "\n",
    "# Calcola il numero di righe droppate\n",
    "righe_droppate = righe_prima - righe_dopo\n",
    "\n",
    "# Stampa il numero di righe droppate\n",
    "print(\"Numero di righe droppate:\", righe_droppate)\n",
    "df.to_csv('bafta_films_cleaned.csv', index=False)"
   ],
   "metadata": {
    "collapsed": false,
    "ExecuteTime": {
     "end_time": "2024-05-27T15:08:58.024886Z",
     "start_time": "2024-05-27T15:08:57.933964900Z"
    }
   },
   "id": "54ef3f8fcd51b888",
   "execution_count": 103
  },
  {
   "cell_type": "markdown",
   "source": [
    "*Make-Up Artist in*"
   ],
   "metadata": {
    "collapsed": false
   },
   "id": "90a09492abd3cc1e"
  },
  {
   "cell_type": "code",
   "outputs": [
    {
     "name": "stdout",
     "output_type": "stream",
     "text": [
      "Numero di righe da eliminare: 36\n",
      "Numero di righe droppate: 36\n"
     ]
    }
   ],
   "source": [
    "# Carica il dataset\n",
    "df = pd.read_csv('bafta_films_cleaned.csv')\n",
    "\n",
    "# Conta il numero di righe da eliminare\n",
    "righe_da_eliminare = df[df['category'].str.contains(r'Film \\| Make-Up Artist in \\d+', regex=True)]\n",
    "\n",
    "# Stampa il numero di righe da eliminare\n",
    "print(\"Numero di righe da eliminare:\", len(righe_da_eliminare))\n",
    "\n",
    "# Carica il dataset\n",
    "df = pd.read_csv('bafta_films_cleaned.csv')\n",
    "\n",
    "# Conta il numero di righe prima della rimozione\n",
    "righe_prima = len(df)\n",
    "\n",
    "# Droppa le righe che contengono 'Film' e 'Film in' seguiti da un numero nella colonna 'category'\n",
    "df = df[~df['category'].str.contains(r'Film \\| Make-Up Artist in \\d+', regex=True)]\n",
    "\n",
    "# Conta il numero di righe dopo la rimozione\n",
    "righe_dopo = len(df)\n",
    "\n",
    "# Calcola il numero di righe droppate\n",
    "righe_droppate = righe_prima - righe_dopo\n",
    "\n",
    "# Stampa il numero di righe droppate\n",
    "print(\"Numero di righe droppate:\", righe_droppate)\n",
    "df.to_csv('bafta_films_cleaned.csv', index=False)"
   ],
   "metadata": {
    "collapsed": false,
    "ExecuteTime": {
     "end_time": "2024-05-27T15:09:01.777459100Z",
     "start_time": "2024-05-27T15:09:01.670706400Z"
    }
   },
   "id": "b961d0cdb8f0948d",
   "execution_count": 104
  },
  {
   "cell_type": "markdown",
   "source": [
    "*Fellowship in*"
   ],
   "metadata": {
    "collapsed": false
   },
   "id": "765b0aabc32288f0"
  },
  {
   "cell_type": "code",
   "outputs": [
    {
     "name": "stdout",
     "output_type": "stream",
     "text": [
      "Numero di righe da eliminare: 0\n",
      "Numero di righe droppate: 0\n"
     ]
    }
   ],
   "source": [
    "# Carica il dataset\n",
    "df = pd.read_csv('bafta_films_cleaned.csv')\n",
    "\n",
    "# Conta il numero di righe da eliminare\n",
    "righe_da_eliminare = df[df['category'].str.contains(r'Film \\| Fellowship in \\d+', regex=True)]\n",
    "\n",
    "# Stampa il numero di righe da eliminare\n",
    "print(\"Numero di righe da eliminare:\", len(righe_da_eliminare))\n",
    "\n",
    "# Carica il dataset\n",
    "df = pd.read_csv('bafta_films_cleaned.csv')\n",
    "\n",
    "# Conta il numero di righe prima della rimozione\n",
    "righe_prima = len(df)\n",
    "\n",
    "# Droppa le righe che contengono 'Film' e 'Film in' seguiti da un numero nella colonna 'category'\n",
    "df = df[~df['category'].str.contains(r'Film \\| Fellowship in \\d+', regex=True)]\n",
    "\n",
    "# Conta il numero di righe dopo la rimozione\n",
    "righe_dopo = len(df)\n",
    "\n",
    "# Calcola il numero di righe droppate\n",
    "righe_droppate = righe_prima - righe_dopo\n",
    "\n",
    "# Stampa il numero di righe droppate\n",
    "print(\"Numero di righe droppate:\", righe_droppate)\n",
    "df.to_csv('bafta_films_cleaned.csv', index=False)\n"
   ],
   "metadata": {
    "collapsed": false,
    "ExecuteTime": {
     "end_time": "2024-05-27T15:09:05.712184200Z",
     "start_time": "2024-05-27T15:09:05.619093300Z"
    }
   },
   "id": "ed4708e7361191b1",
   "execution_count": 105
  },
  {
   "cell_type": "markdown",
   "source": [
    "*Flaherty Documentary Award in*"
   ],
   "metadata": {
    "collapsed": false
   },
   "id": "47b46228fed07a81"
  },
  {
   "cell_type": "code",
   "outputs": [
    {
     "name": "stdout",
     "output_type": "stream",
     "text": [
      "Numero di righe da eliminare: 34\n",
      "Numero di righe droppate: 34\n"
     ]
    }
   ],
   "source": [
    "# Carica il dataset\n",
    "df = pd.read_csv('bafta_films_cleaned.csv')\n",
    "\n",
    "# Conta il numero di righe da eliminare\n",
    "righe_da_eliminare = df[df['category'].str.contains(r'Film \\| Flaherty Documentary Award in \\d+', regex=True)]\n",
    "\n",
    "# Stampa il numero di righe da eliminare\n",
    "print(\"Numero di righe da eliminare:\", len(righe_da_eliminare))\n",
    "\n",
    "# Carica il dataset\n",
    "df = pd.read_csv('bafta_films_cleaned.csv')\n",
    "\n",
    "# Conta il numero di righe prima della rimozione\n",
    "righe_prima = len(df)\n",
    "\n",
    "# Droppa le righe che contengono 'Film' e 'Film in' seguiti da un numero nella colonna 'category'\n",
    "df = df[~df['category'].str.contains(r'Film \\| Flaherty Documentary Award in \\d+', regex=True)]\n",
    "\n",
    "# Conta il numero di righe dopo la rimozione\n",
    "righe_dopo = len(df)\n",
    "\n",
    "# Calcola il numero di righe droppate\n",
    "righe_droppate = righe_prima - righe_dopo\n",
    "\n",
    "# Stampa il numero di righe droppate\n",
    "print(\"Numero di righe droppate:\", righe_droppate)\n",
    "df.to_csv('bafta_films_cleaned.csv', index=False)"
   ],
   "metadata": {
    "collapsed": false,
    "ExecuteTime": {
     "end_time": "2024-05-27T15:09:08.919077300Z",
     "start_time": "2024-05-27T15:09:08.816050400Z"
    }
   },
   "id": "e38c375e9238bc70",
   "execution_count": 106
  },
  {
   "cell_type": "markdown",
   "source": [
    "*Art Direction in*"
   ],
   "metadata": {
    "collapsed": false
   },
   "id": "bc8e3b6639ad82cb"
  },
  {
   "cell_type": "code",
   "outputs": [
    {
     "name": "stdout",
     "output_type": "stream",
     "text": [
      "Numero di righe da eliminare: 32\n",
      "Numero di righe droppate: 32\n"
     ]
    }
   ],
   "source": [
    "# Carica il dataset\n",
    "df = pd.read_csv('bafta_films_cleaned.csv')\n",
    "\n",
    "# Conta il numero di righe da eliminare\n",
    "righe_da_eliminare = df[df['category'].str.contains(r'Film \\| Art Direction in \\d+', regex=True)]\n",
    "\n",
    "# Stampa il numero di righe da eliminare\n",
    "print(\"Numero di righe da eliminare:\", len(righe_da_eliminare))\n",
    "\n",
    "# Carica il dataset\n",
    "df = pd.read_csv('bafta_films_cleaned.csv')\n",
    "\n",
    "# Conta il numero di righe prima della rimozione\n",
    "righe_prima = len(df)\n",
    "\n",
    "# Droppa le righe che contengono 'Film' e 'Film in' seguiti da un numero nella colonna 'category'\n",
    "df = df[~df['category'].str.contains(r'Film \\| Art Direction in \\d+', regex=True)]\n",
    "\n",
    "# Conta il numero di righe dopo la rimozione\n",
    "righe_dopo = len(df)\n",
    "\n",
    "# Calcola il numero di righe droppate\n",
    "righe_droppate = righe_prima - righe_dopo\n",
    "\n",
    "# Stampa il numero di righe droppate\n",
    "print(\"Numero di righe droppate:\", righe_droppate)\n",
    "df.to_csv('bafta_films_cleaned.csv', index=False)"
   ],
   "metadata": {
    "collapsed": false,
    "ExecuteTime": {
     "end_time": "2024-05-27T15:09:12.329260700Z",
     "start_time": "2024-05-27T15:09:12.215223Z"
    }
   },
   "id": "eee59648db88f167",
   "execution_count": 107
  },
  {
   "cell_type": "markdown",
   "source": [
    "*Outstanding British Film in*"
   ],
   "metadata": {
    "collapsed": false
   },
   "id": "5db32d022590a7a5"
  },
  {
   "cell_type": "code",
   "outputs": [
    {
     "name": "stdout",
     "output_type": "stream",
     "text": [
      "Numero di righe da eliminare: 30\n",
      "Numero di righe droppate: 30\n"
     ]
    }
   ],
   "source": [
    "# Carica il dataset\n",
    "df = pd.read_csv('bafta_films_cleaned.csv')\n",
    "\n",
    "# Conta il numero di righe da eliminare\n",
    "righe_da_eliminare = df[df['category'].str.contains(r'Film \\| Outstanding British Film in \\d+', regex=True)]\n",
    "\n",
    "# Stampa il numero di righe da eliminare\n",
    "print(\"Numero di righe da eliminare:\", len(righe_da_eliminare))\n",
    "\n",
    "# Carica il dataset\n",
    "df = pd.read_csv('bafta_films_cleaned.csv')\n",
    "\n",
    "# Conta il numero di righe prima della rimozione\n",
    "righe_prima = len(df)\n",
    "\n",
    "# Droppa le righe che contengono 'Film' e 'Film in' seguiti da un numero nella colonna 'category'\n",
    "df = df[~df['category'].str.contains(r'Film \\| Outstanding British Film in \\d+', regex=True)]\n",
    "\n",
    "# Conta il numero di righe dopo la rimozione\n",
    "righe_dopo = len(df)\n",
    "\n",
    "# Calcola il numero di righe droppate\n",
    "righe_droppate = righe_prima - righe_dopo\n",
    "\n",
    "# Stampa il numero di righe droppate\n",
    "print(\"Numero di righe droppate:\", righe_droppate)\n",
    "df.to_csv('bafta_films_cleaned.csv', index=False)"
   ],
   "metadata": {
    "collapsed": false,
    "ExecuteTime": {
     "end_time": "2024-05-27T15:09:14.928637900Z",
     "start_time": "2024-05-27T15:09:14.837853200Z"
    }
   },
   "id": "a58317e38dd3ba31",
   "execution_count": 108
  },
  {
   "cell_type": "markdown",
   "source": [
    "*Anthony Asquith Memorial Award in*"
   ],
   "metadata": {
    "collapsed": false
   },
   "id": "28531213f8f18441"
  },
  {
   "cell_type": "code",
   "outputs": [
    {
     "name": "stdout",
     "output_type": "stream",
     "text": [
      "Numero di righe da eliminare: 25\n",
      "Numero di righe droppate: 25\n"
     ]
    }
   ],
   "source": [
    "# Carica il dataset\n",
    "df = pd.read_csv('bafta_films_cleaned.csv')\n",
    "\n",
    "# Conta il numero di righe da eliminare\n",
    "righe_da_eliminare = df[df['category'].str.contains(r'Film \\| Anthony Asquith Memorial Award in \\d+', regex=True)]\n",
    "\n",
    "# Stampa il numero di righe da eliminare\n",
    "print(\"Numero di righe da eliminare:\", len(righe_da_eliminare))\n",
    "\n",
    "# Carica il dataset\n",
    "df = pd.read_csv('bafta_films_cleaned.csv')\n",
    "\n",
    "# Conta il numero di righe prima della rimozione\n",
    "righe_prima = len(df)\n",
    "\n",
    "# Droppa le righe che contengono 'Film' e 'Film in' seguiti da un numero nella colonna 'category'\n",
    "df = df[~df['category'].str.contains(r'Film \\| Anthony Asquith Memorial Award in \\d+', regex=True)]\n",
    "\n",
    "# Conta il numero di righe dopo la rimozione\n",
    "righe_dopo = len(df)\n",
    "\n",
    "# Calcola il numero di righe droppate\n",
    "righe_droppate = righe_prima - righe_dopo\n",
    "\n",
    "# Stampa il numero di righe droppate\n",
    "print(\"Numero di righe droppate:\", righe_droppate)\n",
    "df.to_csv('bafta_films_cleaned.csv', index=False)"
   ],
   "metadata": {
    "collapsed": false,
    "ExecuteTime": {
     "end_time": "2024-05-27T15:09:17.752012500Z",
     "start_time": "2024-05-27T15:09:17.587912600Z"
    }
   },
   "id": "877ab99dc68f59cc",
   "execution_count": 109
  },
  {
   "cell_type": "markdown",
   "source": [
    "*David Lean Award for Achievement in Direction in*"
   ],
   "metadata": {
    "collapsed": false
   },
   "id": "9d6115253ccfb9e1"
  },
  {
   "cell_type": "code",
   "outputs": [
    {
     "name": "stdout",
     "output_type": "stream",
     "text": [
      "Numero di righe da eliminare: 25\n",
      "Numero di righe droppate: 25\n"
     ]
    }
   ],
   "source": [
    "# Carica il dataset\n",
    "df = pd.read_csv('bafta_films_cleaned.csv')\n",
    "\n",
    "# Conta il numero di righe da eliminare\n",
    "righe_da_eliminare = df[df['category'].str.contains(r'Film \\| David Lean Award for Achievement in Direction in \\d+', regex=True)]\n",
    "\n",
    "# Stampa il numero di righe da eliminare\n",
    "print(\"Numero di righe da eliminare:\", len(righe_da_eliminare))\n",
    "\n",
    "# Carica il dataset\n",
    "df = pd.read_csv('bafta_films_cleaned.csv')\n",
    "\n",
    "# Conta il numero di righe prima della rimozione\n",
    "righe_prima = len(df)\n",
    "\n",
    "# Droppa le righe che contengono 'Film' e 'Film in' seguiti da un numero nella colonna 'category'\n",
    "df = df[~df['category'].str.contains(r'Film \\| David Lean Award for Achievement in Direction in \\d+', regex=True)]\n",
    "\n",
    "# Conta il numero di righe dopo la rimozione\n",
    "righe_dopo = len(df)\n",
    "\n",
    "# Calcola il numero di righe droppate\n",
    "righe_droppate = righe_prima - righe_dopo\n",
    "\n",
    "# Stampa il numero di righe droppate\n",
    "print(\"Numero di righe droppate:\", righe_droppate)\n",
    "df.to_csv('bafta_films_cleaned.csv', index=False)"
   ],
   "metadata": {
    "collapsed": false,
    "ExecuteTime": {
     "end_time": "2024-05-27T15:09:21.039342200Z",
     "start_time": "2024-05-27T15:09:20.923690600Z"
    }
   },
   "id": "4ba60094d91460b",
   "execution_count": 110
  },
  {
   "cell_type": "markdown",
   "source": [
    "*Score For A Film in*"
   ],
   "metadata": {
    "collapsed": false
   },
   "id": "857e56ecda6eb38d"
  },
  {
   "cell_type": "code",
   "outputs": [
    {
     "name": "stdout",
     "output_type": "stream",
     "text": [
      "Numero di righe da eliminare: 24\n",
      "Numero di righe droppate: 24\n"
     ]
    }
   ],
   "source": [
    "# Carica il dataset\n",
    "df = pd.read_csv('bafta_films_cleaned.csv')\n",
    "\n",
    "# Conta il numero di righe da eliminare\n",
    "righe_da_eliminare = df[df['category'].str.contains(r'Film \\| Score For A Film in \\d+', regex=True)]\n",
    "\n",
    "# Stampa il numero di righe da eliminare\n",
    "print(\"Numero di righe da eliminare:\", len(righe_da_eliminare))\n",
    "\n",
    "# Carica il dataset\n",
    "df = pd.read_csv('bafta_films_cleaned.csv')\n",
    "\n",
    "# Conta il numero di righe prima della rimozione\n",
    "righe_prima = len(df)\n",
    "\n",
    "# Droppa le righe che contengono 'Film' e 'Film in' seguiti da un numero nella colonna 'category'\n",
    "df = df[~df['category'].str.contains(r'Film \\| Score For A Film in \\d+', regex=True)]\n",
    "\n",
    "# Conta il numero di righe dopo la rimozione\n",
    "righe_dopo = len(df)\n",
    "\n",
    "# Calcola il numero di righe droppate\n",
    "righe_droppate = righe_prima - righe_dopo\n",
    "\n",
    "# Stampa il numero di righe droppate\n",
    "print(\"Numero di righe droppate:\", righe_droppate)\n",
    "df.to_csv('bafta_films_cleaned.csv', index=False)"
   ],
   "metadata": {
    "collapsed": false,
    "ExecuteTime": {
     "end_time": "2024-05-27T15:09:23.856155600Z",
     "start_time": "2024-05-27T15:09:23.753584300Z"
    }
   },
   "id": "84fe76b57c16011a",
   "execution_count": 111
  },
  {
   "cell_type": "markdown",
   "source": [
    "*British Cinematography - Colour in*"
   ],
   "metadata": {
    "collapsed": false
   },
   "id": "f6afb3b3e159be0d"
  },
  {
   "cell_type": "code",
   "outputs": [
    {
     "name": "stdout",
     "output_type": "stream",
     "text": [
      "Numero di righe da eliminare: 24\n",
      "Numero di righe droppate: 24\n"
     ]
    }
   ],
   "source": [
    "# Carica il dataset\n",
    "df = pd.read_csv('bafta_films_cleaned.csv')\n",
    "\n",
    "# Conta il numero di righe da eliminare\n",
    "righe_da_eliminare = df[df['category'].str.contains(r'Film \\| British Cinematography - Colour in \\d+', regex=True)]\n",
    "\n",
    "# Stampa il numero di righe da eliminare\n",
    "print(\"Numero di righe da eliminare:\", len(righe_da_eliminare))\n",
    "\n",
    "# Carica il dataset\n",
    "df = pd.read_csv('bafta_films_cleaned.csv')\n",
    "\n",
    "# Conta il numero di righe prima della rimozione\n",
    "righe_prima = len(df)\n",
    "\n",
    "# Droppa le righe che contengono 'Film' e 'Film in' seguiti da un numero nella colonna 'category'\n",
    "df = df[~df['category'].str.contains(r'Film \\| British Cinematography - Colour in \\d+', regex=True)]\n",
    "\n",
    "# Conta il numero di righe dopo la rimozione\n",
    "righe_dopo = len(df)\n",
    "\n",
    "# Calcola il numero di righe droppate\n",
    "righe_droppate = righe_prima - righe_dopo\n",
    "\n",
    "# Stampa il numero di righe droppate\n",
    "print(\"Numero di righe droppate:\", righe_droppate)\n",
    "df.to_csv('bafta_films_cleaned.csv', index=False)"
   ],
   "metadata": {
    "collapsed": false,
    "ExecuteTime": {
     "end_time": "2024-05-27T15:09:26.327327800Z",
     "start_time": "2024-05-27T15:09:26.229550400Z"
    }
   },
   "id": "5ad0342daf4b4277",
   "execution_count": 112
  },
  {
   "cell_type": "markdown",
   "source": [
    "*Original Music in*"
   ],
   "metadata": {
    "collapsed": false
   },
   "id": "a8730e6646407ba6"
  },
  {
   "cell_type": "code",
   "outputs": [
    {
     "name": "stdout",
     "output_type": "stream",
     "text": [
      "Numero di righe da eliminare: 20\n",
      "Numero di righe droppate: 20\n"
     ]
    }
   ],
   "source": [
    "# Carica il dataset\n",
    "df = pd.read_csv('bafta_films_cleaned.csv')\n",
    "\n",
    "# Conta il numero di righe da eliminare\n",
    "righe_da_eliminare = df[df['category'].str.contains(r'Film \\| Original Music in \\d+', regex=True)]\n",
    "\n",
    "# Stampa il numero di righe da eliminare\n",
    "print(\"Numero di righe da eliminare:\", len(righe_da_eliminare))\n",
    "\n",
    "# Carica il dataset\n",
    "df = pd.read_csv('bafta_films_cleaned.csv')\n",
    "\n",
    "# Conta il numero di righe prima della rimozione\n",
    "righe_prima = len(df)\n",
    "\n",
    "# Droppa le righe che contengono 'Film' e 'Film in' seguiti da un numero nella colonna 'category'\n",
    "df = df[~df['category'].str.contains(r'Film \\| Original Music in \\d+', regex=True)]\n",
    "\n",
    "# Conta il numero di righe dopo la rimozione\n",
    "righe_dopo = len(df)\n",
    "\n",
    "# Calcola il numero di righe droppate\n",
    "righe_droppate = righe_prima - righe_dopo\n",
    "\n",
    "# Stampa il numero di righe droppate\n",
    "print(\"Numero di righe droppate:\", righe_droppate)\n",
    "df.to_csv('bafta_films_cleaned.csv', index=False)"
   ],
   "metadata": {
    "collapsed": false,
    "ExecuteTime": {
     "end_time": "2024-05-27T15:09:28.651757Z",
     "start_time": "2024-05-27T15:09:28.560765Z"
    }
   },
   "id": "deb3490d2e509283",
   "execution_count": 113
  },
  {
   "cell_type": "markdown",
   "source": [
    "*Outstanding British Contribution To Cinema in*"
   ],
   "metadata": {
    "collapsed": false
   },
   "id": "f6b3e944f26bca9e"
  },
  {
   "cell_type": "code",
   "outputs": [
    {
     "name": "stdout",
     "output_type": "stream",
     "text": [
      "Numero di righe da eliminare: 2\n",
      "Numero di righe droppate: 2\n"
     ]
    }
   ],
   "source": [
    "# Carica il dataset\n",
    "df = pd.read_csv('bafta_films_cleaned.csv')\n",
    "\n",
    "# Conta il numero di righe da eliminare\n",
    "righe_da_eliminare = df[df['category'].str.contains(r'Film \\| Outstanding British Contribution To Cinema in \\d+', regex=True)]\n",
    "\n",
    "# Stampa il numero di righe da eliminare\n",
    "print(\"Numero di righe da eliminare:\", len(righe_da_eliminare))\n",
    "\n",
    "# Carica il dataset\n",
    "df = pd.read_csv('bafta_films_cleaned.csv')\n",
    "\n",
    "# Conta il numero di righe prima della rimozione\n",
    "righe_prima = len(df)\n",
    "\n",
    "# Droppa le righe che contengono 'Film' e 'Film in' seguiti da un numero nella colonna 'category'\n",
    "df = df[~df['category'].str.contains(r'Film \\| Outstanding British Contribution To Cinema in \\d+', regex=True)]\n",
    "\n",
    "# Conta il numero di righe dopo la rimozione\n",
    "righe_dopo = len(df)\n",
    "\n",
    "# Calcola il numero di righe droppate\n",
    "righe_droppate = righe_prima - righe_dopo\n",
    "\n",
    "# Stampa il numero di righe droppate\n",
    "print(\"Numero di righe droppate:\", righe_droppate)\n",
    "df.to_csv('bafta_films_cleaned.csv', index=False)"
   ],
   "metadata": {
    "collapsed": false,
    "ExecuteTime": {
     "end_time": "2024-05-27T15:09:31.084291Z",
     "start_time": "2024-05-27T15:09:30.989400200Z"
    }
   },
   "id": "27c13deeb4d7abd4",
   "execution_count": 114
  },
  {
   "cell_type": "markdown",
   "source": [
    "*Alexander Korda Award for the outstanding British Film of the Year in*"
   ],
   "metadata": {
    "collapsed": false
   },
   "id": "af9dda32dbe72bbf"
  },
  {
   "cell_type": "code",
   "outputs": [
    {
     "name": "stdout",
     "output_type": "stream",
     "text": [
      "Numero di righe da eliminare: 18\n",
      "Numero di righe droppate: 18\n"
     ]
    }
   ],
   "source": [
    "# Carica il dataset\n",
    "df = pd.read_csv('bafta_films_cleaned.csv')\n",
    "\n",
    "# Conta il numero di righe da eliminare\n",
    "righe_da_eliminare = df[df['category'].str.contains(r'Film \\| Alexander Korda Award for the outstanding British Film of the Year in \\d+', regex=True)]\n",
    "\n",
    "# Stampa il numero di righe da eliminare\n",
    "print(\"Numero di righe da eliminare:\", len(righe_da_eliminare))\n",
    "\n",
    "# Carica il dataset\n",
    "df = pd.read_csv('bafta_films_cleaned.csv')\n",
    "\n",
    "# Conta il numero di righe prima della rimozione\n",
    "righe_prima = len(df)\n",
    "\n",
    "# Droppa le righe che contengono 'Film' e 'Film in' seguiti da un numero nella colonna 'category'\n",
    "df = df[~df['category'].str.contains(r'Film \\| Alexander Korda Award for the outstanding British Film of the Year in \\d+', regex=True)]\n",
    "\n",
    "# Conta il numero di righe dopo la rimozione\n",
    "righe_dopo = len(df)\n",
    "\n",
    "# Calcola il numero di righe droppate\n",
    "righe_droppate = righe_prima - righe_dopo\n",
    "\n",
    "# Stampa il numero di righe droppate\n",
    "print(\"Numero di righe droppate:\", righe_droppate)\n",
    "df.to_csv('bafta_films_cleaned.csv', index=False)"
   ],
   "metadata": {
    "collapsed": false,
    "ExecuteTime": {
     "end_time": "2024-05-27T15:09:33.662540200Z",
     "start_time": "2024-05-27T15:09:33.548207400Z"
    }
   },
   "id": "fc1948df91d1f6c8",
   "execution_count": 115
  },
  {
   "cell_type": "markdown",
   "source": [
    "*Make-Up And Hair in*"
   ],
   "metadata": {
    "collapsed": false
   },
   "id": "fd84975897e7ed5f"
  },
  {
   "cell_type": "code",
   "outputs": [
    {
     "name": "stdout",
     "output_type": "stream",
     "text": [
      "Numero di righe da eliminare: 18\n",
      "Numero di righe droppate: 18\n"
     ]
    }
   ],
   "source": [
    "# Carica il dataset\n",
    "df = pd.read_csv('bafta_films_cleaned.csv')\n",
    "\n",
    "# Conta il numero di righe da eliminare\n",
    "righe_da_eliminare = df[df['category'].str.contains(r'Film \\| Make-Up And Hair in \\d+', regex=True)]\n",
    "\n",
    "# Stampa il numero di righe da eliminare\n",
    "print(\"Numero di righe da eliminare:\", len(righe_da_eliminare))\n",
    "\n",
    "# Carica il dataset\n",
    "df = pd.read_csv('bafta_films_cleaned.csv')\n",
    "\n",
    "# Conta il numero di righe prima della rimozione\n",
    "righe_prima = len(df)\n",
    "\n",
    "# Droppa le righe che contengono 'Film' e 'Film in' seguiti da un numero nella colonna 'category'\n",
    "df = df[~df['category'].str.contains(r'Film \\| Make-Up And Hair in \\d+', regex=True)]\n",
    "\n",
    "# Conta il numero di righe dopo la rimozione\n",
    "righe_dopo = len(df)\n",
    "\n",
    "# Calcola il numero di righe droppate\n",
    "righe_droppate = righe_prima - righe_dopo\n",
    "\n",
    "# Stampa il numero di righe droppate\n",
    "print(\"Numero di righe droppate:\", righe_droppate)\n",
    "df.to_csv('bafta_films_cleaned.csv', index=False)"
   ],
   "metadata": {
    "collapsed": false,
    "ExecuteTime": {
     "end_time": "2024-05-27T15:09:37.328883400Z",
     "start_time": "2024-05-27T15:09:37.218284100Z"
    }
   },
   "id": "aca5cc9ae730f98c",
   "execution_count": 116
  },
  {
   "cell_type": "markdown",
   "source": [
    "*British Costume Design - Colour in*"
   ],
   "metadata": {
    "collapsed": false
   },
   "id": "c35a001176921662"
  },
  {
   "cell_type": "code",
   "outputs": [
    {
     "name": "stdout",
     "output_type": "stream",
     "text": [
      "Numero di righe da eliminare: 17\n",
      "Numero di righe droppate: 17\n"
     ]
    }
   ],
   "source": [
    "# Carica il dataset\n",
    "df = pd.read_csv('bafta_films_cleaned.csv')\n",
    "\n",
    "# Conta il numero di righe da eliminare\n",
    "righe_da_eliminare = df[df['category'].str.contains(r'Film \\| British Costume Design - Colour in \\d+', regex=True)]\n",
    "\n",
    "# Stampa il numero di righe da eliminare\n",
    "print(\"Numero di righe da eliminare:\", len(righe_da_eliminare))\n",
    "\n",
    "# Carica il dataset\n",
    "df = pd.read_csv('bafta_films_cleaned.csv')\n",
    "\n",
    "# Conta il numero di righe prima della rimozione\n",
    "righe_prima = len(df)\n",
    "\n",
    "# Droppa le righe che contengono 'Film' e 'Film in' seguiti da un numero nella colonna 'category'\n",
    "df = df[~df['category'].str.contains(r'Film \\| British Costume Design - Colour in \\d+', regex=True)]\n",
    "\n",
    "# Conta il numero di righe dopo la rimozione\n",
    "righe_dopo = len(df)\n",
    "\n",
    "# Calcola il numero di righe droppate\n",
    "righe_droppate = righe_prima - righe_dopo\n",
    "\n",
    "# Stampa il numero di righe droppate\n",
    "print(\"Numero di righe droppate:\", righe_droppate)\n",
    "df.to_csv('bafta_films_cleaned.csv', index=False)"
   ],
   "metadata": {
    "collapsed": false,
    "ExecuteTime": {
     "end_time": "2024-05-27T15:09:40.279206700Z",
     "start_time": "2024-05-27T15:09:40.162385800Z"
    }
   },
   "id": "7db8aafbaf093ef3",
   "execution_count": 117
  },
  {
   "cell_type": "markdown",
   "source": [
    "*British Cinematography - Black and White in*"
   ],
   "metadata": {
    "collapsed": false
   },
   "id": "8bbffe8991fb1087"
  },
  {
   "cell_type": "code",
   "outputs": [
    {
     "name": "stdout",
     "output_type": "stream",
     "text": [
      "Numero di righe da eliminare: 17\n",
      "Numero di righe droppate: 17\n"
     ]
    }
   ],
   "source": [
    "# Carica il dataset\n",
    "df = pd.read_csv('bafta_films_cleaned.csv')\n",
    "\n",
    "# Conta il numero di righe da eliminare\n",
    "righe_da_eliminare = df[df['category'].str.contains(r'Film \\| British Cinematography - Black and White in \\d+', regex=True)]\n",
    "\n",
    "# Stampa il numero di righe da eliminare\n",
    "print(\"Numero di righe da eliminare:\", len(righe_da_eliminare))\n",
    "\n",
    "# Carica il dataset\n",
    "df = pd.read_csv('bafta_films_cleaned.csv')\n",
    "\n",
    "# Conta il numero di righe prima della rimozione\n",
    "righe_prima = len(df)\n",
    "\n",
    "# Droppa le righe che contengono 'Film' e 'Film in' seguiti da un numero nella colonna 'category'\n",
    "df = df[~df['category'].str.contains(r'Film \\| British Cinematography - Black and White in \\d+', regex=True)]\n",
    "\n",
    "# Conta il numero di righe dopo la rimozione\n",
    "righe_dopo = len(df)\n",
    "\n",
    "# Calcola il numero di righe droppate\n",
    "righe_droppate = righe_prima - righe_dopo\n",
    "\n",
    "# Stampa il numero di righe droppate\n",
    "print(\"Numero di righe droppate:\", righe_droppate)\n",
    "df.to_csv('bafta_films_cleaned.csv', index=False)"
   ],
   "metadata": {
    "collapsed": false,
    "ExecuteTime": {
     "end_time": "2024-05-27T15:09:42.923894500Z",
     "start_time": "2024-05-27T15:09:42.807789Z"
    }
   },
   "id": "798d41a0cd67a88e",
   "execution_count": 118
  },
  {
   "cell_type": "markdown",
   "source": [
    "*Original Film Music in*"
   ],
   "metadata": {
    "collapsed": false
   },
   "id": "beefbff9c0c1ae88"
  },
  {
   "cell_type": "code",
   "outputs": [
    {
     "name": "stdout",
     "output_type": "stream",
     "text": [
      "Numero di righe da eliminare: 16\n",
      "Numero di righe droppate: 16\n"
     ]
    }
   ],
   "source": [
    "# Carica il dataset\n",
    "df = pd.read_csv('bafta_films_cleaned.csv')\n",
    "\n",
    "# Conta il numero di righe da eliminare\n",
    "righe_da_eliminare = df[df['category'].str.contains(r'Film \\| Original Film Music in \\d+', regex=True)]\n",
    "\n",
    "# Stampa il numero di righe da eliminare\n",
    "print(\"Numero di righe da eliminare:\", len(righe_da_eliminare))\n",
    "\n",
    "# Carica il dataset\n",
    "df = pd.read_csv('bafta_films_cleaned.csv')\n",
    "\n",
    "# Conta il numero di righe prima della rimozione\n",
    "righe_prima = len(df)\n",
    "\n",
    "# Droppa le righe che contengono 'Film' e 'Film in' seguiti da un numero nella colonna 'category'\n",
    "df = df[~df['category'].str.contains(r'Film \\| Original Film Music in \\d+', regex=True)]\n",
    "\n",
    "# Conta il numero di righe dopo la rimozione\n",
    "righe_dopo = len(df)\n",
    "\n",
    "# Calcola il numero di righe droppate\n",
    "righe_droppate = righe_prima - righe_dopo\n",
    "\n",
    "# Stampa il numero di righe droppate\n",
    "print(\"Numero di righe droppate:\", righe_droppate)\n",
    "df.to_csv('bafta_films_cleaned.csv', index=False)"
   ],
   "metadata": {
    "collapsed": false,
    "ExecuteTime": {
     "end_time": "2024-05-27T15:09:45.790278Z",
     "start_time": "2024-05-27T15:09:45.674237Z"
    }
   },
   "id": "2cfc6110635cd9bf",
   "execution_count": 119
  },
  {
   "cell_type": "markdown",
   "source": [
    "*British Art Direction - Colour in*"
   ],
   "metadata": {
    "collapsed": false
   },
   "id": "8afe4a411be8eb61"
  },
  {
   "cell_type": "code",
   "outputs": [
    {
     "name": "stdout",
     "output_type": "stream",
     "text": [
      "Numero di righe da eliminare: 16\n",
      "Numero di righe droppate: 16\n"
     ]
    }
   ],
   "source": [
    "# Carica il dataset\n",
    "df = pd.read_csv('bafta_films_cleaned.csv')\n",
    "\n",
    "# Conta il numero di righe da eliminare\n",
    "righe_da_eliminare = df[df['category'].str.contains(r'Film \\| British Art Direction - Colour in \\d+', regex=True)]\n",
    "\n",
    "# Stampa il numero di righe da eliminare\n",
    "print(\"Numero di righe da eliminare:\", len(righe_da_eliminare))\n",
    "\n",
    "# Carica il dataset\n",
    "df = pd.read_csv('bafta_films_cleaned.csv')\n",
    "\n",
    "# Conta il numero di righe prima della rimozione\n",
    "righe_prima = len(df)\n",
    "\n",
    "# Droppa le righe che contengono 'Film' e 'Film in' seguiti da un numero nella colonna 'category'\n",
    "df = df[~df['category'].str.contains(r'Film \\| British Art Direction - Colour in \\d+', regex=True)]\n",
    "\n",
    "# Conta il numero di righe dopo la rimozione\n",
    "righe_dopo = len(df)\n",
    "\n",
    "# Calcola il numero di righe droppate\n",
    "righe_droppate = righe_prima - righe_dopo\n",
    "\n",
    "# Stampa il numero di righe droppate\n",
    "print(\"Numero di righe droppate:\", righe_droppate)\n",
    "df.to_csv('bafta_films_cleaned.csv', index=False)"
   ],
   "metadata": {
    "collapsed": false,
    "ExecuteTime": {
     "end_time": "2024-05-27T15:09:48.730311600Z",
     "start_time": "2024-05-27T15:09:48.602187200Z"
    }
   },
   "id": "5ecf0ef8d63e4827",
   "execution_count": 120
  },
  {
   "cell_type": "markdown",
   "source": [
    "*EE Rising Star in*"
   ],
   "metadata": {
    "collapsed": false
   },
   "id": "fdb3b0522013203d"
  },
  {
   "cell_type": "code",
   "outputs": [
    {
     "name": "stdout",
     "output_type": "stream",
     "text": [
      "Numero di righe da eliminare: 0\n",
      "Numero di righe droppate: 0\n"
     ]
    }
   ],
   "source": [
    "# Carica il dataset\n",
    "df = pd.read_csv('bafta_films_cleaned.csv')\n",
    "\n",
    "# Conta il numero di righe da eliminare\n",
    "righe_da_eliminare = df[df['category'].str.contains(r'Film \\| EE Rising Star in \\d+', regex=True)]\n",
    "\n",
    "# Stampa il numero di righe da eliminare\n",
    "print(\"Numero di righe da eliminare:\", len(righe_da_eliminare))\n",
    "\n",
    "# Carica il dataset\n",
    "df = pd.read_csv('bafta_films_cleaned.csv')\n",
    "\n",
    "# Conta il numero di righe prima della rimozione\n",
    "righe_prima = len(df)\n",
    "\n",
    "# Droppa le righe che contengono 'Film' e 'Film in' seguiti da un numero nella colonna 'category'\n",
    "df = df[~df['category'].str.contains(r'Film \\| EE Rising Star in \\d+', regex=True)]\n",
    "\n",
    "# Conta il numero di righe dopo la rimozione\n",
    "righe_dopo = len(df)\n",
    "\n",
    "# Calcola il numero di righe droppate\n",
    "righe_droppate = righe_prima - righe_dopo\n",
    "\n",
    "# Stampa il numero di righe droppate\n",
    "print(\"Numero di righe droppate:\", righe_droppate)\n",
    "df.to_csv('bafta_films_cleaned.csv', index=False)"
   ],
   "metadata": {
    "collapsed": false,
    "ExecuteTime": {
     "end_time": "2024-05-27T15:09:52.124697100Z",
     "start_time": "2024-05-27T15:09:52.030543600Z"
    }
   },
   "id": "63e561fc051353a5",
   "execution_count": 121
  },
  {
   "cell_type": "markdown",
   "source": [
    "*Make Up and Hair in*"
   ],
   "metadata": {
    "collapsed": false
   },
   "id": "7bd5f100a536fd78"
  },
  {
   "cell_type": "code",
   "outputs": [
    {
     "name": "stdout",
     "output_type": "stream",
     "text": [
      "Numero di righe da eliminare: 15\n",
      "Numero di righe droppate: 15\n"
     ]
    }
   ],
   "source": [
    "# Carica il dataset\n",
    "df = pd.read_csv('bafta_films_cleaned.csv')\n",
    "\n",
    "# Conta il numero di righe da eliminare\n",
    "righe_da_eliminare = df[df['category'].str.contains(r'Film \\| Make Up and Hair in \\d+', regex=True)]\n",
    "\n",
    "# Stampa il numero di righe da eliminare\n",
    "print(\"Numero di righe da eliminare:\", len(righe_da_eliminare))\n",
    "\n",
    "# Carica il dataset\n",
    "df = pd.read_csv('bafta_films_cleaned.csv')\n",
    "\n",
    "# Conta il numero di righe prima della rimozione\n",
    "righe_prima = len(df)\n",
    "\n",
    "# Droppa le righe che contengono 'Film' e 'Film in' seguiti da un numero nella colonna 'category'\n",
    "df = df[~df['category'].str.contains(r'Film \\| Make Up and Hair in \\d+', regex=True)]\n",
    "\n",
    "# Conta il numero di righe dopo la rimozione\n",
    "righe_dopo = len(df)\n",
    "\n",
    "# Calcola il numero di righe droppate\n",
    "righe_droppate = righe_prima - righe_dopo\n",
    "\n",
    "# Stampa il numero di righe droppate\n",
    "print(\"Numero di righe droppate:\", righe_droppate)\n",
    "df.to_csv('bafta_films_cleaned.csv', index=False)"
   ],
   "metadata": {
    "collapsed": false,
    "ExecuteTime": {
     "end_time": "2024-05-27T15:09:55.093165300Z",
     "start_time": "2024-05-27T15:09:54.988751800Z"
    }
   },
   "id": "e1e087e169798c77",
   "execution_count": 122
  },
  {
   "cell_type": "markdown",
   "source": [
    "*John Grierson Award (Short Film) in*"
   ],
   "metadata": {
    "collapsed": false
   },
   "id": "bb9d07967b858a0e"
  },
  {
   "cell_type": "code",
   "outputs": [],
   "source": [
    "# Carica il dataset\n",
    "df = pd.read_csv('bafta_films_cleaned.csv')\n",
    "\n",
    "# Conta il numero di righe da eliminare\n",
    "righe_da_eliminare = df[df['category'].str.contains(r'Film \\| John Grierson Award (Short Film) in \\d+', regex=True)]\n",
    "\n",
    "# Stampa il numero di righe da eliminare\n",
    "print(\"Numero di righe da eliminare:\", len(righe_da_eliminare))\n",
    "\n",
    "# Carica il dataset\n",
    "df = pd.read_csv('bafta_films_cleaned.csv')\n",
    "\n",
    "# Conta il numero di righe prima della rimozione\n",
    "righe_prima = len(df)\n",
    "\n",
    "# Droppa le righe che contengono 'Film' e 'Film in' seguiti da un numero nella colonna 'category'\n",
    "df = df[~df['category'].str.contains(r'Film \\| John Grierson Award (Short Film) in \\d+', regex=True)]\n",
    "\n",
    "# Conta il numero di righe dopo la rimozione\n",
    "righe_dopo = len(df)\n",
    "\n",
    "# Calcola il numero di righe droppate\n",
    "righe_droppate = righe_prima - righe_dopo\n",
    "\n",
    "# Stampa il numero di righe droppate\n",
    "print(\"Numero di righe droppate:\", righe_droppate)\n",
    "df.to_csv('bafta_films_cleaned.csv', index=False)"
   ],
   "metadata": {
    "collapsed": false
   },
   "id": "29ec4de8a4a3ba1a",
   "execution_count": null
  },
  {
   "cell_type": "markdown",
   "source": [
    "*British Art Direction - Black and White in*"
   ],
   "metadata": {
    "collapsed": false
   },
   "id": "97477025acaa79bd"
  },
  {
   "cell_type": "code",
   "outputs": [
    {
     "name": "stdout",
     "output_type": "stream",
     "text": [
      "Numero di righe da eliminare: 12\n",
      "Numero di righe droppate: 12\n"
     ]
    }
   ],
   "source": [
    "# Carica il dataset\n",
    "df = pd.read_csv('bafta_films_cleaned.csv')\n",
    "\n",
    "# Conta il numero di righe da eliminare\n",
    "righe_da_eliminare = df[df['category'].str.contains(r'Film \\| British Art Direction - Black and White in \\d+', regex=True)]\n",
    "\n",
    "# Stampa il numero di righe da eliminare\n",
    "print(\"Numero di righe da eliminare:\", len(righe_da_eliminare))\n",
    "\n",
    "# Carica il dataset\n",
    "df = pd.read_csv('bafta_films_cleaned.csv')\n",
    "\n",
    "# Conta il numero di righe prima della rimozione\n",
    "righe_prima = len(df)\n",
    "\n",
    "# Droppa le righe che contengono 'Film' e 'Film in' seguiti da un numero nella colonna 'category'\n",
    "df = df[~df['category'].str.contains(r'Film \\| British Art Direction - Black and White in \\d+', regex=True)]\n",
    "\n",
    "# Conta il numero di righe dopo la rimozione\n",
    "righe_dopo = len(df)\n",
    "\n",
    "# Calcola il numero di righe droppate\n",
    "righe_droppate = righe_prima - righe_dopo\n",
    "\n",
    "# Stampa il numero di righe droppate\n",
    "print(\"Numero di righe droppate:\", righe_droppate)\n",
    "df.to_csv('bafta_films_cleaned.csv', index=False)"
   ],
   "metadata": {
    "collapsed": false,
    "ExecuteTime": {
     "end_time": "2024-05-27T15:10:04.308482600Z",
     "start_time": "2024-05-27T15:10:04.203897500Z"
    }
   },
   "id": "652f7fb6d660088a",
   "execution_count": 124
  },
  {
   "cell_type": "markdown",
   "source": [
    "*Make-Up in*"
   ],
   "metadata": {
    "collapsed": false
   },
   "id": "d63e51d4ffada515"
  },
  {
   "cell_type": "code",
   "outputs": [
    {
     "name": "stdout",
     "output_type": "stream",
     "text": [
      "Numero di righe da eliminare: 12\n",
      "Numero di righe droppate: 12\n"
     ]
    }
   ],
   "source": [
    "# Carica il dataset\n",
    "df = pd.read_csv('bafta_films_cleaned.csv')\n",
    "\n",
    "# Conta il numero di righe da eliminare\n",
    "righe_da_eliminare = df[df['category'].str.contains(r'Film \\| Make-Up in \\d+', regex=True)]\n",
    "\n",
    "# Stampa il numero di righe da eliminare\n",
    "print(\"Numero di righe da eliminare:\", len(righe_da_eliminare))\n",
    "\n",
    "# Carica il dataset\n",
    "df = pd.read_csv('bafta_films_cleaned.csv')\n",
    "\n",
    "# Conta il numero di righe prima della rimozione\n",
    "righe_prima = len(df)\n",
    "\n",
    "# Droppa le righe che contengono 'Film' e 'Film in' seguiti da un numero nella colonna 'category'\n",
    "df = df[~df['category'].str.contains(r'Film \\| Make-Up in \\d+', regex=True)]\n",
    "\n",
    "# Conta il numero di righe dopo la rimozione\n",
    "righe_dopo = len(df)\n",
    "\n",
    "# Calcola il numero di righe droppate\n",
    "righe_droppate = righe_prima - righe_dopo\n",
    "\n",
    "# Stampa il numero di righe droppate\n",
    "print(\"Numero di righe droppate:\", righe_droppate)\n",
    "df.to_csv('bafta_films_cleaned.csv', index=False)"
   ],
   "metadata": {
    "collapsed": false,
    "ExecuteTime": {
     "end_time": "2024-05-27T15:10:07.634916500Z",
     "start_time": "2024-05-27T15:10:07.521751400Z"
    }
   },
   "id": "6ab8a1c9b60712c2",
   "execution_count": 125
  },
  {
   "cell_type": "markdown",
   "source": [
    "*Original Song Written for a Film in*"
   ],
   "metadata": {
    "collapsed": false
   },
   "id": "23c097208470aaf"
  },
  {
   "cell_type": "code",
   "outputs": [
    {
     "name": "stdout",
     "output_type": "stream",
     "text": [
      "Numero di righe da eliminare: 12\n",
      "Numero di righe droppate: 12\n"
     ]
    }
   ],
   "source": [
    "# Carica il dataset\n",
    "df = pd.read_csv('bafta_films_cleaned.csv')\n",
    "\n",
    "# Conta il numero di righe da eliminare\n",
    "righe_da_eliminare = df[df['category'].str.contains(r'Film \\| Original Song Written for a Film in \\d+', regex=True)]\n",
    "\n",
    "# Stampa il numero di righe da eliminare\n",
    "print(\"Numero di righe da eliminare:\", len(righe_da_eliminare))\n",
    "\n",
    "# Carica il dataset\n",
    "df = pd.read_csv('bafta_films_cleaned.csv')\n",
    "\n",
    "# Conta il numero di righe prima della rimozione\n",
    "righe_prima = len(df)\n",
    "\n",
    "# Droppa le righe che contengono 'Film' e 'Film in' seguiti da un numero nella colonna 'category'\n",
    "df = df[~df['category'].str.contains(r'Film \\| Original Song Written for a Film in \\d+', regex=True)]\n",
    "\n",
    "# Conta il numero di righe dopo la rimozione\n",
    "righe_dopo = len(df)\n",
    "\n",
    "# Calcola il numero di righe droppate\n",
    "righe_droppate = righe_prima - righe_dopo\n",
    "\n",
    "# Stampa il numero di righe droppate\n",
    "print(\"Numero di righe droppate:\", righe_droppate)\n",
    "df.to_csv('bafta_films_cleaned.csv', index=False)"
   ],
   "metadata": {
    "collapsed": false,
    "ExecuteTime": {
     "end_time": "2024-05-27T15:10:11.707204400Z",
     "start_time": "2024-05-27T15:10:11.609515500Z"
    }
   },
   "id": "36ba5ebc900a4457",
   "execution_count": 126
  },
  {
   "cell_type": "markdown",
   "source": [
    "*Original Film Score in*"
   ],
   "metadata": {
    "collapsed": false
   },
   "id": "b855fa2abc9a10e"
  },
  {
   "cell_type": "code",
   "outputs": [
    {
     "name": "stdout",
     "output_type": "stream",
     "text": [
      "Numero di righe da eliminare: 8\n",
      "Numero di righe droppate: 8\n"
     ]
    }
   ],
   "source": [
    "# Carica il dataset\n",
    "df = pd.read_csv('bafta_films_cleaned.csv')\n",
    "\n",
    "# Conta il numero di righe da eliminare\n",
    "righe_da_eliminare = df[df['category'].str.contains(r'Film \\| Original Film Score in \\d+', regex=True)]\n",
    "\n",
    "# Stampa il numero di righe da eliminare\n",
    "print(\"Numero di righe da eliminare:\", len(righe_da_eliminare))\n",
    "\n",
    "# Carica il dataset\n",
    "df = pd.read_csv('bafta_films_cleaned.csv')\n",
    "\n",
    "# Conta il numero di righe prima della rimozione\n",
    "righe_prima = len(df)\n",
    "\n",
    "# Droppa le righe che contengono 'Film' e 'Film in' seguiti da un numero nella colonna 'category'\n",
    "df = df[~df['category'].str.contains(r'Film \\| Original Film Score in \\d+', regex=True)]\n",
    "\n",
    "# Conta il numero di righe dopo la rimozione\n",
    "righe_dopo = len(df)\n",
    "\n",
    "# Calcola il numero di righe droppate\n",
    "righe_droppate = righe_prima - righe_dopo\n",
    "\n",
    "# Stampa il numero di righe droppate\n",
    "print(\"Numero di righe droppate:\", righe_droppate)\n",
    "df.to_csv('bafta_films_cleaned.csv', index=False)"
   ],
   "metadata": {
    "collapsed": false,
    "ExecuteTime": {
     "end_time": "2024-05-27T15:10:14.850191400Z",
     "start_time": "2024-05-27T15:10:14.717435700Z"
    }
   },
   "id": "a428704baafce0d8",
   "execution_count": 127
  },
  {
   "cell_type": "markdown",
   "source": [
    "*Score for a Film in*"
   ],
   "metadata": {
    "collapsed": false
   },
   "id": "2a4aac5f979cd397"
  },
  {
   "cell_type": "code",
   "outputs": [
    {
     "name": "stdout",
     "output_type": "stream",
     "text": [
      "Numero di righe da eliminare: 8\n",
      "Numero di righe droppate: 8\n"
     ]
    }
   ],
   "source": [
    "# Carica il dataset\n",
    "df = pd.read_csv('bafta_films_cleaned.csv')\n",
    "\n",
    "# Conta il numero di righe da eliminare\n",
    "righe_da_eliminare = df[df['category'].str.contains(r'Film \\| Score for a Film in \\d+', regex=True)]\n",
    "\n",
    "# Stampa il numero di righe da eliminare\n",
    "print(\"Numero di righe da eliminare:\", len(righe_da_eliminare))\n",
    "\n",
    "# Carica il dataset\n",
    "df = pd.read_csv('bafta_films_cleaned.csv')\n",
    "\n",
    "# Conta il numero di righe prima della rimozione\n",
    "righe_prima = len(df)\n",
    "\n",
    "# Droppa le righe che contengono 'Film' e 'Film in' seguiti da un numero nella colonna 'category'\n",
    "df = df[~df['category'].str.contains(r'Film \\| Score for a Film in \\d+', regex=True)]\n",
    "\n",
    "# Conta il numero di righe dopo la rimozione\n",
    "righe_dopo = len(df)\n",
    "\n",
    "# Calcola il numero di righe droppate\n",
    "righe_droppate = righe_prima - righe_dopo\n",
    "\n",
    "# Stampa il numero di righe droppate\n",
    "print(\"Numero di righe droppate:\", righe_droppate)\n",
    "df.to_csv('bafta_films_cleaned.csv', index=False)"
   ],
   "metadata": {
    "collapsed": false,
    "ExecuteTime": {
     "end_time": "2024-05-27T15:10:17.579450700Z",
     "start_time": "2024-05-27T15:10:17.485662800Z"
    }
   },
   "id": "33c392eecafe2f62",
   "execution_count": 128
  },
  {
   "cell_type": "markdown",
   "source": [
    "*British Costume Design - Black and White in*"
   ],
   "metadata": {
    "collapsed": false
   },
   "id": "fb06e350eb98b0e0"
  },
  {
   "cell_type": "code",
   "outputs": [
    {
     "name": "stdout",
     "output_type": "stream",
     "text": [
      "Numero di righe da eliminare: 5\n",
      "Numero di righe droppate: 5\n"
     ]
    }
   ],
   "source": [
    "# Carica il dataset\n",
    "df = pd.read_csv('bafta_films_cleaned.csv')\n",
    "\n",
    "# Conta il numero di righe da eliminare\n",
    "righe_da_eliminare = df[df['category'].str.contains(r'Film \\| British Costume Design - Black and White in \\d+', regex=True)]\n",
    "\n",
    "# Stampa il numero di righe da eliminare\n",
    "print(\"Numero di righe da eliminare:\", len(righe_da_eliminare))\n",
    "\n",
    "# Carica il dataset\n",
    "df = pd.read_csv('bafta_films_cleaned.csv')\n",
    "\n",
    "# Conta il numero di righe prima della rimozione\n",
    "righe_prima = len(df)\n",
    "\n",
    "# Droppa le righe che contengono 'Film' e 'Film in' seguiti da un numero nella colonna 'category'\n",
    "df = df[~df['category'].str.contains(r'Film \\| British Costume Design - Black and White in \\d+', regex=True)]\n",
    "\n",
    "# Conta il numero di righe dopo la rimozione\n",
    "righe_dopo = len(df)\n",
    "\n",
    "# Calcola il numero di righe droppate\n",
    "righe_droppate = righe_prima - righe_dopo\n",
    "\n",
    "# Stampa il numero di righe droppate\n",
    "print(\"Numero di righe droppate:\", righe_droppate)\n",
    "df.to_csv('bafta_films_cleaned.csv', index=False)"
   ],
   "metadata": {
    "collapsed": false,
    "ExecuteTime": {
     "end_time": "2024-05-27T15:10:20.300609200Z",
     "start_time": "2024-05-27T15:10:20.196830Z"
    }
   },
   "id": "fd1f26dc03b04b1b",
   "execution_count": 129
  },
  {
   "cell_type": "markdown",
   "source": [
    "*Casting in*"
   ],
   "metadata": {
    "collapsed": false
   },
   "id": "d6966f410396f17c"
  },
  {
   "cell_type": "code",
   "outputs": [
    {
     "name": "stdout",
     "output_type": "stream",
     "text": [
      "Numero di righe da eliminare: 5\n",
      "Numero di righe droppate: 5\n"
     ]
    }
   ],
   "source": [
    "# Carica il dataset\n",
    "df = pd.read_csv('bafta_films_cleaned.csv')\n",
    "\n",
    "# Conta il numero di righe da eliminare\n",
    "righe_da_eliminare = df[df['category'].str.contains(r'Film \\| Casting in \\d+', regex=True)]\n",
    "\n",
    "# Stampa il numero di righe da eliminare\n",
    "print(\"Numero di righe da eliminare:\", len(righe_da_eliminare))\n",
    "\n",
    "# Carica il dataset\n",
    "df = pd.read_csv('bafta_films_cleaned.csv')\n",
    "\n",
    "# Conta il numero di righe prima della rimozione\n",
    "righe_prima = len(df)\n",
    "\n",
    "# Droppa le righe che contengono 'Film' e 'Film in' seguiti da un numero nella colonna 'category'\n",
    "df = df[~df['category'].str.contains(r'Film \\| Casting in \\d+', regex=True)]\n",
    "\n",
    "# Conta il numero di righe dopo la rimozione\n",
    "righe_dopo = len(df)\n",
    "\n",
    "# Calcola il numero di righe droppate\n",
    "righe_droppate = righe_prima - righe_dopo\n",
    "\n",
    "# Stampa il numero di righe droppate\n",
    "print(\"Numero di righe droppate:\", righe_droppate)\n",
    "df.to_csv('bafta_films_cleaned.csv', index=False)"
   ],
   "metadata": {
    "collapsed": false,
    "ExecuteTime": {
     "end_time": "2024-05-27T15:10:29.230841900Z",
     "start_time": "2024-05-27T15:10:29.126276500Z"
    }
   },
   "id": "731cdf755c81583",
   "execution_count": 130
  },
  {
   "cell_type": "markdown",
   "source": [
    "*Original Score in*"
   ],
   "metadata": {
    "collapsed": false
   },
   "id": "b3fdbc0bb9abefd0"
  },
  {
   "cell_type": "code",
   "outputs": [
    {
     "name": "stdout",
     "output_type": "stream",
     "text": [
      "Numero di righe da eliminare: 5\n",
      "Numero di righe droppate: 5\n"
     ]
    }
   ],
   "source": [
    "# Carica il dataset\n",
    "df = pd.read_csv('bafta_films_cleaned.csv')\n",
    "\n",
    "# Conta il numero di righe da eliminare\n",
    "righe_da_eliminare = df[df['category'].str.contains(r'Film \\| Original Score in \\d+', regex=True)]\n",
    "\n",
    "# Stampa il numero di righe da eliminare\n",
    "print(\"Numero di righe da eliminare:\", len(righe_da_eliminare))\n",
    "\n",
    "# Carica il dataset\n",
    "df = pd.read_csv('bafta_films_cleaned.csv')\n",
    "\n",
    "# Conta il numero di righe prima della rimozione\n",
    "righe_prima = len(df)\n",
    "\n",
    "# Droppa le righe che contengono 'Film' e 'Film in' seguiti da un numero nella colonna 'category'\n",
    "df = df[~df['category'].str.contains(r'Film \\| Original Score in \\d+', regex=True)]\n",
    "\n",
    "# Conta il numero di righe dopo la rimozione\n",
    "righe_dopo = len(df)\n",
    "\n",
    "# Calcola il numero di righe droppate\n",
    "righe_droppate = righe_prima - righe_dopo\n",
    "\n",
    "# Stampa il numero di righe droppate\n",
    "print(\"Numero di righe droppate:\", righe_droppate)\n",
    "df.to_csv('bafta_films_cleaned.csv', index=False)"
   ],
   "metadata": {
    "collapsed": false,
    "ExecuteTime": {
     "end_time": "2024-05-27T15:10:32.497429100Z",
     "start_time": "2024-05-27T15:10:32.376806800Z"
    }
   },
   "id": "c1c2e8488ea424ab",
   "execution_count": 131
  },
  {
   "cell_type": "markdown",
   "source": [
    "*Make Up & Hair in*"
   ],
   "metadata": {
    "collapsed": false
   },
   "id": "db920180355467e"
  },
  {
   "cell_type": "code",
   "outputs": [
    {
     "name": "stdout",
     "output_type": "stream",
     "text": [
      "Numero di righe da eliminare: 5\n",
      "Numero di righe droppate: 5\n"
     ]
    }
   ],
   "source": [
    "# Carica il dataset\n",
    "df = pd.read_csv('bafta_films_cleaned.csv')\n",
    "\n",
    "# Conta il numero di righe da eliminare\n",
    "righe_da_eliminare = df[df['category'].str.contains(r'Film \\| Make Up & Hair in \\d+', regex=True)]\n",
    "\n",
    "# Stampa il numero di righe da eliminare\n",
    "print(\"Numero di righe da eliminare:\", len(righe_da_eliminare))\n",
    "\n",
    "# Carica il dataset\n",
    "df = pd.read_csv('bafta_films_cleaned.csv')\n",
    "\n",
    "# Conta il numero di righe prima della rimozione\n",
    "righe_prima = len(df)\n",
    "\n",
    "# Droppa le righe che contengono 'Film' e 'Film in' seguiti da un numero nella colonna 'category'\n",
    "df = df[~df['category'].str.contains(r'Film \\| Make Up & Hair in \\d+', regex=True)]\n",
    "\n",
    "# Conta il numero di righe dopo la rimozione\n",
    "righe_dopo = len(df)\n",
    "\n",
    "# Calcola il numero di righe droppate\n",
    "righe_droppate = righe_prima - righe_dopo\n",
    "\n",
    "# Stampa il numero di righe droppate\n",
    "print(\"Numero di righe droppate:\", righe_droppate)\n",
    "df.to_csv('bafta_films_cleaned.csv', index=False)"
   ],
   "metadata": {
    "collapsed": false,
    "ExecuteTime": {
     "end_time": "2024-05-27T15:10:35.596919700Z",
     "start_time": "2024-05-27T15:10:35.477404800Z"
    }
   },
   "id": "40eb8f38467fae23",
   "execution_count": 132
  },
  {
   "cell_type": "markdown",
   "source": [
    "*Carl Foreman Award for the Most Promising Newcomer in British Film in*"
   ],
   "metadata": {
    "collapsed": false
   },
   "id": "e8f053d2f2b2608d"
  },
  {
   "cell_type": "code",
   "outputs": [
    {
     "name": "stdout",
     "output_type": "stream",
     "text": [
      "Numero di righe da eliminare: 5\n",
      "Numero di righe droppate: 5\n"
     ]
    }
   ],
   "source": [
    "# Carica il dataset\n",
    "df = pd.read_csv('bafta_films_cleaned.csv')\n",
    "\n",
    "# Conta il numero di righe da eliminare\n",
    "righe_da_eliminare = df[df['category'].str.contains(r'Film \\| Carl Foreman Award for the Most Promising Newcomer in British Film in \\d+', regex=True)]\n",
    "\n",
    "# Stampa il numero di righe da eliminare\n",
    "print(\"Numero di righe da eliminare:\", len(righe_da_eliminare))\n",
    "\n",
    "# Carica il dataset\n",
    "df = pd.read_csv('bafta_films_cleaned.csv')\n",
    "\n",
    "# Conta il numero di righe prima della rimozione\n",
    "righe_prima = len(df)\n",
    "\n",
    "# Droppa le righe che contengono 'Film' e 'Film in' seguiti da un numero nella colonna 'category'\n",
    "df = df[~df['category'].str.contains(r'Film \\| Carl Foreman Award for the Most Promising Newcomer in British Film in \\d+', regex=True)]\n",
    "\n",
    "# Conta il numero di righe dopo la rimozione\n",
    "righe_dopo = len(df)\n",
    "\n",
    "# Calcola il numero di righe droppate\n",
    "righe_droppate = righe_prima - righe_dopo\n",
    "\n",
    "# Stampa il numero di righe droppate\n",
    "print(\"Numero di righe droppate:\", righe_droppate)\n",
    "df.to_csv('bafta_films_cleaned.csv', index=False)"
   ],
   "metadata": {
    "collapsed": false,
    "ExecuteTime": {
     "end_time": "2024-05-27T15:10:38.913250800Z",
     "start_time": "2024-05-27T15:10:38.814119700Z"
    }
   },
   "id": "3131cc16b34aa860",
   "execution_count": 133
  },
  {
   "cell_type": "markdown",
   "source": [
    "*Special Award for Craft in*"
   ],
   "metadata": {
    "collapsed": false
   },
   "id": "4ffe5e4bda4482a6"
  },
  {
   "cell_type": "code",
   "outputs": [
    {
     "name": "stdout",
     "output_type": "stream",
     "text": [
      "Numero di righe da eliminare: 0\n",
      "Numero di righe droppate: 0\n"
     ]
    }
   ],
   "source": [
    "# Carica il dataset\n",
    "df = pd.read_csv('bafta_films_cleaned.csv')\n",
    "\n",
    "# Conta il numero di righe da eliminare\n",
    "righe_da_eliminare = df[df['category'].str.contains(r'Film \\| Special Award for Craft in \\d+', regex=True)]\n",
    "\n",
    "# Stampa il numero di righe da eliminare\n",
    "print(\"Numero di righe da eliminare:\", len(righe_da_eliminare))\n",
    "\n",
    "# Carica il dataset\n",
    "df = pd.read_csv('bafta_films_cleaned.csv')\n",
    "\n",
    "# Conta il numero di righe prima della rimozione\n",
    "righe_prima = len(df)\n",
    "\n",
    "# Droppa le righe che contengono 'Film' e 'Film in' seguiti da un numero nella colonna 'category'\n",
    "df = df[~df['category'].str.contains(r'Film \\| Special Award for Craft in \\d+', regex=True)]\n",
    "\n",
    "# Conta il numero di righe dopo la rimozione\n",
    "righe_dopo = len(df)\n",
    "\n",
    "# Calcola il numero di righe droppate\n",
    "righe_droppate = righe_prima - righe_dopo\n",
    "\n",
    "# Stampa il numero di righe droppate\n",
    "print(\"Numero di righe droppate:\", righe_droppate)\n",
    "df.to_csv('bafta_films_cleaned.csv', index=False)"
   ],
   "metadata": {
    "collapsed": false,
    "ExecuteTime": {
     "end_time": "2024-05-27T15:10:42.597412500Z",
     "start_time": "2024-05-27T15:10:42.449795200Z"
    }
   },
   "id": "b21bdd0cb7080417",
   "execution_count": 134
  },
  {
   "cell_type": "markdown",
   "source": [
    "*Outstanding British Contribution to Cinema in*"
   ],
   "metadata": {
    "collapsed": false
   },
   "id": "c4ff68a64c7d0590"
  },
  {
   "cell_type": "code",
   "outputs": [
    {
     "name": "stdout",
     "output_type": "stream",
     "text": [
      "Numero di righe da eliminare: 0\n",
      "Numero di righe droppate: 0\n"
     ]
    }
   ],
   "source": [
    "# Carica il dataset\n",
    "df = pd.read_csv('bafta_films_cleaned.csv')\n",
    "\n",
    "# Conta il numero di righe da eliminare\n",
    "righe_da_eliminare = df[df['category'].str.contains(r'Film \\| Outstanding British Contribution to Cinema in \\d+', regex=True)]\n",
    "\n",
    "# Stampa il numero di righe da eliminare\n",
    "print(\"Numero di righe da eliminare:\", len(righe_da_eliminare))\n",
    "\n",
    "# Carica il dataset\n",
    "df = pd.read_csv('bafta_films_cleaned.csv')\n",
    "\n",
    "# Conta il numero di righe prima della rimozione\n",
    "righe_prima = len(df)\n",
    "\n",
    "# Droppa le righe che contengono 'Film' e 'Film in' seguiti da un numero nella colonna 'category'\n",
    "df = df[~df['category'].str.contains(r'Film \\| Outstanding British Contribution to Cinema in \\d+', regex=True)]\n",
    "\n",
    "# Conta il numero di righe dopo la rimozione\n",
    "righe_dopo = len(df)\n",
    "\n",
    "# Calcola il numero di righe droppate\n",
    "righe_droppate = righe_prima - righe_dopo\n",
    "\n",
    "# Stampa il numero di righe droppate\n",
    "print(\"Numero di righe droppate:\", righe_droppate)\n",
    "df.to_csv('bafta_films_cleaned.csv', index=False)"
   ],
   "metadata": {
    "collapsed": false,
    "ExecuteTime": {
     "end_time": "2024-05-27T15:10:45.867923200Z",
     "start_time": "2024-05-27T15:10:45.764177600Z"
    }
   },
   "id": "fbd9b98e76f5ef5e",
   "execution_count": 135
  },
  {
   "cell_type": "markdown",
   "source": [
    "*Achievements in Special Effects in*"
   ],
   "metadata": {
    "collapsed": false
   },
   "id": "eef73660a14ff04"
  },
  {
   "cell_type": "code",
   "outputs": [
    {
     "name": "stdout",
     "output_type": "stream",
     "text": [
      "Numero di righe da eliminare: 4\n",
      "Numero di righe droppate: 4\n"
     ]
    }
   ],
   "source": [
    "# Carica il dataset\n",
    "df = pd.read_csv('bafta_films_cleaned.csv')\n",
    "\n",
    "# Conta il numero di righe da eliminare\n",
    "righe_da_eliminare = df[df['category'].str.contains(r'Film \\| Achievements in Special Effects in \\d+', regex=True)]\n",
    "\n",
    "# Stampa il numero di righe da eliminare\n",
    "print(\"Numero di righe da eliminare:\", len(righe_da_eliminare))\n",
    "\n",
    "# Carica il dataset\n",
    "df = pd.read_csv('bafta_films_cleaned.csv')\n",
    "\n",
    "# Conta il numero di righe prima della rimozione\n",
    "righe_prima = len(df)\n",
    "\n",
    "# Droppa le righe che contengono 'Film' e 'Film in' seguiti da un numero nella colonna 'category'\n",
    "df = df[~df['category'].str.contains(r'Film \\| Achievements in Special Effects in \\d+', regex=True)]\n",
    "\n",
    "# Conta il numero di righe dopo la rimozione\n",
    "righe_dopo = len(df)\n",
    "\n",
    "# Calcola il numero di righe droppate\n",
    "righe_droppate = righe_prima - righe_dopo\n",
    "\n",
    "# Stampa il numero di righe droppate\n",
    "print(\"Numero di righe droppate:\", righe_droppate)\n",
    "df.to_csv('bafta_films_cleaned.csv', index=False)"
   ],
   "metadata": {
    "collapsed": false,
    "ExecuteTime": {
     "end_time": "2024-05-27T15:10:48.680166Z",
     "start_time": "2024-05-27T15:10:48.594454100Z"
    }
   },
   "id": "1e290b73a481817a",
   "execution_count": 136
  },
  {
   "cell_type": "markdown",
   "source": [
    "*Factual Film in*"
   ],
   "metadata": {
    "collapsed": false
   },
   "id": "a69989a98c5a36f8"
  },
  {
   "cell_type": "code",
   "outputs": [
    {
     "name": "stdout",
     "output_type": "stream",
     "text": [
      "Numero di righe da eliminare: 4\n",
      "Numero di righe droppate: 4\n"
     ]
    }
   ],
   "source": [
    "# Carica il dataset\n",
    "df = pd.read_csv('bafta_films_cleaned.csv')\n",
    "\n",
    "# Conta il numero di righe da eliminare\n",
    "righe_da_eliminare = df[df['category'].str.contains(r'Film \\| Factual Film in \\d+', regex=True)]\n",
    "\n",
    "# Stampa il numero di righe da eliminare\n",
    "print(\"Numero di righe da eliminare:\", len(righe_da_eliminare))\n",
    "\n",
    "# Carica il dataset\n",
    "df = pd.read_csv('bafta_films_cleaned.csv')\n",
    "\n",
    "# Conta il numero di righe prima della rimozione\n",
    "righe_prima = len(df)\n",
    "\n",
    "# Droppa le righe che contengono 'Film' e 'Film in' seguiti da un numero nella colonna 'category'\n",
    "df = df[~df['category'].str.contains(r'Film \\| Factual Film in \\d+', regex=True)]\n",
    "\n",
    "# Conta il numero di righe dopo la rimozione\n",
    "righe_dopo = len(df)\n",
    "\n",
    "# Calcola il numero di righe droppate\n",
    "righe_droppate = righe_prima - righe_dopo\n",
    "\n",
    "# Stampa il numero di righe droppate\n",
    "print(\"Numero di righe droppate:\", righe_droppate)\n",
    "df.to_csv('bafta_films_cleaned.csv', index=False)"
   ],
   "metadata": {
    "collapsed": false,
    "ExecuteTime": {
     "end_time": "2024-05-27T15:10:52.493979300Z",
     "start_time": "2024-05-27T15:10:52.406461900Z"
    }
   },
   "id": "46c1712fd4a733fb",
   "execution_count": 137
  },
  {
   "cell_type": "markdown",
   "source": [
    "*Certificate Of Merit in*"
   ],
   "metadata": {
    "collapsed": false
   },
   "id": "792ef5ef4a618714"
  },
  {
   "cell_type": "code",
   "outputs": [
    {
     "name": "stdout",
     "output_type": "stream",
     "text": [
      "Numero di righe da eliminare: 1\n",
      "Numero di righe droppate: 1\n"
     ]
    }
   ],
   "source": [
    "# Carica il dataset\n",
    "df = pd.read_csv('bafta_films_cleaned.csv')\n",
    "\n",
    "# Conta il numero di righe da eliminare\n",
    "righe_da_eliminare = df[df['category'].str.contains(r'Film \\| Certificate Of Merit in \\d+', regex=True)]\n",
    "\n",
    "# Stampa il numero di righe da eliminare\n",
    "print(\"Numero di righe da eliminare:\", len(righe_da_eliminare))\n",
    "\n",
    "# Carica il dataset\n",
    "df = pd.read_csv('bafta_films_cleaned.csv')\n",
    "\n",
    "# Conta il numero di righe prima della rimozione\n",
    "righe_prima = len(df)\n",
    "\n",
    "# Droppa le righe che contengono 'Film' e 'Film in' seguiti da un numero nella colonna 'category'\n",
    "df = df[~df['category'].str.contains(r'Film \\| Certificate Of Merit in \\d+', regex=True)]\n",
    "\n",
    "# Conta il numero di righe dopo la rimozione\n",
    "righe_dopo = len(df)\n",
    "\n",
    "# Calcola il numero di righe droppate\n",
    "righe_droppate = righe_prima - righe_dopo\n",
    "\n",
    "# Stampa il numero di righe droppate\n",
    "print(\"Numero di righe droppate:\", righe_droppate)\n",
    "df.to_csv('bafta_films_cleaned.csv', index=False)"
   ],
   "metadata": {
    "collapsed": false,
    "ExecuteTime": {
     "end_time": "2024-05-27T15:10:57.222789800Z",
     "start_time": "2024-05-27T15:10:57.133632900Z"
    }
   },
   "id": "99c8da076c85ea13",
   "execution_count": 138
  },
  {
   "cell_type": "markdown",
   "source": [
    "*Best Cinematography - Black and White in*"
   ],
   "metadata": {
    "collapsed": false
   },
   "id": "51c18d682a60c424"
  },
  {
   "cell_type": "code",
   "outputs": [
    {
     "name": "stdout",
     "output_type": "stream",
     "text": [
      "Numero di righe da eliminare: 4\n",
      "Numero di righe droppate: 4\n"
     ]
    }
   ],
   "source": [
    "# Carica il dataset\n",
    "df = pd.read_csv('bafta_films_cleaned.csv')\n",
    "\n",
    "# Conta il numero di righe da eliminare\n",
    "righe_da_eliminare = df[df['category'].str.contains(r'Film \\| Best Cinematography - Black and White in \\d+', regex=True)]\n",
    "\n",
    "# Stampa il numero di righe da eliminare\n",
    "print(\"Numero di righe da eliminare:\", len(righe_da_eliminare))\n",
    "\n",
    "# Carica il dataset\n",
    "df = pd.read_csv('bafta_films_cleaned.csv')\n",
    "\n",
    "# Conta il numero di righe prima della rimozione\n",
    "righe_prima = len(df)\n",
    "\n",
    "# Droppa le righe che contengono 'Film' e 'Film in' seguiti da un numero nella colonna 'category'\n",
    "df = df[~df['category'].str.contains(r'Film \\| Best Cinematography - Black and White in \\d+', regex=True)]\n",
    "\n",
    "# Conta il numero di righe dopo la rimozione\n",
    "righe_dopo = len(df)\n",
    "\n",
    "# Calcola il numero di righe droppate\n",
    "righe_droppate = righe_prima - righe_dopo\n",
    "\n",
    "# Stampa il numero di righe droppate\n",
    "print(\"Numero di righe droppate:\", righe_droppate)\n",
    "df.to_csv('bafta_films_cleaned.csv', index=False)"
   ],
   "metadata": {
    "collapsed": false,
    "ExecuteTime": {
     "end_time": "2024-05-27T15:11:00.390998200Z",
     "start_time": "2024-05-27T15:11:00.281872100Z"
    }
   },
   "id": "2741fe1cc6f022d3",
   "execution_count": 139
  },
  {
   "cell_type": "markdown",
   "source": [
    "*Editing - for best film editing of a British Film in*"
   ],
   "metadata": {
    "collapsed": false
   },
   "id": "3b9459f44123e1d1"
  },
  {
   "cell_type": "code",
   "outputs": [
    {
     "name": "stdout",
     "output_type": "stream",
     "text": [
      "Numero di righe da eliminare: 4\n",
      "Numero di righe droppate: 0\n"
     ]
    }
   ],
   "source": [
    "# Carica il dataset\n",
    "df = pd.read_csv('bafta_films_cleaned.csv')\n",
    "\n",
    "# Conta il numero di righe da eliminare\n",
    "righe_da_eliminare = df[df['category'].str.contains(r'Film \\| Editing - for best film editing of a British Film in \\d+', regex=True)]\n",
    "\n",
    "# Stampa il numero di righe da eliminare\n",
    "print(\"Numero di righe da eliminare:\", len(righe_da_eliminare))\n",
    "\n",
    "# Carica il dataset\n",
    "df = pd.read_csv('bafta_films_cleaned.csv')\n",
    "\n",
    "# Conta il numero di righe prima della rimozione\n",
    "righe_prima = len(df)\n",
    "\n",
    "# Droppa le righe che contengono 'Film' e 'Film in' seguiti da un numero nella colonna 'category'\n",
    "df = df[~df['category'].str.contains(r'Film \\| Best Cinematography - Black and White in \\d+', regex=True)]\n",
    "\n",
    "# Conta il numero di righe dopo la rimozione\n",
    "righe_dopo = len(df)\n",
    "\n",
    "# Calcola il numero di righe droppate\n",
    "righe_droppate = righe_prima - righe_dopo\n",
    "\n",
    "# Stampa il numero di righe droppate\n",
    "print(\"Numero di righe droppate:\", righe_droppate)\n",
    "df.to_csv('bafta_films_cleaned.csv', index=False)"
   ],
   "metadata": {
    "collapsed": false,
    "ExecuteTime": {
     "end_time": "2024-05-27T15:11:03.337747600Z",
     "start_time": "2024-05-27T15:11:03.203917100Z"
    }
   },
   "id": "80766b54d3c77de1",
   "execution_count": 140
  },
  {
   "cell_type": "markdown",
   "source": [
    "*British Cinematography in*"
   ],
   "metadata": {
    "collapsed": false
   },
   "id": "72412fa127b4b90d"
  },
  {
   "cell_type": "code",
   "outputs": [
    {
     "name": "stdout",
     "output_type": "stream",
     "text": [
      "Numero di righe da eliminare: 4\n",
      "Numero di righe droppate: 4\n"
     ]
    }
   ],
   "source": [
    "# Carica il dataset\n",
    "df = pd.read_csv('bafta_films_cleaned.csv')\n",
    "\n",
    "# Conta il numero di righe da eliminare\n",
    "righe_da_eliminare = df[df['category'].str.contains(r'Film \\| British Cinematography in \\d+', regex=True)]\n",
    "\n",
    "# Stampa il numero di righe da eliminare\n",
    "print(\"Numero di righe da eliminare:\", len(righe_da_eliminare))\n",
    "\n",
    "# Carica il dataset\n",
    "df = pd.read_csv('bafta_films_cleaned.csv')\n",
    "\n",
    "# Conta il numero di righe prima della rimozione\n",
    "righe_prima = len(df)\n",
    "\n",
    "# Droppa le righe che contengono 'Film' e 'Film in' seguiti da un numero nella colonna 'category'\n",
    "df = df[~df['category'].str.contains(r'Film \\| British Cinematography in \\d+', regex=True)]\n",
    "\n",
    "# Conta il numero di righe dopo la rimozione\n",
    "righe_dopo = len(df)\n",
    "\n",
    "# Calcola il numero di righe droppate\n",
    "righe_droppate = righe_prima - righe_dopo\n",
    "\n",
    "# Stampa il numero di righe droppate\n",
    "print(\"Numero di righe droppate:\", righe_droppate)\n",
    "df.to_csv('bafta_films_cleaned.csv', index=False)"
   ],
   "metadata": {
    "collapsed": false,
    "ExecuteTime": {
     "end_time": "2024-05-27T15:11:10.158360100Z",
     "start_time": "2024-05-27T15:11:10.043946400Z"
    }
   },
   "id": "76613a5eb8e601e9",
   "execution_count": 141
  },
  {
   "cell_type": "markdown",
   "source": [
    "*Short Fictional Film in*"
   ],
   "metadata": {
    "collapsed": false
   },
   "id": "c5c96724fbc753a6"
  },
  {
   "cell_type": "code",
   "outputs": [
    {
     "name": "stdout",
     "output_type": "stream",
     "text": [
      "Numero di righe da eliminare: 0\n",
      "Numero di righe droppate: 0\n"
     ]
    }
   ],
   "source": [
    "# Carica il dataset\n",
    "df = pd.read_csv('bafta_films_cleaned.csv')\n",
    "\n",
    "# Conta il numero di righe da eliminare\n",
    "righe_da_eliminare = df[df['category'].str.contains(r'Film \\| Short Fictional Film in \\d+', regex=True)]\n",
    "\n",
    "# Stampa il numero di righe da eliminare\n",
    "print(\"Numero di righe da eliminare:\", len(righe_da_eliminare))\n",
    "\n",
    "# Carica il dataset\n",
    "df = pd.read_csv('bafta_films_cleaned.csv')\n",
    "\n",
    "# Conta il numero di righe prima della rimozione\n",
    "righe_prima = len(df)\n",
    "\n",
    "# Droppa le righe che contengono 'Film' e 'Film in' seguiti da un numero nella colonna 'category'\n",
    "df = df[~df['category'].str.contains(r'Film \\| Short Fictional Film in \\d+', regex=True)]\n",
    "\n",
    "# Conta il numero di righe dopo la rimozione\n",
    "righe_dopo = len(df)\n",
    "\n",
    "# Calcola il numero di righe droppate\n",
    "righe_droppate = righe_prima - righe_dopo\n",
    "\n",
    "# Stampa il numero di righe droppate\n",
    "print(\"Numero di righe droppate:\", righe_droppate)\n",
    "df.to_csv('bafta_films_cleaned.csv', index=False)"
   ],
   "metadata": {
    "collapsed": false,
    "ExecuteTime": {
     "end_time": "2024-05-27T15:11:13.284850300Z",
     "start_time": "2024-05-27T15:11:13.176985600Z"
    }
   },
   "id": "5cbe4627950f582b",
   "execution_count": 142
  },
  {
   "cell_type": "markdown",
   "source": [
    "*Orange Film Of The Year in*"
   ],
   "metadata": {
    "collapsed": false
   },
   "id": "f4e4c73ccd95988a"
  },
  {
   "cell_type": "code",
   "outputs": [
    {
     "name": "stdout",
     "output_type": "stream",
     "text": [
      "Numero di righe da eliminare: 0\n",
      "Numero di righe droppate: 0\n"
     ]
    }
   ],
   "source": [
    "# Carica il dataset\n",
    "df = pd.read_csv('bafta_films_cleaned.csv')\n",
    "\n",
    "# Conta il numero di righe da eliminare\n",
    "righe_da_eliminare = df[df['category'].str.contains(r'Film \\| Orange Film Of The Year in \\d+', regex=True)]\n",
    "\n",
    "# Stampa il numero di righe da eliminare\n",
    "print(\"Numero di righe da eliminare:\", len(righe_da_eliminare))\n",
    "\n",
    "# Carica il dataset\n",
    "df = pd.read_csv('bafta_films_cleaned.csv')\n",
    "\n",
    "# Conta il numero di righe prima della rimozione\n",
    "righe_prima = len(df)\n",
    "\n",
    "# Droppa le righe che contengono 'Film' e 'Film in' seguiti da un numero nella colonna 'category'\n",
    "df = df[~df['category'].str.contains(r'Film \\| Orange Film Of The Year in \\d+', regex=True)]\n",
    "\n",
    "# Conta il numero di righe dopo la rimozione\n",
    "righe_dopo = len(df)\n",
    "\n",
    "# Calcola il numero di righe droppate\n",
    "righe_droppate = righe_prima - righe_dopo\n",
    "\n",
    "# Stampa il numero di righe droppate\n",
    "print(\"Numero di righe droppate:\", righe_droppate)\n",
    "df.to_csv('bafta_films_cleaned.csv', index=False)"
   ],
   "metadata": {
    "collapsed": false,
    "ExecuteTime": {
     "end_time": "2024-05-27T15:11:16.283224900Z",
     "start_time": "2024-05-27T15:11:16.190497700Z"
    }
   },
   "id": "d717958cf3788963",
   "execution_count": 143
  },
  {
   "cell_type": "markdown",
   "source": [
    "*Post Office BAFTA Scholarship in*"
   ],
   "metadata": {
    "collapsed": false
   },
   "id": "14054d67dece1265"
  },
  {
   "cell_type": "code",
   "outputs": [
    {
     "name": "stdout",
     "output_type": "stream",
     "text": [
      "Numero di righe da eliminare: 0\n",
      "Numero di righe droppate: 0\n"
     ]
    }
   ],
   "source": [
    "# Carica il dataset\n",
    "df = pd.read_csv('bafta_films_cleaned.csv')\n",
    "\n",
    "# Conta il numero di righe da eliminare\n",
    "righe_da_eliminare = df[df['category'].str.contains(r'Film \\| Post Office BAFTA Scholarship in \\d+', regex=True)]\n",
    "\n",
    "# Stampa il numero di righe da eliminare\n",
    "print(\"Numero di righe da eliminare:\", len(righe_da_eliminare))\n",
    "\n",
    "# Carica il dataset\n",
    "df = pd.read_csv('bafta_films_cleaned.csv')\n",
    "\n",
    "# Conta il numero di righe prima della rimozione\n",
    "righe_prima = len(df)\n",
    "\n",
    "# Droppa le righe che contengono 'Film' e 'Film in' seguiti da un numero nella colonna 'category'\n",
    "df = df[~df['category'].str.contains(r'Film \\| Post Office BAFTA Scholarship in \\d+', regex=True)]\n",
    "\n",
    "# Conta il numero di righe dopo la rimozione\n",
    "righe_dopo = len(df)\n",
    "\n",
    "# Calcola il numero di righe droppate\n",
    "righe_droppate = righe_prima - righe_dopo\n",
    "\n",
    "# Stampa il numero di righe droppate\n",
    "print(\"Numero di righe droppate:\", righe_droppate)\n",
    "df.to_csv('bafta_films_cleaned.csv', index=False)"
   ],
   "metadata": {
    "collapsed": false,
    "ExecuteTime": {
     "end_time": "2024-05-27T15:11:21.051559700Z",
     "start_time": "2024-05-27T15:11:20.954539300Z"
    }
   },
   "id": "9217fd319a4af1f2",
   "execution_count": 144
  },
  {
   "cell_type": "markdown",
   "source": [
    "# CONTEGGIO FINALE"
   ],
   "metadata": {
    "collapsed": false
   },
   "id": "abbf84b4680f0fd2"
  },
  {
   "cell_type": "code",
   "outputs": [],
   "source": [
    "import pandas as pd\n",
    "import re\n",
    "\n",
    "# Carica il dataset\n",
    "df = pd.read_csv('bafta_films_cleaned.csv')\n",
    "\n",
    "# Rimuovi i numeri dalla colonna 'category'\n",
    "df['category'] = df['category'].apply(lambda x: re.sub(r'\\d+', '', x))\n",
    "\n",
    "# Conta i valori unici nella colonna 'category' e il relativo conteggio\n",
    "conteggio_valori = df['category'].value_counts()\n",
    "\n",
    "# Converti la serie dei conteggi in una stringa\n",
    "conteggio_stringa = conteggio_valori.to_string()\n",
    "\n",
    "# Salva la stringa in un file di testo\n",
    "with open('NEW_conteggio_category.txt', 'w') as file:\n",
    "    file.write(conteggio_stringa)\n"
   ],
   "metadata": {
    "collapsed": false,
    "ExecuteTime": {
     "end_time": "2024-05-27T15:11:29.188329Z",
     "start_time": "2024-05-27T15:11:29.109459100Z"
    }
   },
   "id": "145df688249e15ea",
   "execution_count": 146
  },
  {
   "cell_type": "code",
   "outputs": [
    {
     "name": "stdout",
     "output_type": "stream",
     "text": [
      "Film | Achievement in Direction in 1987\n",
      "Film | Achievement in Direction in 1988\n",
      "Film | Achievement in Direction in 1989\n",
      "Film | Achievement in Direction in 1990\n",
      "Film | Achievement in Direction in 1991\n",
      "Film | Actor in 1969\n",
      "Film | Actor in 1970\n",
      "Film | Actor in 1971\n",
      "Film | Actor in 1972\n",
      "Film | Actor in 1973\n",
      "Film | Actor in 1974\n",
      "Film | Actor in 1975\n",
      "Film | Actor in 1976\n",
      "Film | Actor in 1977\n",
      "Film | Actor in 1978\n",
      "Film | Actor in 1979\n",
      "Film | Actor in 1980\n",
      "Film | Actor in 1981\n",
      "Film | Actor in 1982\n",
      "Film | Actor in 1983\n",
      "Film | Actor in 1984\n",
      "Film | Actor in 1985\n",
      "Film | Actor in a Leading Role in 1986\n",
      "Film | Actor in a Leading Role in 1987\n",
      "Film | Actor in a Leading Role in 1988\n",
      "Film | Actor in a Leading Role in 1989\n",
      "Film | Actor in a Leading Role in 1990\n",
      "Film | Actor in a Leading Role in 1991\n",
      "Film | Actor in a Leading Role in 1992\n",
      "Film | Actor in a Leading Role in 1993\n",
      "Film | Actor in a Leading Role in 1994\n",
      "Film | Actor in a Leading Role in 1995\n",
      "Film | Actor in a Leading Role in 1996\n",
      "Film | Actor in a Leading Role in 2001\n",
      "Film | Actor in a Supporting Role in 1986\n",
      "Film | Actor in a Supporting Role in 1987\n",
      "Film | Actor in a Supporting Role in 1988\n",
      "Film | Actor in a Supporting Role in 1989\n",
      "Film | Actor in a Supporting Role in 1990\n",
      "Film | Actor in a Supporting Role in 1991\n",
      "Film | Actor in a Supporting Role in 1992\n",
      "Film | Actor in a Supporting Role in 1993\n",
      "Film | Actor in a Supporting Role in 1994\n",
      "Film | Actor in a Supporting Role in 1995\n",
      "Film | Actor in a Supporting Role in 1996\n",
      "Film | Actor in a Supporting Role in 2001\n",
      "Film | Actress in 1969\n",
      "Film | Actress in 1970\n",
      "Film | Actress in 1971\n",
      "Film | Actress in 1972\n",
      "Film | Actress in 1973\n",
      "Film | Actress in 1974\n",
      "Film | Actress in 1975\n",
      "Film | Actress in 1976\n",
      "Film | Actress in 1977\n",
      "Film | Actress in 1978\n",
      "Film | Actress in 1979\n",
      "Film | Actress in 1980\n",
      "Film | Actress in 1981\n",
      "Film | Actress in 1982\n",
      "Film | Actress in 1983\n",
      "Film | Actress in 1984\n",
      "Film | Actress in 1985\n",
      "Film | Actress in a Leading Role in 1986\n",
      "Film | Actress in a Leading Role in 1987\n",
      "Film | Actress in a Leading Role in 1988\n",
      "Film | Actress in a Leading Role in 1989\n",
      "Film | Actress in a Leading Role in 1990\n",
      "Film | Actress in a Leading Role in 1991\n",
      "Film | Actress in a Leading Role in 1992\n",
      "Film | Actress in a Leading Role in 1993\n",
      "Film | Actress in a Leading Role in 1994\n",
      "Film | Actress in a Leading Role in 1995\n",
      "Film | Actress in a Leading Role in 1996\n",
      "Film | Actress in a Leading Role in 2001\n",
      "Film | Actress in a Supporting Role in 1986\n",
      "Film | Actress in a Supporting Role in 1987\n",
      "Film | Actress in a Supporting Role in 1988\n",
      "Film | Actress in a Supporting Role in 1989\n",
      "Film | Actress in a Supporting Role in 1990\n",
      "Film | Actress in a Supporting Role in 1991\n",
      "Film | Actress in a Supporting Role in 1992\n",
      "Film | Actress in a Supporting Role in 1993\n",
      "Film | Actress in a Supporting Role in 1994\n",
      "Film | Actress in a Supporting Role in 1995\n",
      "Film | Actress in a Supporting Role in 1996\n",
      "Film | Actress in a Supporting Role in 2001\n",
      "Film | Adapted Screenplay in 1984\n",
      "Film | Adapted Screenplay in 1985\n",
      "Film | Adapted Screenplay in 1986\n",
      "Film | Adapted Screenplay in 1987\n",
      "Film | Adapted Screenplay in 1988\n",
      "Film | Adapted Screenplay in 1989\n",
      "Film | Adapted Screenplay in 1990\n",
      "Film | Adapted Screenplay in 1991\n",
      "Film | Adapted Screenplay in 1992\n",
      "Film | Adapted Screenplay in 1993\n",
      "Film | Adapted Screenplay in 1994\n",
      "Film | Adapted Screenplay in 1995\n",
      "Film | Adapted Screenplay in 1996\n",
      "Film | Adapted Screenplay in 2001\n",
      "Film | Adapted Screenplay in 2016\n",
      "Film | Adapted Screenplay in 2017\n",
      "Film | Adapted Screenplay in 2018\n",
      "Film | Adapted Screenplay in 2019\n",
      "Film | Adapted Screenplay in 2020\n",
      "Film | Best Film in 2018\n",
      "Film | Best Film in 2019\n",
      "Film | Best Film in 2020\n",
      "Film | British Actor in 1953\n",
      "Film | British Actor in 1954\n",
      "Film | British Actor in 1955\n",
      "Film | British Actor in 1956\n",
      "Film | British Actor in 1957\n",
      "Film | British Actor in 1958\n",
      "Film | British Actor in 1959\n",
      "Film | British Actor in 1960\n",
      "Film | British Actor in 1961\n",
      "Film | British Actor in 1962\n",
      "Film | British Actor in 1963\n",
      "Film | British Actor in 1964\n",
      "Film | British Actor in 1965\n",
      "Film | British Actor in 1966\n",
      "Film | British Actor in 1967\n",
      "Film | British Actor in 1968\n",
      "Film | British Actress in 1953\n",
      "Film | British Actress in 1954\n",
      "Film | British Actress in 1955\n",
      "Film | British Actress in 1956\n",
      "Film | British Actress in 1957\n",
      "Film | British Actress in 1958\n",
      "Film | British Actress in 1959\n",
      "Film | British Actress in 1960\n",
      "Film | British Actress in 1961\n",
      "Film | British Actress in 1962\n",
      "Film | British Actress in 1963\n",
      "Film | British Actress in 1964\n",
      "Film | British Actress in 1965\n",
      "Film | British Actress in 1966\n",
      "Film | British Actress in 1967\n",
      "Film | British Actress in 1968\n",
      "Film | British Film in 1960\n",
      "Film | British Film in 1961\n",
      "Film | British Film in 1966\n",
      "Film | British Film in 1967\n",
      "Film | British Film in 1968\n",
      "Film | British Screenplay in 1955\n",
      "Film | British Screenplay in 1956\n",
      "Film | British Screenplay in 1957\n",
      "Film | British Screenplay in 1958\n",
      "Film | British Screenplay in 1959\n",
      "Film | British Screenplay in 1960\n",
      "Film | British Screenplay in 1961\n",
      "Film | British Screenplay in 1962\n",
      "Film | British Screenplay in 1963\n",
      "Film | British Screenplay in 1964\n",
      "Film | British Screenplay in 1965\n",
      "Film | British Screenplay in 1966\n",
      "Film | British Screenplay in 1967\n",
      "Film | British Screenplay in 1968\n",
      "Film | British Short Animation in 2016\n",
      "Film | British Short Animation in 2017\n",
      "Film | British Short Animation in 2018\n",
      "Film | British Short Animation in 2019\n",
      "Film | British Short Animation in 2020\n",
      "Film | British Short Film in 2016\n",
      "Film | British Short Film in 2017\n",
      "Film | British Short Film in 2018\n",
      "Film | British Short Film in 2019\n",
      "Film | British Short Film in 2020\n",
      "Film | Direction in 1969\n",
      "Film | Direction in 1970\n",
      "Film | Direction in 1971\n",
      "Film | Direction in 1972\n",
      "Film | Direction in 1973\n",
      "Film | Direction in 1974\n",
      "Film | Direction in 1975\n",
      "Film | Direction in 1976\n",
      "Film | Direction in 1977\n",
      "Film | Direction in 1978\n",
      "Film | Direction in 1979\n",
      "Film | Direction in 1980\n",
      "Film | Direction in 1981\n",
      "Film | Direction in 1982\n",
      "Film | Direction in 1983\n",
      "Film | Direction in 1984\n",
      "Film | Direction in 1985\n",
      "Film | Director in 2016\n",
      "Film | Director in 2017\n",
      "Film | Director in 2018\n",
      "Film | Director in 2019\n",
      "Film | Director in 2020\n",
      "Film | Documentary in 2016\n",
      "Film | Documentary in 2017\n",
      "Film | Documentary in 2018\n",
      "Film | Documentary in 2019\n",
      "Film | Documentary in 2020\n",
      "Film | Editing - for best film editing of a British Film in 1967\n",
      "Film | Editing in 1969\n",
      "Film | Editing in 1970\n",
      "Film | Editing in 1981\n",
      "Film | Editing in 1982\n",
      "Film | Editing in 1984\n",
      "Film | Editing in 1985\n",
      "Film | Editing in 1986\n",
      "Film | Editing in 1987\n",
      "Film | Editing in 1988\n",
      "Film | Editing in 1989\n",
      "Film | Editing in 1990\n",
      "Film | Editing in 1991\n",
      "Film | Editing in 1992\n",
      "Film | Editing in 1993\n",
      "Film | Editing in 1994\n",
      "Film | Editing in 1995\n",
      "Film | Editing in 1996\n",
      "Film | Editing in 2001\n",
      "Film | Editing in 2016\n",
      "Film | Editing in 2017\n",
      "Film | Editing in 2018\n",
      "Film | Editing in 2019\n",
      "Film | Editing in 2020\n",
      "Film | Fictional Film in 1978\n",
      "Film | Film From Any Source in 1960\n",
      "Film | Film From Any Source in 1961\n",
      "Film | Film Not In The English Language in 2020\n",
      "Film | Film Not in the English Language in 1989\n",
      "Film | Film Not in the English Language in 1990\n",
      "Film | Film Not in the English Language in 1991\n",
      "Film | Film Not in the English Language in 1992\n",
      "Film | Film Not in the English Language in 1993\n",
      "Film | Film Not in the English Language in 1994\n",
      "Film | Film Not in the English Language in 1995\n",
      "Film | Film Not in the English Language in 1996\n",
      "Film | Film Not in the English Language in 2001\n",
      "Film | Film Not in the English Language in 2016\n",
      "Film | Film Not in the English Language in 2017\n",
      "Film | Film Not in the English Language in 2018\n",
      "Film | Film Not in the English Language in 2019\n",
      "Film | Foreign Actor in 1953\n",
      "Film | Foreign Actor in 1954\n",
      "Film | Foreign Actor in 1955\n",
      "Film | Foreign Actor in 1956\n",
      "Film | Foreign Actor in 1957\n",
      "Film | Foreign Actor in 1958\n",
      "Film | Foreign Actor in 1959\n",
      "Film | Foreign Actor in 1960\n",
      "Film | Foreign Actor in 1961\n",
      "Film | Foreign Actor in 1962\n",
      "Film | Foreign Actor in 1963\n",
      "Film | Foreign Actor in 1964\n",
      "Film | Foreign Actor in 1965\n",
      "Film | Foreign Actor in 1966\n",
      "Film | Foreign Actor in 1967\n",
      "Film | Foreign Actor in 1968\n",
      "Film | Foreign Actress in 1953\n",
      "Film | Foreign Actress in 1954\n",
      "Film | Foreign Actress in 1955\n",
      "Film | Foreign Actress in 1956\n",
      "Film | Foreign Actress in 1957\n",
      "Film | Foreign Actress in 1958\n",
      "Film | Foreign Actress in 1959\n",
      "Film | Foreign Actress in 1960\n",
      "Film | Foreign Actress in 1961\n",
      "Film | Foreign Actress in 1962\n",
      "Film | Foreign Actress in 1963\n",
      "Film | Foreign Actress in 1964\n",
      "Film | Foreign Actress in 1965\n",
      "Film | Foreign Actress in 1966\n",
      "Film | Foreign Actress in 1967\n",
      "Film | Foreign Actress in 1968\n",
      "Film | Foreign Language Film in 1983\n",
      "Film | Foreign Language Film in 1984\n",
      "Film | Foreign Language Film in 1985\n",
      "Film | Foreign Language Film in 1986\n",
      "Film | Foreign Language Film in 1987\n",
      "Film | Foreign Language Film in 1988\n",
      "Film | John Grierson Award (Short Film) in 1975\n",
      "Film | John Grierson Award (Short Film) in 1976\n",
      "Film | Leading Actor in 2016\n",
      "Film | Leading Actor in 2017\n",
      "Film | Leading Actor in 2018\n",
      "Film | Leading Actor in 2019\n",
      "Film | Leading Actor in 2020\n",
      "Film | Leading Actress in 2016\n",
      "Film | Leading Actress in 2017\n",
      "Film | Leading Actress in 2018\n",
      "Film | Leading Actress in 2019\n",
      "Film | Leading Actress in 2020\n",
      "Film | Most Promising Newcomer To Film in 1953\n",
      "Film | Most Promising Newcomer To Film in 1954\n",
      "Film | Most Promising Newcomer To Film in 1955\n",
      "Film | Most Promising Newcomer To Film in 1956\n",
      "Film | Most Promising Newcomer To Film in 1957\n",
      "Film | Most Promising Newcomer To Film in 1958\n",
      "Film | Most Promising Newcomer To Film in 1959\n",
      "Film | Most Promising Newcomer To Film in 1960\n",
      "Film | Most Promising Newcomer To Film in 1984\n",
      "Film | Most Promising Newcomer To Film in 1985\n",
      "Film | Original Screenplay in 1984\n",
      "Film | Original Screenplay in 1985\n",
      "Film | Original Screenplay in 1986\n",
      "Film | Original Screenplay in 1987\n",
      "Film | Original Screenplay in 1988\n",
      "Film | Original Screenplay in 1989\n",
      "Film | Original Screenplay in 1990\n",
      "Film | Original Screenplay in 1991\n",
      "Film | Original Screenplay in 1992\n",
      "Film | Original Screenplay in 1993\n",
      "Film | Original Screenplay in 1994\n",
      "Film | Original Screenplay in 1995\n",
      "Film | Original Screenplay in 1996\n",
      "Film | Original Screenplay in 2001\n",
      "Film | Original Screenplay in 2016\n",
      "Film | Original Screenplay in 2017\n",
      "Film | Original Screenplay in 2018\n",
      "Film | Original Screenplay in 2019\n",
      "Film | Original Screenplay in 2020\n",
      "Film | Outstanding Debut By A British Writer, Director Or Producer in 2020\n",
      "Film | Outstanding Debut By A British Writer, Director or Producer in 2016\n",
      "Film | Outstanding Debut By A British Writer, Director or Producer in 2017\n",
      "Film | Outstanding Debut by a British Writer, Director or Producer in 2018\n",
      "Film | Outstanding Debut by a British Writer, Director or Producer in 2019\n",
      "Film | Production Design in 1977\n",
      "Film | Production Design in 1978\n",
      "Film | Production Design in 1979\n",
      "Film | Production Design in 1980\n",
      "Film | Production Design in 1981\n",
      "Film | Production Design in 1982\n",
      "Film | Production Design in 1983\n",
      "Film | Production Design in 1984\n",
      "Film | Production Design in 1985\n",
      "Film | Production Design in 1986\n",
      "Film | Production Design in 1987\n",
      "Film | Production Design in 1988\n",
      "Film | Production Design in 1989\n",
      "Film | Production Design in 1990\n",
      "Film | Production Design in 1991\n",
      "Film | Production Design in 1992\n",
      "Film | Production Design in 1993\n",
      "Film | Production Design in 1994\n",
      "Film | Production Design in 1995\n",
      "Film | Production Design in 1996\n",
      "Film | Production Design in 2001\n",
      "Film | Production Design in 2016\n",
      "Film | Production Design in 2017\n",
      "Film | Production Design in 2018\n",
      "Film | Production Design in 2019\n",
      "Film | Production Design in 2020\n",
      "Film | Robert Flaherty Award (Feature Length Film, Documentary In Content) in 1960\n",
      "Film | Robert Flaherty Award (Feature Length Film, Documentary In Content) in 1966\n",
      "Film | Robert Flaherty Award (Feature Length Film, Documentary In Content) in 1967\n",
      "Film | Robert Flaherty Award (Feature Length Film, Documentary In Content) in 1968\n",
      "Film | Robert Flaherty Award (Feature Length Film, Documentary In Content) in 1969\n",
      "Film | Robert Flaherty Award (Feature Length Film, Documentary In Content) in 1970\n",
      "Film | Robert Flaherty Award (Feature Length Film, Documentary In Content) in 1971\n",
      "Film | Robert Flaherty Award (Feature Length Film, Documentary In Content) in 1972\n",
      "Film | Robert Flaherty Award (Feature Length Film, Documentary In Content) in 1974\n",
      "Film | Robert Flaherty Award (Feature Length Film, Documentary In Content) in 1975\n",
      "Film | Robert Flaherty Award (Feature Length Film, Documentary In Content) in 1976\n",
      "Film | Robert Flaherty Award (Feature Length Film, Documentary In Content) in 1977\n",
      "Film | Robert Flaherty Award (Feature Length Film, Documentary In Content) in 1979\n",
      "Film | Robert Flaherty Award (Feature Length Film, Documentary In Content) in 1980\n",
      "Film | Robert Flaherty Award (Feature Length Film, Documentary In Content) in 1982\n",
      "Film | Robert Flaherty Award (Feature Length Film, Documentary In Content) in 1983\n",
      "Film | Screenplay in 1969\n",
      "Film | Screenplay in 1970\n",
      "Film | Screenplay in 1971\n",
      "Film | Screenplay in 1972\n",
      "Film | Screenplay in 1973\n",
      "Film | Screenplay in 1974\n",
      "Film | Screenplay in 1975\n",
      "Film | Screenplay in 1976\n",
      "Film | Screenplay in 1977\n",
      "Film | Screenplay in 1978\n",
      "Film | Screenplay in 1979\n",
      "Film | Screenplay in 1980\n",
      "Film | Screenplay in 1981\n",
      "Film | Screenplay in 1982\n",
      "Film | Screenplay in 1983\n",
      "Film | Short Factual Film in 1977\n",
      "Film | Short Factual Film in 1979\n",
      "Film | Supporting Actor in 1969\n",
      "Film | Supporting Actor in 1970\n",
      "Film | Supporting Actor in 1971\n",
      "Film | Supporting Actor in 1972\n",
      "Film | Supporting Actor in 1973\n",
      "Film | Supporting Actor in 1974\n",
      "Film | Supporting Actor in 1975\n",
      "Film | Supporting Actor in 1976\n",
      "Film | Supporting Actor in 1977\n",
      "Film | Supporting Actor in 1978\n",
      "Film | Supporting Actor in 1979\n",
      "Film | Supporting Actor in 1980\n",
      "Film | Supporting Actor in 1983\n",
      "Film | Supporting Actor in 1984\n",
      "Film | Supporting Actor in 1985\n",
      "Film | Supporting Actor in 2016\n",
      "Film | Supporting Actor in 2017\n",
      "Film | Supporting Actor in 2018\n",
      "Film | Supporting Actor in 2019\n",
      "Film | Supporting Actor in 2020\n",
      "Film | Supporting Actress in 1969\n",
      "Film | Supporting Actress in 1970\n",
      "Film | Supporting Actress in 1971\n",
      "Film | Supporting Actress in 1972\n",
      "Film | Supporting Actress in 1973\n",
      "Film | Supporting Actress in 1974\n",
      "Film | Supporting Actress in 1975\n",
      "Film | Supporting Actress in 1976\n",
      "Film | Supporting Actress in 1977\n",
      "Film | Supporting Actress in 1978\n",
      "Film | Supporting Actress in 1979\n",
      "Film | Supporting Actress in 1980\n",
      "Film | Supporting Actress in 1983\n",
      "Film | Supporting Actress in 1984\n",
      "Film | Supporting Actress in 1985\n",
      "Film | Supporting Actress in 2016\n",
      "Film | Supporting Actress in 2017\n",
      "Film | Supporting Actress in 2018\n",
      "Film | Supporting Actress in 2019\n",
      "Film | Supporting Actress in 2020\n",
      "Film | Supporting Artist in 1982\n"
     ]
    }
   ],
   "source": [
    "import csv\n",
    "\n",
    "def stampa_valori_colonna(file_csv, colonna):\n",
    "    valori_colonna = set()  # Utilizziamo un set per evitare duplicati\n",
    "    \n",
    "    with open(file_csv, 'r', newline='', encoding='utf-8') as csvfile:\n",
    "        reader = csv.DictReader(csvfile)\n",
    "        for riga in reader:\n",
    "            valore = riga[colonna]\n",
    "            valori_colonna.add(valore)\n",
    "    \n",
    "    valori_ordinati = sorted(valori_colonna)  # Ordina i valori in ordine alfabetico\n",
    "    \n",
    "    # Stampa tutti i valori ordinati\n",
    "    for valore in valori_ordinati:\n",
    "        print(valore)\n",
    "\n",
    "# Esempio di utilizzo\n",
    "file_csv = 'bafta_films_cleaned.csv'\n",
    "colonna = 'category'\n",
    "stampa_valori_colonna(file_csv, colonna)\n"
   ],
   "metadata": {
    "collapsed": false,
    "ExecuteTime": {
     "end_time": "2024-05-28T12:26:57.180379300Z",
     "start_time": "2024-05-28T12:26:57.062427900Z"
    }
   },
   "id": "3315e8f99daf436e",
   "execution_count": 5
  },
  {
   "cell_type": "markdown",
   "source": [
    "#MERGE DEI PREMI SUL DATASET ORIGINALE"
   ],
   "metadata": {
    "collapsed": false
   },
   "id": "3917799c3742e05"
  },
  {
   "cell_type": "code",
   "outputs": [
    {
     "name": "stdout",
     "output_type": "stream",
     "text": [
      "Numero di righe con categorie corrispondenti: 281\n"
     ]
    }
   ],
   "source": [
    "import csv\n",
    "\n",
    "def conta_righe_e_scambia_valori(file_csv, valori_categoria):\n",
    "    contatore = 0\n",
    "    \n",
    "    with open(file_csv, 'r', newline='', encoding='utf-8') as csvfile:\n",
    "        reader = csv.DictReader(csvfile)\n",
    "        righe = list(reader)  # Memorizza tutte le righe in una lista per consentire una scansione successiva\n",
    "        \n",
    "        for riga in righe:\n",
    "            if riga['category'] in valori_categoria:\n",
    "                contatore += 1\n",
    "                # Scambia i valori delle colonne 'nominee' e 'workers'\n",
    "                riga['nominee'], riga['workers'] = riga['workers'], riga['nominee']\n",
    "    \n",
    "    # Stampa il numero di righe trovate\n",
    "    print(\"Numero di righe con categorie corrispondenti:\", contatore)\n",
    "    \n",
    "    # Riscrive il file CSV con le modifiche apportate\n",
    "    with open(file_csv, 'w', newline='', encoding='utf-8') as csvfile:\n",
    "        writer = csv.DictWriter(csvfile, fieldnames=reader.fieldnames)\n",
    "        writer.writeheader()\n",
    "        writer.writerows(righe)\n",
    "\n",
    "# Esempio di utilizzo\n",
    "file_csv = 'bafta_films_cleaned.csv'\n",
    "valori_categoria = [\n",
    "    \"Film | Most Promising Newcomer To Film in 1953\",\n",
    "    \"Film | Most Promising Newcomer To Film in 1954\",\n",
    "    \"Film | Most Promising Newcomer To Film in 1955\",\n",
    "    \"Film | Most Promising Newcomer To Film in 1956\",\n",
    "    \"Film | Most Promising Newcomer To Film in 1957\",\n",
    "    \"Film | Most Promising Newcomer To Film in 1958\",\n",
    "    \"Film | Most Promising Newcomer To Film in 1959\",\n",
    "    \"Film | Most Promising Newcomer To Film in 1960\",\n",
    "    \"Film | Most Promising Newcomer To Film in 1984\",\n",
    "    \"Film | Most Promising Newcomer To Film in 1985\",\n",
    "    \"Film | Screenplay in 1969\",\n",
    "    \"Film | Screenplay in 1970\",\n",
    "    \"Film | Screenplay in 1971\",\n",
    "    \"Film | Screenplay in 1972\",\n",
    "    \"Film | Screenplay in 1973\",\n",
    "    \"Film | Screenplay in 1974\",\n",
    "    \"Film | Screenplay in 1975\",\n",
    "    \"Film | Screenplay in 1976\",\n",
    "    \"Film | Screenplay in 1977\",\n",
    "    \"Film | Screenplay in 1978\",\n",
    "    \"Film | Screenplay in 1979\",\n",
    "    \"Film | Screenplay in 1980\",\n",
    "    \"Film | Screenplay in 1981\",\n",
    "    \"Film | Screenplay in 1982\",\n",
    "    \"Film | Screenplay in 1983\",\n",
    "    \"Film | Short Factual Film in 1977\",\n",
    "    \"Film | Short Factual Film in 1979\",\n",
    "    \"Film | Supporting Actor in 1969\",\n",
    "    \"Film | Supporting Actor in 1970\",\n",
    "    \"Film | Supporting Actor in 1971\",\n",
    "    \"Film | Supporting Actor in 1972\",\n",
    "    \"Film | Supporting Actor in 1973\",\n",
    "    \"Film | Supporting Actor in 1974\",\n",
    "    \"Film | Supporting Actor in 1975\",\n",
    "    \"Film | Supporting Actor in 1976\",\n",
    "    \"Film | Supporting Actor in 1977\",\n",
    "    \"Film | Supporting Actor in 1978\",\n",
    "    \"Film | Supporting Actor in 1979\",\n",
    "    \"Film | Supporting Actor in 1980\",\n",
    "    \"Film | Supporting Actor in 1983\",\n",
    "    \"Film | Supporting Actor in 1984\",\n",
    "    \"Film | Supporting Actor in 1985\",\n",
    "    \"Film | Supporting Actor in 2016\",\n",
    "    \"Film | Supporting Actor in 2017\",\n",
    "    \"Film | Supporting Actor in 2018\",\n",
    "    \"Film | Supporting Actor in 2019\",\n",
    "    \"Film | Supporting Actor in 2020\",\n",
    "    \"Film | Supporting Actress in 1969\",\n",
    "    \"Film | Supporting Actress in 1970\",\n",
    "    \"Film | Supporting Actress in 1971\",\n",
    "    \"Film | Supporting Actress in 1972\",\n",
    "    \"Film | Supporting Actress in 1973\",\n",
    "    \"Film | Supporting Actress in 1974\",\n",
    "    \"Film | Supporting Actress in 1975\",\n",
    "    \"Film | Supporting Actress in 1976\",\n",
    "    \"Film | Supporting Actress in 1977\",\n",
    "    \"Film | Supporting Actress in 1978\",\n",
    "    \"Film | Supporting Actress in 1979\",\n",
    "    \"Film | Supporting Actress in 1980\",\n",
    "    \"Film | Supporting Actress in 1983\",\n",
    "    \"Film | Supporting Actress in 1984\",\n",
    "    \"Film | Supporting Actress in 1985\",\n",
    "    \"Film | Supporting Actress in 2016\",\n",
    "    \"Film | Supporting Actress in 2017\",\n",
    "    \"Film | Supporting Actress in 2018\",\n",
    "    \"Film | Supporting Actress in 2019\",\n",
    "    \"Film | Supporting Actress in 2020\",\n",
    "    \"Film | Supporting Artist in 1982\"\n",
    "]\n",
    "\n",
    "conta_righe_e_scambia_valori(file_csv, valori_categoria)\n"
   ],
   "metadata": {
    "collapsed": false,
    "ExecuteTime": {
     "end_time": "2024-05-28T12:55:07.165634800Z",
     "start_time": "2024-05-28T12:55:06.999453100Z"
    }
   },
   "id": "917fc3f188a68fe3",
   "execution_count": 12
  },
  {
   "cell_type": "markdown",
   "source": [
    "A questo punto tutto è formattato bene, ora bisogna trovare le corrispondenze"
   ],
   "metadata": {
    "collapsed": false
   },
   "id": "c77e0e9f8ccebae8"
  },
  {
   "cell_type": "code",
   "outputs": [],
   "source": [
    "import pandas as pd\n",
    "\n",
    "# Caricare il dataset movies e aggiungere le colonne per BAFTA\n",
    "df_movies = pd.read_csv('../Preprocessing/rounded_updated_films.csv')\n",
    "df_movies['BAFTA_nominees'] = 0\n",
    "df_movies['BAFTA_awards'] = 0\n",
    "\n",
    "# Caricare il dataset BAFTA\n",
    "df_bafta = pd.read_csv('bafta_films_cleaned.csv')\n",
    "\n",
    "# Funzione per normalizzare e dividere i nomi\n",
    "def normalize_split_names(names):\n",
    "    return [name.strip() for name in names.split(',')]\n",
    "\n",
    "# Iterare su ogni riga del dataset BAFTA\n",
    "for index, row in df_bafta.iterrows():\n",
    "    workers = normalize_split_names(row['workers'])\n",
    "    bafta_year = row['year']\n",
    "    is_winner = row['winner']\n",
    "\n",
    "    # Controllare corrispondenze nel dataset movies\n",
    "    for worker in workers:\n",
    "        # Creare una maschera per gli attori e l'anno\n",
    "        mask = df_movies['actors'].str.contains(worker, na=False) & (\n",
    "            (df_movies['year'] == bafta_year) | \n",
    "            (df_movies['year'] == bafta_year + 1) | \n",
    "            (df_movies['year'] == bafta_year - 1))\n",
    "        \n",
    "        # Aggiornare i conteggi di nomine e premi\n",
    "        df_movies.loc[mask, 'BAFTA_nominees'] += 1\n",
    "        if is_winner:\n",
    "            df_movies.loc[mask, 'BAFTA_awards'] += 1\n",
    "\n",
    "# Salvare il dataset aggiornato\n",
    "df_movies.to_csv('movies_with_bafta.csv', index=False)\n"
   ],
   "metadata": {
    "collapsed": false
   },
   "id": "97a152e0af083af0",
   "execution_count": null
  },
  {
   "cell_type": "markdown",
   "source": [],
   "metadata": {
    "collapsed": false
   },
   "id": "4827bdb9b263d58e"
  }
 ],
 "metadata": {
  "kernelspec": {
   "display_name": "Python 3",
   "language": "python",
   "name": "python3"
  },
  "language_info": {
   "codemirror_mode": {
    "name": "ipython",
    "version": 2
   },
   "file_extension": ".py",
   "mimetype": "text/x-python",
   "name": "python",
   "nbconvert_exporter": "python",
   "pygments_lexer": "ipython2",
   "version": "2.7.6"
  }
 },
 "nbformat": 4,
 "nbformat_minor": 5
}
