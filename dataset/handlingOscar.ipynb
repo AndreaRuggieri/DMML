{
 "cells": [
  {
   "cell_type": "code",
   "execution_count": 15,
   "id": "initial_id",
   "metadata": {
    "collapsed": true,
    "ExecuteTime": {
     "end_time": "2024-05-01T12:45:10.403451100Z",
     "start_time": "2024-05-01T12:45:10.309803400Z"
    }
   },
   "outputs": [
    {
     "data": {
      "text/plain": "array(['ACTOR', 'ACTRESS', 'ART DIRECTION', 'CINEMATOGRAPHY',\n       'DIRECTING (Comedy Picture)', 'DIRECTING (Dramatic Picture)',\n       'ENGINEERING EFFECTS', 'OUTSTANDING PICTURE',\n       'UNIQUE AND ARTISTIC PICTURE', 'WRITING (Adaptation)',\n       'WRITING (Original Story)', 'WRITING (Title Writing)',\n       'SPECIAL AWARD', 'DIRECTING', 'WRITING', 'OUTSTANDING PRODUCTION',\n       'SOUND RECORDING', 'SHORT SUBJECT (Cartoon)',\n       'SHORT SUBJECT (Comedy)', 'SHORT SUBJECT (Novelty)',\n       'ASSISTANT DIRECTOR', 'FILM EDITING', 'MUSIC (Scoring)',\n       'MUSIC (Song)', 'DANCE DIRECTION', 'WRITING (Screenplay)',\n       'ACTOR IN A SUPPORTING ROLE', 'ACTRESS IN A SUPPORTING ROLE',\n       'SHORT SUBJECT (Color)', 'SHORT SUBJECT (One-reel)',\n       'SHORT SUBJECT (Two-reel)', 'IRVING G. THALBERG MEMORIAL AWARD',\n       'MUSIC (Original Score)', 'CINEMATOGRAPHY (Black-and-White)',\n       'CINEMATOGRAPHY (Color)', 'SPECIAL EFFECTS',\n       'ART DIRECTION (Black-and-White)', 'ART DIRECTION (Color)',\n       'WRITING (Original Screenplay)', 'DOCUMENTARY (Short Subject)',\n       'MUSIC (Music Score of a Dramatic Picture)',\n       'MUSIC (Scoring of a Musical Picture)',\n       'OUTSTANDING MOTION PICTURE', 'DOCUMENTARY',\n       'MUSIC (Music Score of a Dramatic or Comedy Picture)',\n       'WRITING (Original Motion Picture Story)', 'DOCUMENTARY (Feature)',\n       'BEST MOTION PICTURE', 'WRITING (Motion Picture Story)',\n       'COSTUME DESIGN (Black-and-White)', 'COSTUME DESIGN (Color)',\n       'SPECIAL FOREIGN LANGUAGE FILM AWARD',\n       'WRITING (Story and Screenplay)',\n       'HONORARY FOREIGN LANGUAGE FILM AWARD', 'HONORARY AWARD',\n       'FOREIGN LANGUAGE FILM', 'WRITING (Screenplay--Adapted)',\n       'WRITING (Screenplay--Original)',\n       'JEAN HERSHOLT HUMANITARIAN AWARD', 'COSTUME DESIGN',\n       'SHORT SUBJECT (Live Action)',\n       'WRITING (Screenplay--based on material from another medium)',\n       'WRITING (Story and Screenplay--written directly for the screen)',\n       'SOUND', 'MUSIC (Music Score--substantially original)',\n       'MUSIC (Scoring of Music--adaptation or treatment)',\n       'BEST PICTURE', 'SOUND EFFECTS', 'SPECIAL VISUAL EFFECTS',\n       'MUSIC (Original Music Score)',\n       'MUSIC (Original Score--for a motion picture [not a musical])',\n       'MUSIC (Score of a Musical Picture--original or adaptation)',\n       'MUSIC (Song--Original for the Picture)',\n       'WRITING (Story and Screenplay--based on material not previously published or produced)',\n       'MUSIC (Original Song Score)',\n       'WRITING (Story and Screenplay--based on factual material or material not previously published or produced)',\n       'MUSIC (Original Dramatic Score)',\n       'MUSIC (Scoring: Adaptation and Original Song Score)',\n       'SHORT SUBJECT (Animated)',\n       'SPECIAL ACHIEVEMENT AWARD (Visual Effects)',\n       'MUSIC (Scoring: Original Song Score and Adaptation -or- Scoring: Adaptation)',\n       'SHORT FILM (Animated)', 'SHORT FILM (Live Action)',\n       'WRITING (Screenplay Adapted from Other Material)',\n       'MUSIC (Original Song)',\n       'SPECIAL ACHIEVEMENT AWARD (Sound Effects)',\n       'ACTOR IN A LEADING ROLE', 'ACTRESS IN A LEADING ROLE',\n       'MUSIC (Original Song Score and Its Adaptation or Adaptation Score)',\n       'WRITING (Screenplay Written Directly for the Screen--based on factual material or on story material not previously published or produced)',\n       'VISUAL EFFECTS', 'SPECIAL ACHIEVEMENT AWARD',\n       'SPECIAL ACHIEVEMENT AWARD (Sound Effects Editing)',\n       'MUSIC (Adaptation Score)',\n       'WRITING (Screenplay Based on Material from Another Medium)',\n       'WRITING (Screenplay Written Directly for the Screen)',\n       'MUSIC (Original Song Score and Its Adaptation -or- Adaptation Score)',\n       'SPECIAL ACHIEVEMENT AWARD (Sound Editing)',\n       'SHORT FILM (Dramatic Live Action)', 'MAKEUP',\n       'SOUND EFFECTS EDITING',\n       'MUSIC (Original Song Score or Adaptation Score)',\n       'WRITING (Screenplay Based on Material Previously Produced or Published)',\n       'MUSIC (Original Musical or Comedy Score)', 'SOUND EDITING',\n       'ANIMATED FEATURE FILM', 'WRITING (Adapted Screenplay)',\n       'SOUND MIXING', 'MAKEUP AND HAIRSTYLING', 'PRODUCTION DESIGN',\n       'INTERNATIONAL FEATURE FILM', 'DOCUMENTARY FEATURE FILM',\n       'DOCUMENTARY SHORT FILM', 'GORDON E. SAWYER AWARD',\n       'AWARD OF COMMENDATION'], dtype=object)"
     },
     "execution_count": 15,
     "metadata": {},
     "output_type": "execute_result"
    }
   ],
   "source": [
    "import pandas as pd\n",
    "\n",
    "# Load the dataset\n",
    "data = pd.read_csv('C:/Users/andre/Documents/GitHub/DMML/dataset/the_oscar_award.csv')\n",
    "\n",
    "# Extract unique categories\n",
    "unique_categories = data['category'].unique()\n",
    "\n",
    "# Save the unique categories into a new file\n",
    "unique_categories_df = pd.DataFrame(unique_categories, columns=['category'])\n",
    "# unique_categories_df.to_csv('/mnt/data/oscars.csv', index=False)\n",
    "\n",
    "# Display unique categories\n",
    "unique_categories\n"
   ]
  },
  {
   "cell_type": "code",
   "outputs": [],
   "source": [
    "import pandas as pd\n",
    "\n",
    "# Carica il dataset\n",
    "df = pd.read_csv('C:/Users/andre/Documents/GitHub/DMML/dataset/the_oscar_award.csv')\n",
    "\n",
    "# Elenco delle categorie da rimuovere\n",
    "categories_to_remove = [\n",
    "    \"UNIQUE AND ARTISTIC PICTURE\", \"SPECIAL AWARD\", \"OUTSTANDING PRODUCTION\",\n",
    "    \"SOUND RECORDING\", \"SHORT SUBJECT (Cartoon)\", \"SHORT SUBJECT (Comedy)\",\n",
    "    \"SHORT SUBJECT (Novelty)\", \"ASSISTANT DIRECTOR\", \"FILM EDITING\", \"MUSIC (Scoring)\",\n",
    "    \"MUSIC (Song)\", \"DANCE DIRECTION\", \"SHORT SUBJECT (Color)\", \"SHORT SUBJECT (One-reel)\",\n",
    "    \"SHORT SUBJECT (Two-reel)\", \"IRVING G. THALBERG MEMORIAL AWARD\", \"CINEMATOGRAPHY (Black-and-White)\",\n",
    "    \"CINEMATOGRAPHY (Color)\", \"SPECIAL EFFECTS\", \"ART DIRECTION (Black-and-White)\",\n",
    "    \"ART DIRECTION (Color)\", \"DOCUMENTARY (Short Subject)\", \"MUSIC (Music Score of a Dramatic Picture)\",\n",
    "    \"MUSIC (Scoring of a Musical Picture)\", \"OUTSTANDING MOTION PICTURE\", \"DOCUMENTARY\",\n",
    "    \"MUSIC (Music Score of a Dramatic or Comedy Picture)\", \"DOCUMENTARY (Feature)\",\n",
    "    \"BEST MOTION PICTURE\", \"COSTUME DESIGN (Black-and-White)\", \"COSTUME DESIGN (Color)\",\n",
    "    \"SPECIAL FOREIGN LANGUAGE FILM AWARD\", \"HONORARY FOREIGN LANGUAGE FILM AWARD\",\n",
    "    \"HONORARY AWARD\", \"FOREIGN LANGUAGE FILM\", \"JEAN HERSHOLT HUMANITARIAN AWARD\",\n",
    "    \"COSTUME DESIGN\", \"SHORT SUBJECT (Live Action)\", \"SOUND\", \"MUSIC (Music Score--substantially original)\",\n",
    "    \"MUSIC (Scoring of Music--adaptation or treatment)\", \"BEST PICTURE\", \"SOUND EFFECTS\",\n",
    "    \"SPECIAL VISUAL EFFECTS\", \"MUSIC (Original Music Score)\", \"MUSIC (Original Score--for a motion picture [not a musical])\",\n",
    "    \"MUSIC (Score of a Musical Picture--original or adaptation)\", \"MUSIC (Song--Original for the Picture)\",\n",
    "    \"MUSIC (Original Song Score)\", \"MUSIC (Original Dramatic Score)\", \"MUSIC (Scoring: Adaptation and Original Song Score)\",\n",
    "    \"SHORT SUBJECT (Animated)\", \"SPECIAL ACHIEVEMENT AWARD (Visual Effects)\",\n",
    "    \"MUSIC (Scoring: Original Song Score and Adaptation -or- Scoring: Adaptation)\", \"SHORT FILM (Animated)\",\n",
    "    \"SHORT FILM (Live Action)\", \"SPECIAL ACHIEVEMENT AWARD (Sound Effects)\", \"MUSIC (Original Song Score and Its Adaptation or Adaptation Score)\", \"VISUAL EFFECTS\", \"SPECIAL ACHIEVEMENT AWARD\", \"SPECIAL ACHIEVEMENT AWARD (Sound Effects Editing)\",\n",
    "    \"MUSIC (Adaptation Score)\", \"MUSIC (Original Song Score and Its Adaptation -or- Adaptation Score)\",\n",
    "    \"SPECIAL ACHIEVEMENT AWARD (Sound Editing)\", \"SHORT FILM (Dramatic Live Action)\", \"MAKEUP\",\n",
    "    \"SOUND EFFECTS EDITING\", \"MUSIC (Original Song Score or Adaptation Score)\",\n",
    "    \"MUSIC (Original Musical or Comedy Score)\", \"SOUND EDITING\", \"ANIMATED FEATURE FILM\",\n",
    "    \"SOUND MIXING\", \"MAKEUP AND HAIRSTYLING\", \"PRODUCTION DESIGN\", \"INTERNATIONAL FEATURE FILM\",\n",
    "    \"DOCUMENTARY FEATURE FILM\", \"DOCUMENTARY SHORT FILM\", \"GORDON E. SAWYER AWARD\",\n",
    "    \"AWARD OF COMMENDATION\", \"OUTSTANDING PICTURE\", \"MUSIC (Original Score)\", \"MUSIC (Original Song)\", \"CINEMATOGRAPHY\", \"ART DIRECTION\", \"ENGINEERING EFFECTS\"\n",
    "]\n",
    "\n",
    "# Filtra il DataFrame per rimuovere le righe con le categorie specificate\n",
    "filtered_df = df[~df['category'].isin(categories_to_remove)]\n",
    "\n",
    "# Salva il nuovo DataFrame in un file CSV\n",
    "filtered_df.to_csv('oscars.csv', index=False)\n"
   ],
   "metadata": {
    "collapsed": false,
    "ExecuteTime": {
     "end_time": "2024-05-01T13:09:34.081611600Z",
     "start_time": "2024-05-01T13:09:33.988304700Z"
    }
   },
   "id": "3902588c73769abc",
   "execution_count": 22
  },
  {
   "cell_type": "code",
   "outputs": [],
   "source": [
    "import pandas as pd\n",
    "\n",
    "# Carica il dataset modificato\n",
    "df = pd.read_csv('C:/Users/andre/Documents/GitHub/DMML/dataset/oscars.csv')\n",
    "\n",
    "import pandas as pd\n",
    "import re\n",
    "\n",
    "# Carica il dataset modificato\n",
    "df = pd.read_csv('oscars.csv')\n",
    "\n",
    "# Definisci le frasi da rimuovere\n",
    "prefixes_to_remove = [\n",
    "    'Screenplay by',\n",
    "    'Story by',\n",
    "    'Story and Screenplay by',\n",
    "    'Written by',\n",
    "    'Original story by'\n",
    "]\n",
    "\n",
    "# Compila la regex che corrisponde a qualsiasi dei prefissi definiti\n",
    "# Aggiungi 'r' per denotare una raw string\n",
    "regex_pattern = r'^(?:' + '|'.join(re.escape(prefix) for prefix in prefixes_to_remove) + r')\\s'\n",
    "\n",
    "# Rimuovi i prefissi dalla colonna 'name'\n",
    "df['name'] = df['name'].replace(regex_pattern, '', regex=True)\n",
    "# Salva il DataFrame risultante\n",
    "df.to_csv('C:/Users/andre/Documents/GitHub/DMML/dataset/oscars_cleaned.csv', index=False)\n"
   ],
   "metadata": {
    "collapsed": false,
    "ExecuteTime": {
     "end_time": "2024-05-01T14:01:22.505396500Z",
     "start_time": "2024-05-01T14:01:22.426315100Z"
    }
   },
   "id": "14c0b9aa2f47fae6",
   "execution_count": 24
  },
  {
   "cell_type": "code",
   "outputs": [],
   "source": [
    "import pandas as pd\n",
    "\n",
    "# Carica i dati\n",
    "merged_imdb = pd.read_csv('mergedIMDB.csv')\n",
    "oscars = pd.read_csv('oscars_cleaned.csv')\n",
    "\n",
    "# Preparazione del DataFrame\n",
    "merged_imdb['dir_oscar_nomination'] = 0\n",
    "merged_imdb['dir_oscar_won'] = 0\n",
    "merged_imdb['writer_oscar_nomination'] = 0\n",
    "merged_imdb['writer_oscar_won'] = 0\n",
    "merged_imdb['cast_oscar_nomination'] = 0\n",
    "merged_imdb['cast_oscar_won'] = 0\n",
    "\n",
    "# Assicurati che le colonne non abbiano valori NaN\n",
    "merged_imdb['actors'] = merged_imdb['actors'].fillna('')\n",
    "merged_imdb['director'] = merged_imdb['director'].fillna('')\n",
    "merged_imdb['writer'] = merged_imdb['writer'].fillna('')\n",
    "\n",
    "# Funzione per normalizzare i nomi\n",
    "def normalize_name(name):\n",
    "    name = name.replace('&', ',').replace(' Jr', ' Jr.').replace(' Senior', ' Senior').split(',')\n",
    "    name = [n.strip() for n in name]\n",
    "    return name\n",
    "\n",
    "# Funzione per gestire la verifica di nomination e vittorie Oscar\n",
    "def update_oscars(row):\n",
    "    raw_names = normalize_name(row['name'])\n",
    "    year_oscars = int(row['year_film'])\n",
    "    is_winner = row['winner'] == True\n",
    "    \n",
    "    # Crea una lista di tutti i possibili nomi invertiti\n",
    "    names = []\n",
    "    for name in raw_names:\n",
    "        parts = name.split()\n",
    "        if len(parts) > 1:\n",
    "            reversed_name = ' '.join(reversed(parts))\n",
    "            names.append(name)\n",
    "            names.append(reversed_name)\n",
    "        else:\n",
    "            names.append(name)\n",
    "    \n",
    "    for name in names:\n",
    "        # Verifica per la categoria DIRECTOR\n",
    "        if 'DIRECTING' in row['category']:\n",
    "            directors = merged_imdb['director'].apply(lambda x: name in x)\n",
    "            year_condition = merged_imdb['year'] >= year_oscars\n",
    "            indices = merged_imdb[directors & year_condition].index\n",
    "            merged_imdb.loc[indices, 'dir_oscar_nomination'] += 1\n",
    "            if is_winner:\n",
    "                merged_imdb.loc[indices, 'dir_oscar_won'] += 1\n",
    "\n",
    "        # Verifica per la categoria WRITING\n",
    "        elif 'WRITING' in row['category']:\n",
    "            writers = merged_imdb['writer'].apply(lambda x: name in x)\n",
    "            year_condition = merged_imdb['year'] >= year_oscars\n",
    "            indices = merged_imdb[writers & year_condition].index\n",
    "            merged_imdb.loc[indices, 'writer_oscar_nomination'] += 1\n",
    "            if is_winner:\n",
    "                merged_imdb.loc[indices, 'writer_oscar_won'] += 1\n",
    "\n",
    "        # Verifica per la categoria ACTOR o ACTRESS\n",
    "        elif 'ACTOR' in row['category'] or 'ACTRESS' in row['category']:\n",
    "            actors_condition = merged_imdb['actors'].apply(lambda x: name in x)\n",
    "            year_condition = merged_imdb['year'] >= year_oscars\n",
    "            indices = merged_imdb[actors_condition & year_condition].index\n",
    "            merged_imdb.loc[indices, 'cast_oscar_nomination'] += 1\n",
    "            if is_winner:\n",
    "                merged_imdb.loc[indices, 'cast_oscar_won'] += 1\n",
    "\n",
    "# Applica la funzione a tutte le righe di oscars\n",
    "oscars.apply(update_oscars, axis=1)\n",
    "\n",
    "# Salva il nuovo DataFrame\n",
    "merged_imdb.to_csv('prizedFilms.csv', index=False)\n"
   ],
   "metadata": {
    "collapsed": false,
    "ExecuteTime": {
     "end_time": "2024-05-04T08:15:12.771145100Z",
     "start_time": "2024-05-04T08:14:36.073983200Z"
    }
   },
   "id": "dc909824d48ff1dc",
   "execution_count": 147
  },
  {
   "cell_type": "code",
   "outputs": [
    {
     "name": "stdout",
     "output_type": "stream",
     "text": [
      "category\n",
      "DIRECTING                                                                                                                                    469\n",
      "ACTOR IN A SUPPORTING ROLE                                                                                                                   440\n",
      "ACTRESS IN A SUPPORTING ROLE                                                                                                                 440\n",
      "ACTRESS IN A LEADING ROLE                                                                                                                    240\n",
      "ACTOR IN A LEADING ROLE                                                                                                                      240\n",
      "ACTRESS                                                                                                                                      236\n",
      "ACTOR                                                                                                                                        232\n",
      "WRITING (Original Screenplay)                                                                                                                160\n",
      "WRITING (Screenplay Written Directly for the Screen)                                                                                         120\n",
      "WRITING (Adapted Screenplay)                                                                                                                 110\n",
      "WRITING (Screenplay)                                                                                                                         104\n",
      "WRITING (Screenplay--based on material from another medium)                                                                                   95\n",
      "WRITING (Screenplay Based on Material from Another Medium)                                                                                    65\n",
      "WRITING (Story and Screenplay--written directly for the screen)                                                                               60\n",
      "WRITING (Screenplay Based on Material Previously Produced or Published)                                                                       55\n",
      "WRITING (Original Story)                                                                                                                      52\n",
      "WRITING (Motion Picture Story)                                                                                                                50\n",
      "WRITING (Story and Screenplay)                                                                                                                35\n",
      "WRITING (Original Motion Picture Story)                                                                                                       25\n",
      "WRITING (Story and Screenplay--based on factual material or material not previously published or produced)                                    20\n",
      "WRITING (Adaptation)                                                                                                                          17\n",
      "WRITING                                                                                                                                       11\n",
      "WRITING (Screenplay Adapted from Other Material)                                                                                              10\n",
      "WRITING (Screenplay Written Directly for the Screen--based on factual material or on story material not previously published or produced)     10\n",
      "WRITING (Screenplay--Original)                                                                                                                 5\n",
      "WRITING (Screenplay--Adapted)                                                                                                                  5\n",
      "WRITING (Story and Screenplay--based on material not previously published or produced)                                                         5\n",
      "DIRECTING (Dramatic Picture)                                                                                                                   3\n",
      "WRITING (Title Writing)                                                                                                                        3\n",
      "DIRECTING (Comedy Picture)                                                                                                                     2\n",
      "Name: count, dtype: int64\n"
     ]
    }
   ],
   "source": [
    "winner_counts = oscars['category'].value_counts()\n",
    "print(winner_counts)"
   ],
   "metadata": {
    "collapsed": false,
    "ExecuteTime": {
     "end_time": "2024-05-04T08:17:47.700971700Z",
     "start_time": "2024-05-04T08:17:47.686407900Z"
    }
   },
   "id": "f337776f1f269002",
   "execution_count": 148
  },
  {
   "cell_type": "code",
   "outputs": [
    {
     "name": "stdout",
     "output_type": "stream",
     "text": [
      "Best Performance by an Actress in a Supporting Role in any Motion Picture\n",
      "Best Performance by an Actor in a Supporting Role in any Motion Picture\n",
      "Best Director - Motion Picture\n",
      "Actress In A Leading Role\n",
      "Actor In A Leading Role\n",
      "Best Performance by an Actress in a Motion Picture - Drama\n",
      "Best Performance by an Actor in a Motion Picture - Drama\n",
      "Best Performance by an Actor in a Motion Picture - Musical or Comedy\n",
      "Actress In A Leading Role - Musical Or Comedy\n",
      "New Foreign Star Of The Year - Actress\n",
      "New Foreign Star Of The Year - Actor\n",
      "Actor In A Television Series\n",
      "Actress In A Television Series\n",
      "Actor In A Television Series - Musical Or Comedy\n",
      "Actor In A Television Series - Drama\n",
      "Actress In A Television Series - Drama\n",
      "Actress In A Television Series - Musical Or Comedy\n",
      "Best Performance by an Actress In A Television Series - Drama\n",
      "Best Performance by an Actor In A Television Series - Drama\n",
      "Best Performance by an Actress in a Television Series - Musical or Comedy\n",
      "Best Performance by an Actor in a Television Series - Musical or Comedy\n",
      "Actor In A Supporting Role - Television Series\n",
      "Actress In A Supporting Role - Television Series\n",
      "Actress In A Supporting Role - Series Or Television Movie\n",
      "Actress In A Leading Role - Drama Series Or Television Movie\n",
      "Actor In A Leading Role - Drama Series Or Television Movie\n",
      "Actor In A Leading Role - Musical Or Comedy Series Or Television Movie\n",
      "Actor In A Supporting Role - Series Or Television Movie\n",
      "Actress In A Leading Role - Musical Or Comedy Series Or Television Movie\n",
      "Best Performance by an Actress in a Motion Picture - Musical or Comedy\n",
      "Best Performance by an Actress in a Supporting Role in a Series, Limited Series or Motion Picture Made for Television\n",
      "Best Performance by an Actor in a Supporting Role in a Series, Limited Series or Motion Picture Made for Television\n",
      "Best Performance by an Actress in a Limited Series or a Motion Picture Made for Television\n",
      "Best Performance by an Actor in a Limited Series or a Motion Picture Made for Television\n"
     ]
    }
   ],
   "source": [
    "df = pd.read_csv('C:/Users/andre/Documents/GitHub/DMML/dataset/golden_globe_filtered.csv')\n",
    "categories = df['category'].unique()\n",
    "\n",
    "# Stampa i valori\n",
    "for category in categories:\n",
    "    print(category)"
   ],
   "metadata": {
    "collapsed": false,
    "ExecuteTime": {
     "end_time": "2024-05-04T08:17:50.876060300Z",
     "start_time": "2024-05-04T08:17:50.826926Z"
    }
   },
   "id": "369c78059dc30b3c",
   "execution_count": 150
  },
  {
   "cell_type": "code",
   "outputs": [
    {
     "ename": "PermissionError",
     "evalue": "[Errno 13] Permission denied: 'golden_globe_filtered.csv'",
     "output_type": "error",
     "traceback": [
      "\u001B[1;31m---------------------------------------------------------------------------\u001B[0m",
      "\u001B[1;31mPermissionError\u001B[0m                           Traceback (most recent call last)",
      "Cell \u001B[1;32mIn[151], line 53\u001B[0m\n\u001B[0;32m     50\u001B[0m filtered_df \u001B[38;5;241m=\u001B[39m df[\u001B[38;5;241m~\u001B[39mdf[\u001B[38;5;124m'\u001B[39m\u001B[38;5;124mcategory\u001B[39m\u001B[38;5;124m'\u001B[39m]\u001B[38;5;241m.\u001B[39misin(categories_to_remove)]\n\u001B[0;32m     52\u001B[0m \u001B[38;5;66;03m# Salva il nuovo DataFrame in un file CSV\u001B[39;00m\n\u001B[1;32m---> 53\u001B[0m \u001B[43mfiltered_df\u001B[49m\u001B[38;5;241;43m.\u001B[39;49m\u001B[43mto_csv\u001B[49m\u001B[43m(\u001B[49m\u001B[38;5;124;43m'\u001B[39;49m\u001B[38;5;124;43mgolden_globe_filtered.csv\u001B[39;49m\u001B[38;5;124;43m'\u001B[39;49m\u001B[43m,\u001B[49m\u001B[43m \u001B[49m\u001B[43mindex\u001B[49m\u001B[38;5;241;43m=\u001B[39;49m\u001B[38;5;28;43;01mFalse\u001B[39;49;00m\u001B[43m)\u001B[49m\n",
      "File \u001B[1;32m~\\AppData\\Local\\Programs\\Python\\Python312\\Lib\\site-packages\\pandas\\util\\_decorators.py:333\u001B[0m, in \u001B[0;36mdeprecate_nonkeyword_arguments.<locals>.decorate.<locals>.wrapper\u001B[1;34m(*args, **kwargs)\u001B[0m\n\u001B[0;32m    327\u001B[0m \u001B[38;5;28;01mif\u001B[39;00m \u001B[38;5;28mlen\u001B[39m(args) \u001B[38;5;241m>\u001B[39m num_allow_args:\n\u001B[0;32m    328\u001B[0m     warnings\u001B[38;5;241m.\u001B[39mwarn(\n\u001B[0;32m    329\u001B[0m         msg\u001B[38;5;241m.\u001B[39mformat(arguments\u001B[38;5;241m=\u001B[39m_format_argument_list(allow_args)),\n\u001B[0;32m    330\u001B[0m         \u001B[38;5;167;01mFutureWarning\u001B[39;00m,\n\u001B[0;32m    331\u001B[0m         stacklevel\u001B[38;5;241m=\u001B[39mfind_stack_level(),\n\u001B[0;32m    332\u001B[0m     )\n\u001B[1;32m--> 333\u001B[0m \u001B[38;5;28;01mreturn\u001B[39;00m \u001B[43mfunc\u001B[49m\u001B[43m(\u001B[49m\u001B[38;5;241;43m*\u001B[39;49m\u001B[43margs\u001B[49m\u001B[43m,\u001B[49m\u001B[43m \u001B[49m\u001B[38;5;241;43m*\u001B[39;49m\u001B[38;5;241;43m*\u001B[39;49m\u001B[43mkwargs\u001B[49m\u001B[43m)\u001B[49m\n",
      "File \u001B[1;32m~\\AppData\\Local\\Programs\\Python\\Python312\\Lib\\site-packages\\pandas\\core\\generic.py:3967\u001B[0m, in \u001B[0;36mNDFrame.to_csv\u001B[1;34m(self, path_or_buf, sep, na_rep, float_format, columns, header, index, index_label, mode, encoding, compression, quoting, quotechar, lineterminator, chunksize, date_format, doublequote, escapechar, decimal, errors, storage_options)\u001B[0m\n\u001B[0;32m   3956\u001B[0m df \u001B[38;5;241m=\u001B[39m \u001B[38;5;28mself\u001B[39m \u001B[38;5;28;01mif\u001B[39;00m \u001B[38;5;28misinstance\u001B[39m(\u001B[38;5;28mself\u001B[39m, ABCDataFrame) \u001B[38;5;28;01melse\u001B[39;00m \u001B[38;5;28mself\u001B[39m\u001B[38;5;241m.\u001B[39mto_frame()\n\u001B[0;32m   3958\u001B[0m formatter \u001B[38;5;241m=\u001B[39m DataFrameFormatter(\n\u001B[0;32m   3959\u001B[0m     frame\u001B[38;5;241m=\u001B[39mdf,\n\u001B[0;32m   3960\u001B[0m     header\u001B[38;5;241m=\u001B[39mheader,\n\u001B[1;32m   (...)\u001B[0m\n\u001B[0;32m   3964\u001B[0m     decimal\u001B[38;5;241m=\u001B[39mdecimal,\n\u001B[0;32m   3965\u001B[0m )\n\u001B[1;32m-> 3967\u001B[0m \u001B[38;5;28;01mreturn\u001B[39;00m \u001B[43mDataFrameRenderer\u001B[49m\u001B[43m(\u001B[49m\u001B[43mformatter\u001B[49m\u001B[43m)\u001B[49m\u001B[38;5;241;43m.\u001B[39;49m\u001B[43mto_csv\u001B[49m\u001B[43m(\u001B[49m\n\u001B[0;32m   3968\u001B[0m \u001B[43m    \u001B[49m\u001B[43mpath_or_buf\u001B[49m\u001B[43m,\u001B[49m\n\u001B[0;32m   3969\u001B[0m \u001B[43m    \u001B[49m\u001B[43mlineterminator\u001B[49m\u001B[38;5;241;43m=\u001B[39;49m\u001B[43mlineterminator\u001B[49m\u001B[43m,\u001B[49m\n\u001B[0;32m   3970\u001B[0m \u001B[43m    \u001B[49m\u001B[43msep\u001B[49m\u001B[38;5;241;43m=\u001B[39;49m\u001B[43msep\u001B[49m\u001B[43m,\u001B[49m\n\u001B[0;32m   3971\u001B[0m \u001B[43m    \u001B[49m\u001B[43mencoding\u001B[49m\u001B[38;5;241;43m=\u001B[39;49m\u001B[43mencoding\u001B[49m\u001B[43m,\u001B[49m\n\u001B[0;32m   3972\u001B[0m \u001B[43m    \u001B[49m\u001B[43merrors\u001B[49m\u001B[38;5;241;43m=\u001B[39;49m\u001B[43merrors\u001B[49m\u001B[43m,\u001B[49m\n\u001B[0;32m   3973\u001B[0m \u001B[43m    \u001B[49m\u001B[43mcompression\u001B[49m\u001B[38;5;241;43m=\u001B[39;49m\u001B[43mcompression\u001B[49m\u001B[43m,\u001B[49m\n\u001B[0;32m   3974\u001B[0m \u001B[43m    \u001B[49m\u001B[43mquoting\u001B[49m\u001B[38;5;241;43m=\u001B[39;49m\u001B[43mquoting\u001B[49m\u001B[43m,\u001B[49m\n\u001B[0;32m   3975\u001B[0m \u001B[43m    \u001B[49m\u001B[43mcolumns\u001B[49m\u001B[38;5;241;43m=\u001B[39;49m\u001B[43mcolumns\u001B[49m\u001B[43m,\u001B[49m\n\u001B[0;32m   3976\u001B[0m \u001B[43m    \u001B[49m\u001B[43mindex_label\u001B[49m\u001B[38;5;241;43m=\u001B[39;49m\u001B[43mindex_label\u001B[49m\u001B[43m,\u001B[49m\n\u001B[0;32m   3977\u001B[0m \u001B[43m    \u001B[49m\u001B[43mmode\u001B[49m\u001B[38;5;241;43m=\u001B[39;49m\u001B[43mmode\u001B[49m\u001B[43m,\u001B[49m\n\u001B[0;32m   3978\u001B[0m \u001B[43m    \u001B[49m\u001B[43mchunksize\u001B[49m\u001B[38;5;241;43m=\u001B[39;49m\u001B[43mchunksize\u001B[49m\u001B[43m,\u001B[49m\n\u001B[0;32m   3979\u001B[0m \u001B[43m    \u001B[49m\u001B[43mquotechar\u001B[49m\u001B[38;5;241;43m=\u001B[39;49m\u001B[43mquotechar\u001B[49m\u001B[43m,\u001B[49m\n\u001B[0;32m   3980\u001B[0m \u001B[43m    \u001B[49m\u001B[43mdate_format\u001B[49m\u001B[38;5;241;43m=\u001B[39;49m\u001B[43mdate_format\u001B[49m\u001B[43m,\u001B[49m\n\u001B[0;32m   3981\u001B[0m \u001B[43m    \u001B[49m\u001B[43mdoublequote\u001B[49m\u001B[38;5;241;43m=\u001B[39;49m\u001B[43mdoublequote\u001B[49m\u001B[43m,\u001B[49m\n\u001B[0;32m   3982\u001B[0m \u001B[43m    \u001B[49m\u001B[43mescapechar\u001B[49m\u001B[38;5;241;43m=\u001B[39;49m\u001B[43mescapechar\u001B[49m\u001B[43m,\u001B[49m\n\u001B[0;32m   3983\u001B[0m \u001B[43m    \u001B[49m\u001B[43mstorage_options\u001B[49m\u001B[38;5;241;43m=\u001B[39;49m\u001B[43mstorage_options\u001B[49m\u001B[43m,\u001B[49m\n\u001B[0;32m   3984\u001B[0m \u001B[43m\u001B[49m\u001B[43m)\u001B[49m\n",
      "File \u001B[1;32m~\\AppData\\Local\\Programs\\Python\\Python312\\Lib\\site-packages\\pandas\\io\\formats\\format.py:1014\u001B[0m, in \u001B[0;36mDataFrameRenderer.to_csv\u001B[1;34m(self, path_or_buf, encoding, sep, columns, index_label, mode, compression, quoting, quotechar, lineterminator, chunksize, date_format, doublequote, escapechar, errors, storage_options)\u001B[0m\n\u001B[0;32m    993\u001B[0m     created_buffer \u001B[38;5;241m=\u001B[39m \u001B[38;5;28;01mFalse\u001B[39;00m\n\u001B[0;32m    995\u001B[0m csv_formatter \u001B[38;5;241m=\u001B[39m CSVFormatter(\n\u001B[0;32m    996\u001B[0m     path_or_buf\u001B[38;5;241m=\u001B[39mpath_or_buf,\n\u001B[0;32m    997\u001B[0m     lineterminator\u001B[38;5;241m=\u001B[39mlineterminator,\n\u001B[1;32m   (...)\u001B[0m\n\u001B[0;32m   1012\u001B[0m     formatter\u001B[38;5;241m=\u001B[39m\u001B[38;5;28mself\u001B[39m\u001B[38;5;241m.\u001B[39mfmt,\n\u001B[0;32m   1013\u001B[0m )\n\u001B[1;32m-> 1014\u001B[0m \u001B[43mcsv_formatter\u001B[49m\u001B[38;5;241;43m.\u001B[39;49m\u001B[43msave\u001B[49m\u001B[43m(\u001B[49m\u001B[43m)\u001B[49m\n\u001B[0;32m   1016\u001B[0m \u001B[38;5;28;01mif\u001B[39;00m created_buffer:\n\u001B[0;32m   1017\u001B[0m     \u001B[38;5;28;01massert\u001B[39;00m \u001B[38;5;28misinstance\u001B[39m(path_or_buf, StringIO)\n",
      "File \u001B[1;32m~\\AppData\\Local\\Programs\\Python\\Python312\\Lib\\site-packages\\pandas\\io\\formats\\csvs.py:251\u001B[0m, in \u001B[0;36mCSVFormatter.save\u001B[1;34m(self)\u001B[0m\n\u001B[0;32m    247\u001B[0m \u001B[38;5;250m\u001B[39m\u001B[38;5;124;03m\"\"\"\u001B[39;00m\n\u001B[0;32m    248\u001B[0m \u001B[38;5;124;03mCreate the writer & save.\u001B[39;00m\n\u001B[0;32m    249\u001B[0m \u001B[38;5;124;03m\"\"\"\u001B[39;00m\n\u001B[0;32m    250\u001B[0m \u001B[38;5;66;03m# apply compression and byte/text conversion\u001B[39;00m\n\u001B[1;32m--> 251\u001B[0m \u001B[38;5;28;01mwith\u001B[39;00m \u001B[43mget_handle\u001B[49m\u001B[43m(\u001B[49m\n\u001B[0;32m    252\u001B[0m \u001B[43m    \u001B[49m\u001B[38;5;28;43mself\u001B[39;49m\u001B[38;5;241;43m.\u001B[39;49m\u001B[43mfilepath_or_buffer\u001B[49m\u001B[43m,\u001B[49m\n\u001B[0;32m    253\u001B[0m \u001B[43m    \u001B[49m\u001B[38;5;28;43mself\u001B[39;49m\u001B[38;5;241;43m.\u001B[39;49m\u001B[43mmode\u001B[49m\u001B[43m,\u001B[49m\n\u001B[0;32m    254\u001B[0m \u001B[43m    \u001B[49m\u001B[43mencoding\u001B[49m\u001B[38;5;241;43m=\u001B[39;49m\u001B[38;5;28;43mself\u001B[39;49m\u001B[38;5;241;43m.\u001B[39;49m\u001B[43mencoding\u001B[49m\u001B[43m,\u001B[49m\n\u001B[0;32m    255\u001B[0m \u001B[43m    \u001B[49m\u001B[43merrors\u001B[49m\u001B[38;5;241;43m=\u001B[39;49m\u001B[38;5;28;43mself\u001B[39;49m\u001B[38;5;241;43m.\u001B[39;49m\u001B[43merrors\u001B[49m\u001B[43m,\u001B[49m\n\u001B[0;32m    256\u001B[0m \u001B[43m    \u001B[49m\u001B[43mcompression\u001B[49m\u001B[38;5;241;43m=\u001B[39;49m\u001B[38;5;28;43mself\u001B[39;49m\u001B[38;5;241;43m.\u001B[39;49m\u001B[43mcompression\u001B[49m\u001B[43m,\u001B[49m\n\u001B[0;32m    257\u001B[0m \u001B[43m    \u001B[49m\u001B[43mstorage_options\u001B[49m\u001B[38;5;241;43m=\u001B[39;49m\u001B[38;5;28;43mself\u001B[39;49m\u001B[38;5;241;43m.\u001B[39;49m\u001B[43mstorage_options\u001B[49m\u001B[43m,\u001B[49m\n\u001B[0;32m    258\u001B[0m \u001B[43m\u001B[49m\u001B[43m)\u001B[49m \u001B[38;5;28;01mas\u001B[39;00m handles:\n\u001B[0;32m    259\u001B[0m     \u001B[38;5;66;03m# Note: self.encoding is irrelevant here\u001B[39;00m\n\u001B[0;32m    260\u001B[0m     \u001B[38;5;28mself\u001B[39m\u001B[38;5;241m.\u001B[39mwriter \u001B[38;5;241m=\u001B[39m csvlib\u001B[38;5;241m.\u001B[39mwriter(\n\u001B[0;32m    261\u001B[0m         handles\u001B[38;5;241m.\u001B[39mhandle,\n\u001B[0;32m    262\u001B[0m         lineterminator\u001B[38;5;241m=\u001B[39m\u001B[38;5;28mself\u001B[39m\u001B[38;5;241m.\u001B[39mlineterminator,\n\u001B[1;32m   (...)\u001B[0m\n\u001B[0;32m    267\u001B[0m         quotechar\u001B[38;5;241m=\u001B[39m\u001B[38;5;28mself\u001B[39m\u001B[38;5;241m.\u001B[39mquotechar,\n\u001B[0;32m    268\u001B[0m     )\n\u001B[0;32m    270\u001B[0m     \u001B[38;5;28mself\u001B[39m\u001B[38;5;241m.\u001B[39m_save()\n",
      "File \u001B[1;32m~\\AppData\\Local\\Programs\\Python\\Python312\\Lib\\site-packages\\pandas\\io\\common.py:873\u001B[0m, in \u001B[0;36mget_handle\u001B[1;34m(path_or_buf, mode, encoding, compression, memory_map, is_text, errors, storage_options)\u001B[0m\n\u001B[0;32m    868\u001B[0m \u001B[38;5;28;01melif\u001B[39;00m \u001B[38;5;28misinstance\u001B[39m(handle, \u001B[38;5;28mstr\u001B[39m):\n\u001B[0;32m    869\u001B[0m     \u001B[38;5;66;03m# Check whether the filename is to be opened in binary mode.\u001B[39;00m\n\u001B[0;32m    870\u001B[0m     \u001B[38;5;66;03m# Binary mode does not support 'encoding' and 'newline'.\u001B[39;00m\n\u001B[0;32m    871\u001B[0m     \u001B[38;5;28;01mif\u001B[39;00m ioargs\u001B[38;5;241m.\u001B[39mencoding \u001B[38;5;129;01mand\u001B[39;00m \u001B[38;5;124m\"\u001B[39m\u001B[38;5;124mb\u001B[39m\u001B[38;5;124m\"\u001B[39m \u001B[38;5;129;01mnot\u001B[39;00m \u001B[38;5;129;01min\u001B[39;00m ioargs\u001B[38;5;241m.\u001B[39mmode:\n\u001B[0;32m    872\u001B[0m         \u001B[38;5;66;03m# Encoding\u001B[39;00m\n\u001B[1;32m--> 873\u001B[0m         handle \u001B[38;5;241m=\u001B[39m \u001B[38;5;28;43mopen\u001B[39;49m\u001B[43m(\u001B[49m\n\u001B[0;32m    874\u001B[0m \u001B[43m            \u001B[49m\u001B[43mhandle\u001B[49m\u001B[43m,\u001B[49m\n\u001B[0;32m    875\u001B[0m \u001B[43m            \u001B[49m\u001B[43mioargs\u001B[49m\u001B[38;5;241;43m.\u001B[39;49m\u001B[43mmode\u001B[49m\u001B[43m,\u001B[49m\n\u001B[0;32m    876\u001B[0m \u001B[43m            \u001B[49m\u001B[43mencoding\u001B[49m\u001B[38;5;241;43m=\u001B[39;49m\u001B[43mioargs\u001B[49m\u001B[38;5;241;43m.\u001B[39;49m\u001B[43mencoding\u001B[49m\u001B[43m,\u001B[49m\n\u001B[0;32m    877\u001B[0m \u001B[43m            \u001B[49m\u001B[43merrors\u001B[49m\u001B[38;5;241;43m=\u001B[39;49m\u001B[43merrors\u001B[49m\u001B[43m,\u001B[49m\n\u001B[0;32m    878\u001B[0m \u001B[43m            \u001B[49m\u001B[43mnewline\u001B[49m\u001B[38;5;241;43m=\u001B[39;49m\u001B[38;5;124;43m\"\u001B[39;49m\u001B[38;5;124;43m\"\u001B[39;49m\u001B[43m,\u001B[49m\n\u001B[0;32m    879\u001B[0m \u001B[43m        \u001B[49m\u001B[43m)\u001B[49m\n\u001B[0;32m    880\u001B[0m     \u001B[38;5;28;01melse\u001B[39;00m:\n\u001B[0;32m    881\u001B[0m         \u001B[38;5;66;03m# Binary mode\u001B[39;00m\n\u001B[0;32m    882\u001B[0m         handle \u001B[38;5;241m=\u001B[39m \u001B[38;5;28mopen\u001B[39m(handle, ioargs\u001B[38;5;241m.\u001B[39mmode)\n",
      "\u001B[1;31mPermissionError\u001B[0m: [Errno 13] Permission denied: 'golden_globe_filtered.csv'"
     ]
    }
   ],
   "source": [
    "df = pd.read_csv('C:/Users/andre/Documents/GitHub/DMML/dataset/golden_globe_awards.csv')\n",
    "\n",
    "# Elenco delle categorie da rimuovere\n",
    "categories_to_remove = [\n",
    "\"Picture\",\n",
    "\"Promoting International Understanding\",\n",
    "\"Special Achievement Award\",\n",
    "\"Best Screenplay - Motion Picture\",\n",
    "\"Best Original Score - Motion Picture\",\n",
    "\"New Star Of The Year - Actress\",\n",
    "\"New Star Of The Year - Actor\",\n",
    "\"Juvenile Performance\",\n",
    "\"Cinematography\",\n",
    "\"Foreign Film - English Language\",\n",
    "\"Best Motion Picture - Foreign Language\",\n",
    "\"Outstanding Use Of Color\",\n",
    "\"New Star Of The Year\",\n",
    "\"Henrietta Award (World Film Favorites)\",\n",
    "\"Cinematography - Color\",\n",
    "\"Cinematography - Black And White\",\n",
    "\"Best Motion Picture - Drama\",\n",
    "\"Best Motion Picture - Musical or Comedy\",\n",
    "\"Henrietta Award (World Film Favorite)\",\n",
    "\"Cecil B. deMille Award\",\n",
    "\"Documentary\",\n",
    "\"Television Achievement\",\n",
    "\"Hollywood Citizenship Award\",\n",
    "\"Foreign Film - Foreign Language\",\n",
    "\"Picture - Musical\",\n",
    "\"Picture - Comedy\",\n",
    "\"Samuel Goldwyn International Award\",\n",
    "\"Famous Silent Filmstars\",\n",
    "\"Best Original Song - Motion Picture\",\n",
    "\"Television Series\",\n",
    "\"Best Television Series - Drama\",\n",
    "\"Television Program\",\n",
    "\"Television Producer/Director\",\n",
    "\"Television Series - Comedy\",\n",
    "\"International News Coverage\",\n",
    "\"Television Series - Variety\",\n",
    "\"Best Television Series - Musical or Comedy\",\n",
    "\"Television Movie\",\n",
    "\"Television Special - Variety Or Musical\",\n",
    "\"Best Television Limited Series or Motion Picture Made for Television\",\n",
    "\"Best Motion Picture - Animated\",\n",
    "\"Carol Burnett Award\"\n",
    "]\n",
    "\n",
    "# Filtra il DataFrame per rimuovere le righe con le categorie specificate\n",
    "filtered_df = df[~df['category'].isin(categories_to_remove)]\n",
    "\n",
    "# Salva il nuovo DataFrame in un file CSV\n",
    "filtered_df.to_csv('golden_globe_filtered.csv', index=False)\n"
   ],
   "metadata": {
    "collapsed": false,
    "ExecuteTime": {
     "end_time": "2024-05-04T08:17:51.652651200Z",
     "start_time": "2024-05-04T08:17:51.439636200Z"
    }
   },
   "id": "37f545b00cad61b1",
   "execution_count": 151
  },
  {
   "cell_type": "code",
   "outputs": [],
   "source": [
    "import pandas as pd\n",
    "\n",
    "# Carica i dati\n",
    "merged_imdb = pd.read_csv('prizedFilms.csv')\n",
    "oscars = pd.read_csv('golden_globe_filtered.csv')\n",
    "\n",
    "# Preparazione del DataFrame\n",
    "merged_imdb['dir_globe_nomination'] = 0\n",
    "merged_imdb['dir_globe_won'] = 0\n",
    "merged_imdb['cast_globe_nomination'] = 0\n",
    "merged_imdb['cast_globe_won'] = 0\n",
    "\n",
    "# Assicurati che le colonne non abbiano valori NaN\n",
    "merged_imdb['actors'] = merged_imdb['actors'].fillna('')\n",
    "merged_imdb['director'] = merged_imdb['director'].fillna('')\n",
    "\n",
    "# Funzione per normalizzare i nomi\n",
    "def normalize_name(name):\n",
    "    name = name.replace('&', ',').split(',')\n",
    "    name = [n.strip() for n in name]\n",
    "    return name\n",
    "\n",
    "# Funzione per gestire la verifica di nomination e vittorie Oscar\n",
    "def update_globe(row):\n",
    "    raw_names = normalize_name(row['nominee'])\n",
    "    year_oscars = int(row['year_award'])\n",
    "    is_winner = row['win'] == True\n",
    "    \n",
    "    # Crea una lista di tutti i possibili nomi invertiti\n",
    "    names = []\n",
    "    for name in raw_names:\n",
    "        parts = name.split()\n",
    "        if len(parts) > 1:\n",
    "            reversed_name = ' '.join(reversed(parts))\n",
    "            names.append(name)\n",
    "            names.append(reversed_name)\n",
    "        else:\n",
    "            names.append(name)\n",
    "    \n",
    "    for name in names:\n",
    "        # Verifica per la categoria DIRECTOR\n",
    "        if 'Director' in row['category']:\n",
    "            directors = merged_imdb['director'].apply(lambda x: name in x)\n",
    "            year_condition = merged_imdb['year'] >= year_oscars\n",
    "            indices = merged_imdb[directors & year_condition].index\n",
    "            merged_imdb.loc[indices, 'dir_globe_nomination'] += 1\n",
    "            if is_winner:\n",
    "                merged_imdb.loc[indices, 'dir_globe_won'] += 1\n",
    "        # Verifica per la categoria ACTOR o ACTRESS\n",
    "        elif 'actor' in row['category'] or 'Actor' in row['category'] or 'actress' in row['category'] or 'Actress' in row['category']:\n",
    "            actors_condition = merged_imdb['actors'].apply(lambda x: name in x)\n",
    "            year_condition = merged_imdb['year'] >= year_oscars\n",
    "            indices = merged_imdb[actors_condition & year_condition].index\n",
    "            merged_imdb.loc[indices, 'cast_globe_nomination'] += 1\n",
    "            if is_winner:\n",
    "                merged_imdb.loc[indices, 'cast_globe_won'] += 1\n",
    "\n",
    "# Applica la funzione a tutte le righe di oscars\n",
    "oscars.apply(update_globe, axis=1)\n",
    "\n",
    "# Salva il nuovo DataFrame\n",
    "merged_imdb.to_csv('golden_globe_oscar_prizedFilms.csv', index=False)\n"
   ],
   "metadata": {
    "collapsed": false,
    "ExecuteTime": {
     "end_time": "2024-05-04T08:18:56.616839500Z",
     "start_time": "2024-05-04T08:18:07.414830Z"
    }
   },
   "id": "6bbcb3d2115403c6",
   "execution_count": 152
  },
  {
   "cell_type": "code",
   "outputs": [
    {
     "name": "stdout",
     "output_type": "stream",
     "text": [
      "Numero di righe che soddisfano i criteri: 57\n"
     ]
    }
   ],
   "source": [
    "import pandas as pd\n",
    "\n",
    "# Carica il file CSV\n",
    "df = pd.read_csv('golden_globe_filtered.csv')\n",
    "\n",
    "# Seleziona le righe che soddisfano le condizioni specificate\n",
    "filtered_df = df[(df['year_film'] < 2018) & (df['nominee'].isin(['Emily Blunt', 'Lin-Manuel Miranda', 'Ben Whishaw', 'Emily Mortimer', 'Pixie Davies', 'Nathanael Saleh', 'Joel Dawson', 'Julie Walters', 'Meryl Streep', 'Colin Firth', 'Jeremy Swift', 'Kobna Holdbrook-Smith', 'Dick Van Dyke', 'Angela Lansbury', 'David Warner']))]\n",
    "\n",
    "# Stampa il numero di righe\n",
    "print(\"Numero di righe che soddisfano i criteri:\", len(filtered_df))\n"
   ],
   "metadata": {
    "collapsed": false,
    "ExecuteTime": {
     "end_time": "2024-05-04T08:18:56.642515Z",
     "start_time": "2024-05-04T08:18:56.619844500Z"
    }
   },
   "id": "872bc38875e9697f",
   "execution_count": 153
  },
  {
   "cell_type": "code",
   "outputs": [
    {
     "name": "stdout",
     "output_type": "stream",
     "text": [
      "Numero di righe che soddisfano i criteri: 51\n"
     ]
    }
   ],
   "source": [
    "import pandas as pd\n",
    "\n",
    "# Carica il file CSV\n",
    "df = pd.read_csv('golden_globe_filtered.csv')\n",
    "\n",
    "# Seleziona le righe che soddisfano le condizioni specificate\n",
    "filtered_df = df[(df['year_film'] < 2014) & (df['nominee'].isin(['Anna Kendrick', 'Daniel Huttlestone', 'James Corden', 'Emily Blunt', 'Christine Baranski', 'Tammy Blanchard', 'Lucy Punch', 'Tracey Ullman', 'Lilla Crawford', 'Meryl Streep', 'Simon Russell Beale', 'Joanna Riding', 'Johnny Depp', 'Billy Magnussen', 'Mackenzie Mauzy']))]\n",
    "\n",
    "# Stampa il numero di righe\n",
    "print(\"Numero di righe che soddisfano i criteri:\", len(filtered_df))\n"
   ],
   "metadata": {
    "collapsed": false,
    "ExecuteTime": {
     "end_time": "2024-05-04T08:08:37.022003400Z",
     "start_time": "2024-05-04T08:08:37.001849300Z"
    }
   },
   "id": "56927d053a03044e",
   "execution_count": 144
  },
  {
   "cell_type": "code",
   "outputs": [
    {
     "name": "stdout",
     "output_type": "stream",
     "text": [
      "Numero di righe che soddisfano i criteri: 28\n"
     ]
    }
   ],
   "source": [
    "df = pd.read_csv('oscars_cleaned.csv')\n",
    "\n",
    "# Seleziona le righe che soddisfano le condizioni specificate\n",
    "filtered_df = df[(df['year_film'] < 2018) & (df['name'].isin(['Emily Blunt', 'Lin-Manuel Miranda', 'Ben Whishaw', 'Emily Mortimer', 'Pixie Davies', 'Nathanael Saleh', 'Joel Dawson', 'Julie Walters', 'Meryl Streep', 'Colin Firth', 'Jeremy Swift', 'Kobna Holdbrook-Smith', 'Dick Van Dyke', 'Angela Lansbury', 'David Warner']))]\n",
    "\n",
    "# Stampa il numero di righe\n",
    "print(\"Numero di righe che soddisfano i criteri:\", len(filtered_df))"
   ],
   "metadata": {
    "collapsed": false,
    "ExecuteTime": {
     "end_time": "2024-05-04T07:14:13.089231600Z",
     "start_time": "2024-05-04T07:14:13.056872600Z"
    }
   },
   "id": "63e2f74355cc0ea6",
   "execution_count": 124
  },
  {
   "cell_type": "code",
   "outputs": [],
   "source": [],
   "metadata": {
    "collapsed": false
   },
   "id": "359dcd4fe80a4c18"
  }
 ],
 "metadata": {
  "kernelspec": {
   "display_name": "Python 3",
   "language": "python",
   "name": "python3"
  },
  "language_info": {
   "codemirror_mode": {
    "name": "ipython",
    "version": 2
   },
   "file_extension": ".py",
   "mimetype": "text/x-python",
   "name": "python",
   "nbconvert_exporter": "python",
   "pygments_lexer": "ipython2",
   "version": "2.7.6"
  }
 },
 "nbformat": 4,
 "nbformat_minor": 5
}
